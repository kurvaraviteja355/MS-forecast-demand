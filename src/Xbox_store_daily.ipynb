{
 "cells": [
  {
   "cell_type": "code",
   "execution_count": 1,
   "metadata": {},
   "outputs": [],
   "source": [
    "import numpy as np\n",
    "import pandas as pd\n",
    "import os\n",
    "import sys\n",
    "import glob\n",
    "import time \n",
    "import warnings\n",
    "warnings.filterwarnings(\"ignore\")\n",
    "import fbprophet\n",
    "from pyspark.sql import SparkSession\n",
    "from pyspark import SparkContext, SparkConf\n",
    "import pyspark\n",
    "from pyspark.sql.types import *\n",
    "from pyspark.sql.functions import pandas_udf, PandasUDFType\n",
    "from pyspark.sql.functions import current_date\n",
    "from fbprophet import Prophet\n",
    "from reduce_mem_usage import reduce_mem_usage\n",
    "from Xbox_preprocess import Xbox_preprocess\n",
    "from continuous_data import round_target_column, create_store_test, melt_data"
   ]
  },
  {
   "cell_type": "code",
   "execution_count": 3,
   "metadata": {},
   "outputs": [],
   "source": [
    "import os\n",
    "os.chdir('../')"
   ]
  },
  {
   "cell_type": "code",
   "execution_count": 3,
   "metadata": {},
   "outputs": [],
   "source": [
    "xbox_data = Xbox_preprocess()"
   ]
  },
  {
   "cell_type": "code",
   "execution_count": 4,
   "metadata": {},
   "outputs": [],
   "source": [
    "data = pd.read_csv('input_files/Xbox_data.csv')\n",
    "#data = reduce_mem_usage(data)\n",
    "\n",
    "\n",
    "#convert the sales date into datetime format \n",
    "\n",
    "data['Sales Date'] = pd.to_datetime(data['Sales Date'])\n",
    "data = data.drop_duplicates()\n",
    "\n",
    "closed_stores = ['Saturn Connect Trier', 'Media Markt Heilbronn 2','Saturn Schweinfurt Schrammstraße', 'Saturn Connect Köln',\n",
    "                    'Saturn Stuttgart-Hbf', 'Saturn-Berlin Clayallee','Saturn Mönchengladbach - Stresemannstraße', 'Saturn Lübeck',\n",
    "                    'Saturn München Theresienhöhe', 'Saturn Berlin-Alt-Treptow','Media Markt Turnstraße', 'Saturn Wiesbaden Bahnhofsplatz',\n",
    "                    'Media Markt Ellwangen - DAS', 'Media Markt GmbH Nürtingen','Media Markt Meppen', 'Media Markt Schleswig', \n",
    "                    'Media-Saturn IT Services GmbH', 'Meida Markt Waiblingen', 'Saturn Bergisch Gladbach','Saturn Wesel', 'Saturn Hagen', \n",
    "                    'Media Markt Bad Cannstatt', 'Saturn Heidelberg', 'Saturn Hildesheim', 'Saturn Münster am York-Ring', 'Media Markt Köln-Chorweiler',\n",
    "                    'Saturn Dessau', 'Saturn Essen-Steele','Saturn Euskirchen', 'Saturn Göttingen', 'Saturn Hennef', 'Saturn Herford',\n",
    "                    'Saturn Düsseldorf','Saturn Itzehoe','Saturn Siegburg','Saturn Weiterstadt', 'Saturn Bremerhaven - BSS', 'Saturn Gelsenkirchen Buer']\n",
    "data = data.loc[~data['Store_names'].isin(closed_stores)].reset_index(drop=True)\n",
    "\n",
    "\n",
    "#data = (data.set_index(\"Sales Date\").groupby(['Reseller City','Super Division', 'Business Unit', pd.Grouper(freq='W')])[\"Rslr Sales Quantity\", \"Rslr Sales Amount\"].sum().astype(int).reset_index())\n",
    "data['black_week'] = np.where((data['Sales Date'].dt.month==11) & (data['Sales Date'].dt.day > 23), 1, 0)\n",
    "\n",
    "max_date = data['Sales Date'].max()"
   ]
  },
  {
   "cell_type": "code",
   "execution_count": 5,
   "metadata": {},
   "outputs": [
    {
     "data": {
      "text/plain": [
       "Timestamp('2022-02-26 00:00:00')"
      ]
     },
     "execution_count": 5,
     "metadata": {},
     "output_type": "execute_result"
    }
   ],
   "source": [
    "max_date"
   ]
  },
  {
   "cell_type": "code",
   "execution_count": 6,
   "metadata": {},
   "outputs": [
    {
     "data": {
      "text/html": [
       "<div>\n",
       "<style scoped>\n",
       "    .dataframe tbody tr th:only-of-type {\n",
       "        vertical-align: middle;\n",
       "    }\n",
       "\n",
       "    .dataframe tbody tr th {\n",
       "        vertical-align: top;\n",
       "    }\n",
       "\n",
       "    .dataframe thead th {\n",
       "        text-align: right;\n",
       "    }\n",
       "</style>\n",
       "<table border=\"1\" class=\"dataframe\">\n",
       "  <thead>\n",
       "    <tr style=\"text-align: right;\">\n",
       "      <th></th>\n",
       "      <th>Sales Date</th>\n",
       "      <th>Rslr Sales Quantity</th>\n",
       "      <th>Store_names</th>\n",
       "      <th>Business Unit</th>\n",
       "      <th>Rslr Sales Amount</th>\n",
       "      <th>Super Division</th>\n",
       "      <th>Product Division</th>\n",
       "      <th>Reseller Postal Code</th>\n",
       "      <th>Reseller City</th>\n",
       "      <th>black_week</th>\n",
       "    </tr>\n",
       "  </thead>\n",
       "  <tbody>\n",
       "    <tr>\n",
       "      <th>0</th>\n",
       "      <td>2017-01-01</td>\n",
       "      <td>0.0</td>\n",
       "      <td>Saturn Köln-Weiden</td>\n",
       "      <td>Game Pass PC</td>\n",
       "      <td>0.0</td>\n",
       "      <td>EDG Managed - Xbox Live</td>\n",
       "      <td>Xbox LIVE Gold</td>\n",
       "      <td>50858</td>\n",
       "      <td>Köln</td>\n",
       "      <td>0</td>\n",
       "    </tr>\n",
       "    <tr>\n",
       "      <th>1</th>\n",
       "      <td>2017-01-01</td>\n",
       "      <td>0.0</td>\n",
       "      <td>Saturn Köln-Weiden</td>\n",
       "      <td>Xbox Series S</td>\n",
       "      <td>0.0</td>\n",
       "      <td>EDG Managed - Xbox Hardware</td>\n",
       "      <td>Xbox Console</td>\n",
       "      <td>50858</td>\n",
       "      <td>Köln</td>\n",
       "      <td>0</td>\n",
       "    </tr>\n",
       "    <tr>\n",
       "      <th>2</th>\n",
       "      <td>2017-01-01</td>\n",
       "      <td>0.0</td>\n",
       "      <td>Saturn Köln-Weiden</td>\n",
       "      <td>Xbox Series X</td>\n",
       "      <td>0.0</td>\n",
       "      <td>EDG Managed - Xbox Hardware</td>\n",
       "      <td>Xbox Console</td>\n",
       "      <td>50858</td>\n",
       "      <td>Köln</td>\n",
       "      <td>0</td>\n",
       "    </tr>\n",
       "    <tr>\n",
       "      <th>3</th>\n",
       "      <td>2017-01-01</td>\n",
       "      <td>0.0</td>\n",
       "      <td>Fil. Media Markt Würzburg City</td>\n",
       "      <td>Game Pass PC</td>\n",
       "      <td>0.0</td>\n",
       "      <td>EDG Managed - Xbox Live</td>\n",
       "      <td>Xbox LIVE Gold</td>\n",
       "      <td>97070</td>\n",
       "      <td>Würzburg</td>\n",
       "      <td>0</td>\n",
       "    </tr>\n",
       "    <tr>\n",
       "      <th>4</th>\n",
       "      <td>2017-01-01</td>\n",
       "      <td>0.0</td>\n",
       "      <td>Fil. Media Markt Würzburg City</td>\n",
       "      <td>Xbox Series S</td>\n",
       "      <td>0.0</td>\n",
       "      <td>EDG Managed - Xbox Hardware</td>\n",
       "      <td>Xbox Console</td>\n",
       "      <td>97070</td>\n",
       "      <td>Würzburg</td>\n",
       "      <td>0</td>\n",
       "    </tr>\n",
       "  </tbody>\n",
       "</table>\n",
       "</div>"
      ],
      "text/plain": [
       "  Sales Date  Rslr Sales Quantity                     Store_names  \\\n",
       "0 2017-01-01                  0.0              Saturn Köln-Weiden   \n",
       "1 2017-01-01                  0.0              Saturn Köln-Weiden   \n",
       "2 2017-01-01                  0.0              Saturn Köln-Weiden   \n",
       "3 2017-01-01                  0.0  Fil. Media Markt Würzburg City   \n",
       "4 2017-01-01                  0.0  Fil. Media Markt Würzburg City   \n",
       "\n",
       "   Business Unit  Rslr Sales Amount               Super Division  \\\n",
       "0   Game Pass PC                0.0      EDG Managed - Xbox Live   \n",
       "1  Xbox Series S                0.0  EDG Managed - Xbox Hardware   \n",
       "2  Xbox Series X                0.0  EDG Managed - Xbox Hardware   \n",
       "3   Game Pass PC                0.0      EDG Managed - Xbox Live   \n",
       "4  Xbox Series S                0.0  EDG Managed - Xbox Hardware   \n",
       "\n",
       "  Product Division  Reseller Postal Code Reseller City  black_week  \n",
       "0   Xbox LIVE Gold                 50858          Köln           0  \n",
       "1     Xbox Console                 50858          Köln           0  \n",
       "2     Xbox Console                 50858          Köln           0  \n",
       "3   Xbox LIVE Gold                 97070      Würzburg           0  \n",
       "4     Xbox Console                 97070      Würzburg           0  "
      ]
     },
     "execution_count": 6,
     "metadata": {},
     "output_type": "execute_result"
    }
   ],
   "source": [
    "data.head()"
   ]
  },
  {
   "cell_type": "code",
   "execution_count": 7,
   "metadata": {},
   "outputs": [
    {
     "data": {
      "text/plain": [
       "Sales Date              1759\n",
       "Rslr Sales Quantity      331\n",
       "Store_names              398\n",
       "Business Unit              3\n",
       "Rslr Sales Amount       8360\n",
       "Super Division             2\n",
       "Product Division           2\n",
       "Reseller Postal Code     379\n",
       "Reseller City            261\n",
       "black_week                 2\n",
       "dtype: int64"
      ]
     },
     "execution_count": 7,
     "metadata": {},
     "output_type": "execute_result"
    }
   ],
   "source": [
    "data.nunique()"
   ]
  },
  {
   "cell_type": "code",
   "execution_count": 8,
   "metadata": {},
   "outputs": [
    {
     "data": {
      "text/plain": [
       "(2100246, 10)"
      ]
     },
     "execution_count": 8,
     "metadata": {},
     "output_type": "execute_result"
    }
   ],
   "source": [
    "data.shape"
   ]
  },
  {
   "cell_type": "code",
   "execution_count": 9,
   "metadata": {},
   "outputs": [],
   "source": [
    "import calendar as cal\n",
    "from datetime import *\n",
    "from dateutil.relativedelta import *\n",
    "import holidays\n",
    "\n",
    "def black_week(year): \n",
    "    black_friday = (datetime.date(datetime(year, 11, 1) + relativedelta(weekday=FR(+4)) - timedelta(days=4)), datetime.date(datetime(year, 11, 1) + relativedelta(weekday=FR(+4))+ timedelta(days=1)))\n",
    "    cyber_monday = datetime.date(datetime(year, 11, 1) + relativedelta(weekday=FR(+4))+ timedelta(days=3))\n",
    "\n",
    "    black_friday = pd.to_datetime(black_friday)\n",
    "    black_friday =pd.date_range(black_friday[0], black_friday[1], freq ='d')\n",
    "\n",
    "    cyber_monday = pd.to_datetime(cyber_monday)\n",
    "    #cyber_monday = list(cyber_monday)\n",
    "\n",
    "\n",
    "    return black_friday, cyber_monday"
   ]
  },
  {
   "cell_type": "code",
   "execution_count": 10,
   "metadata": {},
   "outputs": [],
   "source": [
    "# ## create the test_dataframe \n",
    "\n",
    "test_data = create_store_test(data, max_date)\n",
    "\n",
    "test_data['Sales Date'] = pd.to_datetime(test_data['Sales Date'])\n",
    "test_data['black_week'] = np.where((test_data['Sales Date'].dt.month==11) & (test_data['Sales Date'].dt.day > 23), 1, 0)\n",
    "\n"
   ]
  },
  {
   "cell_type": "code",
   "execution_count": 11,
   "metadata": {},
   "outputs": [
    {
     "data": {
      "text/plain": [
       "Super Division            2\n",
       "Product Division          2\n",
       "Business Unit             3\n",
       "Store_names             398\n",
       "Rslr Sales Amount         1\n",
       "Sales Date               33\n",
       "Rslr Sales Quantity       1\n",
       "Reseller City           261\n",
       "Reseller Postal Code    379\n",
       "black_week                1\n",
       "dtype: int64"
      ]
     },
     "execution_count": 11,
     "metadata": {},
     "output_type": "execute_result"
    }
   ],
   "source": [
    "test_data.nunique()"
   ]
  },
  {
   "cell_type": "code",
   "execution_count": 12,
   "metadata": {},
   "outputs": [
    {
     "data": {
      "text/plain": [
       "(39402, 10)"
      ]
     },
     "execution_count": 12,
     "metadata": {},
     "output_type": "execute_result"
    }
   ],
   "source": [
    "test_data.shape"
   ]
  },
  {
   "cell_type": "code",
   "execution_count": 13,
   "metadata": {},
   "outputs": [],
   "source": [
    "data = pd.concat([data, test_data])\n",
    "\n",
    "data['Sales Date'] = pd.to_datetime(data['Sales Date'])"
   ]
  },
  {
   "cell_type": "code",
   "execution_count": 14,
   "metadata": {},
   "outputs": [
    {
     "data": {
      "text/plain": [
       "Timestamp('2022-03-31 00:00:00')"
      ]
     },
     "execution_count": 14,
     "metadata": {},
     "output_type": "execute_result"
    }
   ],
   "source": [
    "data['Sales Date'].max()"
   ]
  },
  {
   "cell_type": "code",
   "execution_count": 15,
   "metadata": {},
   "outputs": [],
   "source": [
    "data = (data.set_index(\"Sales Date\").groupby(['Store_names','Reseller City','Super Division', 'Product Division','Business Unit', pd.Grouper(freq='M')])[\"Rslr Sales Quantity\", \"Rslr Sales Amount\"].sum().astype(int).reset_index())"
   ]
  },
  {
   "cell_type": "code",
   "execution_count": 16,
   "metadata": {},
   "outputs": [],
   "source": [
    "data['black_week'] = np.where(data['Sales Date'].dt.month==11, 1, 0)"
   ]
  },
  {
   "cell_type": "code",
   "execution_count": 17,
   "metadata": {},
   "outputs": [
    {
     "data": {
      "text/html": [
       "<div>\n",
       "<style scoped>\n",
       "    .dataframe tbody tr th:only-of-type {\n",
       "        vertical-align: middle;\n",
       "    }\n",
       "\n",
       "    .dataframe tbody tr th {\n",
       "        vertical-align: top;\n",
       "    }\n",
       "\n",
       "    .dataframe thead th {\n",
       "        text-align: right;\n",
       "    }\n",
       "</style>\n",
       "<table border=\"1\" class=\"dataframe\">\n",
       "  <thead>\n",
       "    <tr style=\"text-align: right;\">\n",
       "      <th></th>\n",
       "      <th>Store_names</th>\n",
       "      <th>Reseller City</th>\n",
       "      <th>Super Division</th>\n",
       "      <th>Product Division</th>\n",
       "      <th>Business Unit</th>\n",
       "      <th>Sales Date</th>\n",
       "      <th>Rslr Sales Quantity</th>\n",
       "      <th>Rslr Sales Amount</th>\n",
       "      <th>black_week</th>\n",
       "    </tr>\n",
       "  </thead>\n",
       "  <tbody>\n",
       "    <tr>\n",
       "      <th>0</th>\n",
       "      <td>Saturn Köln-Weiden</td>\n",
       "      <td>Köln</td>\n",
       "      <td>EDG Managed - Xbox Hardware</td>\n",
       "      <td>Xbox Console</td>\n",
       "      <td>Xbox Series S</td>\n",
       "      <td>2017-01-31</td>\n",
       "      <td>16</td>\n",
       "      <td>4215</td>\n",
       "      <td>0</td>\n",
       "    </tr>\n",
       "    <tr>\n",
       "      <th>1</th>\n",
       "      <td>Saturn Köln-Weiden</td>\n",
       "      <td>Köln</td>\n",
       "      <td>EDG Managed - Xbox Hardware</td>\n",
       "      <td>Xbox Console</td>\n",
       "      <td>Xbox Series S</td>\n",
       "      <td>2017-02-28</td>\n",
       "      <td>0</td>\n",
       "      <td>0</td>\n",
       "      <td>0</td>\n",
       "    </tr>\n",
       "    <tr>\n",
       "      <th>2</th>\n",
       "      <td>Saturn Köln-Weiden</td>\n",
       "      <td>Köln</td>\n",
       "      <td>EDG Managed - Xbox Hardware</td>\n",
       "      <td>Xbox Console</td>\n",
       "      <td>Xbox Series S</td>\n",
       "      <td>2017-03-31</td>\n",
       "      <td>10</td>\n",
       "      <td>2645</td>\n",
       "      <td>0</td>\n",
       "    </tr>\n",
       "    <tr>\n",
       "      <th>3</th>\n",
       "      <td>Saturn Köln-Weiden</td>\n",
       "      <td>Köln</td>\n",
       "      <td>EDG Managed - Xbox Hardware</td>\n",
       "      <td>Xbox Console</td>\n",
       "      <td>Xbox Series S</td>\n",
       "      <td>2017-04-30</td>\n",
       "      <td>14</td>\n",
       "      <td>3636</td>\n",
       "      <td>0</td>\n",
       "    </tr>\n",
       "    <tr>\n",
       "      <th>4</th>\n",
       "      <td>Saturn Köln-Weiden</td>\n",
       "      <td>Köln</td>\n",
       "      <td>EDG Managed - Xbox Hardware</td>\n",
       "      <td>Xbox Console</td>\n",
       "      <td>Xbox Series S</td>\n",
       "      <td>2017-05-31</td>\n",
       "      <td>1</td>\n",
       "      <td>247</td>\n",
       "      <td>0</td>\n",
       "    </tr>\n",
       "    <tr>\n",
       "      <th>...</th>\n",
       "      <td>...</td>\n",
       "      <td>...</td>\n",
       "      <td>...</td>\n",
       "      <td>...</td>\n",
       "      <td>...</td>\n",
       "      <td>...</td>\n",
       "      <td>...</td>\n",
       "      <td>...</td>\n",
       "      <td>...</td>\n",
       "    </tr>\n",
       "    <tr>\n",
       "      <th>72829</th>\n",
       "      <td>Saturn Zwickau</td>\n",
       "      <td>Zwickau</td>\n",
       "      <td>EDG Managed - Xbox Live</td>\n",
       "      <td>Xbox LIVE Gold</td>\n",
       "      <td>Game Pass PC</td>\n",
       "      <td>2021-09-30</td>\n",
       "      <td>4</td>\n",
       "      <td>105</td>\n",
       "      <td>0</td>\n",
       "    </tr>\n",
       "    <tr>\n",
       "      <th>72830</th>\n",
       "      <td>Saturn Zwickau</td>\n",
       "      <td>Zwickau</td>\n",
       "      <td>EDG Managed - Xbox Live</td>\n",
       "      <td>Xbox LIVE Gold</td>\n",
       "      <td>Game Pass PC</td>\n",
       "      <td>2021-10-31</td>\n",
       "      <td>9</td>\n",
       "      <td>227</td>\n",
       "      <td>0</td>\n",
       "    </tr>\n",
       "    <tr>\n",
       "      <th>72831</th>\n",
       "      <td>Saturn Zwickau</td>\n",
       "      <td>Zwickau</td>\n",
       "      <td>EDG Managed - Xbox Live</td>\n",
       "      <td>Xbox LIVE Gold</td>\n",
       "      <td>Game Pass PC</td>\n",
       "      <td>2022-01-31</td>\n",
       "      <td>0</td>\n",
       "      <td>0</td>\n",
       "      <td>0</td>\n",
       "    </tr>\n",
       "    <tr>\n",
       "      <th>72832</th>\n",
       "      <td>Saturn Zwickau</td>\n",
       "      <td>Zwickau</td>\n",
       "      <td>EDG Managed - Xbox Live</td>\n",
       "      <td>Xbox LIVE Gold</td>\n",
       "      <td>Game Pass PC</td>\n",
       "      <td>2022-02-28</td>\n",
       "      <td>2</td>\n",
       "      <td>55</td>\n",
       "      <td>0</td>\n",
       "    </tr>\n",
       "    <tr>\n",
       "      <th>72833</th>\n",
       "      <td>Saturn Zwickau</td>\n",
       "      <td>Zwickau</td>\n",
       "      <td>EDG Managed - Xbox Live</td>\n",
       "      <td>Xbox LIVE Gold</td>\n",
       "      <td>Game Pass PC</td>\n",
       "      <td>2022-03-31</td>\n",
       "      <td>0</td>\n",
       "      <td>0</td>\n",
       "      <td>0</td>\n",
       "    </tr>\n",
       "  </tbody>\n",
       "</table>\n",
       "<p>72834 rows × 9 columns</p>\n",
       "</div>"
      ],
      "text/plain": [
       "               Store_names Reseller City               Super Division  \\\n",
       "0       Saturn Köln-Weiden          Köln  EDG Managed - Xbox Hardware   \n",
       "1       Saturn Köln-Weiden          Köln  EDG Managed - Xbox Hardware   \n",
       "2       Saturn Köln-Weiden          Köln  EDG Managed - Xbox Hardware   \n",
       "3       Saturn Köln-Weiden          Köln  EDG Managed - Xbox Hardware   \n",
       "4       Saturn Köln-Weiden          Köln  EDG Managed - Xbox Hardware   \n",
       "...                    ...           ...                          ...   \n",
       "72829       Saturn Zwickau       Zwickau      EDG Managed - Xbox Live   \n",
       "72830       Saturn Zwickau       Zwickau      EDG Managed - Xbox Live   \n",
       "72831       Saturn Zwickau       Zwickau      EDG Managed - Xbox Live   \n",
       "72832       Saturn Zwickau       Zwickau      EDG Managed - Xbox Live   \n",
       "72833       Saturn Zwickau       Zwickau      EDG Managed - Xbox Live   \n",
       "\n",
       "      Product Division  Business Unit Sales Date  Rslr Sales Quantity  \\\n",
       "0         Xbox Console  Xbox Series S 2017-01-31                   16   \n",
       "1         Xbox Console  Xbox Series S 2017-02-28                    0   \n",
       "2         Xbox Console  Xbox Series S 2017-03-31                   10   \n",
       "3         Xbox Console  Xbox Series S 2017-04-30                   14   \n",
       "4         Xbox Console  Xbox Series S 2017-05-31                    1   \n",
       "...                ...            ...        ...                  ...   \n",
       "72829   Xbox LIVE Gold   Game Pass PC 2021-09-30                    4   \n",
       "72830   Xbox LIVE Gold   Game Pass PC 2021-10-31                    9   \n",
       "72831   Xbox LIVE Gold   Game Pass PC 2022-01-31                    0   \n",
       "72832   Xbox LIVE Gold   Game Pass PC 2022-02-28                    2   \n",
       "72833   Xbox LIVE Gold   Game Pass PC 2022-03-31                    0   \n",
       "\n",
       "       Rslr Sales Amount  black_week  \n",
       "0                   4215           0  \n",
       "1                      0           0  \n",
       "2                   2645           0  \n",
       "3                   3636           0  \n",
       "4                    247           0  \n",
       "...                  ...         ...  \n",
       "72829                105           0  \n",
       "72830                227           0  \n",
       "72831                  0           0  \n",
       "72832                 55           0  \n",
       "72833                  0           0  \n",
       "\n",
       "[72834 rows x 9 columns]"
      ]
     },
     "execution_count": 17,
     "metadata": {},
     "output_type": "execute_result"
    }
   ],
   "source": [
    "data"
   ]
  },
  {
   "cell_type": "code",
   "execution_count": 18,
   "metadata": {},
   "outputs": [],
   "source": [
    "import plotly.graph_objs as go\n",
    "def plot_fig(forecast):\n",
    "    \n",
    "    forecast = (forecast.set_index(\"Sales Date\").groupby(['Super Division', 'Product Division','Business Unit', pd.Grouper(freq='M')])[\"Rslr Sales Quantity\", \"Rslr Sales Amount\"].sum().astype(int).reset_index())\n",
    "    forecast1 = forecast.loc[forecast['Business Unit']=='Xbox Series S']\n",
    "    forecast2 = forecast.loc[forecast['Business Unit']=='Xbox Series X']\n",
    "    forecast3 = forecast.loc[forecast['Business Unit']=='Game Pass PC']\n",
    "    fig = go.Figure()\n",
    "    fig.add_trace(go.Scatter(x=forecast1['Sales Date'], y=forecast1['Rslr Sales Quantity'], name='Xbox Series S',))\n",
    "    fig.add_trace(go.Scatter(x=forecast2['Sales Date'], y=forecast2['Rslr Sales Quantity'], name='Xbox Series X',))\n",
    "    fig.add_trace(go.Scatter(x=forecast3['Sales Date'], y=forecast3['Rslr Sales Quantity'], name='Game Pass PC',))\n",
    "    #fig.add_trace(go.Scatter(x=forecast['ds'], y=forecast['promos'], name='promos',))\n",
    "    fig.show()"
   ]
  },
  {
   "cell_type": "code",
   "execution_count": 19,
   "metadata": {},
   "outputs": [],
   "source": [
    "store_data = data.loc[data['Store_names'] == 'Media Markt Freiburg'].reset_index(drop=True)"
   ]
  },
  {
   "cell_type": "code",
   "execution_count": 20,
   "metadata": {},
   "outputs": [],
   "source": [
    "def black_week(data):\n",
    "    data['black_week'] = np.where((data['Business Unit']=='Xbox Series S') & (data['Sales Date'].dt.month==11) & (data['Sales Date'].dt.year==2017 |2018 |2019), 2, data['black_week'])\n",
    "    data['black_week'] = np.where((data['Business Unit']=='Xbox Series X') & (data['Sales Date'].dt.month==11) & (data['Sales Date'].dt.year==2020), 2, data['black_week'])\n",
    "    data['black_week'] = np.where((data['Business Unit']=='Xbox Series X') & (data['Sales Date'].dt.month==11) & (data['Sales Date'].dt.year==2021), 0, data['black_week'])\n",
    "    data['black_week'] = np.where((data['Business Unit']=='Game Pass PC') & (data['Sales Date'].dt.month==11), 0, data['black_week'])\n",
    "\n",
    "    data['christmas'] = np.where((data['Business Unit']=='Xbox Series S') & (data['Sales Date'].dt.month==12) & (data['Sales Date'].dt.year==2017), 2, 0)\n",
    "    data['christmas'] = np.where((data['Business Unit']=='Xbox Series S') & (data['Sales Date'].dt.month==12) & (data['Sales Date'].dt.year==2018 |2019 |2021), 1, data['christmas'])\n",
    "    data['christmas'] = np.where((data['Business Unit']=='Xbox Series X') & (data['Sales Date'].dt.month==12) & (data['Sales Date'].dt.year==2020 |2021), 1, data['christmas'])\n",
    "    data['christmas'] = np.where((data['Business Unit']=='Game Pass PC') & (data['Sales Date'].dt.month==12) & (data['Sales Date'].dt.year==2017), 2, data['christmas'])\n",
    "    data['christmas'] = np.where((data['Business Unit']=='Game Pass PC') & (data['Sales Date'].dt.month==12) & (data['Sales Date'].dt.year==2018 |2019), 2, data['christmas'])\n",
    "    return data\n"
   ]
  },
  {
   "cell_type": "code",
   "execution_count": 21,
   "metadata": {},
   "outputs": [],
   "source": [
    "data['black_week'] = np.where((data['Business Unit']=='Xbox Series S') & (data['Sales Date'].dt.month==11) & (data['Sales Date'].dt.year==2017 |2018 |2019), 2, data['black_week'])\n",
    "data['black_week'] = np.where((data['Business Unit']=='Xbox Series X') & (data['Sales Date'].dt.month==11) & (data['Sales Date'].dt.year==2020), 2, data['black_week'])\n",
    "data['black_week'] = np.where((data['Business Unit']=='Xbox Series X') & (data['Sales Date'].dt.month==11) & (data['Sales Date'].dt.year==2021), 0, data['black_week'])\n",
    "data['black_week'] = np.where((data['Business Unit']=='Game Pass PC') & (data['Sales Date'].dt.month==11), 0, data['black_week'])"
   ]
  },
  {
   "cell_type": "code",
   "execution_count": 22,
   "metadata": {},
   "outputs": [],
   "source": [
    "data['christmas'] = np.where((data['Business Unit']=='Xbox Series S') & (data['Sales Date'].dt.month==12) & (data['Sales Date'].dt.year==2017), 2, 0)\n",
    "data['christmas'] = np.where((data['Business Unit']=='Xbox Series S') & (data['Sales Date'].dt.month==12) & (data['Sales Date'].dt.year==2018 |2019 |2021), 1, data['christmas'])\n",
    "data['christmas'] = np.where((data['Business Unit']=='Xbox Series X') & (data['Sales Date'].dt.month==12) & (data['Sales Date'].dt.year==2020 |2021), 1, data['christmas'])\n",
    "data['christmas'] = np.where((data['Business Unit']=='Game Pass PC') & (data['Sales Date'].dt.month==12) & (data['Sales Date'].dt.year==2017), 2, data['christmas'])\n",
    "data['christmas'] = np.where((data['Business Unit']=='Game Pass PC') & (data['Sales Date'].dt.month==12) & (data['Sales Date'].dt.year==2018 |2019), 2, data['christmas'])"
   ]
  },
  {
   "cell_type": "code",
   "execution_count": 23,
   "metadata": {},
   "outputs": [],
   "source": [
    "store_data = black_week(store_data)"
   ]
  },
  {
   "cell_type": "code",
   "execution_count": 24,
   "metadata": {},
   "outputs": [
    {
     "name": "stdout",
     "output_type": "stream",
     "text": [
      "0.05 min: Lags\n",
      "root\n",
      " |-- Store_names: string (nullable = true)\n",
      " |-- Reseller_City: string (nullable = true)\n",
      " |-- Super_Division: string (nullable = true)\n",
      " |-- Product_Division: string (nullable = true)\n",
      " |-- Business_Unit: string (nullable = true)\n",
      " |-- ds: timestamp (nullable = true)\n",
      " |-- Rslr_Sales_Qunatity: integer (nullable = true)\n",
      " |-- Rslr Sales Amount: integer (nullable = true)\n",
      " |-- black_week: integer (nullable = true)\n",
      " |-- christmas: integer (nullable = true)\n",
      "\n"
     ]
    }
   ],
   "source": [
    "import time \n",
    "spark = SparkSession.builder\\\n",
    "        .appName('xbox_forecasting') \\\n",
    "        .master('local[*]') \\\n",
    "        .config('spark.sql.execution.arrow.pyspark.enabled', True) \\\n",
    "        .config('spark.sql.execution.arrow.enabled', True) \\\n",
    "        .getOrCreate()\n",
    "         #.config('spark.sql.repl.eagerEval.enabled', True) \\\n",
    "         #.config('spark.ui.showConsoleProgress', True) \\\n",
    "         #.config('spark.default.parallelism', 1308) \\\n",
    "\n",
    "\n",
    "\n",
    "start_time = time.time()\n",
    "\n",
    "sdf = spark.createDataFrame(data)\n",
    "print('%0.2f min: Lags' % ((time.time() - start_time) / 60))\n",
    "sdf = sdf.withColumnRenamed('Sales Date', 'ds')\\\n",
    "        .withColumnRenamed('Super Division', 'Super_Division')\\\n",
    "        .withColumnRenamed('Product Division', 'Product_Division')\\\n",
    "        .withColumnRenamed('Rslr Sales Quantity', 'Rslr_Sales_Qunatity')\\\n",
    "        .withColumnRenamed('Reseller City', 'Reseller_City')\\\n",
    "        .withColumnRenamed('Business Unit', 'Business_Unit')\n",
    "\n",
    "sdf.printSchema()\n",
    "\n",
    "sdf.createOrReplaceTempView('sales')"
   ]
  },
  {
   "cell_type": "code",
   "execution_count": 25,
   "metadata": {},
   "outputs": [
    {
     "name": "stdout",
     "output_type": "stream",
     "text": [
      "+--------------------+-------------+-------------+--------+\n",
      "|         Store_names|Reseller_City|Business_Unit|count(1)|\n",
      "+--------------------+-------------+-------------+--------+\n",
      "|  Media Markt Aachen|       Aachen| Game Pass PC|      61|\n",
      "|       Saturn Aachen|       Aachen| Game Pass PC|      61|\n",
      "|  Media Markt Aachen|       Aachen|Xbox Series S|      61|\n",
      "|       Saturn Aachen|       Aachen|Xbox Series S|      61|\n",
      "|  Media Markt Aachen|       Aachen|Xbox Series X|      61|\n",
      "|       Saturn Aachen|       Aachen|Xbox Series X|      61|\n",
      "|   Media Markt Aalen|        Aalen| Game Pass PC|      61|\n",
      "|   Media Markt Aalen|        Aalen|Xbox Series S|      61|\n",
      "|   Media Markt Aalen|        Aalen|Xbox Series X|      61|\n",
      "|Media Markt Berli...|  Ahrensfelde| Game Pass PC|      61|\n",
      "|Media Markt Berli...|  Ahrensfelde|Xbox Series S|      61|\n",
      "|Media Markt Berli...|  Ahrensfelde|Xbox Series X|      61|\n",
      "|Media Markt Albstadt|     Albstadt| Game Pass PC|      61|\n",
      "|Media Markt Albstadt|     Albstadt|Xbox Series S|      61|\n",
      "|Media Markt Albstadt|     Albstadt|Xbox Series X|      61|\n",
      "|   Media Markt Alzey|        Alzey| Game Pass PC|      61|\n",
      "|   Media Markt Alzey|        Alzey|Xbox Series S|      61|\n",
      "|   Media Markt Alzey|        Alzey|Xbox Series X|      61|\n",
      "|  Media Markt Amberg|       Amberg| Game Pass PC|      61|\n",
      "|  Media Markt Amberg|       Amberg|Xbox Series S|      61|\n",
      "+--------------------+-------------+-------------+--------+\n",
      "only showing top 20 rows\n",
      "\n",
      "== Physical Plan ==\n",
      "*(1) Project [Store_names#0, Reseller City#1 AS Reseller_City#64, Super Division#2 AS Super_Division#31, Product Division#3 AS Product_Division#42, Business Unit#4 AS Business_Unit#75, Sales Date#5 AS ds#20, Rslr Sales Quantity#6 AS Rslr_Sales_Qunatity#53, Rslr Sales Amount#7, black_week#8, christmas#9]\n",
      "+- *(1) Scan ExistingRDD arrow[Store_names#0,Reseller City#1,Super Division#2,Product Division#3,Business Unit#4,Sales Date#5,Rslr Sales Quantity#6,Rslr Sales Amount#7,black_week#8,christmas#9]\n",
      "\n",
      "\n"
     ]
    }
   ],
   "source": [
    "spark.sql(\"select Store_names, Reseller_City,  Business_Unit, count(*) from sales group by Store_names, Reseller_City, Business_Unit order by Reseller_City, Business_Unit\").show()\n",
    "\n",
    "sql = 'SELECT Store_names, Reseller_City, Super_Division, Product_Division, Business_Unit, black_week, christmas, ds, sum(Rslr_Sales_Qunatity) as y FROM sales GROUP BY Store_names, Reseller_City, Super_Division, Product_Division, Business_Unit, black_week, christmas, ds ORDER BY Store_names, Reseller_City,  Super_Division,  Business_Unit, ds'\n",
    "\n",
    "sdf.explain()"
   ]
  },
  {
   "cell_type": "code",
   "execution_count": 26,
   "metadata": {},
   "outputs": [
    {
     "name": "stdout",
     "output_type": "stream",
     "text": [
      "+-------------------+-------------+--------------------+----------------+-------------+----------+---------+-------------------+---+\n",
      "|        Store_names|Reseller_City|      Super_Division|Product_Division|Business_Unit|black_week|christmas|                 ds|  y|\n",
      "+-------------------+-------------+--------------------+----------------+-------------+----------+---------+-------------------+---+\n",
      "| Saturn Köln-Weiden|         Köln|EDG Managed - Xbo...|    Xbox Console|Xbox Series S|         0|        0|2017-01-31 00:00:00| 16|\n",
      "| Saturn Köln-Weiden|         Köln|EDG Managed - Xbo...|    Xbox Console|Xbox Series S|         0|        0|2017-02-28 00:00:00|  0|\n",
      "| Saturn Köln-Weiden|         Köln|EDG Managed - Xbo...|    Xbox Console|Xbox Series S|         0|        0|2017-03-31 00:00:00| 10|\n",
      "| Saturn Köln-Weiden|         Köln|EDG Managed - Xbo...|    Xbox Console|Xbox Series S|         0|        0|2017-04-30 00:00:00| 14|\n",
      "| Saturn Köln-Weiden|         Köln|EDG Managed - Xbo...|    Xbox Console|Xbox Series S|         0|        0|2017-05-31 00:00:00|  1|\n",
      "| Saturn Köln-Weiden|         Köln|EDG Managed - Xbo...|    Xbox Console|Xbox Series S|         0|        0|2017-06-30 00:00:00|  2|\n",
      "| Saturn Köln-Weiden|         Köln|EDG Managed - Xbo...|    Xbox Console|Xbox Series S|         0|        0|2017-07-31 00:00:00| 11|\n",
      "| Saturn Köln-Weiden|         Köln|EDG Managed - Xbo...|    Xbox Console|Xbox Series S|         0|        0|2017-08-31 00:00:00| 22|\n",
      "| Saturn Köln-Weiden|         Köln|EDG Managed - Xbo...|    Xbox Console|Xbox Series S|         0|        0|2017-09-30 00:00:00|  4|\n",
      "| Saturn Köln-Weiden|         Köln|EDG Managed - Xbo...|    Xbox Console|Xbox Series S|         0|        0|2017-10-31 00:00:00|  8|\n",
      "| Saturn Köln-Weiden|         Köln|EDG Managed - Xbo...|    Xbox Console|Xbox Series S|         1|        0|2017-11-30 00:00:00| 49|\n",
      "| Saturn Köln-Weiden|         Köln|EDG Managed - Xbo...|    Xbox Console|Xbox Series S|         0|        2|2017-12-31 00:00:00| 38|\n",
      "| Saturn Köln-Weiden|         Köln|EDG Managed - Xbo...|    Xbox Console|Xbox Series S|         0|        0|2018-01-31 00:00:00|  7|\n",
      "| Saturn Köln-Weiden|         Köln|EDG Managed - Xbo...|    Xbox Console|Xbox Series S|         0|        0|2018-02-28 00:00:00|  1|\n",
      "| Saturn Köln-Weiden|         Köln|EDG Managed - Xbo...|    Xbox Console|Xbox Series S|         0|        0|2018-03-31 00:00:00|  4|\n",
      "| Saturn Köln-Weiden|         Köln|EDG Managed - Xbo...|    Xbox Console|Xbox Series S|         0|        0|2018-04-30 00:00:00|  5|\n",
      "| Saturn Köln-Weiden|         Köln|EDG Managed - Xbo...|    Xbox Console|Xbox Series S|         0|        0|2018-05-31 00:00:00| 16|\n",
      "| Saturn Köln-Weiden|         Köln|EDG Managed - Xbo...|    Xbox Console|Xbox Series S|         0|        0|2018-06-30 00:00:00|  3|\n",
      "| Saturn Köln-Weiden|         Köln|EDG Managed - Xbo...|    Xbox Console|Xbox Series S|         0|        0|2018-07-31 00:00:00|  5|\n",
      "| Saturn Köln-Weiden|         Köln|EDG Managed - Xbo...|    Xbox Console|Xbox Series S|         0|        0|2018-08-31 00:00:00| 15|\n",
      "+-------------------+-------------+--------------------+----------------+-------------+----------+---------+-------------------+---+\n",
      "only showing top 20 rows\n",
      "\n",
      "== Physical Plan ==\n",
      "InMemoryTableScan [Store_names#0, Reseller_City#64, Super_Division#31, Product_Division#42, Business_Unit#75, black_week#8, christmas#9, ds#20, y#162L]\n",
      "   +- InMemoryRelation [Store_names#0, Reseller_City#64, Super_Division#31, Product_Division#42, Business_Unit#75, black_week#8, christmas#9, ds#20, y#162L], StorageLevel(disk, memory, deserialized, 1 replicas)\n",
      "         +- Exchange hashpartitioning(Store_names#0, Business_Unit#75, 8), REPARTITION_BY_NUM, [id=#140]\n",
      "            +- *(3) Sort [Store_names#0 ASC NULLS FIRST, Reseller_City#64 ASC NULLS FIRST, Super_Division#31 ASC NULLS FIRST, Business_Unit#75 ASC NULLS FIRST, ds#20 ASC NULLS FIRST], true, 0\n",
      "               +- Exchange rangepartitioning(Store_names#0 ASC NULLS FIRST, Reseller_City#64 ASC NULLS FIRST, Super_Division#31 ASC NULLS FIRST, Business_Unit#75 ASC NULLS FIRST, ds#20 ASC NULLS FIRST, 200), ENSURE_REQUIREMENTS, [id=#136]\n",
      "                  +- *(2) HashAggregate(keys=[Store_names#0, Reseller_City#64, Super_Division#31, Product_Division#42, Business_Unit#75, black_week#8, christmas#9, ds#20], functions=[sum(Rslr_Sales_Qunatity#53)])\n",
      "                     +- Exchange hashpartitioning(Store_names#0, Reseller_City#64, Super_Division#31, Product_Division#42, Business_Unit#75, black_week#8, christmas#9, ds#20, 200), ENSURE_REQUIREMENTS, [id=#132]\n",
      "                        +- *(1) HashAggregate(keys=[Store_names#0, Reseller_City#64, Super_Division#31, Product_Division#42, Business_Unit#75, black_week#8, christmas#9, ds#20], functions=[partial_sum(Rslr_Sales_Qunatity#53)])\n",
      "                           +- *(1) Project [Store_names#0, Reseller City#1 AS Reseller_City#64, Super Division#2 AS Super_Division#31, Product Division#3 AS Product_Division#42, Business Unit#4 AS Business_Unit#75, Sales Date#5 AS ds#20, Rslr Sales Quantity#6 AS Rslr_Sales_Qunatity#53, black_week#8, christmas#9]\n",
      "                              +- *(1) Scan ExistingRDD arrow[Store_names#0,Reseller City#1,Super Division#2,Product Division#3,Business Unit#4,Sales Date#5,Rslr Sales Quantity#6,Rslr Sales Amount#7,black_week#8,christmas#9]\n",
      "\n",
      "\n"
     ]
    }
   ],
   "source": [
    "### make partitions of data based on number of cores in the local system\n",
    "sdf.rdd.getNumPartitions()\n",
    "\n",
    "spark.sql(sql).show()\n",
    "\n",
    "store_part = (spark.sql(sql).repartition(spark.sparkContext.defaultParallelism, ['Store_names','Business_Unit'])).cache()\n",
    "store_part.explain()"
   ]
  },
  {
   "cell_type": "code",
   "execution_count": 27,
   "metadata": {},
   "outputs": [],
   "source": [
    "### make the resultant schema\n",
    "result_schema =StructType([\n",
    "    StructField('ds',TimestampType()),\n",
    "    StructField('Store_names',StringType()),\n",
    "    StructField('Reseller_City',StringType()),\n",
    "    StructField('Super_Division',StringType()),\n",
    "    StructField('Product_Division',StringType()),\n",
    "    StructField('Business_Unit',StringType()),\n",
    "    StructField('y',DoubleType()),\n",
    "    StructField('yhat',DoubleType()),\n",
    "    StructField('yhat_upper',DoubleType()),\n",
    "    StructField('yhat_lower',DoubleType())\n",
    "])"
   ]
  },
  {
   "cell_type": "code",
   "execution_count": 28,
   "metadata": {},
   "outputs": [],
   "source": [
    "### create the holiday dataframe \n",
    "\n",
    "lockdown1 = pd.date_range('2020-03-22', '2020-05-03', freq ='m').to_list()\n",
    "lockdown2 = pd.date_range('2020-12-13', '2021-03-07', freq ='m').to_list()\n",
    "lockdown = lockdown1+lockdown2\n",
    "\n",
    "\n",
    "lock_down = pd.DataFrame({\n",
    "    'holiday': 'lock_down',\n",
    "    'ds' : pd.to_datetime(lockdown)})\n"
   ]
  },
  {
   "cell_type": "code",
   "execution_count": 29,
   "metadata": {},
   "outputs": [],
   "source": [
    "##### city-wise prophet function \n",
    "from fbprophet.diagnostics import cross_validation\n",
    "from fbprophet.diagnostics import performance_metrics\n",
    "import itertools\n",
    "\n",
    "@pandas_udf( result_schema, PandasUDFType.GROUPED_MAP )\n",
    "def forecast_sales( store_pd):\n",
    "\n",
    "    black_week = dict(zip(store_pd['ds'], store_pd['black_week']))\n",
    "    christmas = dict(zip(store_pd['ds'], store_pd['christmas']))\n",
    "\n",
    "    train = store_pd[store_pd['ds']<='2022-02-28']\n",
    "    future_pd = store_pd[store_pd['ds']>'2022-02-28'].set_index('ds')\n",
    "\n",
    "    train['date_index'] = train['ds']\n",
    "    train['date_index'] = pd.to_datetime(train['date_index'])\n",
    "    train = train.set_index('date_index')\n",
    "\n",
    "\n",
    "    # param_grid = {  \n",
    "    #         'changepoint_prior_scale': [0.001, 0.01, 0.1, 0.5],\n",
    "    #         'seasonality_prior_scale': [0.01, 0.1, 1.0, 10.0],\n",
    "    #     }\n",
    "\n",
    "    # # Generate all combinations of parameters\n",
    "    # all_params = [dict(zip(param_grid.keys(), v)) for v in itertools.product(*param_grid.values())]\n",
    "    # rmses = []  # Store the RMSEs for each params here\n",
    "    # cutoffs = pd.date_range(start='2021-01-01', end='2021-12-31', freq='2MS')\n",
    "\n",
    "    # for params in all_params:\n",
    "    #     model = Prophet(interval_width=0.95, holidays = lock_down, **params)\n",
    "    #     model.add_country_holidays(country_name='DE')\n",
    "    #     model.add_regressor('black_week')\n",
    "    #     model.add_regressor('christmas')\n",
    "    #     model.fit(train[['ds', 'y', 'black_week', 'christmas']])\n",
    "\n",
    "    #     df_cv = cross_validation(model, cutoffs=cutoffs, horizon='60 days', parallel=\"processes\")\n",
    "    #     df_p = performance_metrics(df_cv, rolling_window=1)\n",
    "    #     rmses.append(df_p['rmse'].values[0])\n",
    "\n",
    "    # best_params = all_params[np.argmin(rmses)]\n",
    "\n",
    "    best_model = Prophet(interval_width=0.95, holidays = lock_down)\n",
    "                         \n",
    "    best_model.add_country_holidays(country_name='DE')\n",
    "    best_model.add_regressor('black_week')\n",
    "    best_model.add_regressor('christmas')\n",
    "    best_model.fit(train[['ds', 'y', 'black_week', 'christmas']])\n",
    "\n",
    "    future = best_model.make_future_dataframe(periods=1, freq='m')\n",
    "    future['black_week'] = future['ds'].map(black_week)\n",
    "    future['christmas'] = future['ds'].map(christmas)\n",
    " \n",
    "    #future['black_week'] = np.where(future['ds'].dt.month==11, 1, 0)\n",
    "\n",
    "    forecast_pd = best_model.predict(future[['ds', 'black_week', 'christmas']])  \n",
    "\n",
    "\n",
    "    #forecast_pd = model.predict(future_pd[['ds', 'black_week', 'EOL_Promos']])  \n",
    "\n",
    "    f_pd = forecast_pd[ ['ds','yhat', 'yhat_upper', 'yhat_lower'] ].set_index('ds')\n",
    "\n",
    "    #store_pd = store_pd.filter(store_pd['ds']<'2021-10-01 00:00:00')\n",
    "    st_pd = store_pd[[ 'ds', 'Store_names', 'Reseller_City', 'Super_Division', 'Product_Division', 'Business_Unit','y']].set_index('ds')\n",
    "    #st_pd = pd.concat([st_pd1, st_pd2])\n",
    "\n",
    "    results_pd = f_pd.join( st_pd, how='left' )\n",
    "    results_pd.reset_index(level=0, inplace=True)\n",
    "\n",
    "    #results_pd[['Reseller_City','Business_Unit']] = future_pd[['Reseller_City','Business_Unit']].iloc[0]\n",
    "\n",
    "    return results_pd[ ['ds', 'Store_names', 'Reseller_City', 'Super_Division', 'Product_Division', 'Business_Unit','y', 'yhat', 'yhat_upper', 'yhat_lower'] ]"
   ]
  },
  {
   "cell_type": "code",
   "execution_count": 30,
   "metadata": {},
   "outputs": [
    {
     "name": "stdout",
     "output_type": "stream",
     "text": [
      "0.00 min: Lags\n",
      "== Physical Plan ==\n",
      "InMemoryTableScan [ds#368, Store_names#369, Reseller_City#370, Super_Division#371, Product_Division#372, Business_Unit#373, y#374, yhat#375, yhat_upper#376, yhat_lower#377, training_date#388]\n",
      "   +- InMemoryRelation [ds#368, Store_names#369, Reseller_City#370, Super_Division#371, Product_Division#372, Business_Unit#373, y#374, yhat#375, yhat_upper#376, yhat_lower#377, training_date#388], StorageLevel(disk, memory, deserialized, 1 replicas)\n",
      "         +- *(2) Project [ds#368, Store_names#369, Reseller_City#370, Super_Division#371, Product_Division#372, Business_Unit#373, y#374, yhat#375, yhat_upper#376, yhat_lower#377, 2022-03-09 AS training_date#388]\n",
      "            +- FlatMapGroupsInPandas [Store_names#0, Business_Unit#75], forecast_sales(Store_names#0, Reseller_City#64, Super_Division#31, Product_Division#42, Business_Unit#75, black_week#8, christmas#9, ds#20, y#162L), [ds#368, Store_names#369, Reseller_City#370, Super_Division#371, Product_Division#372, Business_Unit#373, y#374, yhat#375, yhat_upper#376, yhat_lower#377]\n",
      "               +- *(1) Sort [Store_names#0 ASC NULLS FIRST, Business_Unit#75 ASC NULLS FIRST], false, 0\n",
      "                  +- InMemoryTableScan [Store_names#0, Business_Unit#75, Store_names#0, Reseller_City#64, Super_Division#31, Product_Division#42, Business_Unit#75, black_week#8, christmas#9, ds#20, y#162L]\n",
      "                        +- InMemoryRelation [Store_names#0, Reseller_City#64, Super_Division#31, Product_Division#42, Business_Unit#75, black_week#8, christmas#9, ds#20, y#162L], StorageLevel(disk, memory, deserialized, 1 replicas)\n",
      "                              +- Exchange hashpartitioning(Store_names#0, Business_Unit#75, 8), REPARTITION_BY_NUM, [id=#140]\n",
      "                                 +- *(3) Sort [Store_names#0 ASC NULLS FIRST, Reseller_City#64 ASC NULLS FIRST, Super_Division#31 ASC NULLS FIRST, Business_Unit#75 ASC NULLS FIRST, ds#20 ASC NULLS FIRST], true, 0\n",
      "                                    +- Exchange rangepartitioning(Store_names#0 ASC NULLS FIRST, Reseller_City#64 ASC NULLS FIRST, Super_Division#31 ASC NULLS FIRST, Business_Unit#75 ASC NULLS FIRST, ds#20 ASC NULLS FIRST, 200), ENSURE_REQUIREMENTS, [id=#136]\n",
      "                                       +- *(2) HashAggregate(keys=[Store_names#0, Reseller_City#64, Super_Division#31, Product_Division#42, Business_Unit#75, black_week#8, christmas#9, ds#20], functions=[sum(Rslr_Sales_Qunatity#53)])\n",
      "                                          +- Exchange hashpartitioning(Store_names#0, Reseller_City#64, Super_Division#31, Product_Division#42, Business_Unit#75, black_week#8, christmas#9, ds#20, 200), ENSURE_REQUIREMENTS, [id=#132]\n",
      "                                             +- *(1) HashAggregate(keys=[Store_names#0, Reseller_City#64, Super_Division#31, Product_Division#42, Business_Unit#75, black_week#8, christmas#9, ds#20], functions=[partial_sum(Rslr_Sales_Qunatity#53)])\n",
      "                                                +- *(1) Project [Store_names#0, Reseller City#1 AS Reseller_City#64, Super Division#2 AS Super_Division#31, Product Division#3 AS Product_Division#42, Business Unit#4 AS Business_Unit#75, Sales Date#5 AS ds#20, Rslr Sales Quantity#6 AS Rslr_Sales_Qunatity#53, black_week#8, christmas#9]\n",
      "                                                   +- *(1) Scan ExistingRDD arrow[Store_names#0,Reseller City#1,Super Division#2,Product Division#3,Business Unit#4,Sales Date#5,Rslr Sales Quantity#6,Rslr Sales Amount#7,black_week#8,christmas#9]\n",
      "\n",
      "\n"
     ]
    }
   ],
   "source": [
    "results = (\n",
    "    store_part\n",
    "    .groupBy(['Store_names','Business_Unit'])\n",
    "    .apply(forecast_sales)\n",
    "    .withColumn('training_date', current_date() )\n",
    "    )\n",
    "\n",
    "### cache the results \n",
    "start_time = time.time()\n",
    "results.cache()\n",
    "print('%0.2f min: Lags' % ((time.time() - start_time) / 60))\n",
    "\n",
    "results.explain()\n",
    "results = results.coalesce(1)"
   ]
  },
  {
   "cell_type": "code",
   "execution_count": 31,
   "metadata": {},
   "outputs": [
    {
     "name": "stdout",
     "output_type": "stream",
     "text": [
      "56.16 min: Lags\n"
     ]
    }
   ],
   "source": [
    "### convert the result from sparkdataframe to panadas datafrme \n",
    "start_time = time.time()\n",
    "final_df = results.toPandas()\n",
    "\n",
    "print('%0.2f min: Lags' % ((time.time() - start_time) / 60))"
   ]
  },
  {
   "cell_type": "code",
   "execution_count": 32,
   "metadata": {},
   "outputs": [],
   "source": [
    "final_df['yhat'] = np.where(final_df['yhat']<0, 0, final_df['yhat'])\n",
    "final_df['yhat_upper'] = np.where(final_df['yhat_upper']<0, 0, final_df['yhat_upper'])\n",
    "final_df['yhat_lower'] = np.where(final_df['yhat_lower']<0, 0, final_df['yhat_lower'])"
   ]
  },
  {
   "cell_type": "code",
   "execution_count": 33,
   "metadata": {},
   "outputs": [],
   "source": [
    "final_df = final_df.drop_duplicates()\n",
    "final_df.to_csv(r'output_files/Xbox_store_historic.csv', index=False)\n",
    "\n",
    "predicted_data = final_df.loc[final_df['ds']> '2022-02-28']\n",
    "\n",
    "predicted_data = round_target_column(predicted_data, 'yhat')\n",
    "predicted_data = round_target_column(predicted_data, 'yhat_lower')\n",
    "predicted_data = round_target_column(predicted_data, 'yhat_upper')\n",
    "\n",
    "predicted_data.to_csv(r'output_files/Xbox_store_monthly.csv', index=False)"
   ]
  },
  {
   "cell_type": "code",
   "execution_count": 28,
   "metadata": {},
   "outputs": [],
   "source": [
    "test_results = final_df.loc[(final_df['ds']>'2021-12-31') & (final_df['ds']<'2022-02-28')]"
   ]
  },
  {
   "cell_type": "code",
   "execution_count": 29,
   "metadata": {},
   "outputs": [
    {
     "data": {
      "text/html": [
       "<div>\n",
       "<style scoped>\n",
       "    .dataframe tbody tr th:only-of-type {\n",
       "        vertical-align: middle;\n",
       "    }\n",
       "\n",
       "    .dataframe tbody tr th {\n",
       "        vertical-align: top;\n",
       "    }\n",
       "\n",
       "    .dataframe thead th {\n",
       "        text-align: right;\n",
       "    }\n",
       "</style>\n",
       "<table border=\"1\" class=\"dataframe\">\n",
       "  <thead>\n",
       "    <tr style=\"text-align: right;\">\n",
       "      <th></th>\n",
       "      <th>ds</th>\n",
       "      <th>Store_names</th>\n",
       "      <th>Reseller_City</th>\n",
       "      <th>Super_Division</th>\n",
       "      <th>Product_Division</th>\n",
       "      <th>Business_Unit</th>\n",
       "      <th>y</th>\n",
       "      <th>yhat</th>\n",
       "      <th>yhat_upper</th>\n",
       "      <th>yhat_lower</th>\n",
       "      <th>training_date</th>\n",
       "    </tr>\n",
       "  </thead>\n",
       "  <tbody>\n",
       "    <tr>\n",
       "      <th>60</th>\n",
       "      <td>2022-01-31</td>\n",
       "      <td>MM Stade</td>\n",
       "      <td>Stade</td>\n",
       "      <td>EDG Managed - Xbox Live</td>\n",
       "      <td>Xbox LIVE Gold</td>\n",
       "      <td>Game Pass PC</td>\n",
       "      <td>0.0</td>\n",
       "      <td>3.911857</td>\n",
       "      <td>12.728252</td>\n",
       "      <td>0.0</td>\n",
       "      <td>2022-02-11</td>\n",
       "    </tr>\n",
       "    <tr>\n",
       "      <th>122</th>\n",
       "      <td>2022-01-31</td>\n",
       "      <td>MM Stade</td>\n",
       "      <td>Stade</td>\n",
       "      <td>EDG Managed - Xbox Hardware</td>\n",
       "      <td>Xbox Console</td>\n",
       "      <td>Xbox Series S</td>\n",
       "      <td>14.0</td>\n",
       "      <td>6.432873</td>\n",
       "      <td>16.757293</td>\n",
       "      <td>0.0</td>\n",
       "      <td>2022-02-11</td>\n",
       "    </tr>\n",
       "    <tr>\n",
       "      <th>184</th>\n",
       "      <td>2022-01-31</td>\n",
       "      <td>Media Markt Aachen</td>\n",
       "      <td>Aachen</td>\n",
       "      <td>EDG Managed - Xbox Hardware</td>\n",
       "      <td>Xbox Console</td>\n",
       "      <td>Xbox Series X</td>\n",
       "      <td>1.0</td>\n",
       "      <td>0.000000</td>\n",
       "      <td>5.217307</td>\n",
       "      <td>0.0</td>\n",
       "      <td>2022-02-11</td>\n",
       "    </tr>\n",
       "    <tr>\n",
       "      <th>246</th>\n",
       "      <td>2022-01-31</td>\n",
       "      <td>Media Markt Albstadt</td>\n",
       "      <td>Albstadt</td>\n",
       "      <td>EDG Managed - Xbox Live</td>\n",
       "      <td>Xbox LIVE Gold</td>\n",
       "      <td>Game Pass PC</td>\n",
       "      <td>0.0</td>\n",
       "      <td>0.000000</td>\n",
       "      <td>6.381105</td>\n",
       "      <td>0.0</td>\n",
       "      <td>2022-02-11</td>\n",
       "    </tr>\n",
       "    <tr>\n",
       "      <th>308</th>\n",
       "      <td>2022-01-31</td>\n",
       "      <td>Media Markt Alzey</td>\n",
       "      <td>Alzey</td>\n",
       "      <td>EDG Managed - Xbox Hardware</td>\n",
       "      <td>Xbox Console</td>\n",
       "      <td>Xbox Series X</td>\n",
       "      <td>0.0</td>\n",
       "      <td>0.000000</td>\n",
       "      <td>6.284357</td>\n",
       "      <td>0.0</td>\n",
       "      <td>2022-02-11</td>\n",
       "    </tr>\n",
       "  </tbody>\n",
       "</table>\n",
       "</div>"
      ],
      "text/plain": [
       "            ds           Store_names Reseller_City  \\\n",
       "60  2022-01-31              MM Stade         Stade   \n",
       "122 2022-01-31              MM Stade         Stade   \n",
       "184 2022-01-31    Media Markt Aachen        Aachen   \n",
       "246 2022-01-31  Media Markt Albstadt      Albstadt   \n",
       "308 2022-01-31     Media Markt Alzey         Alzey   \n",
       "\n",
       "                  Super_Division Product_Division  Business_Unit     y  \\\n",
       "60       EDG Managed - Xbox Live   Xbox LIVE Gold   Game Pass PC   0.0   \n",
       "122  EDG Managed - Xbox Hardware     Xbox Console  Xbox Series S  14.0   \n",
       "184  EDG Managed - Xbox Hardware     Xbox Console  Xbox Series X   1.0   \n",
       "246      EDG Managed - Xbox Live   Xbox LIVE Gold   Game Pass PC   0.0   \n",
       "308  EDG Managed - Xbox Hardware     Xbox Console  Xbox Series X   0.0   \n",
       "\n",
       "         yhat  yhat_upper  yhat_lower training_date  \n",
       "60   3.911857   12.728252         0.0    2022-02-11  \n",
       "122  6.432873   16.757293         0.0    2022-02-11  \n",
       "184  0.000000    5.217307         0.0    2022-02-11  \n",
       "246  0.000000    6.381105         0.0    2022-02-11  \n",
       "308  0.000000    6.284357         0.0    2022-02-11  "
      ]
     },
     "execution_count": 29,
     "metadata": {},
     "output_type": "execute_result"
    }
   ],
   "source": [
    "test_results.head()"
   ]
  },
  {
   "cell_type": "code",
   "execution_count": 30,
   "metadata": {},
   "outputs": [
    {
     "name": "stdout",
     "output_type": "stream",
     "text": [
      "Root Mean Absolute Error_store: 2.512841004511788\n"
     ]
    }
   ],
   "source": [
    "from sklearn.metrics import mean_absolute_error\n",
    "rmse_pred = mean_absolute_error(test_results['y'], test_results['yhat'])\n",
    "    \n",
    "print(\"Root Mean Absolute Error_store:\" , np.sqrt(rmse_pred))"
   ]
  },
  {
   "cell_type": "code",
   "execution_count": 31,
   "metadata": {},
   "outputs": [
    {
     "name": "stdout",
     "output_type": "stream",
     "text": [
      "Normalize RMSE: 0.0017572314716865652\n"
     ]
    }
   ],
   "source": [
    "normalize_rmse = np.sqrt(rmse_pred)/(test_results['y'].max()-test_results['y'].min())\n",
    "print(\"Normalize RMSE:\" , normalize_rmse)"
   ]
  },
  {
   "cell_type": "code",
   "execution_count": 42,
   "metadata": {},
   "outputs": [],
   "source": [
    "stores = final_df['Store_names'].unique()\n",
    "product=final_df['Business_Unit'].unique()"
   ]
  },
  {
   "cell_type": "code",
   "execution_count": 43,
   "metadata": {},
   "outputs": [],
   "source": [
    "import plotly.graph_objs as go\n",
    "def plot_fig(df, store, item):\n",
    "    fig = go.Figure()\n",
    "    # Create and style traces\n",
    "    forecast = df.loc[df['Store_names'] == store]\n",
    "    print(store, item)\n",
    "    forecast = forecast.loc[forecast['Business_Unit'] == item]\n",
    "    fig.add_trace(go.Scatter(x=forecast['ds'], y=forecast['y'], name='Actual',))\n",
    "    fig.add_trace(go.Scatter(x=forecast['ds'], y=forecast['yhat'], name='Predicted',))\n",
    "    #fig.add_trace(go.Scatter(x=forecast['ds'], y=forecast['yhat_lower'], name='lowelimit',))\n",
    "    fig.add_trace(go.Scatter(x=forecast['ds'], y=forecast['yhat_upper'], name='upperlimit',))\n",
    "    #fig.add_trace(go.Scatter(x=forecast['ds'], y=forecast['promos'], name='promos',))\n",
    "    fig.show()"
   ]
  },
  {
   "cell_type": "code",
   "execution_count": 60,
   "metadata": {},
   "outputs": [
    {
     "name": "stdout",
     "output_type": "stream",
     "text": [
      "Saturn Flensburg Xbox Series S\n"
     ]
    },
    {
     "data": {
      "application/vnd.plotly.v1+json": {
       "config": {
        "plotlyServerURL": "https://plot.ly"
       },
       "data": [
        {
         "name": "Actual",
         "type": "scatter",
         "x": [
          "2017-01-31T00:00:00",
          "2017-02-28T00:00:00",
          "2017-03-31T00:00:00",
          "2017-04-30T00:00:00",
          "2017-05-31T00:00:00",
          "2017-06-30T00:00:00",
          "2017-07-31T00:00:00",
          "2017-08-31T00:00:00",
          "2017-09-30T00:00:00",
          "2017-10-31T00:00:00",
          "2017-11-30T00:00:00",
          "2017-12-31T00:00:00",
          "2018-01-31T00:00:00",
          "2018-02-28T00:00:00",
          "2018-03-31T00:00:00",
          "2018-04-30T00:00:00",
          "2018-05-31T00:00:00",
          "2018-06-30T00:00:00",
          "2018-07-31T00:00:00",
          "2018-08-31T00:00:00",
          "2018-09-30T00:00:00",
          "2018-10-31T00:00:00",
          "2018-11-30T00:00:00",
          "2018-12-31T00:00:00",
          "2019-01-31T00:00:00",
          "2019-02-28T00:00:00",
          "2019-03-31T00:00:00",
          "2019-04-30T00:00:00",
          "2019-05-31T00:00:00",
          "2019-06-30T00:00:00",
          "2019-07-31T00:00:00",
          "2019-08-31T00:00:00",
          "2019-09-30T00:00:00",
          "2019-10-31T00:00:00",
          "2019-11-30T00:00:00",
          "2019-12-31T00:00:00",
          "2020-01-31T00:00:00",
          "2020-02-29T00:00:00",
          "2020-03-31T00:00:00",
          "2020-04-30T00:00:00",
          "2020-05-31T00:00:00",
          "2020-06-30T00:00:00",
          "2020-07-31T00:00:00",
          "2020-08-31T00:00:00",
          "2020-09-30T00:00:00",
          "2020-10-31T00:00:00",
          "2020-11-30T00:00:00",
          "2020-12-31T00:00:00",
          "2021-01-31T00:00:00",
          "2021-02-28T00:00:00",
          "2021-03-31T00:00:00",
          "2021-04-30T00:00:00",
          "2021-05-31T00:00:00",
          "2021-06-30T00:00:00",
          "2021-07-31T00:00:00",
          "2021-08-31T00:00:00",
          "2021-09-30T00:00:00",
          "2021-10-31T00:00:00",
          "2021-11-30T00:00:00",
          "2021-12-31T00:00:00",
          "2022-01-31T00:00:00",
          "2022-02-28T00:00:00"
         ],
         "y": [
          9,
          3,
          13,
          20,
          3,
          16,
          20,
          17,
          16,
          9,
          34,
          33,
          17,
          6,
          11,
          5,
          19,
          22,
          4,
          1,
          4,
          12,
          63,
          17,
          7,
          6,
          3,
          4,
          14,
          4,
          8,
          7,
          8,
          7,
          78,
          20,
          2,
          5,
          5,
          3,
          2,
          16,
          4,
          3,
          4,
          6,
          21,
          6,
          1,
          0,
          0,
          4,
          6,
          10,
          10,
          5,
          11,
          11,
          8,
          13,
          6,
          0
         ]
        },
        {
         "name": "Predicted",
         "type": "scatter",
         "x": [
          "2017-01-31T00:00:00",
          "2017-02-28T00:00:00",
          "2017-03-31T00:00:00",
          "2017-04-30T00:00:00",
          "2017-05-31T00:00:00",
          "2017-06-30T00:00:00",
          "2017-07-31T00:00:00",
          "2017-08-31T00:00:00",
          "2017-09-30T00:00:00",
          "2017-10-31T00:00:00",
          "2017-11-30T00:00:00",
          "2017-12-31T00:00:00",
          "2018-01-31T00:00:00",
          "2018-02-28T00:00:00",
          "2018-03-31T00:00:00",
          "2018-04-30T00:00:00",
          "2018-05-31T00:00:00",
          "2018-06-30T00:00:00",
          "2018-07-31T00:00:00",
          "2018-08-31T00:00:00",
          "2018-09-30T00:00:00",
          "2018-10-31T00:00:00",
          "2018-11-30T00:00:00",
          "2018-12-31T00:00:00",
          "2019-01-31T00:00:00",
          "2019-02-28T00:00:00",
          "2019-03-31T00:00:00",
          "2019-04-30T00:00:00",
          "2019-05-31T00:00:00",
          "2019-06-30T00:00:00",
          "2019-07-31T00:00:00",
          "2019-08-31T00:00:00",
          "2019-09-30T00:00:00",
          "2019-10-31T00:00:00",
          "2019-11-30T00:00:00",
          "2019-12-31T00:00:00",
          "2020-01-31T00:00:00",
          "2020-02-29T00:00:00",
          "2020-03-31T00:00:00",
          "2020-04-30T00:00:00",
          "2020-05-31T00:00:00",
          "2020-06-30T00:00:00",
          "2020-07-31T00:00:00",
          "2020-08-31T00:00:00",
          "2020-09-30T00:00:00",
          "2020-10-31T00:00:00",
          "2020-11-30T00:00:00",
          "2020-12-31T00:00:00",
          "2021-01-31T00:00:00",
          "2021-02-28T00:00:00",
          "2021-03-31T00:00:00",
          "2021-04-30T00:00:00",
          "2021-05-31T00:00:00",
          "2021-06-30T00:00:00",
          "2021-07-31T00:00:00",
          "2021-08-31T00:00:00",
          "2021-09-30T00:00:00",
          "2021-10-31T00:00:00",
          "2021-11-30T00:00:00",
          "2021-12-31T00:00:00",
          "2022-01-31T00:00:00",
          "2022-02-28T00:00:00"
         ],
         "y": [
          15.901098010392468,
          9.926361925847287,
          12.443862354086031,
          13.087594889956222,
          10.832091319769102,
          18.938855246182804,
          14.07633186363104,
          11.874223390147112,
          14.365048512575873,
          8.991669251369188,
          36.19013788771667,
          32.99824275817508,
          10.959962736091029,
          6.557689527893868,
          8.772843325537321,
          9.749990403731896,
          15.138943205320029,
          15.12110264629363,
          11.359706635555016,
          8.15806090334658,
          9.351064706001008,
          10.575379020762613,
          44.41824178329521,
          18.173783638062936,
          5.954932847923739,
          3.2157197410101226,
          5.149437498620694,
          6.533809820791488,
          19.44713932618447,
          11.190017584491486,
          8.591516168561483,
          4.40191622658926,
          4.364691359657199,
          4.682521120840636,
          78.00179396627554,
          14.632460809127203,
          0.8895773001841896,
          3.9235585440284115,
          2.525557461891868,
          2.9125619797365285,
          0,
          13.247792703997964,
          7.344572472506942,
          6.1520353480421335,
          10.006607608522472,
          13.539926220306295,
          18.598595656472078,
          11.056508556626067,
          2.266433235200328,
          0,
          3.048356505421957,
          3.692088946507541,
          1.436585278403916,
          9.543349109849132,
          4.68082562914563,
          2.4787170581987734,
          4.9695420863254025,
          7.26495117050588,
          26.79463127181531,
          12.130786806215939,
          1.5644559294374343,
          0
         ]
        },
        {
         "name": "upperlimit",
         "type": "scatter",
         "x": [
          "2017-01-31T00:00:00",
          "2017-02-28T00:00:00",
          "2017-03-31T00:00:00",
          "2017-04-30T00:00:00",
          "2017-05-31T00:00:00",
          "2017-06-30T00:00:00",
          "2017-07-31T00:00:00",
          "2017-08-31T00:00:00",
          "2017-09-30T00:00:00",
          "2017-10-31T00:00:00",
          "2017-11-30T00:00:00",
          "2017-12-31T00:00:00",
          "2018-01-31T00:00:00",
          "2018-02-28T00:00:00",
          "2018-03-31T00:00:00",
          "2018-04-30T00:00:00",
          "2018-05-31T00:00:00",
          "2018-06-30T00:00:00",
          "2018-07-31T00:00:00",
          "2018-08-31T00:00:00",
          "2018-09-30T00:00:00",
          "2018-10-31T00:00:00",
          "2018-11-30T00:00:00",
          "2018-12-31T00:00:00",
          "2019-01-31T00:00:00",
          "2019-02-28T00:00:00",
          "2019-03-31T00:00:00",
          "2019-04-30T00:00:00",
          "2019-05-31T00:00:00",
          "2019-06-30T00:00:00",
          "2019-07-31T00:00:00",
          "2019-08-31T00:00:00",
          "2019-09-30T00:00:00",
          "2019-10-31T00:00:00",
          "2019-11-30T00:00:00",
          "2019-12-31T00:00:00",
          "2020-01-31T00:00:00",
          "2020-02-29T00:00:00",
          "2020-03-31T00:00:00",
          "2020-04-30T00:00:00",
          "2020-05-31T00:00:00",
          "2020-06-30T00:00:00",
          "2020-07-31T00:00:00",
          "2020-08-31T00:00:00",
          "2020-09-30T00:00:00",
          "2020-10-31T00:00:00",
          "2020-11-30T00:00:00",
          "2020-12-31T00:00:00",
          "2021-01-31T00:00:00",
          "2021-02-28T00:00:00",
          "2021-03-31T00:00:00",
          "2021-04-30T00:00:00",
          "2021-05-31T00:00:00",
          "2021-06-30T00:00:00",
          "2021-07-31T00:00:00",
          "2021-08-31T00:00:00",
          "2021-09-30T00:00:00",
          "2021-10-31T00:00:00",
          "2021-11-30T00:00:00",
          "2021-12-31T00:00:00",
          "2022-01-31T00:00:00",
          "2022-02-28T00:00:00"
         ],
         "y": [
          26.33400438246831,
          19.958215038069852,
          23.140429093959277,
          23.970474229916846,
          21.965130289235923,
          28.630330825909915,
          23.435949154954862,
          21.89205139257438,
          25.124102678240515,
          18.893798034041268,
          46.70525225359373,
          43.83960360660389,
          21.379182723025252,
          17.429407494902822,
          18.85257722670807,
          20.03400216195918,
          25.64059301238841,
          25.61293183517797,
          21.62364077050973,
          18.917508637890315,
          19.414994975725335,
          20.733776771948893,
          54.880894389596804,
          29.214185798945486,
          17.41208715827047,
          13.091080914822472,
          15.889473242921634,
          16.357150417024236,
          29.205564001442912,
          21.57887729794654,
          18.10394332241594,
          14.94897513037384,
          14.547049365746282,
          15.275596217542404,
          88.67467095775073,
          24.886203638046123,
          11.09068354872798,
          13.753802936778394,
          13.008494267257857,
          13.948882333491063,
          7.782718144948859,
          22.91375926944135,
          17.591422017632617,
          16.467539178287367,
          20.506786545990384,
          23.995869661221278,
          28.93992166220349,
          22.306637468691495,
          13.174950385789431,
          7.045491729473708,
          13.338998475120293,
          13.580038969356492,
          12.765156839805238,
          19.904599871037657,
          14.882966472061,
          13.217519734608763,
          15.641466597350863,
          18.076606374703562,
          37.73222206585962,
          22.45692194772857,
          11.755644956370972,
          7.955206371155191
         ]
        }
       ],
       "layout": {
        "template": {
         "data": {
          "bar": [
           {
            "error_x": {
             "color": "#2a3f5f"
            },
            "error_y": {
             "color": "#2a3f5f"
            },
            "marker": {
             "line": {
              "color": "#E5ECF6",
              "width": 0.5
             },
             "pattern": {
              "fillmode": "overlay",
              "size": 10,
              "solidity": 0.2
             }
            },
            "type": "bar"
           }
          ],
          "barpolar": [
           {
            "marker": {
             "line": {
              "color": "#E5ECF6",
              "width": 0.5
             },
             "pattern": {
              "fillmode": "overlay",
              "size": 10,
              "solidity": 0.2
             }
            },
            "type": "barpolar"
           }
          ],
          "carpet": [
           {
            "aaxis": {
             "endlinecolor": "#2a3f5f",
             "gridcolor": "white",
             "linecolor": "white",
             "minorgridcolor": "white",
             "startlinecolor": "#2a3f5f"
            },
            "baxis": {
             "endlinecolor": "#2a3f5f",
             "gridcolor": "white",
             "linecolor": "white",
             "minorgridcolor": "white",
             "startlinecolor": "#2a3f5f"
            },
            "type": "carpet"
           }
          ],
          "choropleth": [
           {
            "colorbar": {
             "outlinewidth": 0,
             "ticks": ""
            },
            "type": "choropleth"
           }
          ],
          "contour": [
           {
            "colorbar": {
             "outlinewidth": 0,
             "ticks": ""
            },
            "colorscale": [
             [
              0,
              "#0d0887"
             ],
             [
              0.1111111111111111,
              "#46039f"
             ],
             [
              0.2222222222222222,
              "#7201a8"
             ],
             [
              0.3333333333333333,
              "#9c179e"
             ],
             [
              0.4444444444444444,
              "#bd3786"
             ],
             [
              0.5555555555555556,
              "#d8576b"
             ],
             [
              0.6666666666666666,
              "#ed7953"
             ],
             [
              0.7777777777777778,
              "#fb9f3a"
             ],
             [
              0.8888888888888888,
              "#fdca26"
             ],
             [
              1,
              "#f0f921"
             ]
            ],
            "type": "contour"
           }
          ],
          "contourcarpet": [
           {
            "colorbar": {
             "outlinewidth": 0,
             "ticks": ""
            },
            "type": "contourcarpet"
           }
          ],
          "heatmap": [
           {
            "colorbar": {
             "outlinewidth": 0,
             "ticks": ""
            },
            "colorscale": [
             [
              0,
              "#0d0887"
             ],
             [
              0.1111111111111111,
              "#46039f"
             ],
             [
              0.2222222222222222,
              "#7201a8"
             ],
             [
              0.3333333333333333,
              "#9c179e"
             ],
             [
              0.4444444444444444,
              "#bd3786"
             ],
             [
              0.5555555555555556,
              "#d8576b"
             ],
             [
              0.6666666666666666,
              "#ed7953"
             ],
             [
              0.7777777777777778,
              "#fb9f3a"
             ],
             [
              0.8888888888888888,
              "#fdca26"
             ],
             [
              1,
              "#f0f921"
             ]
            ],
            "type": "heatmap"
           }
          ],
          "heatmapgl": [
           {
            "colorbar": {
             "outlinewidth": 0,
             "ticks": ""
            },
            "colorscale": [
             [
              0,
              "#0d0887"
             ],
             [
              0.1111111111111111,
              "#46039f"
             ],
             [
              0.2222222222222222,
              "#7201a8"
             ],
             [
              0.3333333333333333,
              "#9c179e"
             ],
             [
              0.4444444444444444,
              "#bd3786"
             ],
             [
              0.5555555555555556,
              "#d8576b"
             ],
             [
              0.6666666666666666,
              "#ed7953"
             ],
             [
              0.7777777777777778,
              "#fb9f3a"
             ],
             [
              0.8888888888888888,
              "#fdca26"
             ],
             [
              1,
              "#f0f921"
             ]
            ],
            "type": "heatmapgl"
           }
          ],
          "histogram": [
           {
            "marker": {
             "pattern": {
              "fillmode": "overlay",
              "size": 10,
              "solidity": 0.2
             }
            },
            "type": "histogram"
           }
          ],
          "histogram2d": [
           {
            "colorbar": {
             "outlinewidth": 0,
             "ticks": ""
            },
            "colorscale": [
             [
              0,
              "#0d0887"
             ],
             [
              0.1111111111111111,
              "#46039f"
             ],
             [
              0.2222222222222222,
              "#7201a8"
             ],
             [
              0.3333333333333333,
              "#9c179e"
             ],
             [
              0.4444444444444444,
              "#bd3786"
             ],
             [
              0.5555555555555556,
              "#d8576b"
             ],
             [
              0.6666666666666666,
              "#ed7953"
             ],
             [
              0.7777777777777778,
              "#fb9f3a"
             ],
             [
              0.8888888888888888,
              "#fdca26"
             ],
             [
              1,
              "#f0f921"
             ]
            ],
            "type": "histogram2d"
           }
          ],
          "histogram2dcontour": [
           {
            "colorbar": {
             "outlinewidth": 0,
             "ticks": ""
            },
            "colorscale": [
             [
              0,
              "#0d0887"
             ],
             [
              0.1111111111111111,
              "#46039f"
             ],
             [
              0.2222222222222222,
              "#7201a8"
             ],
             [
              0.3333333333333333,
              "#9c179e"
             ],
             [
              0.4444444444444444,
              "#bd3786"
             ],
             [
              0.5555555555555556,
              "#d8576b"
             ],
             [
              0.6666666666666666,
              "#ed7953"
             ],
             [
              0.7777777777777778,
              "#fb9f3a"
             ],
             [
              0.8888888888888888,
              "#fdca26"
             ],
             [
              1,
              "#f0f921"
             ]
            ],
            "type": "histogram2dcontour"
           }
          ],
          "mesh3d": [
           {
            "colorbar": {
             "outlinewidth": 0,
             "ticks": ""
            },
            "type": "mesh3d"
           }
          ],
          "parcoords": [
           {
            "line": {
             "colorbar": {
              "outlinewidth": 0,
              "ticks": ""
             }
            },
            "type": "parcoords"
           }
          ],
          "pie": [
           {
            "automargin": true,
            "type": "pie"
           }
          ],
          "scatter": [
           {
            "marker": {
             "colorbar": {
              "outlinewidth": 0,
              "ticks": ""
             }
            },
            "type": "scatter"
           }
          ],
          "scatter3d": [
           {
            "line": {
             "colorbar": {
              "outlinewidth": 0,
              "ticks": ""
             }
            },
            "marker": {
             "colorbar": {
              "outlinewidth": 0,
              "ticks": ""
             }
            },
            "type": "scatter3d"
           }
          ],
          "scattercarpet": [
           {
            "marker": {
             "colorbar": {
              "outlinewidth": 0,
              "ticks": ""
             }
            },
            "type": "scattercarpet"
           }
          ],
          "scattergeo": [
           {
            "marker": {
             "colorbar": {
              "outlinewidth": 0,
              "ticks": ""
             }
            },
            "type": "scattergeo"
           }
          ],
          "scattergl": [
           {
            "marker": {
             "colorbar": {
              "outlinewidth": 0,
              "ticks": ""
             }
            },
            "type": "scattergl"
           }
          ],
          "scattermapbox": [
           {
            "marker": {
             "colorbar": {
              "outlinewidth": 0,
              "ticks": ""
             }
            },
            "type": "scattermapbox"
           }
          ],
          "scatterpolar": [
           {
            "marker": {
             "colorbar": {
              "outlinewidth": 0,
              "ticks": ""
             }
            },
            "type": "scatterpolar"
           }
          ],
          "scatterpolargl": [
           {
            "marker": {
             "colorbar": {
              "outlinewidth": 0,
              "ticks": ""
             }
            },
            "type": "scatterpolargl"
           }
          ],
          "scatterternary": [
           {
            "marker": {
             "colorbar": {
              "outlinewidth": 0,
              "ticks": ""
             }
            },
            "type": "scatterternary"
           }
          ],
          "surface": [
           {
            "colorbar": {
             "outlinewidth": 0,
             "ticks": ""
            },
            "colorscale": [
             [
              0,
              "#0d0887"
             ],
             [
              0.1111111111111111,
              "#46039f"
             ],
             [
              0.2222222222222222,
              "#7201a8"
             ],
             [
              0.3333333333333333,
              "#9c179e"
             ],
             [
              0.4444444444444444,
              "#bd3786"
             ],
             [
              0.5555555555555556,
              "#d8576b"
             ],
             [
              0.6666666666666666,
              "#ed7953"
             ],
             [
              0.7777777777777778,
              "#fb9f3a"
             ],
             [
              0.8888888888888888,
              "#fdca26"
             ],
             [
              1,
              "#f0f921"
             ]
            ],
            "type": "surface"
           }
          ],
          "table": [
           {
            "cells": {
             "fill": {
              "color": "#EBF0F8"
             },
             "line": {
              "color": "white"
             }
            },
            "header": {
             "fill": {
              "color": "#C8D4E3"
             },
             "line": {
              "color": "white"
             }
            },
            "type": "table"
           }
          ]
         },
         "layout": {
          "annotationdefaults": {
           "arrowcolor": "#2a3f5f",
           "arrowhead": 0,
           "arrowwidth": 1
          },
          "autotypenumbers": "strict",
          "coloraxis": {
           "colorbar": {
            "outlinewidth": 0,
            "ticks": ""
           }
          },
          "colorscale": {
           "diverging": [
            [
             0,
             "#8e0152"
            ],
            [
             0.1,
             "#c51b7d"
            ],
            [
             0.2,
             "#de77ae"
            ],
            [
             0.3,
             "#f1b6da"
            ],
            [
             0.4,
             "#fde0ef"
            ],
            [
             0.5,
             "#f7f7f7"
            ],
            [
             0.6,
             "#e6f5d0"
            ],
            [
             0.7,
             "#b8e186"
            ],
            [
             0.8,
             "#7fbc41"
            ],
            [
             0.9,
             "#4d9221"
            ],
            [
             1,
             "#276419"
            ]
           ],
           "sequential": [
            [
             0,
             "#0d0887"
            ],
            [
             0.1111111111111111,
             "#46039f"
            ],
            [
             0.2222222222222222,
             "#7201a8"
            ],
            [
             0.3333333333333333,
             "#9c179e"
            ],
            [
             0.4444444444444444,
             "#bd3786"
            ],
            [
             0.5555555555555556,
             "#d8576b"
            ],
            [
             0.6666666666666666,
             "#ed7953"
            ],
            [
             0.7777777777777778,
             "#fb9f3a"
            ],
            [
             0.8888888888888888,
             "#fdca26"
            ],
            [
             1,
             "#f0f921"
            ]
           ],
           "sequentialminus": [
            [
             0,
             "#0d0887"
            ],
            [
             0.1111111111111111,
             "#46039f"
            ],
            [
             0.2222222222222222,
             "#7201a8"
            ],
            [
             0.3333333333333333,
             "#9c179e"
            ],
            [
             0.4444444444444444,
             "#bd3786"
            ],
            [
             0.5555555555555556,
             "#d8576b"
            ],
            [
             0.6666666666666666,
             "#ed7953"
            ],
            [
             0.7777777777777778,
             "#fb9f3a"
            ],
            [
             0.8888888888888888,
             "#fdca26"
            ],
            [
             1,
             "#f0f921"
            ]
           ]
          },
          "colorway": [
           "#636efa",
           "#EF553B",
           "#00cc96",
           "#ab63fa",
           "#FFA15A",
           "#19d3f3",
           "#FF6692",
           "#B6E880",
           "#FF97FF",
           "#FECB52"
          ],
          "font": {
           "color": "#2a3f5f"
          },
          "geo": {
           "bgcolor": "white",
           "lakecolor": "white",
           "landcolor": "#E5ECF6",
           "showlakes": true,
           "showland": true,
           "subunitcolor": "white"
          },
          "hoverlabel": {
           "align": "left"
          },
          "hovermode": "closest",
          "mapbox": {
           "style": "light"
          },
          "paper_bgcolor": "white",
          "plot_bgcolor": "#E5ECF6",
          "polar": {
           "angularaxis": {
            "gridcolor": "white",
            "linecolor": "white",
            "ticks": ""
           },
           "bgcolor": "#E5ECF6",
           "radialaxis": {
            "gridcolor": "white",
            "linecolor": "white",
            "ticks": ""
           }
          },
          "scene": {
           "xaxis": {
            "backgroundcolor": "#E5ECF6",
            "gridcolor": "white",
            "gridwidth": 2,
            "linecolor": "white",
            "showbackground": true,
            "ticks": "",
            "zerolinecolor": "white"
           },
           "yaxis": {
            "backgroundcolor": "#E5ECF6",
            "gridcolor": "white",
            "gridwidth": 2,
            "linecolor": "white",
            "showbackground": true,
            "ticks": "",
            "zerolinecolor": "white"
           },
           "zaxis": {
            "backgroundcolor": "#E5ECF6",
            "gridcolor": "white",
            "gridwidth": 2,
            "linecolor": "white",
            "showbackground": true,
            "ticks": "",
            "zerolinecolor": "white"
           }
          },
          "shapedefaults": {
           "line": {
            "color": "#2a3f5f"
           }
          },
          "ternary": {
           "aaxis": {
            "gridcolor": "white",
            "linecolor": "white",
            "ticks": ""
           },
           "baxis": {
            "gridcolor": "white",
            "linecolor": "white",
            "ticks": ""
           },
           "bgcolor": "#E5ECF6",
           "caxis": {
            "gridcolor": "white",
            "linecolor": "white",
            "ticks": ""
           }
          },
          "title": {
           "x": 0.05
          },
          "xaxis": {
           "automargin": true,
           "gridcolor": "white",
           "linecolor": "white",
           "ticks": "",
           "title": {
            "standoff": 15
           },
           "zerolinecolor": "white",
           "zerolinewidth": 2
          },
          "yaxis": {
           "automargin": true,
           "gridcolor": "white",
           "linecolor": "white",
           "ticks": "",
           "title": {
            "standoff": 15
           },
           "zerolinecolor": "white",
           "zerolinewidth": 2
          }
         }
        }
       }
      }
     },
     "metadata": {},
     "output_type": "display_data"
    }
   ],
   "source": [
    "plot_fig(final_df, stores[396], product[1])"
   ]
  }
 ],
 "metadata": {
  "interpreter": {
   "hash": "2c74751c2b923e2362cfe1d79031e9569c6f81d163515e88ad3756b52df25df3"
  },
  "kernelspec": {
   "display_name": "Python 3.8.12 64-bit ('spark': conda)",
   "language": "python",
   "name": "python3"
  },
  "language_info": {
   "codemirror_mode": {
    "name": "ipython",
    "version": 3
   },
   "file_extension": ".py",
   "mimetype": "text/x-python",
   "name": "python",
   "nbconvert_exporter": "python",
   "pygments_lexer": "ipython3",
   "version": "3.9.7"
  },
  "orig_nbformat": 4
 },
 "nbformat": 4,
 "nbformat_minor": 2
}
