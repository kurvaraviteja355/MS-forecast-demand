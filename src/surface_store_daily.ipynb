{
 "cells": [
  {
   "cell_type": "code",
   "execution_count": 1,
   "metadata": {},
   "outputs": [],
   "source": [
    "import numpy as np\n",
    "import pandas as pd\n",
    "import os\n",
    "import sys\n",
    "import glob\n",
    "import time \n",
    "import warnings\n",
    "warnings.filterwarnings(\"ignore\")\n",
    "from pyspark.sql import SparkSession\n",
    "from pyspark import SparkContext, SparkConf\n",
    "import pyspark\n",
    "from pyspark.sql.types import *\n",
    "from pyspark.sql.functions import pandas_udf, PandasUDFType\n",
    "from pyspark.sql.functions import current_date\n",
    "from fbprophet import Prophet\n",
    "from reduce_mem_usage import reduce_mem_usage\n",
    "from continuous_data import round_target_column\n",
    "from surface_preprocessing import create_daily_test, surface_preprocess"
   ]
  },
  {
   "cell_type": "markdown",
   "metadata": {},
   "source": [
    "##### Metric Evaluation function"
   ]
  },
  {
   "cell_type": "code",
   "execution_count": 2,
   "metadata": {},
   "outputs": [],
   "source": [
    "import os\n",
    "os.chdir('../')"
   ]
  },
  {
   "cell_type": "code",
   "execution_count": 3,
   "metadata": {},
   "outputs": [],
   "source": [
    "#### process the new data and append the old data \n",
    "\n",
    "new_data = surface_preprocess()"
   ]
  },
  {
   "cell_type": "code",
   "execution_count": 3,
   "metadata": {},
   "outputs": [
    {
     "name": "stdout",
     "output_type": "stream",
     "text": [
      "Mem. usage decreased to 168.69 Mb (21.9% reduction)\n"
     ]
    }
   ],
   "source": [
    "data = pd.read_csv('input_files/surface_data.csv')\n",
    "data = reduce_mem_usage(data)\n",
    "\n",
    "\n",
    "#convert the sales date into datetime format \n",
    "\n",
    "data['Sales Date'] = pd.to_datetime(data['Sales Date'])\n",
    "data = data.drop_duplicates()\n",
    "\n",
    "\n",
    "#data = (data.set_index(\"Sales Date\").groupby(['Reseller City','Super Division', 'Business Unit', pd.Grouper(freq='W')])[\"Rslr Sales Quantity\", \"Rslr Sales Amount\"].sum().astype(int).reset_index())\n",
    "data['black_week'] = np.where((data['Sales Date'].dt.month==11) & (data['Sales Date'].dt.day > 23), 1, 0)\n",
    "\n",
    "max_date = data['Sales Date'].max()"
   ]
  },
  {
   "cell_type": "code",
   "execution_count": 4,
   "metadata": {},
   "outputs": [
    {
     "data": {
      "text/plain": [
       "Timestamp('2022-02-26 00:00:00')"
      ]
     },
     "execution_count": 4,
     "metadata": {},
     "output_type": "execute_result"
    }
   ],
   "source": [
    "max_date"
   ]
  },
  {
   "cell_type": "code",
   "execution_count": 5,
   "metadata": {},
   "outputs": [],
   "source": [
    "closed_stores = ['Saturn Connect Trier', 'Media Markt Heilbronn 2','Saturn Schweinfurt Schrammstraße', 'Saturn Connect Köln',\n",
    "                    'Saturn Stuttgart-Hbf', 'Saturn-Berlin Clayallee','Saturn Mönchengladbach - Stresemannstraße', 'Saturn Lübeck',\n",
    "                    'Saturn München Theresienhöhe', 'Saturn Berlin-Alt-Treptow','Media Markt Turnstraße', 'Saturn Wiesbaden Bahnhofsplatz',\n",
    "                    'Media Markt Ellwangen - DAS', 'Media Markt GmbH Nürtingen','Media Markt Meppen', 'Media Markt Schleswig', \n",
    "                    'Media-Saturn IT Services GmbH', 'Meida Markt Waiblingen', 'Saturn Bergisch Gladbach','Saturn Wesel', 'Saturn Hagen', \n",
    "                    'Media Markt Bad Cannstatt', 'Saturn Heidelberg', 'Saturn Hildesheim', 'Saturn Münster am York-Ring', 'Media Markt Köln-Chorweiler',\n",
    "                    'Saturn Dessau', 'Saturn Essen-Steele','Saturn Euskirchen', 'Saturn Göttingen', 'Saturn Hennef', 'Saturn Herford',\n",
    "                    'Saturn Düsseldorf','Saturn Itzehoe','Saturn Siegburg','Saturn Weiterstadt', 'Saturn Bremerhaven - BSS', 'Saturn Gelsenkirchen Buer']\n",
    "data = data.loc[~data['Store_names'].isin(closed_stores)].reset_index(drop=True)"
   ]
  },
  {
   "cell_type": "code",
   "execution_count": 6,
   "metadata": {},
   "outputs": [
    {
     "data": {
      "text/plain": [
       "Sales Date               1735\n",
       "Store_names               393\n",
       "Reseller City             257\n",
       "Super Division              1\n",
       "Business Unit               5\n",
       "Rslr Sales Quantity       131\n",
       "Rslr Sales Amount       15098\n",
       "Reseller Postal Code      378\n",
       "black_week                  2\n",
       "dtype: int64"
      ]
     },
     "execution_count": 6,
     "metadata": {},
     "output_type": "execute_result"
    }
   ],
   "source": [
    "data.nunique()"
   ]
  },
  {
   "cell_type": "code",
   "execution_count": 7,
   "metadata": {},
   "outputs": [
    {
     "data": {
      "text/plain": [
       "(3384225, 9)"
      ]
     },
     "execution_count": 7,
     "metadata": {},
     "output_type": "execute_result"
    }
   ],
   "source": [
    "data.shape\n"
   ]
  },
  {
   "cell_type": "code",
   "execution_count": 8,
   "metadata": {},
   "outputs": [
    {
     "data": {
      "text/plain": [
       "Sales Date              0\n",
       "Store_names             0\n",
       "Reseller City           0\n",
       "Super Division          0\n",
       "Business Unit           0\n",
       "Rslr Sales Quantity     0\n",
       "Rslr Sales Amount       0\n",
       "Reseller Postal Code    0\n",
       "black_week              0\n",
       "dtype: int64"
      ]
     },
     "execution_count": 8,
     "metadata": {},
     "output_type": "execute_result"
    }
   ],
   "source": [
    "data.isna().sum()"
   ]
  },
  {
   "cell_type": "code",
   "execution_count": 9,
   "metadata": {},
   "outputs": [],
   "source": [
    "import calendar as cal\n",
    "from datetime import *\n",
    "from dateutil.relativedelta import *\n",
    "import holidays\n",
    "\n",
    "def black_week(year):\n",
    "    black_friday = (datetime.date(datetime(year, 11, 1) + relativedelta(weekday=FR(+4)) - timedelta(days=4)), datetime.date(datetime(year, 11, 1) + relativedelta(weekday=FR(+4))+ timedelta(days=1)))\n",
    "    cyber_monday = datetime.date(datetime(year, 11, 1) + relativedelta(weekday=FR(+4))+ timedelta(days=3))\n",
    "\n",
    "    black_friday = pd.to_datetime(black_friday)\n",
    "    black_friday =pd.date_range(black_friday[0], black_friday[1], freq ='d')\n",
    "\n",
    "    cyber_monday = pd.to_datetime(cyber_monday)\n",
    "    #cyber_monday = list(cyber_monday)\n",
    "\n",
    "\n",
    "    return black_friday, cyber_monday"
   ]
  },
  {
   "cell_type": "code",
   "execution_count": 39,
   "metadata": {},
   "outputs": [],
   "source": [
    "last_month_days =  list(cal.monthrange(max_date.year, max_date.month))\n",
    "\n",
    "remain_days = last_month_days[1] - max_date.day\n",
    "\n"
   ]
  },
  {
   "cell_type": "code",
   "execution_count": 40,
   "metadata": {},
   "outputs": [
    {
     "data": {
      "text/plain": [
       "2"
      ]
     },
     "execution_count": 40,
     "metadata": {},
     "output_type": "execute_result"
    }
   ],
   "source": [
    "remain_days"
   ]
  },
  {
   "cell_type": "code",
   "execution_count": 41,
   "metadata": {},
   "outputs": [],
   "source": [
    "next_month_days = list(cal.monthrange(max_date.year, max_date.month+1))\n",
    "\n",
    "future_days = remain_days+next_month_days[1]"
   ]
  },
  {
   "cell_type": "code",
   "execution_count": 44,
   "metadata": {},
   "outputs": [
    {
     "data": {
      "text/plain": [
       "Timestamp('2022-03-31 00:00:00')"
      ]
     },
     "execution_count": 44,
     "metadata": {},
     "output_type": "execute_result"
    }
   ],
   "source": [
    "max_date+pd.to_timedelta(future_days,unit='d')"
   ]
  },
  {
   "cell_type": "code",
   "execution_count": 42,
   "metadata": {},
   "outputs": [
    {
     "data": {
      "text/plain": [
       "33"
      ]
     },
     "execution_count": 42,
     "metadata": {},
     "output_type": "execute_result"
    }
   ],
   "source": [
    "future_days"
   ]
  },
  {
   "cell_type": "code",
   "execution_count": 10,
   "metadata": {},
   "outputs": [],
   "source": [
    "# ## create the test_dataframe \n",
    "test_data = create_daily_test(data, max_date)\n",
    "test_data['Sales Date'] = pd.to_datetime(test_data['Sales Date'])\n",
    "test_data['black_week'] = np.where((test_data['Sales Date'].dt.month==11) & (test_data['Sales Date'].dt.day > 23), 1, 0)"
   ]
  },
  {
   "cell_type": "code",
   "execution_count": 11,
   "metadata": {},
   "outputs": [
    {
     "data": {
      "text/plain": [
       "array(['2022-02-27T00:00:00.000000000', '2022-02-28T00:00:00.000000000',\n",
       "       '2022-03-01T00:00:00.000000000', '2022-03-02T00:00:00.000000000',\n",
       "       '2022-03-03T00:00:00.000000000', '2022-03-04T00:00:00.000000000',\n",
       "       '2022-03-05T00:00:00.000000000', '2022-03-06T00:00:00.000000000',\n",
       "       '2022-03-07T00:00:00.000000000', '2022-03-08T00:00:00.000000000',\n",
       "       '2022-03-09T00:00:00.000000000', '2022-03-10T00:00:00.000000000',\n",
       "       '2022-03-11T00:00:00.000000000', '2022-03-12T00:00:00.000000000',\n",
       "       '2022-03-13T00:00:00.000000000', '2022-03-14T00:00:00.000000000',\n",
       "       '2022-03-15T00:00:00.000000000', '2022-03-16T00:00:00.000000000',\n",
       "       '2022-03-17T00:00:00.000000000', '2022-03-18T00:00:00.000000000',\n",
       "       '2022-03-19T00:00:00.000000000', '2022-03-20T00:00:00.000000000',\n",
       "       '2022-03-21T00:00:00.000000000', '2022-03-22T00:00:00.000000000',\n",
       "       '2022-03-23T00:00:00.000000000', '2022-03-24T00:00:00.000000000',\n",
       "       '2022-03-25T00:00:00.000000000', '2022-03-26T00:00:00.000000000',\n",
       "       '2022-03-27T00:00:00.000000000', '2022-03-28T00:00:00.000000000',\n",
       "       '2022-03-29T00:00:00.000000000', '2022-03-30T00:00:00.000000000'],\n",
       "      dtype='datetime64[ns]')"
      ]
     },
     "execution_count": 11,
     "metadata": {},
     "output_type": "execute_result"
    }
   ],
   "source": [
    "test_data['Sales Date'].unique()"
   ]
  },
  {
   "cell_type": "code",
   "execution_count": 12,
   "metadata": {},
   "outputs": [],
   "source": [
    "data = pd.concat([data, test_data])"
   ]
  },
  {
   "cell_type": "code",
   "execution_count": 13,
   "metadata": {},
   "outputs": [],
   "source": [
    "data = (data.set_index(\"Sales Date\").groupby(['Store_names','Reseller City','Super Division','Business Unit', pd.Grouper(freq='M')])[\"Rslr Sales Quantity\", \"Rslr Sales Amount\"].sum().astype(int).reset_index())"
   ]
  },
  {
   "cell_type": "code",
   "execution_count": 14,
   "metadata": {},
   "outputs": [],
   "source": [
    "### get the promotional data\n",
    "\n",
    "promos = pd.read_csv('input_files/promotion_data/Promos_data.csv')\n",
    "\n",
    "promos = promos.rename(columns = {'Sales_Date' : 'Sales Date',\n",
    "                                    'Business unit': 'Business Unit'})\n",
    "\n",
    "promos['Sales Date'] = pd.to_datetime(promos['Sales Date'])\n",
    "\n",
    "### convert the promos to weekly data\n",
    "promos = (promos.set_index(\"Sales Date\").groupby(['Business Unit',pd.Grouper(freq='M')])[\"Discount_amount\"].sum().reset_index())\n",
    "\n",
    "promos = promos.drop('Discount_amount', 1)\n",
    "promos['promos'] = 1\n",
    "### merge the promos with surface data \n",
    "\n",
    "data = pd.merge(data, promos, on=['Sales Date', 'Business Unit'], how='left')\n",
    "data['promos'] = data['promos'].fillna(0)"
   ]
  },
  {
   "cell_type": "code",
   "execution_count": 15,
   "metadata": {},
   "outputs": [
    {
     "data": {
      "text/html": [
       "<div>\n",
       "<style scoped>\n",
       "    .dataframe tbody tr th:only-of-type {\n",
       "        vertical-align: middle;\n",
       "    }\n",
       "\n",
       "    .dataframe tbody tr th {\n",
       "        vertical-align: top;\n",
       "    }\n",
       "\n",
       "    .dataframe thead th {\n",
       "        text-align: right;\n",
       "    }\n",
       "</style>\n",
       "<table border=\"1\" class=\"dataframe\">\n",
       "  <thead>\n",
       "    <tr style=\"text-align: right;\">\n",
       "      <th></th>\n",
       "      <th>Store_names</th>\n",
       "      <th>Reseller City</th>\n",
       "      <th>Super Division</th>\n",
       "      <th>Business Unit</th>\n",
       "      <th>Sales Date</th>\n",
       "      <th>Rslr Sales Quantity</th>\n",
       "      <th>Rslr Sales Amount</th>\n",
       "      <th>promos</th>\n",
       "    </tr>\n",
       "  </thead>\n",
       "  <tbody>\n",
       "    <tr>\n",
       "      <th>0</th>\n",
       "      <td>Saturn Köln-Weiden</td>\n",
       "      <td>Köln</td>\n",
       "      <td>EDG Managed - Surface Devices</td>\n",
       "      <td>Surface Book</td>\n",
       "      <td>2017-01-31</td>\n",
       "      <td>1</td>\n",
       "      <td>1351</td>\n",
       "      <td>0.0</td>\n",
       "    </tr>\n",
       "    <tr>\n",
       "      <th>1</th>\n",
       "      <td>Saturn Köln-Weiden</td>\n",
       "      <td>Köln</td>\n",
       "      <td>EDG Managed - Surface Devices</td>\n",
       "      <td>Surface Book</td>\n",
       "      <td>2017-02-28</td>\n",
       "      <td>0</td>\n",
       "      <td>0</td>\n",
       "      <td>0.0</td>\n",
       "    </tr>\n",
       "    <tr>\n",
       "      <th>2</th>\n",
       "      <td>Saturn Köln-Weiden</td>\n",
       "      <td>Köln</td>\n",
       "      <td>EDG Managed - Surface Devices</td>\n",
       "      <td>Surface Book</td>\n",
       "      <td>2017-03-31</td>\n",
       "      <td>0</td>\n",
       "      <td>0</td>\n",
       "      <td>0.0</td>\n",
       "    </tr>\n",
       "    <tr>\n",
       "      <th>3</th>\n",
       "      <td>Saturn Köln-Weiden</td>\n",
       "      <td>Köln</td>\n",
       "      <td>EDG Managed - Surface Devices</td>\n",
       "      <td>Surface Book</td>\n",
       "      <td>2017-04-30</td>\n",
       "      <td>0</td>\n",
       "      <td>0</td>\n",
       "      <td>0.0</td>\n",
       "    </tr>\n",
       "    <tr>\n",
       "      <th>4</th>\n",
       "      <td>Saturn Köln-Weiden</td>\n",
       "      <td>Köln</td>\n",
       "      <td>EDG Managed - Surface Devices</td>\n",
       "      <td>Surface Book</td>\n",
       "      <td>2017-05-31</td>\n",
       "      <td>0</td>\n",
       "      <td>0</td>\n",
       "      <td>0.0</td>\n",
       "    </tr>\n",
       "  </tbody>\n",
       "</table>\n",
       "</div>"
      ],
      "text/plain": [
       "           Store_names Reseller City                 Super Division  \\\n",
       "0   Saturn Köln-Weiden          Köln  EDG Managed - Surface Devices   \n",
       "1   Saturn Köln-Weiden          Köln  EDG Managed - Surface Devices   \n",
       "2   Saturn Köln-Weiden          Köln  EDG Managed - Surface Devices   \n",
       "3   Saturn Köln-Weiden          Köln  EDG Managed - Surface Devices   \n",
       "4   Saturn Köln-Weiden          Köln  EDG Managed - Surface Devices   \n",
       "\n",
       "  Business Unit Sales Date  Rslr Sales Quantity  Rslr Sales Amount  promos  \n",
       "0  Surface Book 2017-01-31                    1               1351     0.0  \n",
       "1  Surface Book 2017-02-28                    0                  0     0.0  \n",
       "2  Surface Book 2017-03-31                    0                  0     0.0  \n",
       "3  Surface Book 2017-04-30                    0                  0     0.0  \n",
       "4  Surface Book 2017-05-31                    0                  0     0.0  "
      ]
     },
     "execution_count": 15,
     "metadata": {},
     "output_type": "execute_result"
    }
   ],
   "source": [
    "data.head()"
   ]
  },
  {
   "cell_type": "code",
   "execution_count": 16,
   "metadata": {},
   "outputs": [
    {
     "data": {
      "text/plain": [
       "(123803, 8)"
      ]
     },
     "execution_count": 16,
     "metadata": {},
     "output_type": "execute_result"
    }
   ],
   "source": [
    "data.shape"
   ]
  },
  {
   "cell_type": "code",
   "execution_count": 17,
   "metadata": {},
   "outputs": [],
   "source": [
    "data['black_week'] = np.where(data['Sales Date'].dt.month==11, 1, 0)"
   ]
  },
  {
   "cell_type": "code",
   "execution_count": 18,
   "metadata": {},
   "outputs": [],
   "source": [
    "data['black_week'] = np.where((data['Business Unit']=='Surface Pro') & (data['Sales Date'].dt.month==11) & (data['Sales Date'].dt.year== 2017 |2018 |2019), 1, 0)\n",
    "data['black_week'] = np.where((data['Business Unit']=='Surface Pro') & (data['Sales Date'].dt.month==11) & (data['Sales Date'].dt.year==2020), 2, data['black_week'])\n",
    "data['black_week'] = np.where((data['Business Unit']=='Surface Go') & (data['Sales Date'].dt.month==11) & (data['Sales Date'].dt.year==2019 |2021), 1, data['black_week'])\n",
    "data['black_week'] = np.where((data['Business Unit']=='Surface Book') & (data['Sales Date'].dt.month==11) & (data['Sales Date'].dt.year==2018 |2019), 1, data['black_week'])\n"
   ]
  },
  {
   "cell_type": "code",
   "execution_count": 19,
   "metadata": {},
   "outputs": [],
   "source": [
    "data['christmas'] = np.where((data['Business Unit']=='Surface Pro') & (data['Sales Date'].dt.month==12) & (data['Sales Date'].dt.year==2017 |2018 |2019 |2020), 1, 0)\n",
    "data['christmas'] = np.where((data['Business Unit']=='Surface Go') & (data['Sales Date'].dt.month==12) & (data['Sales Date'].dt.year==2018 |2019 |2020 |2021), 1, data['christmas'])"
   ]
  },
  {
   "cell_type": "code",
   "execution_count": 20,
   "metadata": {},
   "outputs": [
    {
     "data": {
      "text/html": [
       "<div>\n",
       "<style scoped>\n",
       "    .dataframe tbody tr th:only-of-type {\n",
       "        vertical-align: middle;\n",
       "    }\n",
       "\n",
       "    .dataframe tbody tr th {\n",
       "        vertical-align: top;\n",
       "    }\n",
       "\n",
       "    .dataframe thead th {\n",
       "        text-align: right;\n",
       "    }\n",
       "</style>\n",
       "<table border=\"1\" class=\"dataframe\">\n",
       "  <thead>\n",
       "    <tr style=\"text-align: right;\">\n",
       "      <th></th>\n",
       "      <th>Store_names</th>\n",
       "      <th>Reseller City</th>\n",
       "      <th>Super Division</th>\n",
       "      <th>Business Unit</th>\n",
       "      <th>Sales Date</th>\n",
       "      <th>Rslr Sales Quantity</th>\n",
       "      <th>Rslr Sales Amount</th>\n",
       "      <th>promos</th>\n",
       "      <th>black_week</th>\n",
       "      <th>christmas</th>\n",
       "    </tr>\n",
       "  </thead>\n",
       "  <tbody>\n",
       "    <tr>\n",
       "      <th>0</th>\n",
       "      <td>Saturn Köln-Weiden</td>\n",
       "      <td>Köln</td>\n",
       "      <td>EDG Managed - Surface Devices</td>\n",
       "      <td>Surface Book</td>\n",
       "      <td>2017-01-31</td>\n",
       "      <td>1</td>\n",
       "      <td>1351</td>\n",
       "      <td>0.0</td>\n",
       "      <td>0</td>\n",
       "      <td>0</td>\n",
       "    </tr>\n",
       "    <tr>\n",
       "      <th>1</th>\n",
       "      <td>Saturn Köln-Weiden</td>\n",
       "      <td>Köln</td>\n",
       "      <td>EDG Managed - Surface Devices</td>\n",
       "      <td>Surface Book</td>\n",
       "      <td>2017-02-28</td>\n",
       "      <td>0</td>\n",
       "      <td>0</td>\n",
       "      <td>0.0</td>\n",
       "      <td>0</td>\n",
       "      <td>0</td>\n",
       "    </tr>\n",
       "    <tr>\n",
       "      <th>2</th>\n",
       "      <td>Saturn Köln-Weiden</td>\n",
       "      <td>Köln</td>\n",
       "      <td>EDG Managed - Surface Devices</td>\n",
       "      <td>Surface Book</td>\n",
       "      <td>2017-03-31</td>\n",
       "      <td>0</td>\n",
       "      <td>0</td>\n",
       "      <td>0.0</td>\n",
       "      <td>0</td>\n",
       "      <td>0</td>\n",
       "    </tr>\n",
       "    <tr>\n",
       "      <th>3</th>\n",
       "      <td>Saturn Köln-Weiden</td>\n",
       "      <td>Köln</td>\n",
       "      <td>EDG Managed - Surface Devices</td>\n",
       "      <td>Surface Book</td>\n",
       "      <td>2017-04-30</td>\n",
       "      <td>0</td>\n",
       "      <td>0</td>\n",
       "      <td>0.0</td>\n",
       "      <td>0</td>\n",
       "      <td>0</td>\n",
       "    </tr>\n",
       "    <tr>\n",
       "      <th>4</th>\n",
       "      <td>Saturn Köln-Weiden</td>\n",
       "      <td>Köln</td>\n",
       "      <td>EDG Managed - Surface Devices</td>\n",
       "      <td>Surface Book</td>\n",
       "      <td>2017-05-31</td>\n",
       "      <td>0</td>\n",
       "      <td>0</td>\n",
       "      <td>0.0</td>\n",
       "      <td>0</td>\n",
       "      <td>0</td>\n",
       "    </tr>\n",
       "    <tr>\n",
       "      <th>...</th>\n",
       "      <td>...</td>\n",
       "      <td>...</td>\n",
       "      <td>...</td>\n",
       "      <td>...</td>\n",
       "      <td>...</td>\n",
       "      <td>...</td>\n",
       "      <td>...</td>\n",
       "      <td>...</td>\n",
       "      <td>...</td>\n",
       "      <td>...</td>\n",
       "    </tr>\n",
       "    <tr>\n",
       "      <th>123798</th>\n",
       "      <td>Saturn Zwickau</td>\n",
       "      <td>Zwickau</td>\n",
       "      <td>EDG Managed - Surface Devices</td>\n",
       "      <td>Surface Pro</td>\n",
       "      <td>2021-11-30</td>\n",
       "      <td>6</td>\n",
       "      <td>4668</td>\n",
       "      <td>0.0</td>\n",
       "      <td>0</td>\n",
       "      <td>0</td>\n",
       "    </tr>\n",
       "    <tr>\n",
       "      <th>123799</th>\n",
       "      <td>Saturn Zwickau</td>\n",
       "      <td>Zwickau</td>\n",
       "      <td>EDG Managed - Surface Devices</td>\n",
       "      <td>Surface Pro</td>\n",
       "      <td>2021-12-31</td>\n",
       "      <td>1</td>\n",
       "      <td>921</td>\n",
       "      <td>0.0</td>\n",
       "      <td>0</td>\n",
       "      <td>0</td>\n",
       "    </tr>\n",
       "    <tr>\n",
       "      <th>123800</th>\n",
       "      <td>Saturn Zwickau</td>\n",
       "      <td>Zwickau</td>\n",
       "      <td>EDG Managed - Surface Devices</td>\n",
       "      <td>Surface Pro</td>\n",
       "      <td>2022-01-31</td>\n",
       "      <td>1</td>\n",
       "      <td>1406</td>\n",
       "      <td>0.0</td>\n",
       "      <td>0</td>\n",
       "      <td>0</td>\n",
       "    </tr>\n",
       "    <tr>\n",
       "      <th>123801</th>\n",
       "      <td>Saturn Zwickau</td>\n",
       "      <td>Zwickau</td>\n",
       "      <td>EDG Managed - Surface Devices</td>\n",
       "      <td>Surface Pro</td>\n",
       "      <td>2022-02-28</td>\n",
       "      <td>1</td>\n",
       "      <td>925</td>\n",
       "      <td>0.0</td>\n",
       "      <td>0</td>\n",
       "      <td>0</td>\n",
       "    </tr>\n",
       "    <tr>\n",
       "      <th>123802</th>\n",
       "      <td>Saturn Zwickau</td>\n",
       "      <td>Zwickau</td>\n",
       "      <td>EDG Managed - Surface Devices</td>\n",
       "      <td>Surface Pro</td>\n",
       "      <td>2022-03-31</td>\n",
       "      <td>0</td>\n",
       "      <td>0</td>\n",
       "      <td>0.0</td>\n",
       "      <td>0</td>\n",
       "      <td>0</td>\n",
       "    </tr>\n",
       "  </tbody>\n",
       "</table>\n",
       "<p>123803 rows × 10 columns</p>\n",
       "</div>"
      ],
      "text/plain": [
       "                Store_names Reseller City                 Super Division  \\\n",
       "0        Saturn Köln-Weiden          Köln  EDG Managed - Surface Devices   \n",
       "1        Saturn Köln-Weiden          Köln  EDG Managed - Surface Devices   \n",
       "2        Saturn Köln-Weiden          Köln  EDG Managed - Surface Devices   \n",
       "3        Saturn Köln-Weiden          Köln  EDG Managed - Surface Devices   \n",
       "4        Saturn Köln-Weiden          Köln  EDG Managed - Surface Devices   \n",
       "...                     ...           ...                            ...   \n",
       "123798       Saturn Zwickau       Zwickau  EDG Managed - Surface Devices   \n",
       "123799       Saturn Zwickau       Zwickau  EDG Managed - Surface Devices   \n",
       "123800       Saturn Zwickau       Zwickau  EDG Managed - Surface Devices   \n",
       "123801       Saturn Zwickau       Zwickau  EDG Managed - Surface Devices   \n",
       "123802       Saturn Zwickau       Zwickau  EDG Managed - Surface Devices   \n",
       "\n",
       "       Business Unit Sales Date  Rslr Sales Quantity  Rslr Sales Amount  \\\n",
       "0       Surface Book 2017-01-31                    1               1351   \n",
       "1       Surface Book 2017-02-28                    0                  0   \n",
       "2       Surface Book 2017-03-31                    0                  0   \n",
       "3       Surface Book 2017-04-30                    0                  0   \n",
       "4       Surface Book 2017-05-31                    0                  0   \n",
       "...              ...        ...                  ...                ...   \n",
       "123798   Surface Pro 2021-11-30                    6               4668   \n",
       "123799   Surface Pro 2021-12-31                    1                921   \n",
       "123800   Surface Pro 2022-01-31                    1               1406   \n",
       "123801   Surface Pro 2022-02-28                    1                925   \n",
       "123802   Surface Pro 2022-03-31                    0                  0   \n",
       "\n",
       "        promos  black_week  christmas  \n",
       "0          0.0           0          0  \n",
       "1          0.0           0          0  \n",
       "2          0.0           0          0  \n",
       "3          0.0           0          0  \n",
       "4          0.0           0          0  \n",
       "...        ...         ...        ...  \n",
       "123798     0.0           0          0  \n",
       "123799     0.0           0          0  \n",
       "123800     0.0           0          0  \n",
       "123801     0.0           0          0  \n",
       "123802     0.0           0          0  \n",
       "\n",
       "[123803 rows x 10 columns]"
      ]
     },
     "execution_count": 20,
     "metadata": {},
     "output_type": "execute_result"
    }
   ],
   "source": [
    "data"
   ]
  },
  {
   "cell_type": "code",
   "execution_count": 21,
   "metadata": {},
   "outputs": [
    {
     "data": {
      "text/plain": [
       "False"
      ]
     },
     "execution_count": 21,
     "metadata": {},
     "output_type": "execute_result"
    }
   ],
   "source": [
    "data.isnull().values.any()"
   ]
  },
  {
   "cell_type": "code",
   "execution_count": 22,
   "metadata": {},
   "outputs": [],
   "source": [
    "import plotly.graph_objs as go\n",
    "def plot_fig(forecast):\n",
    "    \n",
    "    forecast = (forecast.set_index(\"Sales Date\").groupby(['Super Division','Business Unit', pd.Grouper(freq='M')])[\"Rslr Sales Quantity\", \"Rslr Sales Amount\"].sum().astype(int).reset_index())\n",
    "    forecast1 = forecast.loc[forecast['Business Unit']=='Surface Book']\n",
    "    forecast2 = forecast.loc[forecast['Business Unit']=='Surface Go']\n",
    "    forecast3 = forecast.loc[forecast['Business Unit']=='Surface Laptop']\n",
    "    forecast4 = forecast.loc[forecast['Business Unit']=='Surface Laptop Go']\n",
    "    forecast5 = forecast.loc[forecast['Business Unit']=='Surface Pro']\n",
    "    fig = go.Figure()\n",
    "    fig.add_trace(go.Scatter(x=forecast1['Sales Date'], y=forecast1['Rslr Sales Quantity'], name='Surface Book',))\n",
    "    fig.add_trace(go.Scatter(x=forecast2['Sales Date'], y=forecast2['Rslr Sales Quantity'], name='Surface Go',))\n",
    "    #fig.add_trace(go.Scatter(x=forecast3['Sales Date'], y=forecast3['Rslr Sales Quantity'], name='Surface Laptop',))\n",
    "    #fig.add_trace(go.Scatter(x=forecast4['Sales Date'], y=forecast4['Rslr Sales Quantity'], name='Surface Laptop Go',))\n",
    "    fig.add_trace(go.Scatter(x=forecast5['Sales Date'], y=forecast5['Rslr Sales Quantity'], name='Surface Pro',))\n",
    "    #fig.add_trace(go.Scatter(x=forecast['ds'], y=forecast['promos'], name='promos',))\n",
    "    fig.show()"
   ]
  },
  {
   "cell_type": "code",
   "execution_count": 23,
   "metadata": {},
   "outputs": [
    {
     "data": {
      "application/vnd.plotly.v1+json": {
       "config": {
        "plotlyServerURL": "https://plot.ly"
       },
       "data": [
        {
         "name": "Surface Book",
         "type": "scatter",
         "x": [
          "2017-01-31T00:00:00",
          "2017-02-28T00:00:00",
          "2017-03-31T00:00:00",
          "2017-04-30T00:00:00",
          "2017-05-31T00:00:00",
          "2017-06-30T00:00:00",
          "2017-07-31T00:00:00",
          "2017-08-31T00:00:00",
          "2017-09-30T00:00:00",
          "2017-10-31T00:00:00",
          "2017-11-30T00:00:00",
          "2017-12-31T00:00:00",
          "2018-01-31T00:00:00",
          "2018-02-28T00:00:00",
          "2018-03-31T00:00:00",
          "2018-04-30T00:00:00",
          "2018-05-31T00:00:00",
          "2018-06-30T00:00:00",
          "2018-07-31T00:00:00",
          "2018-08-31T00:00:00",
          "2018-09-30T00:00:00",
          "2018-10-31T00:00:00",
          "2018-11-30T00:00:00",
          "2018-12-31T00:00:00",
          "2019-01-31T00:00:00",
          "2019-02-28T00:00:00",
          "2019-03-31T00:00:00",
          "2019-04-30T00:00:00",
          "2019-05-31T00:00:00",
          "2019-06-30T00:00:00",
          "2019-07-31T00:00:00",
          "2019-08-31T00:00:00",
          "2019-09-30T00:00:00",
          "2019-10-31T00:00:00",
          "2019-11-30T00:00:00",
          "2019-12-31T00:00:00",
          "2020-01-31T00:00:00",
          "2020-02-29T00:00:00",
          "2020-03-31T00:00:00",
          "2020-04-30T00:00:00",
          "2020-05-31T00:00:00",
          "2020-06-30T00:00:00",
          "2020-07-31T00:00:00",
          "2020-08-31T00:00:00",
          "2020-09-30T00:00:00",
          "2020-10-31T00:00:00",
          "2020-11-30T00:00:00",
          "2020-12-31T00:00:00",
          "2021-01-31T00:00:00",
          "2021-02-28T00:00:00",
          "2021-03-31T00:00:00",
          "2021-04-30T00:00:00",
          "2021-05-31T00:00:00",
          "2021-06-30T00:00:00",
          "2021-07-31T00:00:00",
          "2021-08-31T00:00:00",
          "2021-09-30T00:00:00",
          "2021-10-31T00:00:00",
          "2021-11-30T00:00:00",
          "2021-12-31T00:00:00",
          "2022-01-31T00:00:00",
          "2022-02-28T00:00:00",
          "2022-03-31T00:00:00"
         ],
         "y": [
          1162,
          773,
          627,
          746,
          708,
          737,
          996,
          702,
          763,
          707,
          1020,
          1294,
          943,
          965,
          1057,
          737,
          726,
          922,
          934,
          1191,
          1980,
          1353,
          2398,
          1391,
          1086,
          828,
          1331,
          978,
          918,
          960,
          532,
          1035,
          1310,
          1543,
          1779,
          1382,
          1054,
          710,
          2030,
          502,
          696,
          597,
          453,
          378,
          925,
          704,
          727,
          548,
          409,
          215,
          956,
          304,
          418,
          432,
          339,
          354,
          562,
          442,
          572,
          293,
          129,
          220,
          0
         ]
        },
        {
         "name": "Surface Go",
         "type": "scatter",
         "x": [
          "2017-01-31T00:00:00",
          "2017-02-28T00:00:00",
          "2017-03-31T00:00:00",
          "2017-04-30T00:00:00",
          "2017-05-31T00:00:00",
          "2017-06-30T00:00:00",
          "2017-07-31T00:00:00",
          "2017-08-31T00:00:00",
          "2017-09-30T00:00:00",
          "2017-10-31T00:00:00",
          "2017-11-30T00:00:00",
          "2017-12-31T00:00:00",
          "2018-01-31T00:00:00",
          "2018-02-28T00:00:00",
          "2018-03-31T00:00:00",
          "2018-04-30T00:00:00",
          "2018-05-31T00:00:00",
          "2018-06-30T00:00:00",
          "2018-07-31T00:00:00",
          "2018-08-31T00:00:00",
          "2018-09-30T00:00:00",
          "2018-10-31T00:00:00",
          "2018-11-30T00:00:00",
          "2018-12-31T00:00:00",
          "2019-01-31T00:00:00",
          "2019-02-28T00:00:00",
          "2019-03-31T00:00:00",
          "2019-04-30T00:00:00",
          "2019-05-31T00:00:00",
          "2019-06-30T00:00:00",
          "2019-07-31T00:00:00",
          "2019-08-31T00:00:00",
          "2019-09-30T00:00:00",
          "2019-10-31T00:00:00",
          "2019-11-30T00:00:00",
          "2019-12-31T00:00:00",
          "2020-01-31T00:00:00",
          "2020-02-29T00:00:00",
          "2020-03-31T00:00:00",
          "2020-04-30T00:00:00",
          "2020-05-31T00:00:00",
          "2020-06-30T00:00:00",
          "2020-07-31T00:00:00",
          "2020-08-31T00:00:00",
          "2020-09-30T00:00:00",
          "2020-10-31T00:00:00",
          "2020-11-30T00:00:00",
          "2020-12-31T00:00:00",
          "2021-01-31T00:00:00",
          "2021-02-28T00:00:00",
          "2021-03-31T00:00:00",
          "2021-04-30T00:00:00",
          "2021-05-31T00:00:00",
          "2021-06-30T00:00:00",
          "2021-07-31T00:00:00",
          "2021-08-31T00:00:00",
          "2021-09-30T00:00:00",
          "2021-10-31T00:00:00",
          "2021-11-30T00:00:00",
          "2021-12-31T00:00:00",
          "2022-01-31T00:00:00",
          "2022-02-28T00:00:00",
          "2022-03-31T00:00:00"
         ],
         "y": [
          0,
          0,
          0,
          0,
          0,
          0,
          0,
          0,
          0,
          0,
          0,
          0,
          0,
          0,
          0,
          0,
          0,
          0,
          0,
          411,
          1912,
          1868,
          2121,
          3265,
          1505,
          1221,
          1567,
          2961,
          3474,
          1479,
          1143,
          2259,
          1844,
          1520,
          4005,
          3266,
          1068,
          791,
          1300,
          991,
          1431,
          1222,
          1237,
          2701,
          1919,
          1456,
          2153,
          2655,
          654,
          583,
          1275,
          613,
          760,
          943,
          776,
          709,
          719,
          929,
          2583,
          2428,
          795,
          727,
          0
         ]
        },
        {
         "name": "Surface Pro",
         "type": "scatter",
         "x": [
          "2017-01-31T00:00:00",
          "2017-02-28T00:00:00",
          "2017-03-31T00:00:00",
          "2017-04-30T00:00:00",
          "2017-05-31T00:00:00",
          "2017-06-30T00:00:00",
          "2017-07-31T00:00:00",
          "2017-08-31T00:00:00",
          "2017-09-30T00:00:00",
          "2017-10-31T00:00:00",
          "2017-11-30T00:00:00",
          "2017-12-31T00:00:00",
          "2018-01-31T00:00:00",
          "2018-02-28T00:00:00",
          "2018-03-31T00:00:00",
          "2018-04-30T00:00:00",
          "2018-05-31T00:00:00",
          "2018-06-30T00:00:00",
          "2018-07-31T00:00:00",
          "2018-08-31T00:00:00",
          "2018-09-30T00:00:00",
          "2018-10-31T00:00:00",
          "2018-11-30T00:00:00",
          "2018-12-31T00:00:00",
          "2019-01-31T00:00:00",
          "2019-02-28T00:00:00",
          "2019-03-31T00:00:00",
          "2019-04-30T00:00:00",
          "2019-05-31T00:00:00",
          "2019-06-30T00:00:00",
          "2019-07-31T00:00:00",
          "2019-08-31T00:00:00",
          "2019-09-30T00:00:00",
          "2019-10-31T00:00:00",
          "2019-11-30T00:00:00",
          "2019-12-31T00:00:00",
          "2020-01-31T00:00:00",
          "2020-02-29T00:00:00",
          "2020-03-31T00:00:00",
          "2020-04-30T00:00:00",
          "2020-05-31T00:00:00",
          "2020-06-30T00:00:00",
          "2020-07-31T00:00:00",
          "2020-08-31T00:00:00",
          "2020-09-30T00:00:00",
          "2020-10-31T00:00:00",
          "2020-11-30T00:00:00",
          "2020-12-31T00:00:00",
          "2021-01-31T00:00:00",
          "2021-02-28T00:00:00",
          "2021-03-31T00:00:00",
          "2021-04-30T00:00:00",
          "2021-05-31T00:00:00",
          "2021-06-30T00:00:00",
          "2021-07-31T00:00:00",
          "2021-08-31T00:00:00",
          "2021-09-30T00:00:00",
          "2021-10-31T00:00:00",
          "2021-11-30T00:00:00",
          "2021-12-31T00:00:00",
          "2022-01-31T00:00:00",
          "2022-02-28T00:00:00",
          "2022-03-31T00:00:00"
         ],
         "y": [
          3816,
          2436,
          2846,
          3146,
          3499,
          2017,
          3172,
          2326,
          2561,
          3316,
          2878,
          6201,
          3164,
          2916,
          2726,
          1610,
          2512,
          1799,
          2767,
          2061,
          4805,
          4564,
          4797,
          4075,
          2624,
          2895,
          3151,
          2409,
          2533,
          2851,
          1743,
          2205,
          3755,
          4610,
          4981,
          4531,
          2139,
          4198,
          1896,
          1654,
          2012,
          2764,
          3078,
          2952,
          3273,
          4009,
          9619,
          5044,
          1811,
          1895,
          4041,
          1457,
          1760,
          1515,
          1399,
          1819,
          1753,
          3260,
          1643,
          2014,
          1570,
          1570,
          0
         ]
        }
       ],
       "layout": {
        "template": {
         "data": {
          "bar": [
           {
            "error_x": {
             "color": "#2a3f5f"
            },
            "error_y": {
             "color": "#2a3f5f"
            },
            "marker": {
             "line": {
              "color": "#E5ECF6",
              "width": 0.5
             },
             "pattern": {
              "fillmode": "overlay",
              "size": 10,
              "solidity": 0.2
             }
            },
            "type": "bar"
           }
          ],
          "barpolar": [
           {
            "marker": {
             "line": {
              "color": "#E5ECF6",
              "width": 0.5
             },
             "pattern": {
              "fillmode": "overlay",
              "size": 10,
              "solidity": 0.2
             }
            },
            "type": "barpolar"
           }
          ],
          "carpet": [
           {
            "aaxis": {
             "endlinecolor": "#2a3f5f",
             "gridcolor": "white",
             "linecolor": "white",
             "minorgridcolor": "white",
             "startlinecolor": "#2a3f5f"
            },
            "baxis": {
             "endlinecolor": "#2a3f5f",
             "gridcolor": "white",
             "linecolor": "white",
             "minorgridcolor": "white",
             "startlinecolor": "#2a3f5f"
            },
            "type": "carpet"
           }
          ],
          "choropleth": [
           {
            "colorbar": {
             "outlinewidth": 0,
             "ticks": ""
            },
            "type": "choropleth"
           }
          ],
          "contour": [
           {
            "colorbar": {
             "outlinewidth": 0,
             "ticks": ""
            },
            "colorscale": [
             [
              0,
              "#0d0887"
             ],
             [
              0.1111111111111111,
              "#46039f"
             ],
             [
              0.2222222222222222,
              "#7201a8"
             ],
             [
              0.3333333333333333,
              "#9c179e"
             ],
             [
              0.4444444444444444,
              "#bd3786"
             ],
             [
              0.5555555555555556,
              "#d8576b"
             ],
             [
              0.6666666666666666,
              "#ed7953"
             ],
             [
              0.7777777777777778,
              "#fb9f3a"
             ],
             [
              0.8888888888888888,
              "#fdca26"
             ],
             [
              1,
              "#f0f921"
             ]
            ],
            "type": "contour"
           }
          ],
          "contourcarpet": [
           {
            "colorbar": {
             "outlinewidth": 0,
             "ticks": ""
            },
            "type": "contourcarpet"
           }
          ],
          "heatmap": [
           {
            "colorbar": {
             "outlinewidth": 0,
             "ticks": ""
            },
            "colorscale": [
             [
              0,
              "#0d0887"
             ],
             [
              0.1111111111111111,
              "#46039f"
             ],
             [
              0.2222222222222222,
              "#7201a8"
             ],
             [
              0.3333333333333333,
              "#9c179e"
             ],
             [
              0.4444444444444444,
              "#bd3786"
             ],
             [
              0.5555555555555556,
              "#d8576b"
             ],
             [
              0.6666666666666666,
              "#ed7953"
             ],
             [
              0.7777777777777778,
              "#fb9f3a"
             ],
             [
              0.8888888888888888,
              "#fdca26"
             ],
             [
              1,
              "#f0f921"
             ]
            ],
            "type": "heatmap"
           }
          ],
          "heatmapgl": [
           {
            "colorbar": {
             "outlinewidth": 0,
             "ticks": ""
            },
            "colorscale": [
             [
              0,
              "#0d0887"
             ],
             [
              0.1111111111111111,
              "#46039f"
             ],
             [
              0.2222222222222222,
              "#7201a8"
             ],
             [
              0.3333333333333333,
              "#9c179e"
             ],
             [
              0.4444444444444444,
              "#bd3786"
             ],
             [
              0.5555555555555556,
              "#d8576b"
             ],
             [
              0.6666666666666666,
              "#ed7953"
             ],
             [
              0.7777777777777778,
              "#fb9f3a"
             ],
             [
              0.8888888888888888,
              "#fdca26"
             ],
             [
              1,
              "#f0f921"
             ]
            ],
            "type": "heatmapgl"
           }
          ],
          "histogram": [
           {
            "marker": {
             "pattern": {
              "fillmode": "overlay",
              "size": 10,
              "solidity": 0.2
             }
            },
            "type": "histogram"
           }
          ],
          "histogram2d": [
           {
            "colorbar": {
             "outlinewidth": 0,
             "ticks": ""
            },
            "colorscale": [
             [
              0,
              "#0d0887"
             ],
             [
              0.1111111111111111,
              "#46039f"
             ],
             [
              0.2222222222222222,
              "#7201a8"
             ],
             [
              0.3333333333333333,
              "#9c179e"
             ],
             [
              0.4444444444444444,
              "#bd3786"
             ],
             [
              0.5555555555555556,
              "#d8576b"
             ],
             [
              0.6666666666666666,
              "#ed7953"
             ],
             [
              0.7777777777777778,
              "#fb9f3a"
             ],
             [
              0.8888888888888888,
              "#fdca26"
             ],
             [
              1,
              "#f0f921"
             ]
            ],
            "type": "histogram2d"
           }
          ],
          "histogram2dcontour": [
           {
            "colorbar": {
             "outlinewidth": 0,
             "ticks": ""
            },
            "colorscale": [
             [
              0,
              "#0d0887"
             ],
             [
              0.1111111111111111,
              "#46039f"
             ],
             [
              0.2222222222222222,
              "#7201a8"
             ],
             [
              0.3333333333333333,
              "#9c179e"
             ],
             [
              0.4444444444444444,
              "#bd3786"
             ],
             [
              0.5555555555555556,
              "#d8576b"
             ],
             [
              0.6666666666666666,
              "#ed7953"
             ],
             [
              0.7777777777777778,
              "#fb9f3a"
             ],
             [
              0.8888888888888888,
              "#fdca26"
             ],
             [
              1,
              "#f0f921"
             ]
            ],
            "type": "histogram2dcontour"
           }
          ],
          "mesh3d": [
           {
            "colorbar": {
             "outlinewidth": 0,
             "ticks": ""
            },
            "type": "mesh3d"
           }
          ],
          "parcoords": [
           {
            "line": {
             "colorbar": {
              "outlinewidth": 0,
              "ticks": ""
             }
            },
            "type": "parcoords"
           }
          ],
          "pie": [
           {
            "automargin": true,
            "type": "pie"
           }
          ],
          "scatter": [
           {
            "marker": {
             "colorbar": {
              "outlinewidth": 0,
              "ticks": ""
             }
            },
            "type": "scatter"
           }
          ],
          "scatter3d": [
           {
            "line": {
             "colorbar": {
              "outlinewidth": 0,
              "ticks": ""
             }
            },
            "marker": {
             "colorbar": {
              "outlinewidth": 0,
              "ticks": ""
             }
            },
            "type": "scatter3d"
           }
          ],
          "scattercarpet": [
           {
            "marker": {
             "colorbar": {
              "outlinewidth": 0,
              "ticks": ""
             }
            },
            "type": "scattercarpet"
           }
          ],
          "scattergeo": [
           {
            "marker": {
             "colorbar": {
              "outlinewidth": 0,
              "ticks": ""
             }
            },
            "type": "scattergeo"
           }
          ],
          "scattergl": [
           {
            "marker": {
             "colorbar": {
              "outlinewidth": 0,
              "ticks": ""
             }
            },
            "type": "scattergl"
           }
          ],
          "scattermapbox": [
           {
            "marker": {
             "colorbar": {
              "outlinewidth": 0,
              "ticks": ""
             }
            },
            "type": "scattermapbox"
           }
          ],
          "scatterpolar": [
           {
            "marker": {
             "colorbar": {
              "outlinewidth": 0,
              "ticks": ""
             }
            },
            "type": "scatterpolar"
           }
          ],
          "scatterpolargl": [
           {
            "marker": {
             "colorbar": {
              "outlinewidth": 0,
              "ticks": ""
             }
            },
            "type": "scatterpolargl"
           }
          ],
          "scatterternary": [
           {
            "marker": {
             "colorbar": {
              "outlinewidth": 0,
              "ticks": ""
             }
            },
            "type": "scatterternary"
           }
          ],
          "surface": [
           {
            "colorbar": {
             "outlinewidth": 0,
             "ticks": ""
            },
            "colorscale": [
             [
              0,
              "#0d0887"
             ],
             [
              0.1111111111111111,
              "#46039f"
             ],
             [
              0.2222222222222222,
              "#7201a8"
             ],
             [
              0.3333333333333333,
              "#9c179e"
             ],
             [
              0.4444444444444444,
              "#bd3786"
             ],
             [
              0.5555555555555556,
              "#d8576b"
             ],
             [
              0.6666666666666666,
              "#ed7953"
             ],
             [
              0.7777777777777778,
              "#fb9f3a"
             ],
             [
              0.8888888888888888,
              "#fdca26"
             ],
             [
              1,
              "#f0f921"
             ]
            ],
            "type": "surface"
           }
          ],
          "table": [
           {
            "cells": {
             "fill": {
              "color": "#EBF0F8"
             },
             "line": {
              "color": "white"
             }
            },
            "header": {
             "fill": {
              "color": "#C8D4E3"
             },
             "line": {
              "color": "white"
             }
            },
            "type": "table"
           }
          ]
         },
         "layout": {
          "annotationdefaults": {
           "arrowcolor": "#2a3f5f",
           "arrowhead": 0,
           "arrowwidth": 1
          },
          "autotypenumbers": "strict",
          "coloraxis": {
           "colorbar": {
            "outlinewidth": 0,
            "ticks": ""
           }
          },
          "colorscale": {
           "diverging": [
            [
             0,
             "#8e0152"
            ],
            [
             0.1,
             "#c51b7d"
            ],
            [
             0.2,
             "#de77ae"
            ],
            [
             0.3,
             "#f1b6da"
            ],
            [
             0.4,
             "#fde0ef"
            ],
            [
             0.5,
             "#f7f7f7"
            ],
            [
             0.6,
             "#e6f5d0"
            ],
            [
             0.7,
             "#b8e186"
            ],
            [
             0.8,
             "#7fbc41"
            ],
            [
             0.9,
             "#4d9221"
            ],
            [
             1,
             "#276419"
            ]
           ],
           "sequential": [
            [
             0,
             "#0d0887"
            ],
            [
             0.1111111111111111,
             "#46039f"
            ],
            [
             0.2222222222222222,
             "#7201a8"
            ],
            [
             0.3333333333333333,
             "#9c179e"
            ],
            [
             0.4444444444444444,
             "#bd3786"
            ],
            [
             0.5555555555555556,
             "#d8576b"
            ],
            [
             0.6666666666666666,
             "#ed7953"
            ],
            [
             0.7777777777777778,
             "#fb9f3a"
            ],
            [
             0.8888888888888888,
             "#fdca26"
            ],
            [
             1,
             "#f0f921"
            ]
           ],
           "sequentialminus": [
            [
             0,
             "#0d0887"
            ],
            [
             0.1111111111111111,
             "#46039f"
            ],
            [
             0.2222222222222222,
             "#7201a8"
            ],
            [
             0.3333333333333333,
             "#9c179e"
            ],
            [
             0.4444444444444444,
             "#bd3786"
            ],
            [
             0.5555555555555556,
             "#d8576b"
            ],
            [
             0.6666666666666666,
             "#ed7953"
            ],
            [
             0.7777777777777778,
             "#fb9f3a"
            ],
            [
             0.8888888888888888,
             "#fdca26"
            ],
            [
             1,
             "#f0f921"
            ]
           ]
          },
          "colorway": [
           "#636efa",
           "#EF553B",
           "#00cc96",
           "#ab63fa",
           "#FFA15A",
           "#19d3f3",
           "#FF6692",
           "#B6E880",
           "#FF97FF",
           "#FECB52"
          ],
          "font": {
           "color": "#2a3f5f"
          },
          "geo": {
           "bgcolor": "white",
           "lakecolor": "white",
           "landcolor": "#E5ECF6",
           "showlakes": true,
           "showland": true,
           "subunitcolor": "white"
          },
          "hoverlabel": {
           "align": "left"
          },
          "hovermode": "closest",
          "mapbox": {
           "style": "light"
          },
          "paper_bgcolor": "white",
          "plot_bgcolor": "#E5ECF6",
          "polar": {
           "angularaxis": {
            "gridcolor": "white",
            "linecolor": "white",
            "ticks": ""
           },
           "bgcolor": "#E5ECF6",
           "radialaxis": {
            "gridcolor": "white",
            "linecolor": "white",
            "ticks": ""
           }
          },
          "scene": {
           "xaxis": {
            "backgroundcolor": "#E5ECF6",
            "gridcolor": "white",
            "gridwidth": 2,
            "linecolor": "white",
            "showbackground": true,
            "ticks": "",
            "zerolinecolor": "white"
           },
           "yaxis": {
            "backgroundcolor": "#E5ECF6",
            "gridcolor": "white",
            "gridwidth": 2,
            "linecolor": "white",
            "showbackground": true,
            "ticks": "",
            "zerolinecolor": "white"
           },
           "zaxis": {
            "backgroundcolor": "#E5ECF6",
            "gridcolor": "white",
            "gridwidth": 2,
            "linecolor": "white",
            "showbackground": true,
            "ticks": "",
            "zerolinecolor": "white"
           }
          },
          "shapedefaults": {
           "line": {
            "color": "#2a3f5f"
           }
          },
          "ternary": {
           "aaxis": {
            "gridcolor": "white",
            "linecolor": "white",
            "ticks": ""
           },
           "baxis": {
            "gridcolor": "white",
            "linecolor": "white",
            "ticks": ""
           },
           "bgcolor": "#E5ECF6",
           "caxis": {
            "gridcolor": "white",
            "linecolor": "white",
            "ticks": ""
           }
          },
          "title": {
           "x": 0.05
          },
          "xaxis": {
           "automargin": true,
           "gridcolor": "white",
           "linecolor": "white",
           "ticks": "",
           "title": {
            "standoff": 15
           },
           "zerolinecolor": "white",
           "zerolinewidth": 2
          },
          "yaxis": {
           "automargin": true,
           "gridcolor": "white",
           "linecolor": "white",
           "ticks": "",
           "title": {
            "standoff": 15
           },
           "zerolinecolor": "white",
           "zerolinewidth": 2
          }
         }
        }
       }
      }
     },
     "metadata": {},
     "output_type": "display_data"
    }
   ],
   "source": [
    "plot_fig(data)"
   ]
  },
  {
   "cell_type": "code",
   "execution_count": 24,
   "metadata": {},
   "outputs": [
    {
     "name": "stdout",
     "output_type": "stream",
     "text": [
      "0.03 min: Lags\n",
      "root\n",
      " |-- Store_names: string (nullable = true)\n",
      " |-- Reseller_City: string (nullable = true)\n",
      " |-- Super_Division: string (nullable = true)\n",
      " |-- Business_Unit: string (nullable = true)\n",
      " |-- ds: timestamp (nullable = true)\n",
      " |-- Rslr_Sales_Qunatity: integer (nullable = true)\n",
      " |-- Rslr Sales Amount: integer (nullable = true)\n",
      " |-- promos: double (nullable = true)\n",
      " |-- black_week: integer (nullable = true)\n",
      " |-- christmas: integer (nullable = true)\n",
      "\n"
     ]
    }
   ],
   "source": [
    "\n",
    "# spark = SparkSession.builder\\\n",
    "#         .appName('Surface_items_forecast') \\\n",
    "#         .master('local[*]') \\\n",
    "#         .config('spark.sql.execution.arrow.pyspark.enabled', True) \\\n",
    "#         .config('spark.sql.execution.arrow.enabled', True) \\\n",
    "#         .config('spark.sql.session.timeZone', 'UTC') \\\n",
    "#         .config('spark.executor.memory','16g') \\\n",
    "#         .config('spark.driver.memory','16g') \\\n",
    "#         .config(\"spark.driver.maxResultSize\", \"4g\") \\\n",
    "#         .getOrCreate()\n",
    "         #.config('spark.sql.repl.eagerEval.enabled', True) \\\n",
    "         #.config('spark.ui.showConsoleProgress', True) \\\n",
    "import time\n",
    "spark = SparkSession.builder\\\n",
    "        .appName('surface_monthly_forecast') \\\n",
    "        .master('local[*]') \\\n",
    "        .config('spark.sql.execution.arrow.pyspark.enabled', True) \\\n",
    "        .config('spark.sql.execution.arrow.enabled', True) \\\n",
    "        .getOrCreate()\n",
    "\n",
    "start_time = time.time()\n",
    "sdf = spark.createDataFrame(data)\n",
    "print('%0.2f min: Lags' % ((time.time() - start_time) / 60))\n",
    "sdf = sdf.withColumnRenamed('Sales Date', 'ds')\\\n",
    "        .withColumnRenamed('Super Division', 'Super_Division')\\\n",
    "        .withColumnRenamed('Rslr Sales Quantity', 'Rslr_Sales_Qunatity')\\\n",
    "        .withColumnRenamed('Reseller City', 'Reseller_City')\\\n",
    "        .withColumnRenamed('Business Unit', 'Business_Unit')\n",
    "\n",
    "sdf.printSchema()\n",
    "\n",
    "sdf.createOrReplaceTempView('sales')"
   ]
  },
  {
   "cell_type": "code",
   "execution_count": 25,
   "metadata": {},
   "outputs": [
    {
     "name": "stdout",
     "output_type": "stream",
     "text": [
      "== Physical Plan ==\n",
      "*(1) Project [Store_names#0, Reseller City#1 AS Reseller_City#53, Super Division#2 AS Super_Division#31, Business Unit#3 AS Business_Unit#64, Sales Date#4 AS ds#20, Rslr Sales Quantity#5 AS Rslr_Sales_Qunatity#42, Rslr Sales Amount#6, promos#7, black_week#8, christmas#9]\n",
      "+- *(1) Scan ExistingRDD arrow[Store_names#0,Reseller City#1,Super Division#2,Business Unit#3,Sales Date#4,Rslr Sales Quantity#5,Rslr Sales Amount#6,promos#7,black_week#8,christmas#9]\n",
      "\n",
      "\n"
     ]
    }
   ],
   "source": [
    "\n",
    "\n",
    "#spark.sql(\"select Store_names, Reseller_City,  Business_Unit, count(*) from sales group by Store_names, Reseller_City, Business_Unit order by Reseller_City, Business_Unit\").show()\n",
    "\n",
    "sql = 'SELECT Store_names, Reseller_City, Super_Division, Business_Unit, black_week, promos, christmas, ds, sum(Rslr_Sales_Qunatity) as y FROM sales GROUP BY Store_names, Reseller_City, Super_Division, Business_Unit, black_week, promos, christmas, ds ORDER BY Store_names, Reseller_City,  Super_Division,  Business_Unit, ds'\n",
    "\n",
    "sdf.explain()\n"
   ]
  },
  {
   "cell_type": "code",
   "execution_count": 26,
   "metadata": {},
   "outputs": [
    {
     "data": {
      "text/plain": [
       "8"
      ]
     },
     "execution_count": 26,
     "metadata": {},
     "output_type": "execute_result"
    }
   ],
   "source": [
    "sdf.rdd.getNumPartitions()"
   ]
  },
  {
   "cell_type": "code",
   "execution_count": 27,
   "metadata": {},
   "outputs": [
    {
     "name": "stdout",
     "output_type": "stream",
     "text": [
      "+--------------------+-------------+-----------------+--------+\n",
      "|         Store_names|Reseller_City|    Business_Unit|count(1)|\n",
      "+--------------------+-------------+-----------------+--------+\n",
      "|  Media Markt Aachen|       Aachen|     Surface Book|      63|\n",
      "|       Saturn Aachen|       Aachen|     Surface Book|      63|\n",
      "|  Media Markt Aachen|       Aachen|       Surface Go|      63|\n",
      "|       Saturn Aachen|       Aachen|       Surface Go|      63|\n",
      "|  Media Markt Aachen|       Aachen|   Surface Laptop|      63|\n",
      "|       Saturn Aachen|       Aachen|   Surface Laptop|      63|\n",
      "|  Media Markt Aachen|       Aachen|Surface Laptop Go|      63|\n",
      "|       Saturn Aachen|       Aachen|Surface Laptop Go|      63|\n",
      "|  Media Markt Aachen|       Aachen|      Surface Pro|      63|\n",
      "|       Saturn Aachen|       Aachen|      Surface Pro|      63|\n",
      "|   Media Markt Aalen|        Aalen|     Surface Book|      63|\n",
      "|   Media Markt Aalen|        Aalen|       Surface Go|      63|\n",
      "|   Media Markt Aalen|        Aalen|   Surface Laptop|      63|\n",
      "|   Media Markt Aalen|        Aalen|Surface Laptop Go|      63|\n",
      "|   Media Markt Aalen|        Aalen|      Surface Pro|      63|\n",
      "|Media Markt Berli...|  Ahrensfelde|     Surface Book|      63|\n",
      "|Media Markt Berli...|  Ahrensfelde|       Surface Go|      63|\n",
      "|Media Markt Berli...|  Ahrensfelde|   Surface Laptop|      63|\n",
      "|Media Markt Berli...|  Ahrensfelde|Surface Laptop Go|      63|\n",
      "|Media Markt Berli...|  Ahrensfelde|      Surface Pro|      63|\n",
      "+--------------------+-------------+-----------------+--------+\n",
      "only showing top 20 rows\n",
      "\n"
     ]
    }
   ],
   "source": [
    "spark.sql(\"select Store_names, Reseller_City,  Business_Unit, count(*) from sales group by Store_names, Reseller_City, Business_Unit order by Reseller_City, Business_Unit\").show()"
   ]
  },
  {
   "cell_type": "code",
   "execution_count": 28,
   "metadata": {},
   "outputs": [
    {
     "name": "stdout",
     "output_type": "stream",
     "text": [
      "+-------------------+-------------+--------------------+-------------+----------+------+---------+-------------------+---+\n",
      "|        Store_names|Reseller_City|      Super_Division|Business_Unit|black_week|promos|christmas|                 ds|  y|\n",
      "+-------------------+-------------+--------------------+-------------+----------+------+---------+-------------------+---+\n",
      "| Saturn Köln-Weiden|         Köln|EDG Managed - Sur...| Surface Book|         0|   0.0|        0|2017-01-31 00:00:00|  1|\n",
      "| Saturn Köln-Weiden|         Köln|EDG Managed - Sur...| Surface Book|         0|   0.0|        0|2017-02-28 00:00:00|  0|\n",
      "| Saturn Köln-Weiden|         Köln|EDG Managed - Sur...| Surface Book|         0|   0.0|        0|2017-03-31 00:00:00|  0|\n",
      "| Saturn Köln-Weiden|         Köln|EDG Managed - Sur...| Surface Book|         0|   0.0|        0|2017-04-30 00:00:00|  0|\n",
      "| Saturn Köln-Weiden|         Köln|EDG Managed - Sur...| Surface Book|         0|   0.0|        0|2017-05-31 00:00:00|  0|\n",
      "| Saturn Köln-Weiden|         Köln|EDG Managed - Sur...| Surface Book|         0|   0.0|        0|2017-06-30 00:00:00|  1|\n",
      "| Saturn Köln-Weiden|         Köln|EDG Managed - Sur...| Surface Book|         0|   0.0|        0|2017-07-31 00:00:00|  0|\n",
      "| Saturn Köln-Weiden|         Köln|EDG Managed - Sur...| Surface Book|         0|   0.0|        0|2017-08-31 00:00:00|  0|\n",
      "| Saturn Köln-Weiden|         Köln|EDG Managed - Sur...| Surface Book|         0|   0.0|        0|2017-09-30 00:00:00|  1|\n",
      "| Saturn Köln-Weiden|         Köln|EDG Managed - Sur...| Surface Book|         0|   0.0|        0|2017-10-31 00:00:00|  1|\n",
      "| Saturn Köln-Weiden|         Köln|EDG Managed - Sur...| Surface Book|         0|   0.0|        0|2017-11-30 00:00:00|  5|\n",
      "| Saturn Köln-Weiden|         Köln|EDG Managed - Sur...| Surface Book|         0|   0.0|        0|2017-12-31 00:00:00|  1|\n",
      "| Saturn Köln-Weiden|         Köln|EDG Managed - Sur...| Surface Book|         0|   0.0|        0|2018-01-31 00:00:00|  3|\n",
      "| Saturn Köln-Weiden|         Köln|EDG Managed - Sur...| Surface Book|         0|   0.0|        0|2018-02-28 00:00:00|  4|\n",
      "| Saturn Köln-Weiden|         Köln|EDG Managed - Sur...| Surface Book|         0|   1.0|        0|2018-03-31 00:00:00|  4|\n",
      "| Saturn Köln-Weiden|         Köln|EDG Managed - Sur...| Surface Book|         0|   1.0|        0|2018-04-30 00:00:00|  0|\n",
      "| Saturn Köln-Weiden|         Köln|EDG Managed - Sur...| Surface Book|         0|   1.0|        0|2018-05-31 00:00:00|  2|\n",
      "| Saturn Köln-Weiden|         Köln|EDG Managed - Sur...| Surface Book|         0|   1.0|        0|2018-06-30 00:00:00|  1|\n",
      "| Saturn Köln-Weiden|         Köln|EDG Managed - Sur...| Surface Book|         0|   0.0|        0|2018-07-31 00:00:00|  2|\n",
      "| Saturn Köln-Weiden|         Köln|EDG Managed - Sur...| Surface Book|         0|   0.0|        0|2018-08-31 00:00:00|  5|\n",
      "+-------------------+-------------+--------------------+-------------+----------+------+---------+-------------------+---+\n",
      "only showing top 20 rows\n",
      "\n",
      "== Physical Plan ==\n",
      "InMemoryTableScan [Store_names#0, Reseller_City#53, Super_Division#31, Business_Unit#64, black_week#8, promos#7, christmas#9, ds#20, y#151L]\n",
      "   +- InMemoryRelation [Store_names#0, Reseller_City#53, Super_Division#31, Business_Unit#64, black_week#8, promos#7, christmas#9, ds#20, y#151L], StorageLevel(disk, memory, deserialized, 1 replicas)\n",
      "         +- Exchange hashpartitioning(Store_names#0, Business_Unit#64, 8), REPARTITION_BY_NUM, [id=#140]\n",
      "            +- *(3) Sort [Store_names#0 ASC NULLS FIRST, Reseller_City#53 ASC NULLS FIRST, Super_Division#31 ASC NULLS FIRST, Business_Unit#64 ASC NULLS FIRST, ds#20 ASC NULLS FIRST], true, 0\n",
      "               +- Exchange rangepartitioning(Store_names#0 ASC NULLS FIRST, Reseller_City#53 ASC NULLS FIRST, Super_Division#31 ASC NULLS FIRST, Business_Unit#64 ASC NULLS FIRST, ds#20 ASC NULLS FIRST, 200), ENSURE_REQUIREMENTS, [id=#136]\n",
      "                  +- *(2) HashAggregate(keys=[Store_names#0, Reseller_City#53, Super_Division#31, Business_Unit#64, black_week#8, promos#7, christmas#9, ds#20], functions=[sum(Rslr_Sales_Qunatity#42)])\n",
      "                     +- Exchange hashpartitioning(Store_names#0, Reseller_City#53, Super_Division#31, Business_Unit#64, black_week#8, promos#7, christmas#9, ds#20, 200), ENSURE_REQUIREMENTS, [id=#132]\n",
      "                        +- *(1) HashAggregate(keys=[Store_names#0, Reseller_City#53, Super_Division#31, Business_Unit#64, black_week#8, knownfloatingpointnormalized(normalizenanandzero(promos#7)) AS promos#7, christmas#9, ds#20], functions=[partial_sum(Rslr_Sales_Qunatity#42)])\n",
      "                           +- *(1) Project [Store_names#0, Reseller City#1 AS Reseller_City#53, Super Division#2 AS Super_Division#31, Business Unit#3 AS Business_Unit#64, Sales Date#4 AS ds#20, Rslr Sales Quantity#5 AS Rslr_Sales_Qunatity#42, promos#7, black_week#8, christmas#9]\n",
      "                              +- *(1) Scan ExistingRDD arrow[Store_names#0,Reseller City#1,Super Division#2,Business Unit#3,Sales Date#4,Rslr Sales Quantity#5,Rslr Sales Amount#6,promos#7,black_week#8,christmas#9]\n",
      "\n",
      "\n"
     ]
    }
   ],
   "source": [
    "### make partitions of data based on number of cores in the local system\n",
    "#sdf.rdd.getNumPartitions()\n",
    "\n",
    "spark.sql(sql).show()\n",
    "\n",
    "store_part = (spark.sql(sql).repartition(spark.sparkContext.defaultParallelism, ['Store_names','Business_Unit'])).cache()\n",
    "store_part.explain()"
   ]
  },
  {
   "cell_type": "code",
   "execution_count": 29,
   "metadata": {},
   "outputs": [],
   "source": [
    "### make the resultant schema\n",
    "result_schema =StructType([\n",
    "    StructField('ds',TimestampType()),\n",
    "    StructField('Store_names',StringType()),\n",
    "    StructField('Reseller_City',StringType()),\n",
    "    StructField('Super_Division',StringType()),\n",
    "    StructField('Business_Unit',StringType()),\n",
    "    StructField('black_week',DoubleType()),\n",
    "    StructField('christmas',DoubleType()),\n",
    "    StructField('y',DoubleType()),\n",
    "    StructField('yhat',DoubleType()),\n",
    "    StructField('yhat_upper',DoubleType()),\n",
    "    StructField('yhat_lower',DoubleType())\n",
    "])"
   ]
  },
  {
   "cell_type": "code",
   "execution_count": 30,
   "metadata": {},
   "outputs": [],
   "source": [
    "### create the holiday dataframe \n",
    "\n",
    "lockdown1 = pd.date_range('2020-03-22', '2020-05-03', freq ='m').to_list()\n",
    "lockdown2 = pd.date_range('2020-12-13', '2021-03-07', freq ='m').to_list()\n",
    "lockdown = lockdown1+lockdown2\n",
    "\n",
    "\n",
    "lock_down = pd.DataFrame({\n",
    "    'holiday': 'lock_down',\n",
    "    'ds' : pd.to_datetime(lockdown)})\n"
   ]
  },
  {
   "cell_type": "code",
   "execution_count": 31,
   "metadata": {},
   "outputs": [],
   "source": [
    "##### city-wise prophet function \n",
    "@pandas_udf( result_schema, PandasUDFType.GROUPED_MAP )\n",
    "def forecast_sales( store_pd):\n",
    "    \n",
    "    model = Prophet(interval_width=0.95, holidays = lock_down)\n",
    "    model.add_country_holidays(country_name='DE')\n",
    "    model.add_regressor('black_week')\n",
    "    model.add_regressor('promos')\n",
    "    model.add_regressor('christmas')\n",
    "\n",
    "    black_week = dict(zip(store_pd['ds'], store_pd['black_week']))\n",
    "    christmas = dict(zip(store_pd['ds'], store_pd['christmas']))\n",
    "    promos_dates = store_pd.loc[store_pd['promos'] == 1]['ds'].unique()\n",
    "    train = store_pd[store_pd['ds']<='2022-02-28']\n",
    "    future_pd = store_pd[store_pd['ds']>'2022-02-28'].set_index('ds')\n",
    "\n",
    "    def conditions(data):\n",
    "        if data['ds'] in promos_dates:\n",
    "            return 1\n",
    "        else:\n",
    "            return 0\n",
    "\n",
    "    train['date_index'] = train['ds']\n",
    "    train['date_index'] = pd.to_datetime(train['date_index'])\n",
    "    train = train.set_index('date_index')\n",
    "\n",
    "    model.fit(train[['ds', 'y', 'black_week', 'promos', 'christmas']])\n",
    "    future = model.make_future_dataframe(periods=1, freq='m')\n",
    "    future['promos'] = future.apply(conditions, axis=1)\n",
    "    future['black_week'] = future['ds'].map(black_week)\n",
    "    future['christmas'] = future['ds'].map(christmas)\n",
    "\n",
    "    forecast_pd = model.predict(future[['ds', 'black_week', 'promos', 'christmas']])\n",
    "    f_pd = forecast_pd[['ds', 'yhat', 'yhat_upper', 'yhat_lower', 'black_week', 'christmas']].set_index('ds')\n",
    "\n",
    "    #forecast_pd = model.predict(future_pd[['ds', 'black_week', 'EOL_Promos']])  \n",
    "\n",
    "    #store_pd = store_pd.filter(store_pd['ds']<'2021-10-01 00:00:00')\n",
    "    st_pd = store_pd[[ 'ds', 'Store_names', 'Reseller_City', 'Super_Division', 'Business_Unit', 'y']].set_index('ds')\n",
    "    #st_pd = pd.concat([st_pd1, st_pd2])\n",
    "\n",
    "    results_pd = f_pd.join( st_pd, how='left' )\n",
    "    results_pd.reset_index(level=0, inplace=True)\n",
    "\n",
    "    #results_pd[['Reseller_City','Business_Unit']] = future_pd[['Reseller_City','Business_Unit']].iloc[0]\n",
    "    return results_pd[['ds', 'Store_names', 'Reseller_City', 'Super_Division', 'Business_Unit', 'black_week', 'christmas', 'y', 'yhat', 'yhat_upper', 'yhat_lower']]\n"
   ]
  },
  {
   "cell_type": "code",
   "execution_count": 32,
   "metadata": {},
   "outputs": [
    {
     "name": "stdout",
     "output_type": "stream",
     "text": [
      "0.00 min: Lags\n",
      "== Physical Plan ==\n",
      "InMemoryTableScan [ds#357, Store_names#358, Reseller_City#359, Super_Division#360, Business_Unit#361, black_week#362, christmas#363, y#364, yhat#365, yhat_upper#366, yhat_lower#367, training_date#379]\n",
      "   +- InMemoryRelation [ds#357, Store_names#358, Reseller_City#359, Super_Division#360, Business_Unit#361, black_week#362, christmas#363, y#364, yhat#365, yhat_upper#366, yhat_lower#367, training_date#379], StorageLevel(disk, memory, deserialized, 1 replicas)\n",
      "         +- *(2) Project [ds#357, Store_names#358, Reseller_City#359, Super_Division#360, Business_Unit#361, black_week#362, christmas#363, y#364, yhat#365, yhat_upper#366, yhat_lower#367, 2022-03-03 AS training_date#379]\n",
      "            +- FlatMapGroupsInPandas [Store_names#0, Business_Unit#64], forecast_sales(Store_names#0, Reseller_City#53, Super_Division#31, Business_Unit#64, black_week#8, promos#7, christmas#9, ds#20, y#151L), [ds#357, Store_names#358, Reseller_City#359, Super_Division#360, Business_Unit#361, black_week#362, christmas#363, y#364, yhat#365, yhat_upper#366, yhat_lower#367]\n",
      "               +- *(1) Sort [Store_names#0 ASC NULLS FIRST, Business_Unit#64 ASC NULLS FIRST], false, 0\n",
      "                  +- InMemoryTableScan [Store_names#0, Business_Unit#64, Store_names#0, Reseller_City#53, Super_Division#31, Business_Unit#64, black_week#8, promos#7, christmas#9, ds#20, y#151L]\n",
      "                        +- InMemoryRelation [Store_names#0, Reseller_City#53, Super_Division#31, Business_Unit#64, black_week#8, promos#7, christmas#9, ds#20, y#151L], StorageLevel(disk, memory, deserialized, 1 replicas)\n",
      "                              +- Exchange hashpartitioning(Store_names#0, Business_Unit#64, 8), REPARTITION_BY_NUM, [id=#140]\n",
      "                                 +- *(3) Sort [Store_names#0 ASC NULLS FIRST, Reseller_City#53 ASC NULLS FIRST, Super_Division#31 ASC NULLS FIRST, Business_Unit#64 ASC NULLS FIRST, ds#20 ASC NULLS FIRST], true, 0\n",
      "                                    +- Exchange rangepartitioning(Store_names#0 ASC NULLS FIRST, Reseller_City#53 ASC NULLS FIRST, Super_Division#31 ASC NULLS FIRST, Business_Unit#64 ASC NULLS FIRST, ds#20 ASC NULLS FIRST, 200), ENSURE_REQUIREMENTS, [id=#136]\n",
      "                                       +- *(2) HashAggregate(keys=[Store_names#0, Reseller_City#53, Super_Division#31, Business_Unit#64, black_week#8, promos#7, christmas#9, ds#20], functions=[sum(Rslr_Sales_Qunatity#42)])\n",
      "                                          +- Exchange hashpartitioning(Store_names#0, Reseller_City#53, Super_Division#31, Business_Unit#64, black_week#8, promos#7, christmas#9, ds#20, 200), ENSURE_REQUIREMENTS, [id=#132]\n",
      "                                             +- *(1) HashAggregate(keys=[Store_names#0, Reseller_City#53, Super_Division#31, Business_Unit#64, black_week#8, knownfloatingpointnormalized(normalizenanandzero(promos#7)) AS promos#7, christmas#9, ds#20], functions=[partial_sum(Rslr_Sales_Qunatity#42)])\n",
      "                                                +- *(1) Project [Store_names#0, Reseller City#1 AS Reseller_City#53, Super Division#2 AS Super_Division#31, Business Unit#3 AS Business_Unit#64, Sales Date#4 AS ds#20, Rslr Sales Quantity#5 AS Rslr_Sales_Qunatity#42, promos#7, black_week#8, christmas#9]\n",
      "                                                   +- *(1) Scan ExistingRDD arrow[Store_names#0,Reseller City#1,Super Division#2,Business Unit#3,Sales Date#4,Rslr Sales Quantity#5,Rslr Sales Amount#6,promos#7,black_week#8,christmas#9]\n",
      "\n",
      "\n"
     ]
    }
   ],
   "source": [
    "#### run the spark by city-wise\n",
    "import time\n",
    "results = (\n",
    "    store_part\n",
    "    .groupBy(['Store_names','Business_Unit'])\n",
    "    .apply(forecast_sales)\n",
    "    .withColumn('training_date', current_date() )\n",
    "    )\n",
    "\n",
    "### cache the results \n",
    "start_time = time.time()\n",
    "results.cache()\n",
    "print('%0.2f min: Lags' % ((time.time() - start_time) / 60))\n",
    "\n",
    "results.explain()\n",
    "results = results.coalesce(1)\n",
    "\n"
   ]
  },
  {
   "cell_type": "code",
   "execution_count": 33,
   "metadata": {},
   "outputs": [
    {
     "name": "stdout",
     "output_type": "stream",
     "text": [
      "255.52 min: Lags\n"
     ]
    }
   ],
   "source": [
    "### convert the result from sparkdataframe to panadas datafrme \n",
    "start_time = time.time()\n",
    "final_df = results.toPandas()\n",
    "\n",
    "print('%0.2f min: Lags' % ((time.time() - start_time) / 60))"
   ]
  },
  {
   "cell_type": "code",
   "execution_count": 34,
   "metadata": {},
   "outputs": [],
   "source": [
    "final_df['yhat'] = np.where(final_df['yhat']<0, 0, final_df['yhat'])\n",
    "final_df['yhat_upper'] = np.where(final_df['yhat_upper']<0, 0, final_df['yhat_upper'])\n",
    "final_df['yhat_lower'] = np.where(final_df['yhat_lower']<0, 0, final_df['yhat_lower'])"
   ]
  },
  {
   "cell_type": "code",
   "execution_count": 35,
   "metadata": {},
   "outputs": [],
   "source": [
    "test_results = final_df.loc[final_df['ds']>='2022-02-28']"
   ]
  },
  {
   "cell_type": "code",
   "execution_count": 48,
   "metadata": {},
   "outputs": [
    {
     "data": {
      "text/html": [
       "<div>\n",
       "<style scoped>\n",
       "    .dataframe tbody tr th:only-of-type {\n",
       "        vertical-align: middle;\n",
       "    }\n",
       "\n",
       "    .dataframe tbody tr th {\n",
       "        vertical-align: top;\n",
       "    }\n",
       "\n",
       "    .dataframe thead th {\n",
       "        text-align: right;\n",
       "    }\n",
       "</style>\n",
       "<table border=\"1\" class=\"dataframe\">\n",
       "  <thead>\n",
       "    <tr style=\"text-align: right;\">\n",
       "      <th></th>\n",
       "      <th>ds</th>\n",
       "      <th>Store_names</th>\n",
       "      <th>Reseller_City</th>\n",
       "      <th>Super_Division</th>\n",
       "      <th>Business_Unit</th>\n",
       "      <th>black_week</th>\n",
       "      <th>christmas</th>\n",
       "      <th>y</th>\n",
       "      <th>yhat</th>\n",
       "      <th>yhat_upper</th>\n",
       "      <th>yhat_lower</th>\n",
       "      <th>training_date</th>\n",
       "    </tr>\n",
       "  </thead>\n",
       "  <tbody>\n",
       "    <tr>\n",
       "      <th>61</th>\n",
       "      <td>2022-02-28</td>\n",
       "      <td>MM Stade</td>\n",
       "      <td>Stade</td>\n",
       "      <td>EDG Managed - Surface Devices</td>\n",
       "      <td>Surface Pro</td>\n",
       "      <td>-0.152781</td>\n",
       "      <td>0.0</td>\n",
       "      <td>2.0</td>\n",
       "      <td>2.125792</td>\n",
       "      <td>4.466513</td>\n",
       "      <td>0.000000</td>\n",
       "      <td>2022-03-03</td>\n",
       "    </tr>\n",
       "    <tr>\n",
       "      <th>62</th>\n",
       "      <td>2022-03-31</td>\n",
       "      <td>MM Stade</td>\n",
       "      <td>Stade</td>\n",
       "      <td>EDG Managed - Surface Devices</td>\n",
       "      <td>Surface Pro</td>\n",
       "      <td>-0.152781</td>\n",
       "      <td>0.0</td>\n",
       "      <td>0.0</td>\n",
       "      <td>2.384950</td>\n",
       "      <td>4.710005</td>\n",
       "      <td>0.206817</td>\n",
       "      <td>2022-03-03</td>\n",
       "    </tr>\n",
       "    <tr>\n",
       "      <th>124</th>\n",
       "      <td>2022-02-28</td>\n",
       "      <td>Media Markt Aachen</td>\n",
       "      <td>Aachen</td>\n",
       "      <td>EDG Managed - Surface Devices</td>\n",
       "      <td>Surface Book</td>\n",
       "      <td>0.000000</td>\n",
       "      <td>0.0</td>\n",
       "      <td>1.0</td>\n",
       "      <td>0.353104</td>\n",
       "      <td>2.526093</td>\n",
       "      <td>0.000000</td>\n",
       "      <td>2022-03-03</td>\n",
       "    </tr>\n",
       "    <tr>\n",
       "      <th>125</th>\n",
       "      <td>2022-03-31</td>\n",
       "      <td>Media Markt Aachen</td>\n",
       "      <td>Aachen</td>\n",
       "      <td>EDG Managed - Surface Devices</td>\n",
       "      <td>Surface Book</td>\n",
       "      <td>0.000000</td>\n",
       "      <td>0.0</td>\n",
       "      <td>0.0</td>\n",
       "      <td>0.665352</td>\n",
       "      <td>2.700862</td>\n",
       "      <td>0.000000</td>\n",
       "      <td>2022-03-03</td>\n",
       "    </tr>\n",
       "    <tr>\n",
       "      <th>187</th>\n",
       "      <td>2022-02-28</td>\n",
       "      <td>Media Markt Albstadt</td>\n",
       "      <td>Albstadt</td>\n",
       "      <td>EDG Managed - Surface Devices</td>\n",
       "      <td>Surface Laptop</td>\n",
       "      <td>0.000000</td>\n",
       "      <td>0.0</td>\n",
       "      <td>1.0</td>\n",
       "      <td>0.000000</td>\n",
       "      <td>0.936872</td>\n",
       "      <td>0.000000</td>\n",
       "      <td>2022-03-03</td>\n",
       "    </tr>\n",
       "    <tr>\n",
       "      <th>...</th>\n",
       "      <td>...</td>\n",
       "      <td>...</td>\n",
       "      <td>...</td>\n",
       "      <td>...</td>\n",
       "      <td>...</td>\n",
       "      <td>...</td>\n",
       "      <td>...</td>\n",
       "      <td>...</td>\n",
       "      <td>...</td>\n",
       "      <td>...</td>\n",
       "      <td>...</td>\n",
       "      <td>...</td>\n",
       "    </tr>\n",
       "    <tr>\n",
       "      <th>123676</th>\n",
       "      <td>2022-03-31</td>\n",
       "      <td>Saturn Witten</td>\n",
       "      <td>Witten</td>\n",
       "      <td>EDG Managed - Surface Devices</td>\n",
       "      <td>Surface Laptop</td>\n",
       "      <td>0.000000</td>\n",
       "      <td>0.0</td>\n",
       "      <td>0.0</td>\n",
       "      <td>0.000000</td>\n",
       "      <td>1.056126</td>\n",
       "      <td>0.000000</td>\n",
       "      <td>2022-03-03</td>\n",
       "    </tr>\n",
       "    <tr>\n",
       "      <th>123738</th>\n",
       "      <td>2022-02-28</td>\n",
       "      <td>Saturn Wolfsburg City Galerie</td>\n",
       "      <td>Wolfsburg</td>\n",
       "      <td>EDG Managed - Surface Devices</td>\n",
       "      <td>Surface Laptop</td>\n",
       "      <td>0.000000</td>\n",
       "      <td>0.0</td>\n",
       "      <td>0.0</td>\n",
       "      <td>0.363960</td>\n",
       "      <td>1.239205</td>\n",
       "      <td>0.000000</td>\n",
       "      <td>2022-03-03</td>\n",
       "    </tr>\n",
       "    <tr>\n",
       "      <th>123739</th>\n",
       "      <td>2022-03-31</td>\n",
       "      <td>Saturn Wolfsburg City Galerie</td>\n",
       "      <td>Wolfsburg</td>\n",
       "      <td>EDG Managed - Surface Devices</td>\n",
       "      <td>Surface Laptop</td>\n",
       "      <td>0.000000</td>\n",
       "      <td>0.0</td>\n",
       "      <td>0.0</td>\n",
       "      <td>1.201395</td>\n",
       "      <td>2.171464</td>\n",
       "      <td>0.251437</td>\n",
       "      <td>2022-03-03</td>\n",
       "    </tr>\n",
       "    <tr>\n",
       "      <th>123801</th>\n",
       "      <td>2022-02-28</td>\n",
       "      <td>Saturn Wuppertal-Elberfeld</td>\n",
       "      <td>Wuppertal</td>\n",
       "      <td>EDG Managed - Surface Devices</td>\n",
       "      <td>Surface Pro</td>\n",
       "      <td>-0.542467</td>\n",
       "      <td>0.0</td>\n",
       "      <td>8.0</td>\n",
       "      <td>5.587787</td>\n",
       "      <td>13.324839</td>\n",
       "      <td>0.000000</td>\n",
       "      <td>2022-03-03</td>\n",
       "    </tr>\n",
       "    <tr>\n",
       "      <th>123802</th>\n",
       "      <td>2022-03-31</td>\n",
       "      <td>Saturn Wuppertal-Elberfeld</td>\n",
       "      <td>Wuppertal</td>\n",
       "      <td>EDG Managed - Surface Devices</td>\n",
       "      <td>Surface Pro</td>\n",
       "      <td>-0.542467</td>\n",
       "      <td>0.0</td>\n",
       "      <td>0.0</td>\n",
       "      <td>6.552256</td>\n",
       "      <td>14.792518</td>\n",
       "      <td>0.000000</td>\n",
       "      <td>2022-03-03</td>\n",
       "    </tr>\n",
       "  </tbody>\n",
       "</table>\n",
       "<p>3930 rows × 12 columns</p>\n",
       "</div>"
      ],
      "text/plain": [
       "               ds                    Store_names Reseller_City  \\\n",
       "61     2022-02-28                       MM Stade         Stade   \n",
       "62     2022-03-31                       MM Stade         Stade   \n",
       "124    2022-02-28             Media Markt Aachen        Aachen   \n",
       "125    2022-03-31             Media Markt Aachen        Aachen   \n",
       "187    2022-02-28           Media Markt Albstadt      Albstadt   \n",
       "...           ...                            ...           ...   \n",
       "123676 2022-03-31                  Saturn Witten        Witten   \n",
       "123738 2022-02-28  Saturn Wolfsburg City Galerie     Wolfsburg   \n",
       "123739 2022-03-31  Saturn Wolfsburg City Galerie     Wolfsburg   \n",
       "123801 2022-02-28     Saturn Wuppertal-Elberfeld     Wuppertal   \n",
       "123802 2022-03-31     Saturn Wuppertal-Elberfeld     Wuppertal   \n",
       "\n",
       "                       Super_Division   Business_Unit  black_week  christmas  \\\n",
       "61      EDG Managed - Surface Devices     Surface Pro   -0.152781        0.0   \n",
       "62      EDG Managed - Surface Devices     Surface Pro   -0.152781        0.0   \n",
       "124     EDG Managed - Surface Devices    Surface Book    0.000000        0.0   \n",
       "125     EDG Managed - Surface Devices    Surface Book    0.000000        0.0   \n",
       "187     EDG Managed - Surface Devices  Surface Laptop    0.000000        0.0   \n",
       "...                               ...             ...         ...        ...   \n",
       "123676  EDG Managed - Surface Devices  Surface Laptop    0.000000        0.0   \n",
       "123738  EDG Managed - Surface Devices  Surface Laptop    0.000000        0.0   \n",
       "123739  EDG Managed - Surface Devices  Surface Laptop    0.000000        0.0   \n",
       "123801  EDG Managed - Surface Devices     Surface Pro   -0.542467        0.0   \n",
       "123802  EDG Managed - Surface Devices     Surface Pro   -0.542467        0.0   \n",
       "\n",
       "          y      yhat  yhat_upper  yhat_lower training_date  \n",
       "61      2.0  2.125792    4.466513    0.000000    2022-03-03  \n",
       "62      0.0  2.384950    4.710005    0.206817    2022-03-03  \n",
       "124     1.0  0.353104    2.526093    0.000000    2022-03-03  \n",
       "125     0.0  0.665352    2.700862    0.000000    2022-03-03  \n",
       "187     1.0  0.000000    0.936872    0.000000    2022-03-03  \n",
       "...     ...       ...         ...         ...           ...  \n",
       "123676  0.0  0.000000    1.056126    0.000000    2022-03-03  \n",
       "123738  0.0  0.363960    1.239205    0.000000    2022-03-03  \n",
       "123739  0.0  1.201395    2.171464    0.251437    2022-03-03  \n",
       "123801  8.0  5.587787   13.324839    0.000000    2022-03-03  \n",
       "123802  0.0  6.552256   14.792518    0.000000    2022-03-03  \n",
       "\n",
       "[3930 rows x 12 columns]"
      ]
     },
     "execution_count": 48,
     "metadata": {},
     "output_type": "execute_result"
    }
   ],
   "source": [
    "test_results"
   ]
  },
  {
   "cell_type": "code",
   "execution_count": 37,
   "metadata": {},
   "outputs": [
    {
     "name": "stdout",
     "output_type": "stream",
     "text": [
      "Root Mean Absolute Error_store: 1.3822127507965942\n"
     ]
    }
   ],
   "source": [
    "from sklearn.metrics import mean_absolute_error\n",
    "rmse_pred = mean_absolute_error(test_results['y'], test_results['yhat'])\n",
    "    \n",
    "print(\"Root Mean Absolute Error_store:\" , np.sqrt(rmse_pred))"
   ]
  },
  {
   "cell_type": "code",
   "execution_count": 38,
   "metadata": {},
   "outputs": [
    {
     "name": "stdout",
     "output_type": "stream",
     "text": [
      "Normalize RMSE: 0.006170592637484796\n"
     ]
    }
   ],
   "source": [
    "normalize_rmse = np.sqrt(rmse_pred)/(test_results['y'].max()-test_results['y'].min())\n",
    "print(\"Normalize RMSE:\" , normalize_rmse)"
   ]
  },
  {
   "cell_type": "code",
   "execution_count": 39,
   "metadata": {},
   "outputs": [],
   "source": [
    "stores=final_df['Store_names'].unique()\n",
    "stores = final_df['Store_names'].unique()\n",
    "product=final_df['Business_Unit'].unique()"
   ]
  },
  {
   "cell_type": "code",
   "execution_count": 40,
   "metadata": {},
   "outputs": [],
   "source": [
    "import plotly.graph_objs as go\n",
    "def plot_fig(df, store, item):\n",
    "    fig = go.Figure()\n",
    "    # Create and style traces\n",
    "    forecast = df.loc[df['Store_names'] == store]\n",
    "    print(store, item)\n",
    "    forecast = forecast.loc[forecast['Business_Unit'] == item]\n",
    "    fig.add_trace(go.Scatter(x=forecast['ds'], y=forecast['y'], name='Actual',))\n",
    "    fig.add_trace(go.Scatter(x=forecast['ds'], y=forecast['yhat'], name='Predicted',))\n",
    "    #fig.add_trace(go.Scatter(x=forecast['ds'], y=forecast['yhat_lower'], name='lowelimit',))\n",
    "    fig.add_trace(go.Scatter(x=forecast['ds'], y=forecast['yhat_upper'], name='upperlimit',))\n",
    "    #fig.add_trace(go.Scatter(x=forecast['ds'], y=forecast['promos'], name='promos',))\n",
    "    fig.show()"
   ]
  },
  {
   "cell_type": "code",
   "execution_count": 51,
   "metadata": {},
   "outputs": [
    {
     "name": "stdout",
     "output_type": "stream",
     "text": [
      "Media Markt Rostock-Sievershagen Surface Pro\n"
     ]
    },
    {
     "data": {
      "application/vnd.plotly.v1+json": {
       "config": {
        "plotlyServerURL": "https://plot.ly"
       },
       "data": [
        {
         "name": "Actual",
         "type": "scatter",
         "x": [
          "2017-01-31T00:00:00",
          "2017-02-28T00:00:00",
          "2017-03-31T00:00:00",
          "2017-04-30T00:00:00",
          "2017-05-31T00:00:00",
          "2017-06-30T00:00:00",
          "2017-07-31T00:00:00",
          "2017-08-31T00:00:00",
          "2017-09-30T00:00:00",
          "2017-10-31T00:00:00",
          "2017-11-30T00:00:00",
          "2017-12-31T00:00:00",
          "2018-01-31T00:00:00",
          "2018-02-28T00:00:00",
          "2018-03-31T00:00:00",
          "2018-04-30T00:00:00",
          "2018-05-31T00:00:00",
          "2018-06-30T00:00:00",
          "2018-07-31T00:00:00",
          "2018-08-31T00:00:00",
          "2018-09-30T00:00:00",
          "2018-10-31T00:00:00",
          "2018-11-30T00:00:00",
          "2018-12-31T00:00:00",
          "2019-01-31T00:00:00",
          "2019-02-28T00:00:00",
          "2019-03-31T00:00:00",
          "2019-04-30T00:00:00",
          "2019-05-31T00:00:00",
          "2019-06-30T00:00:00",
          "2019-07-31T00:00:00",
          "2019-08-31T00:00:00",
          "2019-09-30T00:00:00",
          "2019-10-31T00:00:00",
          "2019-11-30T00:00:00",
          "2019-12-31T00:00:00",
          "2020-01-31T00:00:00",
          "2020-02-29T00:00:00",
          "2020-03-31T00:00:00",
          "2020-04-30T00:00:00",
          "2020-05-31T00:00:00",
          "2020-06-30T00:00:00",
          "2020-07-31T00:00:00",
          "2020-08-31T00:00:00",
          "2020-09-30T00:00:00",
          "2020-10-31T00:00:00",
          "2020-11-30T00:00:00",
          "2020-12-31T00:00:00",
          "2021-01-31T00:00:00",
          "2021-02-28T00:00:00",
          "2021-03-31T00:00:00",
          "2021-04-30T00:00:00",
          "2021-05-31T00:00:00",
          "2021-06-30T00:00:00",
          "2021-07-31T00:00:00",
          "2021-08-31T00:00:00",
          "2021-09-30T00:00:00",
          "2021-10-31T00:00:00",
          "2021-11-30T00:00:00",
          "2021-12-31T00:00:00",
          "2022-01-31T00:00:00",
          "2022-02-28T00:00:00",
          "2022-03-31T00:00:00"
         ],
         "y": [
          6,
          1,
          3,
          1,
          4,
          3,
          1,
          1,
          3,
          4,
          1,
          1,
          6,
          1,
          2,
          1,
          1,
          1,
          0,
          0,
          5,
          3,
          4,
          4,
          2,
          1,
          5,
          3,
          5,
          1,
          0,
          0,
          3,
          4,
          6,
          3,
          3,
          9,
          0,
          2,
          5,
          5,
          4,
          7,
          2,
          5,
          9,
          6,
          1,
          2,
          3,
          0,
          2,
          3,
          2,
          2,
          2,
          8,
          2,
          0,
          5,
          1,
          0
         ]
        },
        {
         "name": "Predicted",
         "type": "scatter",
         "x": [
          "2017-01-31T00:00:00",
          "2017-02-28T00:00:00",
          "2017-03-31T00:00:00",
          "2017-04-30T00:00:00",
          "2017-05-31T00:00:00",
          "2017-06-30T00:00:00",
          "2017-07-31T00:00:00",
          "2017-08-31T00:00:00",
          "2017-09-30T00:00:00",
          "2017-10-31T00:00:00",
          "2017-11-30T00:00:00",
          "2017-12-31T00:00:00",
          "2018-01-31T00:00:00",
          "2018-02-28T00:00:00",
          "2018-03-31T00:00:00",
          "2018-04-30T00:00:00",
          "2018-05-31T00:00:00",
          "2018-06-30T00:00:00",
          "2018-07-31T00:00:00",
          "2018-08-31T00:00:00",
          "2018-09-30T00:00:00",
          "2018-10-31T00:00:00",
          "2018-11-30T00:00:00",
          "2018-12-31T00:00:00",
          "2019-01-31T00:00:00",
          "2019-02-28T00:00:00",
          "2019-03-31T00:00:00",
          "2019-04-30T00:00:00",
          "2019-05-31T00:00:00",
          "2019-06-30T00:00:00",
          "2019-07-31T00:00:00",
          "2019-08-31T00:00:00",
          "2019-09-30T00:00:00",
          "2019-10-31T00:00:00",
          "2019-11-30T00:00:00",
          "2019-12-31T00:00:00",
          "2020-01-31T00:00:00",
          "2020-02-29T00:00:00",
          "2020-03-31T00:00:00",
          "2020-04-30T00:00:00",
          "2020-05-31T00:00:00",
          "2020-06-30T00:00:00",
          "2020-07-31T00:00:00",
          "2020-08-31T00:00:00",
          "2020-09-30T00:00:00",
          "2020-10-31T00:00:00",
          "2020-11-30T00:00:00",
          "2020-12-31T00:00:00",
          "2021-01-31T00:00:00",
          "2021-02-28T00:00:00",
          "2021-03-31T00:00:00",
          "2021-04-30T00:00:00",
          "2021-05-31T00:00:00",
          "2021-06-30T00:00:00",
          "2021-07-31T00:00:00",
          "2021-08-31T00:00:00",
          "2021-09-30T00:00:00",
          "2021-10-31T00:00:00",
          "2021-11-30T00:00:00",
          "2021-12-31T00:00:00",
          "2022-01-31T00:00:00",
          "2022-02-28T00:00:00",
          "2022-03-31T00:00:00"
         ],
         "y": [
          3.7583181972506803,
          3.190200284730137,
          1.7507124027251892,
          0.8489820422948338,
          3.0011064118358104,
          2.7294895107453607,
          1.2863681887774854,
          2.270208161494426,
          2.2390688509204413,
          3.9968527360815287,
          1.5203916662320411,
          2.553943615493295,
          3.711934185126859,
          1.2360600815070493,
          3.1926048135870095,
          1.9237631881014512,
          3.306900351300492,
          1.8669653099689216,
          1.0012718389193058,
          1.1606962732695318,
          3.726467940236574,
          4.754185347146465,
          2.662465841872915,
          2.7421287826870393,
          3.633770329831788,
          0,
          5.340307902839919,
          2.6587864140137674,
          4.236727470502869,
          1.6378427480171867,
          0.38295265793430966,
          0,
          4.909725594618387,
          4.472376236371124,
          7.151385683305043,
          2.5721894567456025,
          3.196349283822718,
          5.563647938399028,
          0.21233943884801265,
          0,
          2.717836787088272,
          3.6222307640541596,
          2.276376781644892,
          4.118982739847704,
          1.4882578184085662,
          5.375477666934711,
          8.450122497177365,
          2.845963171581236,
          4.268222179510385,
          3.700130982225896,
          2.462251912541489,
          1.5605501757864164,
          3.7127041231478546,
          3.112824708535388,
          1.998024101523468,
          2.6536025147322677,
          2.6224918276823708,
          5.420259335270211,
          2.2321639816200163,
          3.2657455085775364,
          4.423765655913658,
          1.9479182674074011,
          4.232783714128717
         ]
        },
        {
         "name": "upperlimit",
         "type": "scatter",
         "x": [
          "2017-01-31T00:00:00",
          "2017-02-28T00:00:00",
          "2017-03-31T00:00:00",
          "2017-04-30T00:00:00",
          "2017-05-31T00:00:00",
          "2017-06-30T00:00:00",
          "2017-07-31T00:00:00",
          "2017-08-31T00:00:00",
          "2017-09-30T00:00:00",
          "2017-10-31T00:00:00",
          "2017-11-30T00:00:00",
          "2017-12-31T00:00:00",
          "2018-01-31T00:00:00",
          "2018-02-28T00:00:00",
          "2018-03-31T00:00:00",
          "2018-04-30T00:00:00",
          "2018-05-31T00:00:00",
          "2018-06-30T00:00:00",
          "2018-07-31T00:00:00",
          "2018-08-31T00:00:00",
          "2018-09-30T00:00:00",
          "2018-10-31T00:00:00",
          "2018-11-30T00:00:00",
          "2018-12-31T00:00:00",
          "2019-01-31T00:00:00",
          "2019-02-28T00:00:00",
          "2019-03-31T00:00:00",
          "2019-04-30T00:00:00",
          "2019-05-31T00:00:00",
          "2019-06-30T00:00:00",
          "2019-07-31T00:00:00",
          "2019-08-31T00:00:00",
          "2019-09-30T00:00:00",
          "2019-10-31T00:00:00",
          "2019-11-30T00:00:00",
          "2019-12-31T00:00:00",
          "2020-01-31T00:00:00",
          "2020-02-29T00:00:00",
          "2020-03-31T00:00:00",
          "2020-04-30T00:00:00",
          "2020-05-31T00:00:00",
          "2020-06-30T00:00:00",
          "2020-07-31T00:00:00",
          "2020-08-31T00:00:00",
          "2020-09-30T00:00:00",
          "2020-10-31T00:00:00",
          "2020-11-30T00:00:00",
          "2020-12-31T00:00:00",
          "2021-01-31T00:00:00",
          "2021-02-28T00:00:00",
          "2021-03-31T00:00:00",
          "2021-04-30T00:00:00",
          "2021-05-31T00:00:00",
          "2021-06-30T00:00:00",
          "2021-07-31T00:00:00",
          "2021-08-31T00:00:00",
          "2021-09-30T00:00:00",
          "2021-10-31T00:00:00",
          "2021-11-30T00:00:00",
          "2021-12-31T00:00:00",
          "2022-01-31T00:00:00",
          "2022-02-28T00:00:00",
          "2022-03-31T00:00:00"
         ],
         "y": [
          6.522091042431233,
          6.027863814609628,
          4.907210622242658,
          4.013594786617047,
          5.715908344320776,
          5.547647865280546,
          4.2191146901114465,
          5.2740737151841,
          4.980640578125509,
          6.884170413456289,
          4.593894385809786,
          5.526641210485963,
          6.758003796872442,
          3.97370950286707,
          6.013515283739911,
          4.735366219538411,
          6.099739862923034,
          4.796110397294345,
          3.9119789785171273,
          4.020971113809462,
          6.693992250399525,
          7.542249176018106,
          5.647133292040625,
          5.553642410447649,
          6.712267674992828,
          2.311354739668504,
          8.586094442643777,
          5.655956225107305,
          7.063561003031581,
          4.503472503968026,
          3.251810329373532,
          2.6435917284180808,
          7.674410240409201,
          7.382998879824662,
          9.999596450444132,
          5.726760505051281,
          5.852006982567837,
          8.686326875337262,
          3.275659284335276,
          2.7576540970027854,
          5.595429197245312,
          6.604896396396216,
          5.101341330272432,
          7.102326330032764,
          4.587588441167581,
          8.355428727088771,
          11.366648706689643,
          5.694825144062726,
          7.137759936759064,
          6.767776796330931,
          5.371631031576294,
          4.355971940694084,
          6.578411946469526,
          5.985832111422982,
          5.000327788325569,
          5.59592180783294,
          5.441814255156987,
          7.947021820366301,
          5.464589413049915,
          6.113339670801169,
          7.470882525090084,
          5.142093396853519,
          7.167042534607962
         ]
        }
       ],
       "layout": {
        "template": {
         "data": {
          "bar": [
           {
            "error_x": {
             "color": "#2a3f5f"
            },
            "error_y": {
             "color": "#2a3f5f"
            },
            "marker": {
             "line": {
              "color": "#E5ECF6",
              "width": 0.5
             },
             "pattern": {
              "fillmode": "overlay",
              "size": 10,
              "solidity": 0.2
             }
            },
            "type": "bar"
           }
          ],
          "barpolar": [
           {
            "marker": {
             "line": {
              "color": "#E5ECF6",
              "width": 0.5
             },
             "pattern": {
              "fillmode": "overlay",
              "size": 10,
              "solidity": 0.2
             }
            },
            "type": "barpolar"
           }
          ],
          "carpet": [
           {
            "aaxis": {
             "endlinecolor": "#2a3f5f",
             "gridcolor": "white",
             "linecolor": "white",
             "minorgridcolor": "white",
             "startlinecolor": "#2a3f5f"
            },
            "baxis": {
             "endlinecolor": "#2a3f5f",
             "gridcolor": "white",
             "linecolor": "white",
             "minorgridcolor": "white",
             "startlinecolor": "#2a3f5f"
            },
            "type": "carpet"
           }
          ],
          "choropleth": [
           {
            "colorbar": {
             "outlinewidth": 0,
             "ticks": ""
            },
            "type": "choropleth"
           }
          ],
          "contour": [
           {
            "colorbar": {
             "outlinewidth": 0,
             "ticks": ""
            },
            "colorscale": [
             [
              0,
              "#0d0887"
             ],
             [
              0.1111111111111111,
              "#46039f"
             ],
             [
              0.2222222222222222,
              "#7201a8"
             ],
             [
              0.3333333333333333,
              "#9c179e"
             ],
             [
              0.4444444444444444,
              "#bd3786"
             ],
             [
              0.5555555555555556,
              "#d8576b"
             ],
             [
              0.6666666666666666,
              "#ed7953"
             ],
             [
              0.7777777777777778,
              "#fb9f3a"
             ],
             [
              0.8888888888888888,
              "#fdca26"
             ],
             [
              1,
              "#f0f921"
             ]
            ],
            "type": "contour"
           }
          ],
          "contourcarpet": [
           {
            "colorbar": {
             "outlinewidth": 0,
             "ticks": ""
            },
            "type": "contourcarpet"
           }
          ],
          "heatmap": [
           {
            "colorbar": {
             "outlinewidth": 0,
             "ticks": ""
            },
            "colorscale": [
             [
              0,
              "#0d0887"
             ],
             [
              0.1111111111111111,
              "#46039f"
             ],
             [
              0.2222222222222222,
              "#7201a8"
             ],
             [
              0.3333333333333333,
              "#9c179e"
             ],
             [
              0.4444444444444444,
              "#bd3786"
             ],
             [
              0.5555555555555556,
              "#d8576b"
             ],
             [
              0.6666666666666666,
              "#ed7953"
             ],
             [
              0.7777777777777778,
              "#fb9f3a"
             ],
             [
              0.8888888888888888,
              "#fdca26"
             ],
             [
              1,
              "#f0f921"
             ]
            ],
            "type": "heatmap"
           }
          ],
          "heatmapgl": [
           {
            "colorbar": {
             "outlinewidth": 0,
             "ticks": ""
            },
            "colorscale": [
             [
              0,
              "#0d0887"
             ],
             [
              0.1111111111111111,
              "#46039f"
             ],
             [
              0.2222222222222222,
              "#7201a8"
             ],
             [
              0.3333333333333333,
              "#9c179e"
             ],
             [
              0.4444444444444444,
              "#bd3786"
             ],
             [
              0.5555555555555556,
              "#d8576b"
             ],
             [
              0.6666666666666666,
              "#ed7953"
             ],
             [
              0.7777777777777778,
              "#fb9f3a"
             ],
             [
              0.8888888888888888,
              "#fdca26"
             ],
             [
              1,
              "#f0f921"
             ]
            ],
            "type": "heatmapgl"
           }
          ],
          "histogram": [
           {
            "marker": {
             "pattern": {
              "fillmode": "overlay",
              "size": 10,
              "solidity": 0.2
             }
            },
            "type": "histogram"
           }
          ],
          "histogram2d": [
           {
            "colorbar": {
             "outlinewidth": 0,
             "ticks": ""
            },
            "colorscale": [
             [
              0,
              "#0d0887"
             ],
             [
              0.1111111111111111,
              "#46039f"
             ],
             [
              0.2222222222222222,
              "#7201a8"
             ],
             [
              0.3333333333333333,
              "#9c179e"
             ],
             [
              0.4444444444444444,
              "#bd3786"
             ],
             [
              0.5555555555555556,
              "#d8576b"
             ],
             [
              0.6666666666666666,
              "#ed7953"
             ],
             [
              0.7777777777777778,
              "#fb9f3a"
             ],
             [
              0.8888888888888888,
              "#fdca26"
             ],
             [
              1,
              "#f0f921"
             ]
            ],
            "type": "histogram2d"
           }
          ],
          "histogram2dcontour": [
           {
            "colorbar": {
             "outlinewidth": 0,
             "ticks": ""
            },
            "colorscale": [
             [
              0,
              "#0d0887"
             ],
             [
              0.1111111111111111,
              "#46039f"
             ],
             [
              0.2222222222222222,
              "#7201a8"
             ],
             [
              0.3333333333333333,
              "#9c179e"
             ],
             [
              0.4444444444444444,
              "#bd3786"
             ],
             [
              0.5555555555555556,
              "#d8576b"
             ],
             [
              0.6666666666666666,
              "#ed7953"
             ],
             [
              0.7777777777777778,
              "#fb9f3a"
             ],
             [
              0.8888888888888888,
              "#fdca26"
             ],
             [
              1,
              "#f0f921"
             ]
            ],
            "type": "histogram2dcontour"
           }
          ],
          "mesh3d": [
           {
            "colorbar": {
             "outlinewidth": 0,
             "ticks": ""
            },
            "type": "mesh3d"
           }
          ],
          "parcoords": [
           {
            "line": {
             "colorbar": {
              "outlinewidth": 0,
              "ticks": ""
             }
            },
            "type": "parcoords"
           }
          ],
          "pie": [
           {
            "automargin": true,
            "type": "pie"
           }
          ],
          "scatter": [
           {
            "marker": {
             "colorbar": {
              "outlinewidth": 0,
              "ticks": ""
             }
            },
            "type": "scatter"
           }
          ],
          "scatter3d": [
           {
            "line": {
             "colorbar": {
              "outlinewidth": 0,
              "ticks": ""
             }
            },
            "marker": {
             "colorbar": {
              "outlinewidth": 0,
              "ticks": ""
             }
            },
            "type": "scatter3d"
           }
          ],
          "scattercarpet": [
           {
            "marker": {
             "colorbar": {
              "outlinewidth": 0,
              "ticks": ""
             }
            },
            "type": "scattercarpet"
           }
          ],
          "scattergeo": [
           {
            "marker": {
             "colorbar": {
              "outlinewidth": 0,
              "ticks": ""
             }
            },
            "type": "scattergeo"
           }
          ],
          "scattergl": [
           {
            "marker": {
             "colorbar": {
              "outlinewidth": 0,
              "ticks": ""
             }
            },
            "type": "scattergl"
           }
          ],
          "scattermapbox": [
           {
            "marker": {
             "colorbar": {
              "outlinewidth": 0,
              "ticks": ""
             }
            },
            "type": "scattermapbox"
           }
          ],
          "scatterpolar": [
           {
            "marker": {
             "colorbar": {
              "outlinewidth": 0,
              "ticks": ""
             }
            },
            "type": "scatterpolar"
           }
          ],
          "scatterpolargl": [
           {
            "marker": {
             "colorbar": {
              "outlinewidth": 0,
              "ticks": ""
             }
            },
            "type": "scatterpolargl"
           }
          ],
          "scatterternary": [
           {
            "marker": {
             "colorbar": {
              "outlinewidth": 0,
              "ticks": ""
             }
            },
            "type": "scatterternary"
           }
          ],
          "surface": [
           {
            "colorbar": {
             "outlinewidth": 0,
             "ticks": ""
            },
            "colorscale": [
             [
              0,
              "#0d0887"
             ],
             [
              0.1111111111111111,
              "#46039f"
             ],
             [
              0.2222222222222222,
              "#7201a8"
             ],
             [
              0.3333333333333333,
              "#9c179e"
             ],
             [
              0.4444444444444444,
              "#bd3786"
             ],
             [
              0.5555555555555556,
              "#d8576b"
             ],
             [
              0.6666666666666666,
              "#ed7953"
             ],
             [
              0.7777777777777778,
              "#fb9f3a"
             ],
             [
              0.8888888888888888,
              "#fdca26"
             ],
             [
              1,
              "#f0f921"
             ]
            ],
            "type": "surface"
           }
          ],
          "table": [
           {
            "cells": {
             "fill": {
              "color": "#EBF0F8"
             },
             "line": {
              "color": "white"
             }
            },
            "header": {
             "fill": {
              "color": "#C8D4E3"
             },
             "line": {
              "color": "white"
             }
            },
            "type": "table"
           }
          ]
         },
         "layout": {
          "annotationdefaults": {
           "arrowcolor": "#2a3f5f",
           "arrowhead": 0,
           "arrowwidth": 1
          },
          "autotypenumbers": "strict",
          "coloraxis": {
           "colorbar": {
            "outlinewidth": 0,
            "ticks": ""
           }
          },
          "colorscale": {
           "diverging": [
            [
             0,
             "#8e0152"
            ],
            [
             0.1,
             "#c51b7d"
            ],
            [
             0.2,
             "#de77ae"
            ],
            [
             0.3,
             "#f1b6da"
            ],
            [
             0.4,
             "#fde0ef"
            ],
            [
             0.5,
             "#f7f7f7"
            ],
            [
             0.6,
             "#e6f5d0"
            ],
            [
             0.7,
             "#b8e186"
            ],
            [
             0.8,
             "#7fbc41"
            ],
            [
             0.9,
             "#4d9221"
            ],
            [
             1,
             "#276419"
            ]
           ],
           "sequential": [
            [
             0,
             "#0d0887"
            ],
            [
             0.1111111111111111,
             "#46039f"
            ],
            [
             0.2222222222222222,
             "#7201a8"
            ],
            [
             0.3333333333333333,
             "#9c179e"
            ],
            [
             0.4444444444444444,
             "#bd3786"
            ],
            [
             0.5555555555555556,
             "#d8576b"
            ],
            [
             0.6666666666666666,
             "#ed7953"
            ],
            [
             0.7777777777777778,
             "#fb9f3a"
            ],
            [
             0.8888888888888888,
             "#fdca26"
            ],
            [
             1,
             "#f0f921"
            ]
           ],
           "sequentialminus": [
            [
             0,
             "#0d0887"
            ],
            [
             0.1111111111111111,
             "#46039f"
            ],
            [
             0.2222222222222222,
             "#7201a8"
            ],
            [
             0.3333333333333333,
             "#9c179e"
            ],
            [
             0.4444444444444444,
             "#bd3786"
            ],
            [
             0.5555555555555556,
             "#d8576b"
            ],
            [
             0.6666666666666666,
             "#ed7953"
            ],
            [
             0.7777777777777778,
             "#fb9f3a"
            ],
            [
             0.8888888888888888,
             "#fdca26"
            ],
            [
             1,
             "#f0f921"
            ]
           ]
          },
          "colorway": [
           "#636efa",
           "#EF553B",
           "#00cc96",
           "#ab63fa",
           "#FFA15A",
           "#19d3f3",
           "#FF6692",
           "#B6E880",
           "#FF97FF",
           "#FECB52"
          ],
          "font": {
           "color": "#2a3f5f"
          },
          "geo": {
           "bgcolor": "white",
           "lakecolor": "white",
           "landcolor": "#E5ECF6",
           "showlakes": true,
           "showland": true,
           "subunitcolor": "white"
          },
          "hoverlabel": {
           "align": "left"
          },
          "hovermode": "closest",
          "mapbox": {
           "style": "light"
          },
          "paper_bgcolor": "white",
          "plot_bgcolor": "#E5ECF6",
          "polar": {
           "angularaxis": {
            "gridcolor": "white",
            "linecolor": "white",
            "ticks": ""
           },
           "bgcolor": "#E5ECF6",
           "radialaxis": {
            "gridcolor": "white",
            "linecolor": "white",
            "ticks": ""
           }
          },
          "scene": {
           "xaxis": {
            "backgroundcolor": "#E5ECF6",
            "gridcolor": "white",
            "gridwidth": 2,
            "linecolor": "white",
            "showbackground": true,
            "ticks": "",
            "zerolinecolor": "white"
           },
           "yaxis": {
            "backgroundcolor": "#E5ECF6",
            "gridcolor": "white",
            "gridwidth": 2,
            "linecolor": "white",
            "showbackground": true,
            "ticks": "",
            "zerolinecolor": "white"
           },
           "zaxis": {
            "backgroundcolor": "#E5ECF6",
            "gridcolor": "white",
            "gridwidth": 2,
            "linecolor": "white",
            "showbackground": true,
            "ticks": "",
            "zerolinecolor": "white"
           }
          },
          "shapedefaults": {
           "line": {
            "color": "#2a3f5f"
           }
          },
          "ternary": {
           "aaxis": {
            "gridcolor": "white",
            "linecolor": "white",
            "ticks": ""
           },
           "baxis": {
            "gridcolor": "white",
            "linecolor": "white",
            "ticks": ""
           },
           "bgcolor": "#E5ECF6",
           "caxis": {
            "gridcolor": "white",
            "linecolor": "white",
            "ticks": ""
           }
          },
          "title": {
           "x": 0.05
          },
          "xaxis": {
           "automargin": true,
           "gridcolor": "white",
           "linecolor": "white",
           "ticks": "",
           "title": {
            "standoff": 15
           },
           "zerolinecolor": "white",
           "zerolinewidth": 2
          },
          "yaxis": {
           "automargin": true,
           "gridcolor": "white",
           "linecolor": "white",
           "ticks": "",
           "title": {
            "standoff": 15
           },
           "zerolinecolor": "white",
           "zerolinewidth": 2
          }
         }
        }
       }
      }
     },
     "metadata": {},
     "output_type": "display_data"
    }
   ],
   "source": [
    "plot_fig(final_df, stores[100], product[0])"
   ]
  },
  {
   "cell_type": "code",
   "execution_count": 49,
   "metadata": {},
   "outputs": [],
   "source": [
    "final_df = final_df.drop_duplicates()\n",
    "final_df.to_csv(r'output_files/surface_store_historic.csv', index=False)\n",
    "\n",
    "predicted_data = final_df.loc[final_df['ds']> '2022-02-28']\n",
    "\n",
    "predicted_data = round_target_column(predicted_data, 'yhat')\n",
    "predicted_data = round_target_column(predicted_data, 'yhat_lower')\n",
    "predicted_data = round_target_column(predicted_data, 'yhat_upper')\n",
    "\n",
    "predicted_data.to_csv(r'output_files/surface_store_monthly.csv', index=False)"
   ]
  },
  {
   "cell_type": "code",
   "execution_count": 50,
   "metadata": {},
   "outputs": [
    {
     "data": {
      "text/html": [
       "<div>\n",
       "<style scoped>\n",
       "    .dataframe tbody tr th:only-of-type {\n",
       "        vertical-align: middle;\n",
       "    }\n",
       "\n",
       "    .dataframe tbody tr th {\n",
       "        vertical-align: top;\n",
       "    }\n",
       "\n",
       "    .dataframe thead th {\n",
       "        text-align: right;\n",
       "    }\n",
       "</style>\n",
       "<table border=\"1\" class=\"dataframe\">\n",
       "  <thead>\n",
       "    <tr style=\"text-align: right;\">\n",
       "      <th></th>\n",
       "      <th>ds</th>\n",
       "      <th>Store_names</th>\n",
       "      <th>Reseller_City</th>\n",
       "      <th>Super_Division</th>\n",
       "      <th>Business_Unit</th>\n",
       "      <th>black_week</th>\n",
       "      <th>christmas</th>\n",
       "      <th>y</th>\n",
       "      <th>yhat</th>\n",
       "      <th>yhat_upper</th>\n",
       "      <th>yhat_lower</th>\n",
       "      <th>training_date</th>\n",
       "    </tr>\n",
       "  </thead>\n",
       "  <tbody>\n",
       "    <tr>\n",
       "      <th>62</th>\n",
       "      <td>2022-03-31</td>\n",
       "      <td>MM Stade</td>\n",
       "      <td>Stade</td>\n",
       "      <td>EDG Managed - Surface Devices</td>\n",
       "      <td>Surface Pro</td>\n",
       "      <td>-0.152781</td>\n",
       "      <td>0.0</td>\n",
       "      <td>0.0</td>\n",
       "      <td>2</td>\n",
       "      <td>4</td>\n",
       "      <td>0</td>\n",
       "      <td>2022-03-03</td>\n",
       "    </tr>\n",
       "    <tr>\n",
       "      <th>125</th>\n",
       "      <td>2022-03-31</td>\n",
       "      <td>Media Markt Aachen</td>\n",
       "      <td>Aachen</td>\n",
       "      <td>EDG Managed - Surface Devices</td>\n",
       "      <td>Surface Book</td>\n",
       "      <td>0.000000</td>\n",
       "      <td>0.0</td>\n",
       "      <td>0.0</td>\n",
       "      <td>0</td>\n",
       "      <td>2</td>\n",
       "      <td>0</td>\n",
       "      <td>2022-03-03</td>\n",
       "    </tr>\n",
       "    <tr>\n",
       "      <th>188</th>\n",
       "      <td>2022-03-31</td>\n",
       "      <td>Media Markt Albstadt</td>\n",
       "      <td>Albstadt</td>\n",
       "      <td>EDG Managed - Surface Devices</td>\n",
       "      <td>Surface Laptop</td>\n",
       "      <td>0.000000</td>\n",
       "      <td>0.0</td>\n",
       "      <td>0.0</td>\n",
       "      <td>0</td>\n",
       "      <td>1</td>\n",
       "      <td>0</td>\n",
       "      <td>2022-03-03</td>\n",
       "    </tr>\n",
       "    <tr>\n",
       "      <th>251</th>\n",
       "      <td>2022-03-31</td>\n",
       "      <td>Media Markt Alzey</td>\n",
       "      <td>Alzey</td>\n",
       "      <td>EDG Managed - Surface Devices</td>\n",
       "      <td>Surface Pro</td>\n",
       "      <td>-0.213128</td>\n",
       "      <td>0.0</td>\n",
       "      <td>0.0</td>\n",
       "      <td>4</td>\n",
       "      <td>7</td>\n",
       "      <td>0</td>\n",
       "      <td>2022-03-03</td>\n",
       "    </tr>\n",
       "    <tr>\n",
       "      <th>314</th>\n",
       "      <td>2022-03-31</td>\n",
       "      <td>Media Markt Amberg</td>\n",
       "      <td>Amberg</td>\n",
       "      <td>EDG Managed - Surface Devices</td>\n",
       "      <td>Surface Laptop Go</td>\n",
       "      <td>0.000000</td>\n",
       "      <td>0.0</td>\n",
       "      <td>0.0</td>\n",
       "      <td>0</td>\n",
       "      <td>0</td>\n",
       "      <td>0</td>\n",
       "      <td>2022-03-03</td>\n",
       "    </tr>\n",
       "    <tr>\n",
       "      <th>...</th>\n",
       "      <td>...</td>\n",
       "      <td>...</td>\n",
       "      <td>...</td>\n",
       "      <td>...</td>\n",
       "      <td>...</td>\n",
       "      <td>...</td>\n",
       "      <td>...</td>\n",
       "      <td>...</td>\n",
       "      <td>...</td>\n",
       "      <td>...</td>\n",
       "      <td>...</td>\n",
       "      <td>...</td>\n",
       "    </tr>\n",
       "    <tr>\n",
       "      <th>123550</th>\n",
       "      <td>2022-03-31</td>\n",
       "      <td>Saturn Webshop</td>\n",
       "      <td>Ingolstadt</td>\n",
       "      <td>EDG Managed - Surface Devices</td>\n",
       "      <td>Surface Laptop</td>\n",
       "      <td>0.000000</td>\n",
       "      <td>0.0</td>\n",
       "      <td>0.0</td>\n",
       "      <td>41</td>\n",
       "      <td>60</td>\n",
       "      <td>22</td>\n",
       "      <td>2022-03-03</td>\n",
       "    </tr>\n",
       "    <tr>\n",
       "      <th>123613</th>\n",
       "      <td>2022-03-31</td>\n",
       "      <td>Saturn Wiesbaden</td>\n",
       "      <td>Wiesbaden</td>\n",
       "      <td>EDG Managed - Surface Devices</td>\n",
       "      <td>Surface Laptop</td>\n",
       "      <td>0.000000</td>\n",
       "      <td>0.0</td>\n",
       "      <td>0.0</td>\n",
       "      <td>0</td>\n",
       "      <td>1</td>\n",
       "      <td>0</td>\n",
       "      <td>2022-03-03</td>\n",
       "    </tr>\n",
       "    <tr>\n",
       "      <th>123676</th>\n",
       "      <td>2022-03-31</td>\n",
       "      <td>Saturn Witten</td>\n",
       "      <td>Witten</td>\n",
       "      <td>EDG Managed - Surface Devices</td>\n",
       "      <td>Surface Laptop</td>\n",
       "      <td>0.000000</td>\n",
       "      <td>0.0</td>\n",
       "      <td>0.0</td>\n",
       "      <td>0</td>\n",
       "      <td>1</td>\n",
       "      <td>0</td>\n",
       "      <td>2022-03-03</td>\n",
       "    </tr>\n",
       "    <tr>\n",
       "      <th>123739</th>\n",
       "      <td>2022-03-31</td>\n",
       "      <td>Saturn Wolfsburg City Galerie</td>\n",
       "      <td>Wolfsburg</td>\n",
       "      <td>EDG Managed - Surface Devices</td>\n",
       "      <td>Surface Laptop</td>\n",
       "      <td>0.000000</td>\n",
       "      <td>0.0</td>\n",
       "      <td>0.0</td>\n",
       "      <td>1</td>\n",
       "      <td>2</td>\n",
       "      <td>0</td>\n",
       "      <td>2022-03-03</td>\n",
       "    </tr>\n",
       "    <tr>\n",
       "      <th>123802</th>\n",
       "      <td>2022-03-31</td>\n",
       "      <td>Saturn Wuppertal-Elberfeld</td>\n",
       "      <td>Wuppertal</td>\n",
       "      <td>EDG Managed - Surface Devices</td>\n",
       "      <td>Surface Pro</td>\n",
       "      <td>-0.542467</td>\n",
       "      <td>0.0</td>\n",
       "      <td>0.0</td>\n",
       "      <td>6</td>\n",
       "      <td>14</td>\n",
       "      <td>0</td>\n",
       "      <td>2022-03-03</td>\n",
       "    </tr>\n",
       "  </tbody>\n",
       "</table>\n",
       "<p>1965 rows × 12 columns</p>\n",
       "</div>"
      ],
      "text/plain": [
       "               ds                    Store_names Reseller_City  \\\n",
       "62     2022-03-31                       MM Stade         Stade   \n",
       "125    2022-03-31             Media Markt Aachen        Aachen   \n",
       "188    2022-03-31           Media Markt Albstadt      Albstadt   \n",
       "251    2022-03-31              Media Markt Alzey         Alzey   \n",
       "314    2022-03-31             Media Markt Amberg        Amberg   \n",
       "...           ...                            ...           ...   \n",
       "123550 2022-03-31                 Saturn Webshop    Ingolstadt   \n",
       "123613 2022-03-31               Saturn Wiesbaden     Wiesbaden   \n",
       "123676 2022-03-31                  Saturn Witten        Witten   \n",
       "123739 2022-03-31  Saturn Wolfsburg City Galerie     Wolfsburg   \n",
       "123802 2022-03-31     Saturn Wuppertal-Elberfeld     Wuppertal   \n",
       "\n",
       "                       Super_Division      Business_Unit  black_week  \\\n",
       "62      EDG Managed - Surface Devices        Surface Pro   -0.152781   \n",
       "125     EDG Managed - Surface Devices       Surface Book    0.000000   \n",
       "188     EDG Managed - Surface Devices     Surface Laptop    0.000000   \n",
       "251     EDG Managed - Surface Devices        Surface Pro   -0.213128   \n",
       "314     EDG Managed - Surface Devices  Surface Laptop Go    0.000000   \n",
       "...                               ...                ...         ...   \n",
       "123550  EDG Managed - Surface Devices     Surface Laptop    0.000000   \n",
       "123613  EDG Managed - Surface Devices     Surface Laptop    0.000000   \n",
       "123676  EDG Managed - Surface Devices     Surface Laptop    0.000000   \n",
       "123739  EDG Managed - Surface Devices     Surface Laptop    0.000000   \n",
       "123802  EDG Managed - Surface Devices        Surface Pro   -0.542467   \n",
       "\n",
       "        christmas    y  yhat  yhat_upper  yhat_lower training_date  \n",
       "62            0.0  0.0     2           4           0    2022-03-03  \n",
       "125           0.0  0.0     0           2           0    2022-03-03  \n",
       "188           0.0  0.0     0           1           0    2022-03-03  \n",
       "251           0.0  0.0     4           7           0    2022-03-03  \n",
       "314           0.0  0.0     0           0           0    2022-03-03  \n",
       "...           ...  ...   ...         ...         ...           ...  \n",
       "123550        0.0  0.0    41          60          22    2022-03-03  \n",
       "123613        0.0  0.0     0           1           0    2022-03-03  \n",
       "123676        0.0  0.0     0           1           0    2022-03-03  \n",
       "123739        0.0  0.0     1           2           0    2022-03-03  \n",
       "123802        0.0  0.0     6          14           0    2022-03-03  \n",
       "\n",
       "[1965 rows x 12 columns]"
      ]
     },
     "execution_count": 50,
     "metadata": {},
     "output_type": "execute_result"
    }
   ],
   "source": [
    "predicted_data"
   ]
  },
  {
   "cell_type": "code",
   "execution_count": 54,
   "metadata": {},
   "outputs": [
    {
     "data": {
      "text/html": [
       "<div>\n",
       "<style scoped>\n",
       "    .dataframe tbody tr th:only-of-type {\n",
       "        vertical-align: middle;\n",
       "    }\n",
       "\n",
       "    .dataframe tbody tr th {\n",
       "        vertical-align: top;\n",
       "    }\n",
       "\n",
       "    .dataframe thead th {\n",
       "        text-align: right;\n",
       "    }\n",
       "</style>\n",
       "<table border=\"1\" class=\"dataframe\">\n",
       "  <thead>\n",
       "    <tr style=\"text-align: right;\">\n",
       "      <th></th>\n",
       "      <th>Business_Unit</th>\n",
       "      <th>ds</th>\n",
       "      <th>y</th>\n",
       "      <th>yhat</th>\n",
       "    </tr>\n",
       "  </thead>\n",
       "  <tbody>\n",
       "    <tr>\n",
       "      <th>0</th>\n",
       "      <td>Surface Book</td>\n",
       "      <td>2022-01-31</td>\n",
       "      <td>129</td>\n",
       "      <td>365</td>\n",
       "    </tr>\n",
       "    <tr>\n",
       "      <th>1</th>\n",
       "      <td>Surface Book</td>\n",
       "      <td>2022-02-28</td>\n",
       "      <td>220</td>\n",
       "      <td>231</td>\n",
       "    </tr>\n",
       "    <tr>\n",
       "      <th>2</th>\n",
       "      <td>Surface Book</td>\n",
       "      <td>2022-03-31</td>\n",
       "      <td>0</td>\n",
       "      <td>453</td>\n",
       "    </tr>\n",
       "    <tr>\n",
       "      <th>3</th>\n",
       "      <td>Surface Go</td>\n",
       "      <td>2022-01-31</td>\n",
       "      <td>795</td>\n",
       "      <td>1390</td>\n",
       "    </tr>\n",
       "    <tr>\n",
       "      <th>4</th>\n",
       "      <td>Surface Go</td>\n",
       "      <td>2022-02-28</td>\n",
       "      <td>727</td>\n",
       "      <td>1108</td>\n",
       "    </tr>\n",
       "    <tr>\n",
       "      <th>5</th>\n",
       "      <td>Surface Go</td>\n",
       "      <td>2022-03-31</td>\n",
       "      <td>0</td>\n",
       "      <td>1490</td>\n",
       "    </tr>\n",
       "    <tr>\n",
       "      <th>6</th>\n",
       "      <td>Surface Laptop</td>\n",
       "      <td>2022-01-31</td>\n",
       "      <td>379</td>\n",
       "      <td>365</td>\n",
       "    </tr>\n",
       "    <tr>\n",
       "      <th>7</th>\n",
       "      <td>Surface Laptop</td>\n",
       "      <td>2022-02-28</td>\n",
       "      <td>291</td>\n",
       "      <td>338</td>\n",
       "    </tr>\n",
       "    <tr>\n",
       "      <th>8</th>\n",
       "      <td>Surface Laptop</td>\n",
       "      <td>2022-03-31</td>\n",
       "      <td>0</td>\n",
       "      <td>506</td>\n",
       "    </tr>\n",
       "    <tr>\n",
       "      <th>9</th>\n",
       "      <td>Surface Laptop Go</td>\n",
       "      <td>2022-01-31</td>\n",
       "      <td>341</td>\n",
       "      <td>390</td>\n",
       "    </tr>\n",
       "    <tr>\n",
       "      <th>10</th>\n",
       "      <td>Surface Laptop Go</td>\n",
       "      <td>2022-02-28</td>\n",
       "      <td>288</td>\n",
       "      <td>401</td>\n",
       "    </tr>\n",
       "    <tr>\n",
       "      <th>11</th>\n",
       "      <td>Surface Laptop Go</td>\n",
       "      <td>2022-03-31</td>\n",
       "      <td>0</td>\n",
       "      <td>500</td>\n",
       "    </tr>\n",
       "    <tr>\n",
       "      <th>12</th>\n",
       "      <td>Surface Pro</td>\n",
       "      <td>2022-01-31</td>\n",
       "      <td>1570</td>\n",
       "      <td>1874</td>\n",
       "    </tr>\n",
       "    <tr>\n",
       "      <th>13</th>\n",
       "      <td>Surface Pro</td>\n",
       "      <td>2022-02-28</td>\n",
       "      <td>1570</td>\n",
       "      <td>1880</td>\n",
       "    </tr>\n",
       "    <tr>\n",
       "      <th>14</th>\n",
       "      <td>Surface Pro</td>\n",
       "      <td>2022-03-31</td>\n",
       "      <td>0</td>\n",
       "      <td>2322</td>\n",
       "    </tr>\n",
       "  </tbody>\n",
       "</table>\n",
       "</div>"
      ],
      "text/plain": [
       "        Business_Unit         ds     y  yhat\n",
       "0        Surface Book 2022-01-31   129   365\n",
       "1        Surface Book 2022-02-28   220   231\n",
       "2        Surface Book 2022-03-31     0   453\n",
       "3          Surface Go 2022-01-31   795  1390\n",
       "4          Surface Go 2022-02-28   727  1108\n",
       "5          Surface Go 2022-03-31     0  1490\n",
       "6      Surface Laptop 2022-01-31   379   365\n",
       "7      Surface Laptop 2022-02-28   291   338\n",
       "8      Surface Laptop 2022-03-31     0   506\n",
       "9   Surface Laptop Go 2022-01-31   341   390\n",
       "10  Surface Laptop Go 2022-02-28   288   401\n",
       "11  Surface Laptop Go 2022-03-31     0   500\n",
       "12        Surface Pro 2022-01-31  1570  1874\n",
       "13        Surface Pro 2022-02-28  1570  1880\n",
       "14        Surface Pro 2022-03-31     0  2322"
      ]
     },
     "execution_count": 54,
     "metadata": {},
     "output_type": "execute_result"
    }
   ],
   "source": [
    "(final_df.loc[final_df['ds']>= '2022-01-31'].set_index(\"ds\").groupby(['Business_Unit', pd.Grouper(freq='M')])[\"y\", 'yhat'].sum().astype(int).reset_index())"
   ]
  }
 ],
 "metadata": {
  "interpreter": {
   "hash": "2c74751c2b923e2362cfe1d79031e9569c6f81d163515e88ad3756b52df25df3"
  },
  "kernelspec": {
   "display_name": "Python 3.8.12 64-bit ('spark': conda)",
   "language": "python",
   "name": "python3"
  },
  "language_info": {
   "codemirror_mode": {
    "name": "ipython",
    "version": 3
   },
   "file_extension": ".py",
   "mimetype": "text/x-python",
   "name": "python",
   "nbconvert_exporter": "python",
   "pygments_lexer": "ipython3",
   "version": "3.9.7"
  },
  "orig_nbformat": 4
 },
 "nbformat": 4,
 "nbformat_minor": 2
}
