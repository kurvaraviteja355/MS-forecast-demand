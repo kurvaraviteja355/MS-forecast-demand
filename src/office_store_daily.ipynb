{
 "cells": [
  {
   "cell_type": "code",
   "execution_count": 1,
   "metadata": {},
   "outputs": [],
   "source": [
    "import numpy as np\n",
    "import pandas as pd\n",
    "import os\n",
    "import sys\n",
    "import glob\n",
    "import time \n",
    "import warnings\n",
    "warnings.filterwarnings(\"ignore\")\n",
    "from pyspark.sql import SparkSession\n",
    "from pyspark import SparkContext, SparkConf\n",
    "import pyspark\n",
    "from pyspark.sql.types import *\n",
    "from pyspark.sql.functions import pandas_udf, PandasUDFType\n",
    "from pyspark.sql.functions import current_date\n",
    "from fbprophet import Prophet\n",
    "from reduce_mem_usage import reduce_mem_usage\n",
    "from continuous_data import round_target_column, create_store_test\n",
    "from office_preprocessing import preprocess_office"
   ]
  },
  {
   "cell_type": "markdown",
   "metadata": {},
   "source": [
    "##### Metric Evaluation function"
   ]
  },
  {
   "cell_type": "code",
   "execution_count": 2,
   "metadata": {},
   "outputs": [],
   "source": [
    "import os\n",
    "os.chdir('../')"
   ]
  },
  {
   "cell_type": "code",
   "execution_count": 3,
   "metadata": {},
   "outputs": [],
   "source": [
    "new_data = preprocess_office()"
   ]
  },
  {
   "cell_type": "code",
   "execution_count": 3,
   "metadata": {},
   "outputs": [
    {
     "name": "stdout",
     "output_type": "stream",
     "text": [
      "Mem. usage decreased to 78.10 Mb (19.4% reduction)\n"
     ]
    }
   ],
   "source": [
    "data = pd.read_csv('input_files/office_data.csv')\n",
    "data = reduce_mem_usage(data)\n",
    "\n",
    "\n",
    "closed_stores = ['Saturn Connect Trier', 'Media Markt Heilbronn 2','Saturn Schweinfurt Schrammstraße', 'Saturn Connect Köln',\n",
    "                    'Saturn Stuttgart-Hbf', 'Saturn-Berlin Clayallee','Saturn Mönchengladbach - Stresemannstraße', 'Saturn Lübeck',\n",
    "                    'Saturn München Theresienhöhe', 'Saturn Berlin-Alt-Treptow','Media Markt Turnstraße', 'Saturn Wiesbaden Bahnhofsplatz',\n",
    "                    'Media Markt Ellwangen - DAS', 'Media Markt GmbH Nürtingen','Media Markt Meppen', 'Media Markt Schleswig', \n",
    "                    'Media-Saturn IT Services GmbH', 'Meida Markt Waiblingen', 'Saturn Bergisch Gladbach','Saturn Wesel', 'Saturn Hagen', \n",
    "                    'Media Markt Bad Cannstatt', 'Saturn Heidelberg', 'Saturn Hildesheim', 'Saturn Münster am York-Ring', 'Media Markt Köln-Chorweiler',\n",
    "                    'Saturn Dessau', 'Saturn Essen-Steele','Saturn Euskirchen', 'Saturn Göttingen', 'Saturn Hennef', 'Saturn Herford',\n",
    "                    'Saturn Düsseldorf','Saturn Itzehoe','Saturn Siegburg','Saturn Weiterstadt', 'Saturn Bremerhaven - BSS', 'Saturn Gelsenkirchen Buer']\n",
    "data = data.loc[~data['Store_names'].isin(closed_stores)].reset_index(drop=True)\n",
    "\n",
    "\n",
    "#convert the sales date into datetime format \n",
    "\n",
    "data['Sales Date'] = pd.to_datetime(data['Sales Date'])\n",
    "data = data.drop_duplicates()\n",
    "\n",
    "\n",
    "#data = (data.set_index(\"Sales Date\").groupby(['Reseller City','Super Division', 'Business Unit', pd.Grouper(freq='W')])[\"Rslr Sales Quantity\", \"Rslr Sales Amount\"].sum().astype(int).reset_index())\n",
    "data['black_week'] = np.where((data['Sales Date'].dt.month==11) & (data['Sales Date'].dt.day > 23), 1, 0)\n",
    "\n",
    "max_date = data['Sales Date'].max()"
   ]
  },
  {
   "cell_type": "code",
   "execution_count": 4,
   "metadata": {},
   "outputs": [
    {
     "data": {
      "text/plain": [
       "Timestamp('2022-02-26 00:00:00')"
      ]
     },
     "execution_count": 4,
     "metadata": {},
     "output_type": "execute_result"
    }
   ],
   "source": [
    "max_date"
   ]
  },
  {
   "cell_type": "code",
   "execution_count": 5,
   "metadata": {},
   "outputs": [],
   "source": [
    "import calendar as cal\n",
    "from datetime import *\n",
    "from dateutil.relativedelta import *\n",
    "import holidays\n",
    "\n",
    "def black_week(year):\n",
    "    black_friday = (datetime.date(datetime(year, 11, 1) + relativedelta(weekday=FR(+4)) - timedelta(days=4)), datetime.date(datetime(year, 11, 1) + relativedelta(weekday=FR(+4))+ timedelta(days=1)))\n",
    "    cyber_monday = datetime.date(datetime(year, 11, 1) + relativedelta(weekday=FR(+4))+ timedelta(days=3))\n",
    "\n",
    "    black_friday = pd.to_datetime(black_friday)\n",
    "    black_friday =pd.date_range(black_friday[0], black_friday[1], freq ='d')\n",
    "\n",
    "    cyber_monday = pd.to_datetime(cyber_monday)\n",
    "    #cyber_monday = list(cyber_monday)\n",
    "\n",
    "\n",
    "    return black_friday, cyber_monday"
   ]
  },
  {
   "cell_type": "code",
   "execution_count": 6,
   "metadata": {},
   "outputs": [],
   "source": [
    "# ## create the test_dataframe \n",
    "\n",
    "test_data = create_store_test(data, max_date)\n",
    "\n",
    "test_data['Sales Date'] = pd.to_datetime(test_data['Sales Date'])\n",
    "test_data['black_week'] = np.where((test_data['Sales Date'].dt.month==11) & (test_data['Sales Date'].dt.day > 23), 1, 0)\n",
    "\n",
    "data = pd.concat([data, test_data])\n",
    "\n",
    "data['Sales Date'] = pd.to_datetime(data['Sales Date'])"
   ]
  },
  {
   "cell_type": "code",
   "execution_count": 7,
   "metadata": {},
   "outputs": [
    {
     "data": {
      "text/html": [
       "<div>\n",
       "<style scoped>\n",
       "    .dataframe tbody tr th:only-of-type {\n",
       "        vertical-align: middle;\n",
       "    }\n",
       "\n",
       "    .dataframe tbody tr th {\n",
       "        vertical-align: top;\n",
       "    }\n",
       "\n",
       "    .dataframe thead th {\n",
       "        text-align: right;\n",
       "    }\n",
       "</style>\n",
       "<table border=\"1\" class=\"dataframe\">\n",
       "  <thead>\n",
       "    <tr style=\"text-align: right;\">\n",
       "      <th></th>\n",
       "      <th>Super Division</th>\n",
       "      <th>Product Division</th>\n",
       "      <th>Business Unit</th>\n",
       "      <th>Store_names</th>\n",
       "      <th>Rslr Sales Amount</th>\n",
       "      <th>Sales Date</th>\n",
       "      <th>Rslr Sales Quantity</th>\n",
       "      <th>Reseller City</th>\n",
       "      <th>Reseller Postal Code</th>\n",
       "      <th>black_week</th>\n",
       "    </tr>\n",
       "  </thead>\n",
       "  <tbody>\n",
       "    <tr>\n",
       "      <th>0</th>\n",
       "      <td>EDG Managed - Office License and HP</td>\n",
       "      <td>M365 Consumer</td>\n",
       "      <td>M365</td>\n",
       "      <td>Saturn Köln-Weiden</td>\n",
       "      <td>0</td>\n",
       "      <td>2022-02-27</td>\n",
       "      <td>0</td>\n",
       "      <td>Köln</td>\n",
       "      <td>50858</td>\n",
       "      <td>0</td>\n",
       "    </tr>\n",
       "    <tr>\n",
       "      <th>1</th>\n",
       "      <td>EDG Managed - Office License and HP</td>\n",
       "      <td>Office Standard</td>\n",
       "      <td>Office Standard</td>\n",
       "      <td>Saturn Köln-Weiden</td>\n",
       "      <td>0</td>\n",
       "      <td>2022-02-27</td>\n",
       "      <td>0</td>\n",
       "      <td>Köln</td>\n",
       "      <td>50858</td>\n",
       "      <td>0</td>\n",
       "    </tr>\n",
       "    <tr>\n",
       "      <th>2</th>\n",
       "      <td>EDG Managed - Office License and HP</td>\n",
       "      <td>M365 Consumer</td>\n",
       "      <td>M365</td>\n",
       "      <td>Fil. Media Markt Würzburg City</td>\n",
       "      <td>0</td>\n",
       "      <td>2022-02-27</td>\n",
       "      <td>0</td>\n",
       "      <td>Würzburg</td>\n",
       "      <td>97070</td>\n",
       "      <td>0</td>\n",
       "    </tr>\n",
       "    <tr>\n",
       "      <th>3</th>\n",
       "      <td>EDG Managed - Office License and HP</td>\n",
       "      <td>Office Standard</td>\n",
       "      <td>Office Standard</td>\n",
       "      <td>Fil. Media Markt Würzburg City</td>\n",
       "      <td>0</td>\n",
       "      <td>2022-02-27</td>\n",
       "      <td>0</td>\n",
       "      <td>Würzburg</td>\n",
       "      <td>97070</td>\n",
       "      <td>0</td>\n",
       "    </tr>\n",
       "    <tr>\n",
       "      <th>4</th>\n",
       "      <td>EDG Managed - Office License and HP</td>\n",
       "      <td>M365 Consumer</td>\n",
       "      <td>M365</td>\n",
       "      <td>MM Stade</td>\n",
       "      <td>0</td>\n",
       "      <td>2022-02-27</td>\n",
       "      <td>0</td>\n",
       "      <td>Stade</td>\n",
       "      <td>21682</td>\n",
       "      <td>0</td>\n",
       "    </tr>\n",
       "    <tr>\n",
       "      <th>...</th>\n",
       "      <td>...</td>\n",
       "      <td>...</td>\n",
       "      <td>...</td>\n",
       "      <td>...</td>\n",
       "      <td>...</td>\n",
       "      <td>...</td>\n",
       "      <td>...</td>\n",
       "      <td>...</td>\n",
       "      <td>...</td>\n",
       "      <td>...</td>\n",
       "    </tr>\n",
       "    <tr>\n",
       "      <th>791</th>\n",
       "      <td>EDG Managed - Office License and HP</td>\n",
       "      <td>Office Standard</td>\n",
       "      <td>Office Standard</td>\n",
       "      <td>Saturn Wolfsburg City Galerie</td>\n",
       "      <td>0</td>\n",
       "      <td>2022-03-31</td>\n",
       "      <td>0</td>\n",
       "      <td>Wolfsburg</td>\n",
       "      <td>38440</td>\n",
       "      <td>0</td>\n",
       "    </tr>\n",
       "    <tr>\n",
       "      <th>792</th>\n",
       "      <td>EDG Managed - Office License and HP</td>\n",
       "      <td>M365 Consumer</td>\n",
       "      <td>M365</td>\n",
       "      <td>Saturn Wuppertal-Elberfeld</td>\n",
       "      <td>0</td>\n",
       "      <td>2022-03-31</td>\n",
       "      <td>0</td>\n",
       "      <td>Wuppertal</td>\n",
       "      <td>42103</td>\n",
       "      <td>0</td>\n",
       "    </tr>\n",
       "    <tr>\n",
       "      <th>793</th>\n",
       "      <td>EDG Managed - Office License and HP</td>\n",
       "      <td>Office Standard</td>\n",
       "      <td>Office Standard</td>\n",
       "      <td>Saturn Wuppertal-Elberfeld</td>\n",
       "      <td>0</td>\n",
       "      <td>2022-03-31</td>\n",
       "      <td>0</td>\n",
       "      <td>Wuppertal</td>\n",
       "      <td>42103</td>\n",
       "      <td>0</td>\n",
       "    </tr>\n",
       "    <tr>\n",
       "      <th>794</th>\n",
       "      <td>EDG Managed - Office License and HP</td>\n",
       "      <td>M365 Consumer</td>\n",
       "      <td>M365</td>\n",
       "      <td>Saturn Zwickau</td>\n",
       "      <td>0</td>\n",
       "      <td>2022-03-31</td>\n",
       "      <td>0</td>\n",
       "      <td>Zwickau</td>\n",
       "      <td>8056</td>\n",
       "      <td>0</td>\n",
       "    </tr>\n",
       "    <tr>\n",
       "      <th>795</th>\n",
       "      <td>EDG Managed - Office License and HP</td>\n",
       "      <td>Office Standard</td>\n",
       "      <td>Office Standard</td>\n",
       "      <td>Saturn Zwickau</td>\n",
       "      <td>0</td>\n",
       "      <td>2022-03-31</td>\n",
       "      <td>0</td>\n",
       "      <td>Zwickau</td>\n",
       "      <td>8056</td>\n",
       "      <td>0</td>\n",
       "    </tr>\n",
       "  </tbody>\n",
       "</table>\n",
       "<p>26268 rows × 10 columns</p>\n",
       "</div>"
      ],
      "text/plain": [
       "                          Super Division Product Division    Business Unit  \\\n",
       "0    EDG Managed - Office License and HP    M365 Consumer             M365   \n",
       "1    EDG Managed - Office License and HP  Office Standard  Office Standard   \n",
       "2    EDG Managed - Office License and HP    M365 Consumer             M365   \n",
       "3    EDG Managed - Office License and HP  Office Standard  Office Standard   \n",
       "4    EDG Managed - Office License and HP    M365 Consumer             M365   \n",
       "..                                   ...              ...              ...   \n",
       "791  EDG Managed - Office License and HP  Office Standard  Office Standard   \n",
       "792  EDG Managed - Office License and HP    M365 Consumer             M365   \n",
       "793  EDG Managed - Office License and HP  Office Standard  Office Standard   \n",
       "794  EDG Managed - Office License and HP    M365 Consumer             M365   \n",
       "795  EDG Managed - Office License and HP  Office Standard  Office Standard   \n",
       "\n",
       "                        Store_names  Rslr Sales Amount Sales Date  \\\n",
       "0                Saturn Köln-Weiden                  0 2022-02-27   \n",
       "1                Saturn Köln-Weiden                  0 2022-02-27   \n",
       "2    Fil. Media Markt Würzburg City                  0 2022-02-27   \n",
       "3    Fil. Media Markt Würzburg City                  0 2022-02-27   \n",
       "4                          MM Stade                  0 2022-02-27   \n",
       "..                              ...                ...        ...   \n",
       "791   Saturn Wolfsburg City Galerie                  0 2022-03-31   \n",
       "792      Saturn Wuppertal-Elberfeld                  0 2022-03-31   \n",
       "793      Saturn Wuppertal-Elberfeld                  0 2022-03-31   \n",
       "794                  Saturn Zwickau                  0 2022-03-31   \n",
       "795                  Saturn Zwickau                  0 2022-03-31   \n",
       "\n",
       "     Rslr Sales Quantity Reseller City  Reseller Postal Code  black_week  \n",
       "0                      0          Köln                 50858           0  \n",
       "1                      0          Köln                 50858           0  \n",
       "2                      0      Würzburg                 97070           0  \n",
       "3                      0      Würzburg                 97070           0  \n",
       "4                      0         Stade                 21682           0  \n",
       "..                   ...           ...                   ...         ...  \n",
       "791                    0     Wolfsburg                 38440           0  \n",
       "792                    0     Wuppertal                 42103           0  \n",
       "793                    0     Wuppertal                 42103           0  \n",
       "794                    0       Zwickau                  8056           0  \n",
       "795                    0       Zwickau                  8056           0  \n",
       "\n",
       "[26268 rows x 10 columns]"
      ]
     },
     "execution_count": 7,
     "metadata": {},
     "output_type": "execute_result"
    }
   ],
   "source": [
    "test_data"
   ]
  },
  {
   "cell_type": "code",
   "execution_count": 8,
   "metadata": {},
   "outputs": [],
   "source": [
    "data = (data.set_index(\"Sales Date\").groupby(['Store_names','Reseller City','Super Division', 'Product Division','Business Unit', pd.Grouper(freq='M')])[\"Rslr Sales Quantity\", \"Rslr Sales Amount\"].sum().astype(int).reset_index())"
   ]
  },
  {
   "cell_type": "code",
   "execution_count": 9,
   "metadata": {},
   "outputs": [
    {
     "data": {
      "text/html": [
       "<div>\n",
       "<style scoped>\n",
       "    .dataframe tbody tr th:only-of-type {\n",
       "        vertical-align: middle;\n",
       "    }\n",
       "\n",
       "    .dataframe tbody tr th {\n",
       "        vertical-align: top;\n",
       "    }\n",
       "\n",
       "    .dataframe thead th {\n",
       "        text-align: right;\n",
       "    }\n",
       "</style>\n",
       "<table border=\"1\" class=\"dataframe\">\n",
       "  <thead>\n",
       "    <tr style=\"text-align: right;\">\n",
       "      <th></th>\n",
       "      <th>Store_names</th>\n",
       "      <th>Reseller City</th>\n",
       "      <th>Super Division</th>\n",
       "      <th>Product Division</th>\n",
       "      <th>Business Unit</th>\n",
       "      <th>Sales Date</th>\n",
       "      <th>Rslr Sales Quantity</th>\n",
       "      <th>Rslr Sales Amount</th>\n",
       "    </tr>\n",
       "  </thead>\n",
       "  <tbody>\n",
       "    <tr>\n",
       "      <th>0</th>\n",
       "      <td>Saturn Köln-Weiden</td>\n",
       "      <td>Köln</td>\n",
       "      <td>EDG Managed - Office License and HP</td>\n",
       "      <td>M365 Consumer</td>\n",
       "      <td>M365</td>\n",
       "      <td>2017-01-31</td>\n",
       "      <td>23</td>\n",
       "      <td>1247</td>\n",
       "    </tr>\n",
       "    <tr>\n",
       "      <th>1</th>\n",
       "      <td>Saturn Köln-Weiden</td>\n",
       "      <td>Köln</td>\n",
       "      <td>EDG Managed - Office License and HP</td>\n",
       "      <td>M365 Consumer</td>\n",
       "      <td>M365</td>\n",
       "      <td>2017-02-28</td>\n",
       "      <td>11</td>\n",
       "      <td>620</td>\n",
       "    </tr>\n",
       "    <tr>\n",
       "      <th>2</th>\n",
       "      <td>Saturn Köln-Weiden</td>\n",
       "      <td>Köln</td>\n",
       "      <td>EDG Managed - Office License and HP</td>\n",
       "      <td>M365 Consumer</td>\n",
       "      <td>M365</td>\n",
       "      <td>2017-03-31</td>\n",
       "      <td>16</td>\n",
       "      <td>906</td>\n",
       "    </tr>\n",
       "    <tr>\n",
       "      <th>3</th>\n",
       "      <td>Saturn Köln-Weiden</td>\n",
       "      <td>Köln</td>\n",
       "      <td>EDG Managed - Office License and HP</td>\n",
       "      <td>M365 Consumer</td>\n",
       "      <td>M365</td>\n",
       "      <td>2017-04-30</td>\n",
       "      <td>10</td>\n",
       "      <td>508</td>\n",
       "    </tr>\n",
       "    <tr>\n",
       "      <th>4</th>\n",
       "      <td>Saturn Köln-Weiden</td>\n",
       "      <td>Köln</td>\n",
       "      <td>EDG Managed - Office License and HP</td>\n",
       "      <td>M365 Consumer</td>\n",
       "      <td>M365</td>\n",
       "      <td>2017-05-31</td>\n",
       "      <td>10</td>\n",
       "      <td>530</td>\n",
       "    </tr>\n",
       "  </tbody>\n",
       "</table>\n",
       "</div>"
      ],
      "text/plain": [
       "           Store_names Reseller City                       Super Division  \\\n",
       "0   Saturn Köln-Weiden          Köln  EDG Managed - Office License and HP   \n",
       "1   Saturn Köln-Weiden          Köln  EDG Managed - Office License and HP   \n",
       "2   Saturn Köln-Weiden          Köln  EDG Managed - Office License and HP   \n",
       "3   Saturn Köln-Weiden          Köln  EDG Managed - Office License and HP   \n",
       "4   Saturn Köln-Weiden          Köln  EDG Managed - Office License and HP   \n",
       "\n",
       "  Product Division Business Unit Sales Date  Rslr Sales Quantity  \\\n",
       "0    M365 Consumer          M365 2017-01-31                   23   \n",
       "1    M365 Consumer          M365 2017-02-28                   11   \n",
       "2    M365 Consumer          M365 2017-03-31                   16   \n",
       "3    M365 Consumer          M365 2017-04-30                   10   \n",
       "4    M365 Consumer          M365 2017-05-31                   10   \n",
       "\n",
       "   Rslr Sales Amount  \n",
       "0               1247  \n",
       "1                620  \n",
       "2                906  \n",
       "3                508  \n",
       "4                530  "
      ]
     },
     "execution_count": 9,
     "metadata": {},
     "output_type": "execute_result"
    }
   ],
   "source": [
    "data.head()"
   ]
  },
  {
   "cell_type": "code",
   "execution_count": 10,
   "metadata": {},
   "outputs": [],
   "source": [
    "data['black_week'] = np.where(data['Sales Date'].dt.month==11, 1, 0)"
   ]
  },
  {
   "cell_type": "code",
   "execution_count": 11,
   "metadata": {},
   "outputs": [
    {
     "data": {
      "text/plain": [
       "array(['M365', 'Office Standard'], dtype=object)"
      ]
     },
     "execution_count": 11,
     "metadata": {},
     "output_type": "execute_result"
    }
   ],
   "source": [
    "data['Business Unit'].unique()"
   ]
  },
  {
   "cell_type": "code",
   "execution_count": 12,
   "metadata": {},
   "outputs": [],
   "source": [
    "import plotly.graph_objs as go\n",
    "def plot_fig(forecast):\n",
    "    \n",
    "    forecast = (forecast.set_index(\"Sales Date\").groupby(['Super Division', 'Product Division','Business Unit', pd.Grouper(freq='M')])[\"Rslr Sales Quantity\", \"Rslr Sales Amount\"].sum().astype(int).reset_index())\n",
    "    forecast1 = forecast.loc[forecast['Business Unit']=='M365']\n",
    "    forecast2 = forecast.loc[forecast['Business Unit']=='Office Standard']\n",
    "    fig = go.Figure()\n",
    "    fig.add_trace(go.Scatter(x=forecast1['Sales Date'], y=forecast1['Rslr Sales Quantity'], name='M365',))\n",
    "    fig.add_trace(go.Scatter(x=forecast2['Sales Date'], y=forecast2['Rslr Sales Quantity'], name='Office Standard',))\n",
    "    #fig.add_trace(go.Scatter(x=forecast['ds'], y=forecast['promos'], name='promos',))\n",
    "    fig.show()"
   ]
  },
  {
   "cell_type": "code",
   "execution_count": 13,
   "metadata": {},
   "outputs": [
    {
     "data": {
      "application/vnd.plotly.v1+json": {
       "config": {
        "plotlyServerURL": "https://plot.ly"
       },
       "data": [
        {
         "name": "M365",
         "type": "scatter",
         "x": [
          "2017-01-31T00:00:00",
          "2017-02-28T00:00:00",
          "2017-03-31T00:00:00",
          "2017-04-30T00:00:00",
          "2017-05-31T00:00:00",
          "2017-06-30T00:00:00",
          "2017-07-31T00:00:00",
          "2017-08-31T00:00:00",
          "2017-09-30T00:00:00",
          "2017-10-31T00:00:00",
          "2017-11-30T00:00:00",
          "2017-12-31T00:00:00",
          "2018-01-31T00:00:00",
          "2018-02-28T00:00:00",
          "2018-03-31T00:00:00",
          "2018-04-30T00:00:00",
          "2018-05-31T00:00:00",
          "2018-06-30T00:00:00",
          "2018-07-31T00:00:00",
          "2018-08-31T00:00:00",
          "2018-09-30T00:00:00",
          "2018-10-31T00:00:00",
          "2018-11-30T00:00:00",
          "2018-12-31T00:00:00",
          "2019-01-31T00:00:00",
          "2019-02-28T00:00:00",
          "2019-03-31T00:00:00",
          "2019-04-30T00:00:00",
          "2019-05-31T00:00:00",
          "2019-06-30T00:00:00",
          "2019-07-31T00:00:00",
          "2019-08-31T00:00:00",
          "2019-09-30T00:00:00",
          "2019-10-31T00:00:00",
          "2019-11-30T00:00:00",
          "2019-12-31T00:00:00",
          "2020-01-31T00:00:00",
          "2020-02-29T00:00:00",
          "2020-03-31T00:00:00",
          "2020-04-30T00:00:00",
          "2020-05-31T00:00:00",
          "2020-06-30T00:00:00",
          "2020-07-31T00:00:00",
          "2020-08-31T00:00:00",
          "2020-09-30T00:00:00",
          "2020-10-31T00:00:00",
          "2020-11-30T00:00:00",
          "2020-12-31T00:00:00",
          "2021-01-31T00:00:00",
          "2021-02-28T00:00:00",
          "2021-03-31T00:00:00",
          "2021-04-30T00:00:00",
          "2021-05-31T00:00:00",
          "2021-06-30T00:00:00",
          "2021-07-31T00:00:00",
          "2021-08-31T00:00:00",
          "2021-09-30T00:00:00",
          "2021-10-31T00:00:00",
          "2022-01-31T00:00:00",
          "2022-02-28T00:00:00",
          "2022-03-31T00:00:00"
         ],
         "y": [
          14397,
          12401,
          15280,
          11961,
          13662,
          12235,
          13253,
          11931,
          14143,
          14121,
          18084,
          23746,
          16806,
          12620,
          19782,
          13430,
          11924,
          12002,
          9956,
          13900,
          19850,
          12059,
          15424,
          17558,
          15643,
          14587,
          14356,
          11258,
          14630,
          11853,
          11875,
          15751,
          16838,
          15236,
          17220,
          35118,
          19532,
          19466,
          12328,
          10675,
          12441,
          11960,
          11330,
          13576,
          17012,
          15433,
          18121,
          18824,
          5358,
          3419,
          20037,
          4683,
          5963,
          10079,
          8265,
          9414,
          9169,
          9737,
          3390,
          11823,
          0
         ]
        },
        {
         "name": "Office Standard",
         "type": "scatter",
         "x": [
          "2017-01-31T00:00:00",
          "2017-02-28T00:00:00",
          "2017-03-31T00:00:00",
          "2017-04-30T00:00:00",
          "2017-05-31T00:00:00",
          "2017-06-30T00:00:00",
          "2017-07-31T00:00:00",
          "2017-08-31T00:00:00",
          "2017-09-30T00:00:00",
          "2017-10-31T00:00:00",
          "2017-11-30T00:00:00",
          "2017-12-31T00:00:00",
          "2018-01-31T00:00:00",
          "2018-02-28T00:00:00",
          "2018-03-31T00:00:00",
          "2018-04-30T00:00:00",
          "2018-05-31T00:00:00",
          "2018-06-30T00:00:00",
          "2018-07-31T00:00:00",
          "2018-08-31T00:00:00",
          "2018-09-30T00:00:00",
          "2018-10-31T00:00:00",
          "2018-11-30T00:00:00",
          "2018-12-31T00:00:00",
          "2019-01-31T00:00:00",
          "2019-02-28T00:00:00",
          "2019-03-31T00:00:00",
          "2019-04-30T00:00:00",
          "2019-05-31T00:00:00",
          "2019-06-30T00:00:00",
          "2019-07-31T00:00:00",
          "2019-08-31T00:00:00",
          "2019-09-30T00:00:00",
          "2019-10-31T00:00:00",
          "2019-11-30T00:00:00",
          "2019-12-31T00:00:00",
          "2020-01-31T00:00:00",
          "2020-02-29T00:00:00",
          "2020-03-31T00:00:00",
          "2020-04-30T00:00:00",
          "2020-05-31T00:00:00",
          "2020-06-30T00:00:00",
          "2020-07-31T00:00:00",
          "2020-08-31T00:00:00",
          "2020-09-30T00:00:00",
          "2020-10-31T00:00:00",
          "2020-11-30T00:00:00",
          "2020-12-31T00:00:00",
          "2021-01-31T00:00:00",
          "2021-02-28T00:00:00",
          "2021-03-31T00:00:00",
          "2021-04-30T00:00:00",
          "2021-05-31T00:00:00",
          "2021-06-30T00:00:00",
          "2021-07-31T00:00:00",
          "2021-08-31T00:00:00",
          "2021-09-30T00:00:00",
          "2021-10-31T00:00:00",
          "2022-01-31T00:00:00",
          "2022-02-28T00:00:00",
          "2022-03-31T00:00:00"
         ],
         "y": [
          13085,
          10723,
          9970,
          8610,
          7221,
          7242,
          7533,
          8022,
          9293,
          9838,
          9897,
          13126,
          11314,
          9041,
          9680,
          6801,
          6458,
          6909,
          6658,
          7801,
          8538,
          8299,
          10556,
          12207,
          10872,
          8914,
          8987,
          13907,
          9464,
          9158,
          7162,
          9013,
          14802,
          11572,
          16895,
          15736,
          16727,
          12339,
          11571,
          2738,
          9311,
          7453,
          8595,
          9777,
          11153,
          13084,
          14485,
          9406,
          2170,
          2744,
          6543,
          3304,
          4098,
          6633,
          6524,
          7285,
          9275,
          7954,
          1602,
          6615,
          0
         ]
        }
       ],
       "layout": {
        "template": {
         "data": {
          "bar": [
           {
            "error_x": {
             "color": "#2a3f5f"
            },
            "error_y": {
             "color": "#2a3f5f"
            },
            "marker": {
             "line": {
              "color": "#E5ECF6",
              "width": 0.5
             },
             "pattern": {
              "fillmode": "overlay",
              "size": 10,
              "solidity": 0.2
             }
            },
            "type": "bar"
           }
          ],
          "barpolar": [
           {
            "marker": {
             "line": {
              "color": "#E5ECF6",
              "width": 0.5
             },
             "pattern": {
              "fillmode": "overlay",
              "size": 10,
              "solidity": 0.2
             }
            },
            "type": "barpolar"
           }
          ],
          "carpet": [
           {
            "aaxis": {
             "endlinecolor": "#2a3f5f",
             "gridcolor": "white",
             "linecolor": "white",
             "minorgridcolor": "white",
             "startlinecolor": "#2a3f5f"
            },
            "baxis": {
             "endlinecolor": "#2a3f5f",
             "gridcolor": "white",
             "linecolor": "white",
             "minorgridcolor": "white",
             "startlinecolor": "#2a3f5f"
            },
            "type": "carpet"
           }
          ],
          "choropleth": [
           {
            "colorbar": {
             "outlinewidth": 0,
             "ticks": ""
            },
            "type": "choropleth"
           }
          ],
          "contour": [
           {
            "colorbar": {
             "outlinewidth": 0,
             "ticks": ""
            },
            "colorscale": [
             [
              0,
              "#0d0887"
             ],
             [
              0.1111111111111111,
              "#46039f"
             ],
             [
              0.2222222222222222,
              "#7201a8"
             ],
             [
              0.3333333333333333,
              "#9c179e"
             ],
             [
              0.4444444444444444,
              "#bd3786"
             ],
             [
              0.5555555555555556,
              "#d8576b"
             ],
             [
              0.6666666666666666,
              "#ed7953"
             ],
             [
              0.7777777777777778,
              "#fb9f3a"
             ],
             [
              0.8888888888888888,
              "#fdca26"
             ],
             [
              1,
              "#f0f921"
             ]
            ],
            "type": "contour"
           }
          ],
          "contourcarpet": [
           {
            "colorbar": {
             "outlinewidth": 0,
             "ticks": ""
            },
            "type": "contourcarpet"
           }
          ],
          "heatmap": [
           {
            "colorbar": {
             "outlinewidth": 0,
             "ticks": ""
            },
            "colorscale": [
             [
              0,
              "#0d0887"
             ],
             [
              0.1111111111111111,
              "#46039f"
             ],
             [
              0.2222222222222222,
              "#7201a8"
             ],
             [
              0.3333333333333333,
              "#9c179e"
             ],
             [
              0.4444444444444444,
              "#bd3786"
             ],
             [
              0.5555555555555556,
              "#d8576b"
             ],
             [
              0.6666666666666666,
              "#ed7953"
             ],
             [
              0.7777777777777778,
              "#fb9f3a"
             ],
             [
              0.8888888888888888,
              "#fdca26"
             ],
             [
              1,
              "#f0f921"
             ]
            ],
            "type": "heatmap"
           }
          ],
          "heatmapgl": [
           {
            "colorbar": {
             "outlinewidth": 0,
             "ticks": ""
            },
            "colorscale": [
             [
              0,
              "#0d0887"
             ],
             [
              0.1111111111111111,
              "#46039f"
             ],
             [
              0.2222222222222222,
              "#7201a8"
             ],
             [
              0.3333333333333333,
              "#9c179e"
             ],
             [
              0.4444444444444444,
              "#bd3786"
             ],
             [
              0.5555555555555556,
              "#d8576b"
             ],
             [
              0.6666666666666666,
              "#ed7953"
             ],
             [
              0.7777777777777778,
              "#fb9f3a"
             ],
             [
              0.8888888888888888,
              "#fdca26"
             ],
             [
              1,
              "#f0f921"
             ]
            ],
            "type": "heatmapgl"
           }
          ],
          "histogram": [
           {
            "marker": {
             "pattern": {
              "fillmode": "overlay",
              "size": 10,
              "solidity": 0.2
             }
            },
            "type": "histogram"
           }
          ],
          "histogram2d": [
           {
            "colorbar": {
             "outlinewidth": 0,
             "ticks": ""
            },
            "colorscale": [
             [
              0,
              "#0d0887"
             ],
             [
              0.1111111111111111,
              "#46039f"
             ],
             [
              0.2222222222222222,
              "#7201a8"
             ],
             [
              0.3333333333333333,
              "#9c179e"
             ],
             [
              0.4444444444444444,
              "#bd3786"
             ],
             [
              0.5555555555555556,
              "#d8576b"
             ],
             [
              0.6666666666666666,
              "#ed7953"
             ],
             [
              0.7777777777777778,
              "#fb9f3a"
             ],
             [
              0.8888888888888888,
              "#fdca26"
             ],
             [
              1,
              "#f0f921"
             ]
            ],
            "type": "histogram2d"
           }
          ],
          "histogram2dcontour": [
           {
            "colorbar": {
             "outlinewidth": 0,
             "ticks": ""
            },
            "colorscale": [
             [
              0,
              "#0d0887"
             ],
             [
              0.1111111111111111,
              "#46039f"
             ],
             [
              0.2222222222222222,
              "#7201a8"
             ],
             [
              0.3333333333333333,
              "#9c179e"
             ],
             [
              0.4444444444444444,
              "#bd3786"
             ],
             [
              0.5555555555555556,
              "#d8576b"
             ],
             [
              0.6666666666666666,
              "#ed7953"
             ],
             [
              0.7777777777777778,
              "#fb9f3a"
             ],
             [
              0.8888888888888888,
              "#fdca26"
             ],
             [
              1,
              "#f0f921"
             ]
            ],
            "type": "histogram2dcontour"
           }
          ],
          "mesh3d": [
           {
            "colorbar": {
             "outlinewidth": 0,
             "ticks": ""
            },
            "type": "mesh3d"
           }
          ],
          "parcoords": [
           {
            "line": {
             "colorbar": {
              "outlinewidth": 0,
              "ticks": ""
             }
            },
            "type": "parcoords"
           }
          ],
          "pie": [
           {
            "automargin": true,
            "type": "pie"
           }
          ],
          "scatter": [
           {
            "marker": {
             "colorbar": {
              "outlinewidth": 0,
              "ticks": ""
             }
            },
            "type": "scatter"
           }
          ],
          "scatter3d": [
           {
            "line": {
             "colorbar": {
              "outlinewidth": 0,
              "ticks": ""
             }
            },
            "marker": {
             "colorbar": {
              "outlinewidth": 0,
              "ticks": ""
             }
            },
            "type": "scatter3d"
           }
          ],
          "scattercarpet": [
           {
            "marker": {
             "colorbar": {
              "outlinewidth": 0,
              "ticks": ""
             }
            },
            "type": "scattercarpet"
           }
          ],
          "scattergeo": [
           {
            "marker": {
             "colorbar": {
              "outlinewidth": 0,
              "ticks": ""
             }
            },
            "type": "scattergeo"
           }
          ],
          "scattergl": [
           {
            "marker": {
             "colorbar": {
              "outlinewidth": 0,
              "ticks": ""
             }
            },
            "type": "scattergl"
           }
          ],
          "scattermapbox": [
           {
            "marker": {
             "colorbar": {
              "outlinewidth": 0,
              "ticks": ""
             }
            },
            "type": "scattermapbox"
           }
          ],
          "scatterpolar": [
           {
            "marker": {
             "colorbar": {
              "outlinewidth": 0,
              "ticks": ""
             }
            },
            "type": "scatterpolar"
           }
          ],
          "scatterpolargl": [
           {
            "marker": {
             "colorbar": {
              "outlinewidth": 0,
              "ticks": ""
             }
            },
            "type": "scatterpolargl"
           }
          ],
          "scatterternary": [
           {
            "marker": {
             "colorbar": {
              "outlinewidth": 0,
              "ticks": ""
             }
            },
            "type": "scatterternary"
           }
          ],
          "surface": [
           {
            "colorbar": {
             "outlinewidth": 0,
             "ticks": ""
            },
            "colorscale": [
             [
              0,
              "#0d0887"
             ],
             [
              0.1111111111111111,
              "#46039f"
             ],
             [
              0.2222222222222222,
              "#7201a8"
             ],
             [
              0.3333333333333333,
              "#9c179e"
             ],
             [
              0.4444444444444444,
              "#bd3786"
             ],
             [
              0.5555555555555556,
              "#d8576b"
             ],
             [
              0.6666666666666666,
              "#ed7953"
             ],
             [
              0.7777777777777778,
              "#fb9f3a"
             ],
             [
              0.8888888888888888,
              "#fdca26"
             ],
             [
              1,
              "#f0f921"
             ]
            ],
            "type": "surface"
           }
          ],
          "table": [
           {
            "cells": {
             "fill": {
              "color": "#EBF0F8"
             },
             "line": {
              "color": "white"
             }
            },
            "header": {
             "fill": {
              "color": "#C8D4E3"
             },
             "line": {
              "color": "white"
             }
            },
            "type": "table"
           }
          ]
         },
         "layout": {
          "annotationdefaults": {
           "arrowcolor": "#2a3f5f",
           "arrowhead": 0,
           "arrowwidth": 1
          },
          "autotypenumbers": "strict",
          "coloraxis": {
           "colorbar": {
            "outlinewidth": 0,
            "ticks": ""
           }
          },
          "colorscale": {
           "diverging": [
            [
             0,
             "#8e0152"
            ],
            [
             0.1,
             "#c51b7d"
            ],
            [
             0.2,
             "#de77ae"
            ],
            [
             0.3,
             "#f1b6da"
            ],
            [
             0.4,
             "#fde0ef"
            ],
            [
             0.5,
             "#f7f7f7"
            ],
            [
             0.6,
             "#e6f5d0"
            ],
            [
             0.7,
             "#b8e186"
            ],
            [
             0.8,
             "#7fbc41"
            ],
            [
             0.9,
             "#4d9221"
            ],
            [
             1,
             "#276419"
            ]
           ],
           "sequential": [
            [
             0,
             "#0d0887"
            ],
            [
             0.1111111111111111,
             "#46039f"
            ],
            [
             0.2222222222222222,
             "#7201a8"
            ],
            [
             0.3333333333333333,
             "#9c179e"
            ],
            [
             0.4444444444444444,
             "#bd3786"
            ],
            [
             0.5555555555555556,
             "#d8576b"
            ],
            [
             0.6666666666666666,
             "#ed7953"
            ],
            [
             0.7777777777777778,
             "#fb9f3a"
            ],
            [
             0.8888888888888888,
             "#fdca26"
            ],
            [
             1,
             "#f0f921"
            ]
           ],
           "sequentialminus": [
            [
             0,
             "#0d0887"
            ],
            [
             0.1111111111111111,
             "#46039f"
            ],
            [
             0.2222222222222222,
             "#7201a8"
            ],
            [
             0.3333333333333333,
             "#9c179e"
            ],
            [
             0.4444444444444444,
             "#bd3786"
            ],
            [
             0.5555555555555556,
             "#d8576b"
            ],
            [
             0.6666666666666666,
             "#ed7953"
            ],
            [
             0.7777777777777778,
             "#fb9f3a"
            ],
            [
             0.8888888888888888,
             "#fdca26"
            ],
            [
             1,
             "#f0f921"
            ]
           ]
          },
          "colorway": [
           "#636efa",
           "#EF553B",
           "#00cc96",
           "#ab63fa",
           "#FFA15A",
           "#19d3f3",
           "#FF6692",
           "#B6E880",
           "#FF97FF",
           "#FECB52"
          ],
          "font": {
           "color": "#2a3f5f"
          },
          "geo": {
           "bgcolor": "white",
           "lakecolor": "white",
           "landcolor": "#E5ECF6",
           "showlakes": true,
           "showland": true,
           "subunitcolor": "white"
          },
          "hoverlabel": {
           "align": "left"
          },
          "hovermode": "closest",
          "mapbox": {
           "style": "light"
          },
          "paper_bgcolor": "white",
          "plot_bgcolor": "#E5ECF6",
          "polar": {
           "angularaxis": {
            "gridcolor": "white",
            "linecolor": "white",
            "ticks": ""
           },
           "bgcolor": "#E5ECF6",
           "radialaxis": {
            "gridcolor": "white",
            "linecolor": "white",
            "ticks": ""
           }
          },
          "scene": {
           "xaxis": {
            "backgroundcolor": "#E5ECF6",
            "gridcolor": "white",
            "gridwidth": 2,
            "linecolor": "white",
            "showbackground": true,
            "ticks": "",
            "zerolinecolor": "white"
           },
           "yaxis": {
            "backgroundcolor": "#E5ECF6",
            "gridcolor": "white",
            "gridwidth": 2,
            "linecolor": "white",
            "showbackground": true,
            "ticks": "",
            "zerolinecolor": "white"
           },
           "zaxis": {
            "backgroundcolor": "#E5ECF6",
            "gridcolor": "white",
            "gridwidth": 2,
            "linecolor": "white",
            "showbackground": true,
            "ticks": "",
            "zerolinecolor": "white"
           }
          },
          "shapedefaults": {
           "line": {
            "color": "#2a3f5f"
           }
          },
          "ternary": {
           "aaxis": {
            "gridcolor": "white",
            "linecolor": "white",
            "ticks": ""
           },
           "baxis": {
            "gridcolor": "white",
            "linecolor": "white",
            "ticks": ""
           },
           "bgcolor": "#E5ECF6",
           "caxis": {
            "gridcolor": "white",
            "linecolor": "white",
            "ticks": ""
           }
          },
          "title": {
           "x": 0.05
          },
          "xaxis": {
           "automargin": true,
           "gridcolor": "white",
           "linecolor": "white",
           "ticks": "",
           "title": {
            "standoff": 15
           },
           "zerolinecolor": "white",
           "zerolinewidth": 2
          },
          "yaxis": {
           "automargin": true,
           "gridcolor": "white",
           "linecolor": "white",
           "ticks": "",
           "title": {
            "standoff": 15
           },
           "zerolinecolor": "white",
           "zerolinewidth": 2
          }
         }
        }
       }
      }
     },
     "metadata": {},
     "output_type": "display_data"
    }
   ],
   "source": [
    "plot_fig(data)"
   ]
  },
  {
   "cell_type": "code",
   "execution_count": 14,
   "metadata": {},
   "outputs": [],
   "source": [
    "data['black_week'] = np.where((data['Business Unit']=='M365') & (data['Sales Date'].dt.month==11) & (data['Sales Date'].dt.year==2017), 1, 0)\n",
    "data['black_week'] = np.where((data['Business Unit']=='Office Standard') & (data['Sales Date'].dt.month==11) & (data['Sales Date'].dt.year==2019|2020), 1, data['black_week'])\n",
    "data['christmas'] = np.where((data['Business Unit']=='M365') & (data['Sales Date'].dt.month==12) & (data['Sales Date'].dt.year==2017), 1, 0)\n",
    "data['christmas'] = np.where((data['Business Unit']=='M365') & (data['Sales Date'].dt.month==12) & (data['Sales Date'].dt.year==2019), 2, data['christmas'])\n",
    "data['christmas'] = np.where((data['Business Unit']=='M365') & (data['Sales Date'].dt.month==3) & (data['Sales Date'].dt.year==2021), 1, data['christmas'])\n",
    "data['christmas'] = np.where((data['Business Unit']=='Office Standard') & (data['Sales Date'].dt.month==12) & (data['Sales Date'].dt.year==2017|2018|2019), 1, data['christmas'])\n",
    "data['christmas'] = np.where((data['Business Unit']=='Office Standard') & (data['Sales Date'].dt.month==9) & (data['Sales Date'].dt.year==2019), 1, data['christmas'])\n",
    "data['christmas'] = np.where((data['Business Unit']=='Office Standard') & (data['Sales Date'].dt.month==9) & (data['Sales Date'].dt.year==2021), 2, data['christmas'])\n",
    "data['christmas'] = np.where((data['Business Unit']=='Office Standard') & (data['Sales Date'].dt.month==4) & (data['Sales Date'].dt.year==2019), 1, data['christmas'])\n",
    "data['christmas'] = np.where((data['Business Unit']=='Office Standard') & (data['Sales Date'].dt.month==7|9) & (data['Sales Date'].dt.year==2019), 1, data['christmas'])\n",
    "\n"
   ]
  },
  {
   "cell_type": "code",
   "execution_count": 24,
   "metadata": {},
   "outputs": [
    {
     "data": {
      "text/html": [
       "<div>\n",
       "<style scoped>\n",
       "    .dataframe tbody tr th:only-of-type {\n",
       "        vertical-align: middle;\n",
       "    }\n",
       "\n",
       "    .dataframe tbody tr th {\n",
       "        vertical-align: top;\n",
       "    }\n",
       "\n",
       "    .dataframe thead th {\n",
       "        text-align: right;\n",
       "    }\n",
       "</style>\n",
       "<table border=\"1\" class=\"dataframe\">\n",
       "  <thead>\n",
       "    <tr style=\"text-align: right;\">\n",
       "      <th></th>\n",
       "      <th>Store_names</th>\n",
       "      <th>Reseller City</th>\n",
       "      <th>Super Division</th>\n",
       "      <th>Product Division</th>\n",
       "      <th>Business Unit</th>\n",
       "      <th>Sales Date</th>\n",
       "      <th>Rslr Sales Quantity</th>\n",
       "      <th>Rslr Sales Amount</th>\n",
       "      <th>black_week</th>\n",
       "      <th>christmas</th>\n",
       "    </tr>\n",
       "  </thead>\n",
       "  <tbody>\n",
       "    <tr>\n",
       "      <th>48543</th>\n",
       "      <td>Saturn Zwickau</td>\n",
       "      <td>Zwickau</td>\n",
       "      <td>EDG Managed - Office License and HP</td>\n",
       "      <td>Office Standard</td>\n",
       "      <td>Office Standard</td>\n",
       "      <td>2021-04-30</td>\n",
       "      <td>5</td>\n",
       "      <td>504</td>\n",
       "      <td>0</td>\n",
       "      <td>0</td>\n",
       "    </tr>\n",
       "    <tr>\n",
       "      <th>48544</th>\n",
       "      <td>Saturn Zwickau</td>\n",
       "      <td>Zwickau</td>\n",
       "      <td>EDG Managed - Office License and HP</td>\n",
       "      <td>Office Standard</td>\n",
       "      <td>Office Standard</td>\n",
       "      <td>2021-05-31</td>\n",
       "      <td>8</td>\n",
       "      <td>906</td>\n",
       "      <td>0</td>\n",
       "      <td>0</td>\n",
       "    </tr>\n",
       "    <tr>\n",
       "      <th>48545</th>\n",
       "      <td>Saturn Zwickau</td>\n",
       "      <td>Zwickau</td>\n",
       "      <td>EDG Managed - Office License and HP</td>\n",
       "      <td>Office Standard</td>\n",
       "      <td>Office Standard</td>\n",
       "      <td>2021-06-30</td>\n",
       "      <td>8</td>\n",
       "      <td>808</td>\n",
       "      <td>0</td>\n",
       "      <td>0</td>\n",
       "    </tr>\n",
       "    <tr>\n",
       "      <th>48546</th>\n",
       "      <td>Saturn Zwickau</td>\n",
       "      <td>Zwickau</td>\n",
       "      <td>EDG Managed - Office License and HP</td>\n",
       "      <td>Office Standard</td>\n",
       "      <td>Office Standard</td>\n",
       "      <td>2021-07-31</td>\n",
       "      <td>11</td>\n",
       "      <td>1208</td>\n",
       "      <td>0</td>\n",
       "      <td>0</td>\n",
       "    </tr>\n",
       "    <tr>\n",
       "      <th>48547</th>\n",
       "      <td>Saturn Zwickau</td>\n",
       "      <td>Zwickau</td>\n",
       "      <td>EDG Managed - Office License and HP</td>\n",
       "      <td>Office Standard</td>\n",
       "      <td>Office Standard</td>\n",
       "      <td>2021-08-31</td>\n",
       "      <td>10</td>\n",
       "      <td>1009</td>\n",
       "      <td>0</td>\n",
       "      <td>0</td>\n",
       "    </tr>\n",
       "    <tr>\n",
       "      <th>48548</th>\n",
       "      <td>Saturn Zwickau</td>\n",
       "      <td>Zwickau</td>\n",
       "      <td>EDG Managed - Office License and HP</td>\n",
       "      <td>Office Standard</td>\n",
       "      <td>Office Standard</td>\n",
       "      <td>2021-09-30</td>\n",
       "      <td>21</td>\n",
       "      <td>2121</td>\n",
       "      <td>0</td>\n",
       "      <td>2</td>\n",
       "    </tr>\n",
       "    <tr>\n",
       "      <th>48549</th>\n",
       "      <td>Saturn Zwickau</td>\n",
       "      <td>Zwickau</td>\n",
       "      <td>EDG Managed - Office License and HP</td>\n",
       "      <td>Office Standard</td>\n",
       "      <td>Office Standard</td>\n",
       "      <td>2021-10-31</td>\n",
       "      <td>24</td>\n",
       "      <td>2410</td>\n",
       "      <td>0</td>\n",
       "      <td>0</td>\n",
       "    </tr>\n",
       "    <tr>\n",
       "      <th>48550</th>\n",
       "      <td>Saturn Zwickau</td>\n",
       "      <td>Zwickau</td>\n",
       "      <td>EDG Managed - Office License and HP</td>\n",
       "      <td>Office Standard</td>\n",
       "      <td>Office Standard</td>\n",
       "      <td>2022-01-31</td>\n",
       "      <td>3</td>\n",
       "      <td>299</td>\n",
       "      <td>0</td>\n",
       "      <td>0</td>\n",
       "    </tr>\n",
       "    <tr>\n",
       "      <th>48551</th>\n",
       "      <td>Saturn Zwickau</td>\n",
       "      <td>Zwickau</td>\n",
       "      <td>EDG Managed - Office License and HP</td>\n",
       "      <td>Office Standard</td>\n",
       "      <td>Office Standard</td>\n",
       "      <td>2022-02-28</td>\n",
       "      <td>19</td>\n",
       "      <td>2093</td>\n",
       "      <td>0</td>\n",
       "      <td>0</td>\n",
       "    </tr>\n",
       "    <tr>\n",
       "      <th>48552</th>\n",
       "      <td>Saturn Zwickau</td>\n",
       "      <td>Zwickau</td>\n",
       "      <td>EDG Managed - Office License and HP</td>\n",
       "      <td>Office Standard</td>\n",
       "      <td>Office Standard</td>\n",
       "      <td>2022-03-31</td>\n",
       "      <td>0</td>\n",
       "      <td>0</td>\n",
       "      <td>0</td>\n",
       "      <td>0</td>\n",
       "    </tr>\n",
       "  </tbody>\n",
       "</table>\n",
       "</div>"
      ],
      "text/plain": [
       "          Store_names Reseller City                       Super Division  \\\n",
       "48543  Saturn Zwickau       Zwickau  EDG Managed - Office License and HP   \n",
       "48544  Saturn Zwickau       Zwickau  EDG Managed - Office License and HP   \n",
       "48545  Saturn Zwickau       Zwickau  EDG Managed - Office License and HP   \n",
       "48546  Saturn Zwickau       Zwickau  EDG Managed - Office License and HP   \n",
       "48547  Saturn Zwickau       Zwickau  EDG Managed - Office License and HP   \n",
       "48548  Saturn Zwickau       Zwickau  EDG Managed - Office License and HP   \n",
       "48549  Saturn Zwickau       Zwickau  EDG Managed - Office License and HP   \n",
       "48550  Saturn Zwickau       Zwickau  EDG Managed - Office License and HP   \n",
       "48551  Saturn Zwickau       Zwickau  EDG Managed - Office License and HP   \n",
       "48552  Saturn Zwickau       Zwickau  EDG Managed - Office License and HP   \n",
       "\n",
       "      Product Division    Business Unit Sales Date  Rslr Sales Quantity  \\\n",
       "48543  Office Standard  Office Standard 2021-04-30                    5   \n",
       "48544  Office Standard  Office Standard 2021-05-31                    8   \n",
       "48545  Office Standard  Office Standard 2021-06-30                    8   \n",
       "48546  Office Standard  Office Standard 2021-07-31                   11   \n",
       "48547  Office Standard  Office Standard 2021-08-31                   10   \n",
       "48548  Office Standard  Office Standard 2021-09-30                   21   \n",
       "48549  Office Standard  Office Standard 2021-10-31                   24   \n",
       "48550  Office Standard  Office Standard 2022-01-31                    3   \n",
       "48551  Office Standard  Office Standard 2022-02-28                   19   \n",
       "48552  Office Standard  Office Standard 2022-03-31                    0   \n",
       "\n",
       "       Rslr Sales Amount  black_week  christmas  \n",
       "48543                504           0          0  \n",
       "48544                906           0          0  \n",
       "48545                808           0          0  \n",
       "48546               1208           0          0  \n",
       "48547               1009           0          0  \n",
       "48548               2121           0          2  \n",
       "48549               2410           0          0  \n",
       "48550                299           0          0  \n",
       "48551               2093           0          0  \n",
       "48552                  0           0          0  "
      ]
     },
     "execution_count": 24,
     "metadata": {},
     "output_type": "execute_result"
    }
   ],
   "source": [
    "data.tail(10)"
   ]
  },
  {
   "cell_type": "code",
   "execution_count": 17,
   "metadata": {},
   "outputs": [
    {
     "data": {
      "text/plain": [
       "Store_names            0\n",
       "Reseller City          0\n",
       "Super Division         0\n",
       "Product Division       0\n",
       "Business Unit          0\n",
       "Sales Date             0\n",
       "Rslr Sales Quantity    0\n",
       "Rslr Sales Amount      0\n",
       "black_week             0\n",
       "christmas              0\n",
       "dtype: int64"
      ]
     },
     "execution_count": 17,
     "metadata": {},
     "output_type": "execute_result"
    }
   ],
   "source": [
    "data.isna().sum()"
   ]
  },
  {
   "cell_type": "code",
   "execution_count": 18,
   "metadata": {},
   "outputs": [
    {
     "data": {
      "text/plain": [
       "Store_names             398\n",
       "Reseller City           264\n",
       "Super Division            1\n",
       "Product Division          2\n",
       "Business Unit             2\n",
       "Sales Date               61\n",
       "Rslr Sales Quantity     389\n",
       "Rslr Sales Amount      6484\n",
       "black_week                2\n",
       "christmas                 3\n",
       "dtype: int64"
      ]
     },
     "execution_count": 18,
     "metadata": {},
     "output_type": "execute_result"
    }
   ],
   "source": [
    "data.nunique()"
   ]
  },
  {
   "cell_type": "code",
   "execution_count": 19,
   "metadata": {},
   "outputs": [],
   "source": [
    "import time \n",
    "spark = SparkSession.builder\\\n",
    "        .appName('office_forecasting') \\\n",
    "        .master('local[*]') \\\n",
    "        .config('spark.sql.execution.arrow.pyspark.enabled', True) \\\n",
    "        .config('spark.sql.execution.arrow.enabled', True) \\\n",
    "        .getOrCreate()\n",
    "        # .config('spark.sql.session.timeZone', 'UTC') \\\n",
    "        # .config('spark.executor.memory','16G') \\\n",
    "        # .config('spark.driver.memory','16G') \\\n",
    "        # .config(\"spark.driver.maxResultSize\", \"4G\") \\\n",
    "        #.getOrCreate()\n",
    "         #.config('spark.sql.repl.eagerEval.enabled', True) \\\n",
    "         #.config('spark.ui.showConsoleProgress', True) \\\n",
    "\n",
    "\n",
    "\n"
   ]
  },
  {
   "cell_type": "code",
   "execution_count": 20,
   "metadata": {},
   "outputs": [
    {
     "name": "stdout",
     "output_type": "stream",
     "text": [
      "0.04 min: Lags\n",
      "root\n",
      " |-- Store_names: string (nullable = true)\n",
      " |-- Reseller_City: string (nullable = true)\n",
      " |-- Super_Division: string (nullable = true)\n",
      " |-- Product_Division: string (nullable = true)\n",
      " |-- Business_Unit: string (nullable = true)\n",
      " |-- ds: timestamp (nullable = true)\n",
      " |-- Rslr_Sales_Qunatity: integer (nullable = true)\n",
      " |-- Rslr Sales Amount: integer (nullable = true)\n",
      " |-- black_week: integer (nullable = true)\n",
      " |-- christmas: integer (nullable = true)\n",
      "\n"
     ]
    }
   ],
   "source": [
    "start_time = time.time()\n",
    "sdf = spark.createDataFrame(data)\n",
    "print('%0.2f min: Lags' % ((time.time() - start_time) / 60))\n",
    "sdf = sdf.withColumnRenamed('Sales Date', 'ds')\\\n",
    "        .withColumnRenamed('Super Division', 'Super_Division')\\\n",
    "        .withColumnRenamed('Product Division', 'Product_Division')\\\n",
    "        .withColumnRenamed('Rslr Sales Quantity', 'Rslr_Sales_Qunatity')\\\n",
    "        .withColumnRenamed('Reseller City', 'Reseller_City')\\\n",
    "        .withColumnRenamed('Business Unit', 'Business_Unit')\n",
    "\n",
    "sdf.printSchema()\n",
    "\n",
    "sdf.createOrReplaceTempView('sales')"
   ]
  },
  {
   "cell_type": "code",
   "execution_count": 21,
   "metadata": {},
   "outputs": [
    {
     "name": "stdout",
     "output_type": "stream",
     "text": [
      "+--------------------+-------------+---------------+--------+\n",
      "|         Store_names|Reseller_City|  Business_Unit|count(1)|\n",
      "+--------------------+-------------+---------------+--------+\n",
      "|  Media Markt Aachen|       Aachen|           M365|      61|\n",
      "|       Saturn Aachen|       Aachen|           M365|      61|\n",
      "|  Media Markt Aachen|       Aachen|Office Standard|      61|\n",
      "|       Saturn Aachen|       Aachen|Office Standard|      61|\n",
      "|   Media Markt Aalen|        Aalen|           M365|      61|\n",
      "|   Media Markt Aalen|        Aalen|Office Standard|      61|\n",
      "|Media Markt Berli...|  Ahrensfelde|           M365|      61|\n",
      "|Media Markt Berli...|  Ahrensfelde|Office Standard|      61|\n",
      "|Media Markt Albstadt|     Albstadt|           M365|      61|\n",
      "|Media Markt Albstadt|     Albstadt|Office Standard|      61|\n",
      "|   Media Markt Alzey|        Alzey|           M365|      61|\n",
      "|   Media Markt Alzey|        Alzey|Office Standard|      61|\n",
      "|  Media Markt Amberg|       Amberg|           M365|      61|\n",
      "|  Media Markt Amberg|       Amberg|Office Standard|      61|\n",
      "| Media Markt Ansbach|      Ansbach|           M365|      61|\n",
      "|      Saturn Ansbach|      Ansbach|           M365|      61|\n",
      "|      Saturn Ansbach|      Ansbach|Office Standard|      61|\n",
      "| Media Markt Ansbach|      Ansbach|Office Standard|      61|\n",
      "|Media Markt Ascha...|Aschaffenburg|           M365|      61|\n",
      "|Media Markt Ascha...|Aschaffenburg|           M365|      61|\n",
      "+--------------------+-------------+---------------+--------+\n",
      "only showing top 20 rows\n",
      "\n",
      "== Physical Plan ==\n",
      "*(1) Project [Store_names#0, Reseller City#1 AS Reseller_City#64, Super Division#2 AS Super_Division#31, Product Division#3 AS Product_Division#42, Business Unit#4 AS Business_Unit#75, Sales Date#5 AS ds#20, Rslr Sales Quantity#6 AS Rslr_Sales_Qunatity#53, Rslr Sales Amount#7, black_week#8, christmas#9]\n",
      "+- *(1) Scan ExistingRDD arrow[Store_names#0,Reseller City#1,Super Division#2,Product Division#3,Business Unit#4,Sales Date#5,Rslr Sales Quantity#6,Rslr Sales Amount#7,black_week#8,christmas#9]\n",
      "\n",
      "\n"
     ]
    }
   ],
   "source": [
    "\n",
    "\n",
    "spark.sql(\"select Store_names, Reseller_City,  Business_Unit, count(*) from sales group by Store_names, Reseller_City, Business_Unit order by Reseller_City, Business_Unit\").show()\n",
    "\n",
    "sql = 'SELECT Store_names, Reseller_City, Super_Division, Product_Division, Business_Unit, black_week, christmas, ds, sum(Rslr_Sales_Qunatity) as y FROM sales GROUP BY Store_names, Reseller_City, Super_Division, Product_Division, Business_Unit, black_week, christmas, ds ORDER BY Store_names, Reseller_City,  Super_Division,  Business_Unit, ds'\n",
    "\n",
    "sdf.explain()\n"
   ]
  },
  {
   "cell_type": "code",
   "execution_count": 22,
   "metadata": {},
   "outputs": [
    {
     "data": {
      "text/plain": [
       "8"
      ]
     },
     "execution_count": 22,
     "metadata": {},
     "output_type": "execute_result"
    }
   ],
   "source": [
    "sdf.rdd.getNumPartitions()"
   ]
  },
  {
   "cell_type": "code",
   "execution_count": 23,
   "metadata": {},
   "outputs": [
    {
     "name": "stdout",
     "output_type": "stream",
     "text": [
      "+-------------------+-------------+--------------------+----------------+-------------+----------+---------+-------------------+---+\n",
      "|        Store_names|Reseller_City|      Super_Division|Product_Division|Business_Unit|black_week|christmas|                 ds|  y|\n",
      "+-------------------+-------------+--------------------+----------------+-------------+----------+---------+-------------------+---+\n",
      "| Saturn Köln-Weiden|         Köln|EDG Managed - Off...|   M365 Consumer|         M365|         0|        0|2017-01-31 00:00:00| 23|\n",
      "| Saturn Köln-Weiden|         Köln|EDG Managed - Off...|   M365 Consumer|         M365|         0|        0|2017-02-28 00:00:00| 11|\n",
      "| Saturn Köln-Weiden|         Köln|EDG Managed - Off...|   M365 Consumer|         M365|         0|        0|2017-03-31 00:00:00| 16|\n",
      "| Saturn Köln-Weiden|         Köln|EDG Managed - Off...|   M365 Consumer|         M365|         0|        0|2017-04-30 00:00:00| 10|\n",
      "| Saturn Köln-Weiden|         Köln|EDG Managed - Off...|   M365 Consumer|         M365|         0|        0|2017-05-31 00:00:00| 10|\n",
      "| Saturn Köln-Weiden|         Köln|EDG Managed - Off...|   M365 Consumer|         M365|         0|        0|2017-06-30 00:00:00| 13|\n",
      "| Saturn Köln-Weiden|         Köln|EDG Managed - Off...|   M365 Consumer|         M365|         0|        0|2017-07-31 00:00:00|  6|\n",
      "| Saturn Köln-Weiden|         Köln|EDG Managed - Off...|   M365 Consumer|         M365|         0|        0|2017-08-31 00:00:00| 12|\n",
      "| Saturn Köln-Weiden|         Köln|EDG Managed - Off...|   M365 Consumer|         M365|         0|        0|2017-09-30 00:00:00| 18|\n",
      "| Saturn Köln-Weiden|         Köln|EDG Managed - Off...|   M365 Consumer|         M365|         0|        0|2017-10-31 00:00:00| 21|\n",
      "| Saturn Köln-Weiden|         Köln|EDG Managed - Off...|   M365 Consumer|         M365|         1|        0|2017-11-30 00:00:00| 24|\n",
      "| Saturn Köln-Weiden|         Köln|EDG Managed - Off...|   M365 Consumer|         M365|         0|        1|2017-12-31 00:00:00| 24|\n",
      "| Saturn Köln-Weiden|         Köln|EDG Managed - Off...|   M365 Consumer|         M365|         0|        0|2018-01-31 00:00:00| 20|\n",
      "| Saturn Köln-Weiden|         Köln|EDG Managed - Off...|   M365 Consumer|         M365|         0|        0|2018-02-28 00:00:00| 13|\n",
      "| Saturn Köln-Weiden|         Köln|EDG Managed - Off...|   M365 Consumer|         M365|         0|        0|2018-03-31 00:00:00| 16|\n",
      "| Saturn Köln-Weiden|         Köln|EDG Managed - Off...|   M365 Consumer|         M365|         0|        0|2018-04-30 00:00:00| 17|\n",
      "| Saturn Köln-Weiden|         Köln|EDG Managed - Off...|   M365 Consumer|         M365|         0|        0|2018-05-31 00:00:00| 35|\n",
      "| Saturn Köln-Weiden|         Köln|EDG Managed - Off...|   M365 Consumer|         M365|         0|        0|2018-06-30 00:00:00| 23|\n",
      "| Saturn Köln-Weiden|         Köln|EDG Managed - Off...|   M365 Consumer|         M365|         0|        0|2018-07-31 00:00:00| 24|\n",
      "| Saturn Köln-Weiden|         Köln|EDG Managed - Off...|   M365 Consumer|         M365|         0|        0|2018-08-31 00:00:00| 24|\n",
      "+-------------------+-------------+--------------------+----------------+-------------+----------+---------+-------------------+---+\n",
      "only showing top 20 rows\n",
      "\n",
      "== Physical Plan ==\n",
      "InMemoryTableScan [Store_names#0, Reseller_City#64, Super_Division#31, Product_Division#42, Business_Unit#75, black_week#8, christmas#9, ds#20, y#162L]\n",
      "   +- InMemoryRelation [Store_names#0, Reseller_City#64, Super_Division#31, Product_Division#42, Business_Unit#75, black_week#8, christmas#9, ds#20, y#162L], StorageLevel(disk, memory, deserialized, 1 replicas)\n",
      "         +- Exchange hashpartitioning(Store_names#0, Business_Unit#75, 8), REPARTITION_BY_NUM, [id=#140]\n",
      "            +- *(3) Sort [Store_names#0 ASC NULLS FIRST, Reseller_City#64 ASC NULLS FIRST, Super_Division#31 ASC NULLS FIRST, Business_Unit#75 ASC NULLS FIRST, ds#20 ASC NULLS FIRST], true, 0\n",
      "               +- Exchange rangepartitioning(Store_names#0 ASC NULLS FIRST, Reseller_City#64 ASC NULLS FIRST, Super_Division#31 ASC NULLS FIRST, Business_Unit#75 ASC NULLS FIRST, ds#20 ASC NULLS FIRST, 200), ENSURE_REQUIREMENTS, [id=#136]\n",
      "                  +- *(2) HashAggregate(keys=[Store_names#0, Reseller_City#64, Super_Division#31, Product_Division#42, Business_Unit#75, black_week#8, christmas#9, ds#20], functions=[sum(Rslr_Sales_Qunatity#53)])\n",
      "                     +- Exchange hashpartitioning(Store_names#0, Reseller_City#64, Super_Division#31, Product_Division#42, Business_Unit#75, black_week#8, christmas#9, ds#20, 200), ENSURE_REQUIREMENTS, [id=#132]\n",
      "                        +- *(1) HashAggregate(keys=[Store_names#0, Reseller_City#64, Super_Division#31, Product_Division#42, Business_Unit#75, black_week#8, christmas#9, ds#20], functions=[partial_sum(Rslr_Sales_Qunatity#53)])\n",
      "                           +- *(1) Project [Store_names#0, Reseller City#1 AS Reseller_City#64, Super Division#2 AS Super_Division#31, Product Division#3 AS Product_Division#42, Business Unit#4 AS Business_Unit#75, Sales Date#5 AS ds#20, Rslr Sales Quantity#6 AS Rslr_Sales_Qunatity#53, black_week#8, christmas#9]\n",
      "                              +- *(1) Scan ExistingRDD arrow[Store_names#0,Reseller City#1,Super Division#2,Product Division#3,Business Unit#4,Sales Date#5,Rslr Sales Quantity#6,Rslr Sales Amount#7,black_week#8,christmas#9]\n",
      "\n",
      "\n"
     ]
    }
   ],
   "source": [
    "### make partitions of data based on number of cores in the local system\n",
    "spark.sql(sql).show()\n",
    "\n",
    "store_part = (spark.sql(sql).repartition(spark.sparkContext.defaultParallelism, ['Store_names','Business_Unit'])).cache()\n",
    "store_part.explain()"
   ]
  },
  {
   "cell_type": "code",
   "execution_count": 25,
   "metadata": {},
   "outputs": [],
   "source": [
    "### make the resultant schema\n",
    "result_schema =StructType([\n",
    "    StructField('ds',TimestampType()),\n",
    "    StructField('Store_names',StringType()),\n",
    "    StructField('Reseller_City',StringType()),\n",
    "    StructField('Super_Division',StringType()),\n",
    "    StructField('Product_Division',StringType()),\n",
    "    StructField('Business_Unit',StringType()),\n",
    "    StructField('y',DoubleType()),\n",
    "    StructField('yhat',DoubleType()),\n",
    "    StructField('yhat_upper',DoubleType()),\n",
    "    StructField('yhat_lower',DoubleType())\n",
    "])"
   ]
  },
  {
   "cell_type": "code",
   "execution_count": 26,
   "metadata": {},
   "outputs": [],
   "source": [
    "### create the holiday dataframe \n",
    "\n",
    "lockdown1 = pd.date_range('2020-03-22', '2020-05-03', freq ='m').to_list()\n",
    "lockdown2 = pd.date_range('2020-12-13', '2021-03-07', freq ='m').to_list()\n",
    "lockdown = lockdown1+lockdown2\n",
    "\n",
    "\n",
    "lock_down = pd.DataFrame({\n",
    "    'holiday': 'lock_down',\n",
    "    'ds' : pd.to_datetime(lockdown)})\n",
    "\n",
    "\n",
    "# christmas = ['2018-12-24', '2018-12-30', '2019-12-22', '2019-12-29',\n",
    "#             '2020-12-21','2020-12-28', '2021-12-24','2021-12-31']\n",
    "\n",
    "\n",
    "# christmas = pd.DataFrame({\n",
    "#     'holiday': 'christmas',\n",
    "#     'ds' : pd.to_datetime(christmas)})\n",
    "\n",
    "\n",
    "\n",
    "# holiday = pd.concat([lock_down, christmas])"
   ]
  },
  {
   "cell_type": "code",
   "execution_count": 28,
   "metadata": {},
   "outputs": [],
   "source": [
    "##### city-wise prophet function \n",
    "@pandas_udf( result_schema, PandasUDFType.GROUPED_MAP )\n",
    "def forecast_sales( store_pd):\n",
    "    \n",
    "    model = Prophet(interval_width=0.95, holidays = lock_down)\n",
    "    model.add_country_holidays(country_name='DE')\n",
    "    model.add_regressor('black_week')\n",
    "    model.add_regressor('christmas')\n",
    "\n",
    "    black_week = dict(zip(store_pd['ds'], store_pd['black_week']))\n",
    "    christmas = dict(zip(store_pd['ds'], store_pd['christmas']))\n",
    "    \n",
    "    train = store_pd[store_pd['ds']<='2022-02-28']\n",
    "    future_pd = store_pd[store_pd['ds']>'2022-02-28'].set_index('ds')\n",
    "\n",
    "    train['date_index'] = train['ds']\n",
    "    train['date_index'] = pd.to_datetime(train['date_index'])\n",
    "    train = train.set_index('date_index')\n",
    "\n",
    "\n",
    "    model.fit(train[['ds', 'y', 'black_week', 'christmas']])\n",
    "    future = model.make_future_dataframe(periods=1, freq='m')\n",
    "    future['black_week'] = future['ds'].map(black_week)\n",
    "    future['christmas'] = future['ds'].map(christmas)\n",
    "\n",
    "    #future['black_week'] = future['ds'].apply(black_week)\n",
    "    #future['promos'] = future['ds'].apply(promos)\n",
    "\n",
    "    forecast_pd = model.predict(future[['ds', 'black_week', 'christmas']])  \n",
    "\n",
    "\n",
    "    #forecast_pd = model.predict(future_pd[['ds', 'black_week', 'EOL_Promos']])  \n",
    "\n",
    "    f_pd = forecast_pd[ ['ds','yhat', 'yhat_upper', 'yhat_lower'] ].set_index('ds')\n",
    "\n",
    "    #store_pd = store_pd.filter(store_pd['ds']<'2021-10-01 00:00:00')\n",
    "    st_pd = store_pd[[ 'ds', 'Store_names', 'Reseller_City', 'Super_Division', 'Product_Division', 'Business_Unit','y']].set_index('ds')\n",
    "    #st_pd = pd.concat([st_pd1, st_pd2])\n",
    "\n",
    "    results_pd = f_pd.join( st_pd, how='left' )\n",
    "    results_pd.reset_index(level=0, inplace=True)\n",
    "\n",
    "    #results_pd[['Reseller_City','Business_Unit']] = future_pd[['Reseller_City','Business_Unit']].iloc[0]\n",
    "\n",
    "    return results_pd[ ['ds', 'Store_names', 'Reseller_City', 'Super_Division', 'Product_Division', 'Business_Unit','y', 'yhat', 'yhat_upper', 'yhat_lower'] ]"
   ]
  },
  {
   "cell_type": "code",
   "execution_count": 29,
   "metadata": {},
   "outputs": [
    {
     "name": "stdout",
     "output_type": "stream",
     "text": [
      "0.00 min: Lags\n",
      "== Physical Plan ==\n",
      "InMemoryTableScan [ds#368, Store_names#369, Reseller_City#370, Super_Division#371, Product_Division#372, Business_Unit#373, y#374, yhat#375, yhat_upper#376, yhat_lower#377, training_date#388]\n",
      "   +- InMemoryRelation [ds#368, Store_names#369, Reseller_City#370, Super_Division#371, Product_Division#372, Business_Unit#373, y#374, yhat#375, yhat_upper#376, yhat_lower#377, training_date#388], StorageLevel(disk, memory, deserialized, 1 replicas)\n",
      "         +- *(2) Project [ds#368, Store_names#369, Reseller_City#370, Super_Division#371, Product_Division#372, Business_Unit#373, y#374, yhat#375, yhat_upper#376, yhat_lower#377, 2022-03-04 AS training_date#388]\n",
      "            +- FlatMapGroupsInPandas [Store_names#0, Business_Unit#75], forecast_sales(Store_names#0, Reseller_City#64, Super_Division#31, Product_Division#42, Business_Unit#75, black_week#8, christmas#9, ds#20, y#162L), [ds#368, Store_names#369, Reseller_City#370, Super_Division#371, Product_Division#372, Business_Unit#373, y#374, yhat#375, yhat_upper#376, yhat_lower#377]\n",
      "               +- *(1) Sort [Store_names#0 ASC NULLS FIRST, Business_Unit#75 ASC NULLS FIRST], false, 0\n",
      "                  +- InMemoryTableScan [Store_names#0, Business_Unit#75, Store_names#0, Reseller_City#64, Super_Division#31, Product_Division#42, Business_Unit#75, black_week#8, christmas#9, ds#20, y#162L]\n",
      "                        +- InMemoryRelation [Store_names#0, Reseller_City#64, Super_Division#31, Product_Division#42, Business_Unit#75, black_week#8, christmas#9, ds#20, y#162L], StorageLevel(disk, memory, deserialized, 1 replicas)\n",
      "                              +- Exchange hashpartitioning(Store_names#0, Business_Unit#75, 8), REPARTITION_BY_NUM, [id=#140]\n",
      "                                 +- *(3) Sort [Store_names#0 ASC NULLS FIRST, Reseller_City#64 ASC NULLS FIRST, Super_Division#31 ASC NULLS FIRST, Business_Unit#75 ASC NULLS FIRST, ds#20 ASC NULLS FIRST], true, 0\n",
      "                                    +- Exchange rangepartitioning(Store_names#0 ASC NULLS FIRST, Reseller_City#64 ASC NULLS FIRST, Super_Division#31 ASC NULLS FIRST, Business_Unit#75 ASC NULLS FIRST, ds#20 ASC NULLS FIRST, 200), ENSURE_REQUIREMENTS, [id=#136]\n",
      "                                       +- *(2) HashAggregate(keys=[Store_names#0, Reseller_City#64, Super_Division#31, Product_Division#42, Business_Unit#75, black_week#8, christmas#9, ds#20], functions=[sum(Rslr_Sales_Qunatity#53)])\n",
      "                                          +- Exchange hashpartitioning(Store_names#0, Reseller_City#64, Super_Division#31, Product_Division#42, Business_Unit#75, black_week#8, christmas#9, ds#20, 200), ENSURE_REQUIREMENTS, [id=#132]\n",
      "                                             +- *(1) HashAggregate(keys=[Store_names#0, Reseller_City#64, Super_Division#31, Product_Division#42, Business_Unit#75, black_week#8, christmas#9, ds#20], functions=[partial_sum(Rslr_Sales_Qunatity#53)])\n",
      "                                                +- *(1) Project [Store_names#0, Reseller City#1 AS Reseller_City#64, Super Division#2 AS Super_Division#31, Product Division#3 AS Product_Division#42, Business Unit#4 AS Business_Unit#75, Sales Date#5 AS ds#20, Rslr Sales Quantity#6 AS Rslr_Sales_Qunatity#53, black_week#8, christmas#9]\n",
      "                                                   +- *(1) Scan ExistingRDD arrow[Store_names#0,Reseller City#1,Super Division#2,Product Division#3,Business Unit#4,Sales Date#5,Rslr Sales Quantity#6,Rslr Sales Amount#7,black_week#8,christmas#9]\n",
      "\n",
      "\n",
      "43.40 min: Lags\n"
     ]
    }
   ],
   "source": [
    "#### run the spark by store-wise\n",
    "import time\n",
    "results = (\n",
    "    store_part\n",
    "    .groupBy(['Store_names','Business_Unit'])\n",
    "    .apply(forecast_sales)\n",
    "    .withColumn('training_date', current_date() )\n",
    "    )\n",
    "\n",
    "### cache the results \n",
    "start_time = time.time()\n",
    "results.cache()\n",
    "print('%0.2f min: Lags' % ((time.time() - start_time) / 60))\n",
    "\n",
    "results.explain()\n",
    "results = results.coalesce(1)\n",
    "\n",
    "### convert the result from sparkdataframe to panadas datafrme \n",
    "start_time = time.time()\n",
    "final_df = results.toPandas()\n",
    "\n",
    "print('%0.2f min: Lags' % ((time.time() - start_time) / 60))"
   ]
  },
  {
   "cell_type": "code",
   "execution_count": 33,
   "metadata": {},
   "outputs": [],
   "source": [
    "final_df['yhat'] = np.where(final_df['yhat']<0, 0, final_df['yhat'])\n",
    "final_df['yhat_upper'] = np.where(final_df['yhat_upper']<0, 0, final_df['yhat_upper'])\n",
    "final_df['yhat_lower'] = np.where(final_df['yhat_lower']<0, 0, final_df['yhat_lower'])"
   ]
  },
  {
   "cell_type": "code",
   "execution_count": 37,
   "metadata": {},
   "outputs": [],
   "source": [
    "test_results = final_df.loc[final_df['ds']>='2022-03-31']"
   ]
  },
  {
   "cell_type": "code",
   "execution_count": 38,
   "metadata": {},
   "outputs": [
    {
     "data": {
      "text/html": [
       "<div>\n",
       "<style scoped>\n",
       "    .dataframe tbody tr th:only-of-type {\n",
       "        vertical-align: middle;\n",
       "    }\n",
       "\n",
       "    .dataframe tbody tr th {\n",
       "        vertical-align: top;\n",
       "    }\n",
       "\n",
       "    .dataframe thead th {\n",
       "        text-align: right;\n",
       "    }\n",
       "</style>\n",
       "<table border=\"1\" class=\"dataframe\">\n",
       "  <thead>\n",
       "    <tr style=\"text-align: right;\">\n",
       "      <th></th>\n",
       "      <th>ds</th>\n",
       "      <th>Store_names</th>\n",
       "      <th>Reseller_City</th>\n",
       "      <th>Super_Division</th>\n",
       "      <th>Product_Division</th>\n",
       "      <th>Business_Unit</th>\n",
       "      <th>y</th>\n",
       "      <th>yhat</th>\n",
       "      <th>yhat_upper</th>\n",
       "      <th>yhat_lower</th>\n",
       "      <th>training_date</th>\n",
       "    </tr>\n",
       "  </thead>\n",
       "  <tbody>\n",
       "    <tr>\n",
       "      <th>60</th>\n",
       "      <td>2022-03-31</td>\n",
       "      <td>Fil. Media Markt Würzburg City</td>\n",
       "      <td>Würzburg</td>\n",
       "      <td>EDG Managed - Office License and HP</td>\n",
       "      <td>M365 Consumer</td>\n",
       "      <td>M365</td>\n",
       "      <td>0.00</td>\n",
       "      <td>14.54</td>\n",
       "      <td>26.62</td>\n",
       "      <td>2.04</td>\n",
       "      <td>2022-03-04</td>\n",
       "    </tr>\n",
       "    <tr>\n",
       "      <th>121</th>\n",
       "      <td>2022-03-31</td>\n",
       "      <td>Media Markt Backnang</td>\n",
       "      <td>Backnang</td>\n",
       "      <td>EDG Managed - Office License and HP</td>\n",
       "      <td>M365 Consumer</td>\n",
       "      <td>M365</td>\n",
       "      <td>0.00</td>\n",
       "      <td>12.97</td>\n",
       "      <td>25.83</td>\n",
       "      <td>0.16</td>\n",
       "      <td>2022-03-04</td>\n",
       "    </tr>\n",
       "    <tr>\n",
       "      <th>182</th>\n",
       "      <td>2022-03-31</td>\n",
       "      <td>Media Markt Bad Dürrheim</td>\n",
       "      <td>Bad Dürrheim</td>\n",
       "      <td>EDG Managed - Office License and HP</td>\n",
       "      <td>Office Standard</td>\n",
       "      <td>Office Standard</td>\n",
       "      <td>0.00</td>\n",
       "      <td>51.61</td>\n",
       "      <td>78.23</td>\n",
       "      <td>23.59</td>\n",
       "      <td>2022-03-04</td>\n",
       "    </tr>\n",
       "    <tr>\n",
       "      <th>243</th>\n",
       "      <td>2022-03-31</td>\n",
       "      <td>Media Markt Bayreuth</td>\n",
       "      <td>Bayreuth</td>\n",
       "      <td>EDG Managed - Office License and HP</td>\n",
       "      <td>Office Standard</td>\n",
       "      <td>Office Standard</td>\n",
       "      <td>0.00</td>\n",
       "      <td>9.67</td>\n",
       "      <td>24.44</td>\n",
       "      <td>0.00</td>\n",
       "      <td>2022-03-04</td>\n",
       "    </tr>\n",
       "    <tr>\n",
       "      <th>304</th>\n",
       "      <td>2022-03-31</td>\n",
       "      <td>Media Markt Berlin-Charlottenburg</td>\n",
       "      <td>Berlin</td>\n",
       "      <td>EDG Managed - Office License and HP</td>\n",
       "      <td>M365 Consumer</td>\n",
       "      <td>M365</td>\n",
       "      <td>0.00</td>\n",
       "      <td>30.11</td>\n",
       "      <td>51.92</td>\n",
       "      <td>10.80</td>\n",
       "      <td>2022-03-04</td>\n",
       "    </tr>\n",
       "  </tbody>\n",
       "</table>\n",
       "</div>"
      ],
      "text/plain": [
       "            ds                        Store_names Reseller_City  \\\n",
       "60  2022-03-31     Fil. Media Markt Würzburg City      Würzburg   \n",
       "121 2022-03-31               Media Markt Backnang      Backnang   \n",
       "182 2022-03-31           Media Markt Bad Dürrheim  Bad Dürrheim   \n",
       "243 2022-03-31               Media Markt Bayreuth      Bayreuth   \n",
       "304 2022-03-31  Media Markt Berlin-Charlottenburg        Berlin   \n",
       "\n",
       "                          Super_Division Product_Division    Business_Unit  \\\n",
       "60   EDG Managed - Office License and HP    M365 Consumer             M365   \n",
       "121  EDG Managed - Office License and HP    M365 Consumer             M365   \n",
       "182  EDG Managed - Office License and HP  Office Standard  Office Standard   \n",
       "243  EDG Managed - Office License and HP  Office Standard  Office Standard   \n",
       "304  EDG Managed - Office License and HP    M365 Consumer             M365   \n",
       "\n",
       "       y  yhat  yhat_upper  yhat_lower training_date  \n",
       "60  0.00 14.54       26.62        2.04    2022-03-04  \n",
       "121 0.00 12.97       25.83        0.16    2022-03-04  \n",
       "182 0.00 51.61       78.23       23.59    2022-03-04  \n",
       "243 0.00  9.67       24.44        0.00    2022-03-04  \n",
       "304 0.00 30.11       51.92       10.80    2022-03-04  "
      ]
     },
     "execution_count": 38,
     "metadata": {},
     "output_type": "execute_result"
    }
   ],
   "source": [
    "test_results.head()"
   ]
  },
  {
   "cell_type": "code",
   "execution_count": 39,
   "metadata": {},
   "outputs": [
    {
     "name": "stdout",
     "output_type": "stream",
     "text": [
      "Root Mean Absolute Error_store: 4.90451356389608\n"
     ]
    }
   ],
   "source": [
    "from sklearn.metrics import mean_absolute_error\n",
    "rmse_pred = mean_absolute_error(test_results['y'], test_results['yhat'])\n",
    "    \n",
    "print(\"Root Mean Absolute Error_store:\" , np.sqrt(rmse_pred))"
   ]
  },
  {
   "cell_type": "code",
   "execution_count": 40,
   "metadata": {},
   "outputs": [
    {
     "name": "stdout",
     "output_type": "stream",
     "text": [
      "Normalize RMSE: inf\n"
     ]
    }
   ],
   "source": [
    "normalize_rmse = np.sqrt(rmse_pred)/(test_results['y'].max()-test_results['y'].min())\n",
    "print(\"Normalize RMSE:\" , normalize_rmse)"
   ]
  },
  {
   "cell_type": "code",
   "execution_count": 41,
   "metadata": {},
   "outputs": [],
   "source": [
    "final_df = final_df.drop_duplicates()\n",
    "final_df.to_csv(r'output_files/office_store_historic.csv', index=False)\n",
    "\n",
    "predicted_data = final_df.loc[final_df['ds']> '2022-02-28']\n",
    "\n",
    "predicted_data = round_target_column(predicted_data, 'yhat')\n",
    "predicted_data = round_target_column(predicted_data, 'yhat_lower')\n",
    "predicted_data = round_target_column(predicted_data, 'yhat_upper')\n",
    "\n",
    "predicted_data.to_csv(r'output_files/office_store_monthly.csv', index=False)"
   ]
  },
  {
   "cell_type": "code",
   "execution_count": 42,
   "metadata": {},
   "outputs": [],
   "source": [
    "stores=final_df['Store_names'].unique()"
   ]
  },
  {
   "cell_type": "code",
   "execution_count": 43,
   "metadata": {},
   "outputs": [
    {
     "data": {
      "text/plain": [
       "array(['M365', 'Office Standard'], dtype=object)"
      ]
     },
     "execution_count": 43,
     "metadata": {},
     "output_type": "execute_result"
    }
   ],
   "source": [
    "final_df['Business_Unit'].unique()"
   ]
  },
  {
   "cell_type": "code",
   "execution_count": 44,
   "metadata": {},
   "outputs": [],
   "source": [
    "stores = final_df['Store_names'].unique()"
   ]
  },
  {
   "cell_type": "code",
   "execution_count": 45,
   "metadata": {},
   "outputs": [],
   "source": [
    "import plotly.graph_objs as go\n",
    "def plot_fig(df, store, item):\n",
    "    fig = go.Figure()\n",
    "    # Create and style traces\n",
    "    forecast = df.loc[df['Store_names'] == store]\n",
    "    print(store, item)\n",
    "    forecast = forecast.loc[forecast['Business_Unit'] == item]\n",
    "    fig.add_trace(go.Scatter(x=forecast['ds'], y=forecast['y'], name='Actual',))\n",
    "    fig.add_trace(go.Scatter(x=forecast['ds'], y=forecast['yhat'], name='Predicted',))\n",
    "    #fig.add_trace(go.Scatter(x=forecast['ds'], y=forecast['yhat_lower'], name='lowelimit',))\n",
    "    fig.add_trace(go.Scatter(x=forecast['ds'], y=forecast['yhat_upper'], name='upperlimit',))\n",
    "    #fig.add_trace(go.Scatter(x=forecast['ds'], y=forecast['promos'], name='promos',))\n",
    "    fig.show()"
   ]
  },
  {
   "cell_type": "code",
   "execution_count": 46,
   "metadata": {},
   "outputs": [
    {
     "name": "stdout",
     "output_type": "stream",
     "text": [
      "Saturn Münster 2 Arkaden M365\n"
     ]
    },
    {
     "data": {
      "application/vnd.plotly.v1+json": {
       "config": {
        "plotlyServerURL": "https://plot.ly"
       },
       "data": [
        {
         "name": "Actual",
         "type": "scatter",
         "x": [
          "2017-01-31T00:00:00",
          "2017-02-28T00:00:00",
          "2017-03-31T00:00:00",
          "2017-04-30T00:00:00",
          "2017-05-31T00:00:00",
          "2017-06-30T00:00:00",
          "2017-07-31T00:00:00",
          "2017-08-31T00:00:00",
          "2017-09-30T00:00:00",
          "2017-10-31T00:00:00",
          "2017-11-30T00:00:00",
          "2017-12-31T00:00:00",
          "2018-01-31T00:00:00",
          "2018-02-28T00:00:00",
          "2018-03-31T00:00:00",
          "2018-04-30T00:00:00",
          "2018-05-31T00:00:00",
          "2018-06-30T00:00:00",
          "2018-07-31T00:00:00",
          "2018-08-31T00:00:00",
          "2018-09-30T00:00:00",
          "2018-10-31T00:00:00",
          "2018-11-30T00:00:00",
          "2018-12-31T00:00:00",
          "2019-01-31T00:00:00",
          "2019-02-28T00:00:00",
          "2019-03-31T00:00:00",
          "2019-04-30T00:00:00",
          "2019-05-31T00:00:00",
          "2019-06-30T00:00:00",
          "2019-07-31T00:00:00",
          "2019-08-31T00:00:00",
          "2019-09-30T00:00:00",
          "2019-10-31T00:00:00",
          "2019-11-30T00:00:00",
          "2019-12-31T00:00:00",
          "2020-01-31T00:00:00",
          "2020-02-29T00:00:00",
          "2020-03-31T00:00:00",
          "2020-04-30T00:00:00",
          "2020-05-31T00:00:00",
          "2020-06-30T00:00:00",
          "2020-07-31T00:00:00",
          "2020-08-31T00:00:00",
          "2020-09-30T00:00:00",
          "2020-10-31T00:00:00",
          "2020-11-30T00:00:00",
          "2020-12-31T00:00:00",
          "2021-01-31T00:00:00",
          "2021-02-28T00:00:00",
          "2021-03-31T00:00:00",
          "2021-04-30T00:00:00",
          "2021-05-31T00:00:00",
          "2021-06-30T00:00:00",
          "2021-07-31T00:00:00",
          "2021-08-31T00:00:00",
          "2021-09-30T00:00:00",
          "2021-10-31T00:00:00",
          "2022-01-31T00:00:00",
          "2022-02-28T00:00:00",
          "2022-03-31T00:00:00"
         ],
         "y": [
          25,
          22,
          27,
          23,
          19,
          19,
          17,
          27,
          21,
          20,
          25,
          28,
          10,
          18,
          28,
          17,
          25,
          21,
          16,
          20,
          36,
          17,
          16,
          33,
          22,
          20,
          33,
          12,
          26,
          8,
          12,
          27,
          20,
          21,
          17,
          29,
          34,
          20,
          6,
          2,
          10,
          14,
          15,
          12,
          20,
          11,
          23,
          10,
          1,
          5,
          23,
          11,
          10,
          15,
          11,
          19,
          13,
          19,
          2,
          29,
          0
         ]
        },
        {
         "name": "Predicted",
         "type": "scatter",
         "x": [
          "2017-01-31T00:00:00",
          "2017-02-28T00:00:00",
          "2017-03-31T00:00:00",
          "2017-04-30T00:00:00",
          "2017-05-31T00:00:00",
          "2017-06-30T00:00:00",
          "2017-07-31T00:00:00",
          "2017-08-31T00:00:00",
          "2017-09-30T00:00:00",
          "2017-10-31T00:00:00",
          "2017-11-30T00:00:00",
          "2017-12-31T00:00:00",
          "2018-01-31T00:00:00",
          "2018-02-28T00:00:00",
          "2018-03-31T00:00:00",
          "2018-04-30T00:00:00",
          "2018-05-31T00:00:00",
          "2018-06-30T00:00:00",
          "2018-07-31T00:00:00",
          "2018-08-31T00:00:00",
          "2018-09-30T00:00:00",
          "2018-10-31T00:00:00",
          "2018-11-30T00:00:00",
          "2018-12-31T00:00:00",
          "2019-01-31T00:00:00",
          "2019-02-28T00:00:00",
          "2019-03-31T00:00:00",
          "2019-04-30T00:00:00",
          "2019-05-31T00:00:00",
          "2019-06-30T00:00:00",
          "2019-07-31T00:00:00",
          "2019-08-31T00:00:00",
          "2019-09-30T00:00:00",
          "2019-10-31T00:00:00",
          "2019-11-30T00:00:00",
          "2019-12-31T00:00:00",
          "2020-01-31T00:00:00",
          "2020-02-29T00:00:00",
          "2020-03-31T00:00:00",
          "2020-04-30T00:00:00",
          "2020-05-31T00:00:00",
          "2020-06-30T00:00:00",
          "2020-07-31T00:00:00",
          "2020-08-31T00:00:00",
          "2020-09-30T00:00:00",
          "2020-10-31T00:00:00",
          "2020-11-30T00:00:00",
          "2020-12-31T00:00:00",
          "2021-01-31T00:00:00",
          "2021-02-28T00:00:00",
          "2021-03-31T00:00:00",
          "2021-04-30T00:00:00",
          "2021-05-31T00:00:00",
          "2021-06-30T00:00:00",
          "2021-07-31T00:00:00",
          "2021-08-31T00:00:00",
          "2021-09-30T00:00:00",
          "2021-10-31T00:00:00",
          "2022-01-31T00:00:00",
          "2022-02-28T00:00:00",
          "2022-03-31T00:00:00"
         ],
         "y": [
          18.300606329760157,
          26.292837724032378,
          29.086167793184682,
          20.663892097497317,
          19.41550722563914,
          19.715129344071556,
          18.06262389649011,
          23.074214938887586,
          24.773190447839156,
          19.99688486335588,
          25.000142849346723,
          31.258976556379185,
          20.053140235000633,
          23.20142050416311,
          29.032564705737155,
          15.516204389693462,
          22.19458899235879,
          15.304438443988635,
          14.6610307708871,
          24.17223471061122,
          24.212544423821083,
          19.860659320042632,
          18.840648959996496,
          29.62243368437952,
          21.824136779804114,
          20.08054996668355,
          28.946185143760523,
          10.401608135500034,
          24.976180838771167,
          10.842797151516129,
          11.33352377382068,
          25.317097107254206,
          23.611984375339645,
          19.077445462266255,
          13.025489066500738,
          27.57522794794943,
          23.610060229543276,
          23.03409316932729,
          7.338150121223521,
          4.072552945180188,
          10.322059724482788,
          17.751937743376594,
          15.216155983486193,
          15.705889135486212,
          18.975877051467783,
          14.86405002287335,
          24.145574138734897,
          11.56320141165161,
          0,
          4.52346502140221,
          22.596344444922828,
          14.34372998044826,
          13.095345111002747,
          13.394967231177766,
          11.742461785424183,
          16.754052829667735,
          18.453028340441588,
          14.242678455469898,
          13.732978136418915,
          16.881258406983648,
          22.7124026083303
         ]
        },
        {
         "name": "upperlimit",
         "type": "scatter",
         "x": [
          "2017-01-31T00:00:00",
          "2017-02-28T00:00:00",
          "2017-03-31T00:00:00",
          "2017-04-30T00:00:00",
          "2017-05-31T00:00:00",
          "2017-06-30T00:00:00",
          "2017-07-31T00:00:00",
          "2017-08-31T00:00:00",
          "2017-09-30T00:00:00",
          "2017-10-31T00:00:00",
          "2017-11-30T00:00:00",
          "2017-12-31T00:00:00",
          "2018-01-31T00:00:00",
          "2018-02-28T00:00:00",
          "2018-03-31T00:00:00",
          "2018-04-30T00:00:00",
          "2018-05-31T00:00:00",
          "2018-06-30T00:00:00",
          "2018-07-31T00:00:00",
          "2018-08-31T00:00:00",
          "2018-09-30T00:00:00",
          "2018-10-31T00:00:00",
          "2018-11-30T00:00:00",
          "2018-12-31T00:00:00",
          "2019-01-31T00:00:00",
          "2019-02-28T00:00:00",
          "2019-03-31T00:00:00",
          "2019-04-30T00:00:00",
          "2019-05-31T00:00:00",
          "2019-06-30T00:00:00",
          "2019-07-31T00:00:00",
          "2019-08-31T00:00:00",
          "2019-09-30T00:00:00",
          "2019-10-31T00:00:00",
          "2019-11-30T00:00:00",
          "2019-12-31T00:00:00",
          "2020-01-31T00:00:00",
          "2020-02-29T00:00:00",
          "2020-03-31T00:00:00",
          "2020-04-30T00:00:00",
          "2020-05-31T00:00:00",
          "2020-06-30T00:00:00",
          "2020-07-31T00:00:00",
          "2020-08-31T00:00:00",
          "2020-09-30T00:00:00",
          "2020-10-31T00:00:00",
          "2020-11-30T00:00:00",
          "2020-12-31T00:00:00",
          "2021-01-31T00:00:00",
          "2021-02-28T00:00:00",
          "2021-03-31T00:00:00",
          "2021-04-30T00:00:00",
          "2021-05-31T00:00:00",
          "2021-06-30T00:00:00",
          "2021-07-31T00:00:00",
          "2021-08-31T00:00:00",
          "2021-09-30T00:00:00",
          "2021-10-31T00:00:00",
          "2022-01-31T00:00:00",
          "2022-02-28T00:00:00",
          "2022-03-31T00:00:00"
         ],
         "y": [
          26.33944599921777,
          34.53875876671885,
          37.49473754348928,
          29.17776901823961,
          27.560574565554752,
          27.948587314527348,
          26.73379438112761,
          31.68184410665006,
          33.32553900451624,
          28.1530373457602,
          32.9968925955061,
          40.11127253924048,
          28.440652478326214,
          31.45326766510284,
          37.45649147362457,
          23.92957237798163,
          30.589284946389437,
          23.350114209814922,
          22.871223478895025,
          32.648398264727476,
          33.01414530514799,
          28.616672613253215,
          27.274087780937087,
          38.404918347957086,
          30.25965761230718,
          28.93515530263621,
          37.23498458808995,
          19.07061269512104,
          33.334776423421424,
          19.071320365050468,
          18.989781989661992,
          33.433752801814094,
          31.489390736389925,
          27.477027727299387,
          20.986091765780596,
          35.99701674019321,
          31.57865152056339,
          31.4671923243578,
          16.014785141796974,
          12.24491847519803,
          19.318705642772574,
          26.083291513262335,
          23.83392520594822,
          23.36200908704735,
          27.212383456987737,
          23.135811918804762,
          32.37651240127054,
          20.085575814212724,
          4.3328756390302114,
          12.274688392174925,
          30.59871959826121,
          22.24910060029283,
          21.359570684951848,
          21.120743553130453,
          20.151378316923402,
          24.902203033814107,
          27.133090514889403,
          22.66907168297465,
          21.917088297075452,
          25.310531665156404,
          30.047867696049376
         ]
        }
       ],
       "layout": {
        "template": {
         "data": {
          "bar": [
           {
            "error_x": {
             "color": "#2a3f5f"
            },
            "error_y": {
             "color": "#2a3f5f"
            },
            "marker": {
             "line": {
              "color": "#E5ECF6",
              "width": 0.5
             },
             "pattern": {
              "fillmode": "overlay",
              "size": 10,
              "solidity": 0.2
             }
            },
            "type": "bar"
           }
          ],
          "barpolar": [
           {
            "marker": {
             "line": {
              "color": "#E5ECF6",
              "width": 0.5
             },
             "pattern": {
              "fillmode": "overlay",
              "size": 10,
              "solidity": 0.2
             }
            },
            "type": "barpolar"
           }
          ],
          "carpet": [
           {
            "aaxis": {
             "endlinecolor": "#2a3f5f",
             "gridcolor": "white",
             "linecolor": "white",
             "minorgridcolor": "white",
             "startlinecolor": "#2a3f5f"
            },
            "baxis": {
             "endlinecolor": "#2a3f5f",
             "gridcolor": "white",
             "linecolor": "white",
             "minorgridcolor": "white",
             "startlinecolor": "#2a3f5f"
            },
            "type": "carpet"
           }
          ],
          "choropleth": [
           {
            "colorbar": {
             "outlinewidth": 0,
             "ticks": ""
            },
            "type": "choropleth"
           }
          ],
          "contour": [
           {
            "colorbar": {
             "outlinewidth": 0,
             "ticks": ""
            },
            "colorscale": [
             [
              0,
              "#0d0887"
             ],
             [
              0.1111111111111111,
              "#46039f"
             ],
             [
              0.2222222222222222,
              "#7201a8"
             ],
             [
              0.3333333333333333,
              "#9c179e"
             ],
             [
              0.4444444444444444,
              "#bd3786"
             ],
             [
              0.5555555555555556,
              "#d8576b"
             ],
             [
              0.6666666666666666,
              "#ed7953"
             ],
             [
              0.7777777777777778,
              "#fb9f3a"
             ],
             [
              0.8888888888888888,
              "#fdca26"
             ],
             [
              1,
              "#f0f921"
             ]
            ],
            "type": "contour"
           }
          ],
          "contourcarpet": [
           {
            "colorbar": {
             "outlinewidth": 0,
             "ticks": ""
            },
            "type": "contourcarpet"
           }
          ],
          "heatmap": [
           {
            "colorbar": {
             "outlinewidth": 0,
             "ticks": ""
            },
            "colorscale": [
             [
              0,
              "#0d0887"
             ],
             [
              0.1111111111111111,
              "#46039f"
             ],
             [
              0.2222222222222222,
              "#7201a8"
             ],
             [
              0.3333333333333333,
              "#9c179e"
             ],
             [
              0.4444444444444444,
              "#bd3786"
             ],
             [
              0.5555555555555556,
              "#d8576b"
             ],
             [
              0.6666666666666666,
              "#ed7953"
             ],
             [
              0.7777777777777778,
              "#fb9f3a"
             ],
             [
              0.8888888888888888,
              "#fdca26"
             ],
             [
              1,
              "#f0f921"
             ]
            ],
            "type": "heatmap"
           }
          ],
          "heatmapgl": [
           {
            "colorbar": {
             "outlinewidth": 0,
             "ticks": ""
            },
            "colorscale": [
             [
              0,
              "#0d0887"
             ],
             [
              0.1111111111111111,
              "#46039f"
             ],
             [
              0.2222222222222222,
              "#7201a8"
             ],
             [
              0.3333333333333333,
              "#9c179e"
             ],
             [
              0.4444444444444444,
              "#bd3786"
             ],
             [
              0.5555555555555556,
              "#d8576b"
             ],
             [
              0.6666666666666666,
              "#ed7953"
             ],
             [
              0.7777777777777778,
              "#fb9f3a"
             ],
             [
              0.8888888888888888,
              "#fdca26"
             ],
             [
              1,
              "#f0f921"
             ]
            ],
            "type": "heatmapgl"
           }
          ],
          "histogram": [
           {
            "marker": {
             "pattern": {
              "fillmode": "overlay",
              "size": 10,
              "solidity": 0.2
             }
            },
            "type": "histogram"
           }
          ],
          "histogram2d": [
           {
            "colorbar": {
             "outlinewidth": 0,
             "ticks": ""
            },
            "colorscale": [
             [
              0,
              "#0d0887"
             ],
             [
              0.1111111111111111,
              "#46039f"
             ],
             [
              0.2222222222222222,
              "#7201a8"
             ],
             [
              0.3333333333333333,
              "#9c179e"
             ],
             [
              0.4444444444444444,
              "#bd3786"
             ],
             [
              0.5555555555555556,
              "#d8576b"
             ],
             [
              0.6666666666666666,
              "#ed7953"
             ],
             [
              0.7777777777777778,
              "#fb9f3a"
             ],
             [
              0.8888888888888888,
              "#fdca26"
             ],
             [
              1,
              "#f0f921"
             ]
            ],
            "type": "histogram2d"
           }
          ],
          "histogram2dcontour": [
           {
            "colorbar": {
             "outlinewidth": 0,
             "ticks": ""
            },
            "colorscale": [
             [
              0,
              "#0d0887"
             ],
             [
              0.1111111111111111,
              "#46039f"
             ],
             [
              0.2222222222222222,
              "#7201a8"
             ],
             [
              0.3333333333333333,
              "#9c179e"
             ],
             [
              0.4444444444444444,
              "#bd3786"
             ],
             [
              0.5555555555555556,
              "#d8576b"
             ],
             [
              0.6666666666666666,
              "#ed7953"
             ],
             [
              0.7777777777777778,
              "#fb9f3a"
             ],
             [
              0.8888888888888888,
              "#fdca26"
             ],
             [
              1,
              "#f0f921"
             ]
            ],
            "type": "histogram2dcontour"
           }
          ],
          "mesh3d": [
           {
            "colorbar": {
             "outlinewidth": 0,
             "ticks": ""
            },
            "type": "mesh3d"
           }
          ],
          "parcoords": [
           {
            "line": {
             "colorbar": {
              "outlinewidth": 0,
              "ticks": ""
             }
            },
            "type": "parcoords"
           }
          ],
          "pie": [
           {
            "automargin": true,
            "type": "pie"
           }
          ],
          "scatter": [
           {
            "marker": {
             "colorbar": {
              "outlinewidth": 0,
              "ticks": ""
             }
            },
            "type": "scatter"
           }
          ],
          "scatter3d": [
           {
            "line": {
             "colorbar": {
              "outlinewidth": 0,
              "ticks": ""
             }
            },
            "marker": {
             "colorbar": {
              "outlinewidth": 0,
              "ticks": ""
             }
            },
            "type": "scatter3d"
           }
          ],
          "scattercarpet": [
           {
            "marker": {
             "colorbar": {
              "outlinewidth": 0,
              "ticks": ""
             }
            },
            "type": "scattercarpet"
           }
          ],
          "scattergeo": [
           {
            "marker": {
             "colorbar": {
              "outlinewidth": 0,
              "ticks": ""
             }
            },
            "type": "scattergeo"
           }
          ],
          "scattergl": [
           {
            "marker": {
             "colorbar": {
              "outlinewidth": 0,
              "ticks": ""
             }
            },
            "type": "scattergl"
           }
          ],
          "scattermapbox": [
           {
            "marker": {
             "colorbar": {
              "outlinewidth": 0,
              "ticks": ""
             }
            },
            "type": "scattermapbox"
           }
          ],
          "scatterpolar": [
           {
            "marker": {
             "colorbar": {
              "outlinewidth": 0,
              "ticks": ""
             }
            },
            "type": "scatterpolar"
           }
          ],
          "scatterpolargl": [
           {
            "marker": {
             "colorbar": {
              "outlinewidth": 0,
              "ticks": ""
             }
            },
            "type": "scatterpolargl"
           }
          ],
          "scatterternary": [
           {
            "marker": {
             "colorbar": {
              "outlinewidth": 0,
              "ticks": ""
             }
            },
            "type": "scatterternary"
           }
          ],
          "surface": [
           {
            "colorbar": {
             "outlinewidth": 0,
             "ticks": ""
            },
            "colorscale": [
             [
              0,
              "#0d0887"
             ],
             [
              0.1111111111111111,
              "#46039f"
             ],
             [
              0.2222222222222222,
              "#7201a8"
             ],
             [
              0.3333333333333333,
              "#9c179e"
             ],
             [
              0.4444444444444444,
              "#bd3786"
             ],
             [
              0.5555555555555556,
              "#d8576b"
             ],
             [
              0.6666666666666666,
              "#ed7953"
             ],
             [
              0.7777777777777778,
              "#fb9f3a"
             ],
             [
              0.8888888888888888,
              "#fdca26"
             ],
             [
              1,
              "#f0f921"
             ]
            ],
            "type": "surface"
           }
          ],
          "table": [
           {
            "cells": {
             "fill": {
              "color": "#EBF0F8"
             },
             "line": {
              "color": "white"
             }
            },
            "header": {
             "fill": {
              "color": "#C8D4E3"
             },
             "line": {
              "color": "white"
             }
            },
            "type": "table"
           }
          ]
         },
         "layout": {
          "annotationdefaults": {
           "arrowcolor": "#2a3f5f",
           "arrowhead": 0,
           "arrowwidth": 1
          },
          "autotypenumbers": "strict",
          "coloraxis": {
           "colorbar": {
            "outlinewidth": 0,
            "ticks": ""
           }
          },
          "colorscale": {
           "diverging": [
            [
             0,
             "#8e0152"
            ],
            [
             0.1,
             "#c51b7d"
            ],
            [
             0.2,
             "#de77ae"
            ],
            [
             0.3,
             "#f1b6da"
            ],
            [
             0.4,
             "#fde0ef"
            ],
            [
             0.5,
             "#f7f7f7"
            ],
            [
             0.6,
             "#e6f5d0"
            ],
            [
             0.7,
             "#b8e186"
            ],
            [
             0.8,
             "#7fbc41"
            ],
            [
             0.9,
             "#4d9221"
            ],
            [
             1,
             "#276419"
            ]
           ],
           "sequential": [
            [
             0,
             "#0d0887"
            ],
            [
             0.1111111111111111,
             "#46039f"
            ],
            [
             0.2222222222222222,
             "#7201a8"
            ],
            [
             0.3333333333333333,
             "#9c179e"
            ],
            [
             0.4444444444444444,
             "#bd3786"
            ],
            [
             0.5555555555555556,
             "#d8576b"
            ],
            [
             0.6666666666666666,
             "#ed7953"
            ],
            [
             0.7777777777777778,
             "#fb9f3a"
            ],
            [
             0.8888888888888888,
             "#fdca26"
            ],
            [
             1,
             "#f0f921"
            ]
           ],
           "sequentialminus": [
            [
             0,
             "#0d0887"
            ],
            [
             0.1111111111111111,
             "#46039f"
            ],
            [
             0.2222222222222222,
             "#7201a8"
            ],
            [
             0.3333333333333333,
             "#9c179e"
            ],
            [
             0.4444444444444444,
             "#bd3786"
            ],
            [
             0.5555555555555556,
             "#d8576b"
            ],
            [
             0.6666666666666666,
             "#ed7953"
            ],
            [
             0.7777777777777778,
             "#fb9f3a"
            ],
            [
             0.8888888888888888,
             "#fdca26"
            ],
            [
             1,
             "#f0f921"
            ]
           ]
          },
          "colorway": [
           "#636efa",
           "#EF553B",
           "#00cc96",
           "#ab63fa",
           "#FFA15A",
           "#19d3f3",
           "#FF6692",
           "#B6E880",
           "#FF97FF",
           "#FECB52"
          ],
          "font": {
           "color": "#2a3f5f"
          },
          "geo": {
           "bgcolor": "white",
           "lakecolor": "white",
           "landcolor": "#E5ECF6",
           "showlakes": true,
           "showland": true,
           "subunitcolor": "white"
          },
          "hoverlabel": {
           "align": "left"
          },
          "hovermode": "closest",
          "mapbox": {
           "style": "light"
          },
          "paper_bgcolor": "white",
          "plot_bgcolor": "#E5ECF6",
          "polar": {
           "angularaxis": {
            "gridcolor": "white",
            "linecolor": "white",
            "ticks": ""
           },
           "bgcolor": "#E5ECF6",
           "radialaxis": {
            "gridcolor": "white",
            "linecolor": "white",
            "ticks": ""
           }
          },
          "scene": {
           "xaxis": {
            "backgroundcolor": "#E5ECF6",
            "gridcolor": "white",
            "gridwidth": 2,
            "linecolor": "white",
            "showbackground": true,
            "ticks": "",
            "zerolinecolor": "white"
           },
           "yaxis": {
            "backgroundcolor": "#E5ECF6",
            "gridcolor": "white",
            "gridwidth": 2,
            "linecolor": "white",
            "showbackground": true,
            "ticks": "",
            "zerolinecolor": "white"
           },
           "zaxis": {
            "backgroundcolor": "#E5ECF6",
            "gridcolor": "white",
            "gridwidth": 2,
            "linecolor": "white",
            "showbackground": true,
            "ticks": "",
            "zerolinecolor": "white"
           }
          },
          "shapedefaults": {
           "line": {
            "color": "#2a3f5f"
           }
          },
          "ternary": {
           "aaxis": {
            "gridcolor": "white",
            "linecolor": "white",
            "ticks": ""
           },
           "baxis": {
            "gridcolor": "white",
            "linecolor": "white",
            "ticks": ""
           },
           "bgcolor": "#E5ECF6",
           "caxis": {
            "gridcolor": "white",
            "linecolor": "white",
            "ticks": ""
           }
          },
          "title": {
           "x": 0.05
          },
          "xaxis": {
           "automargin": true,
           "gridcolor": "white",
           "linecolor": "white",
           "ticks": "",
           "title": {
            "standoff": 15
           },
           "zerolinecolor": "white",
           "zerolinewidth": 2
          },
          "yaxis": {
           "automargin": true,
           "gridcolor": "white",
           "linecolor": "white",
           "ticks": "",
           "title": {
            "standoff": 15
           },
           "zerolinecolor": "white",
           "zerolinewidth": 2
          }
         }
        }
       }
      }
     },
     "metadata": {},
     "output_type": "display_data"
    }
   ],
   "source": [
    "plot_fig(final_df, stores[300], 'M365')"
   ]
  },
  {
   "cell_type": "code",
   "execution_count": 39,
   "metadata": {},
   "outputs": [],
   "source": [
    "from lightgbm import LGBMRegressor\n",
    "import lightgbm as lgb\n",
    "import joblib\n",
    "from sklearn.model_selection import RandomizedSearchCV\n",
    "from sklearn.model_selection import TimeSeriesSplit\n",
    "import os, sys, gc, time, warnings, pickle, psutil, random\n",
    "\n",
    "\n",
    "\n",
    "### make the resultant schema\n",
    "final_schema =StructType([\n",
    "    StructField('ds',TimestampType()),\n",
    "    StructField('Store_names',StringType()),\n",
    "    StructField('Business_Unit',StringType()),\n",
    "    StructField('black_week',DoubleType()),\n",
    "    StructField('y',DoubleType()),\n",
    "    StructField('y_prediction',DoubleType())\n",
    "])\n",
    "\n",
    "\n",
    "@pandas_udf( final_schema, PandasUDFType.GROUPED_MAP )\n",
    "def PA_effect_per_store(store_data):\n",
    "\n",
    "    lockdown1 = pd.date_range('2020-03-22', '2020-05-04', freq ='m')\n",
    "    lockdown2 = pd.date_range('2020-11-02', '2021-01-10', freq ='m')\n",
    "\n",
    "\n",
    "    def conditions(data):\n",
    "        if (data['Sales Date'] in lockdown1) or (data['Sales Date'] in  lockdown2):\n",
    "            return 0\n",
    "        else:\n",
    "            return 1\n",
    "\n",
    "    store_data['Store_names'] = store_data['Store_names'].astype('category')\n",
    "    store_data['Business_Unit'] = store_data['Business_Unit'].astype('category')\n",
    "\n",
    "    store_data['Year'] = store_data['Sales Date'].dt.year\n",
    "    store_data['Month'] = store_data['Sales Date'].dt.month\n",
    "    store_data['corona_lockdown'] = store_data.apply(conditions, axis=1)\n",
    "\n",
    "\n",
    "\n",
    "    lgb_params = {'boosting_type': ['gbdt'],\n",
    "                  'objective': ['tweedie'],\n",
    "                  'tweedie_variance_power': [1.1],\n",
    "                  'n_estimators': [500],\n",
    "                  'metric': ['rmse'],\n",
    "                  'max_depth': [30, 50, 70],\n",
    "                  'num_leaves': [250, 500, 1000],\n",
    "                  'learning_rate': [0.01, 0.1],\n",
    "                  'feature_fraction': [0.5, 0.7],\n",
    "                 'bagging_fraction': [0.5, 0.7],}\n",
    "\n",
    "    reg = lgb.LGBMRegressor()\n",
    "\n",
    "\n",
    "    ## Set n_iter_search to be a higher value for actual hyperparameter tuning\n",
    "    ## This is just to show the workflow\n",
    "    \n",
    "    ## define a 3-fold time-series split for cross validation\n",
    "\n",
    "    tscv = TimeSeriesSplit(n_splits=5)\n",
    "\n",
    "    #n_iter_search = 1\n",
    "\n",
    "    random_search = RandomizedSearchCV(reg,\n",
    "                                    param_distributions=lgb_params,\n",
    "                                    n_iter=10,\n",
    "                                    cv=tscv,\n",
    "                                    scoring='neg_root_mean_squared_error',\n",
    "                                    n_jobs=-1,\n",
    "                                    )\n",
    "\n",
    "\n",
    "    ## Seeder\n",
    "    \n",
    "    def seed_everything(seed=0):\n",
    "        random.seed(seed)\n",
    "        np.random.seed(seed)\n",
    "\n",
    "    VER = 1                          \n",
    "    SEED = 42                        \n",
    "    seed_everything(SEED)                   \n",
    "    N_CORES = psutil.cpu_count()     \n",
    "\n",
    "\n",
    "    #LIMITS and const\n",
    "    TARGET      = 'y'                        \n",
    "    END_TRAIN   = '2021-12-31'     \n",
    "    \n",
    "\n",
    "    features_columns = ['ds', 'Store_names', 'Business_Unit', 'Year', 'Month', 'black_week','corona_lockdown']\n",
    "\n",
    "\n",
    "    train_mask = store_data['ds']<= END_TRAIN\n",
    "    valid_mask = train_mask&(store_data['ds']> '2021-11-30')\n",
    "    preds_mask = store_data['ds']>END_TRAIN\n",
    "\n",
    "    train_x = store_data.loc[train_mask][features_columns].set_index('ds')\n",
    "    train_y = store_data.loc[train_mask][TARGET]\n",
    "\n",
    "    valid_x = store_data.loc[valid_mask][features_columns].set_index('ds')\n",
    "    valid_y = store_data.loc[valid_mask][TARGET]\n",
    "\n",
    "    predict_data = store_data.loc[preds_mask][features_columns].set_index('ds')\n",
    "    predict_x = store_data.loc[preds_mask][features_columns]\n",
    "\n",
    "\n",
    "\n",
    "    #seed_everything(SEED)\n",
    "    random_search.fit(train_x,\n",
    "                    train_y,\n",
    "                    eval_metric='rmse',\n",
    "                    eval_set=[(train_x, train_y), (valid_x, valid_y)],\n",
    "                    verbose = 1)\n",
    "    reg_model = random_search.best_estimator_\n",
    "\n",
    "    prediction = reg_model.predict(predict_x.set_index('ds'))\n",
    "    predict_data['y_prediction'] = prediction\n",
    "    predict_data = predict_data.reset_index()\n",
    "\n",
    "    return predict_data[['ds', 'Store_names', 'Business_Unit', 'black_week', 'y', 'y_prediction']]"
   ]
  },
  {
   "cell_type": "code",
   "execution_count": 40,
   "metadata": {},
   "outputs": [
    {
     "name": "stdout",
     "output_type": "stream",
     "text": [
      "0.00 min: Lags\n",
      "== Physical Plan ==\n",
      "InMemoryTableScan [ds#1962, Store_names#1963, Business_Unit#1964, black_week#1965, y#1966, y_prediction#1967, training_date#1974]\n",
      "   +- InMemoryRelation [ds#1962, Store_names#1963, Business_Unit#1964, black_week#1965, y#1966, y_prediction#1967, training_date#1974], StorageLevel(disk, memory, deserialized, 1 replicas)\n",
      "         +- *(2) Project [ds#1479, Store_names#1480, Business_Unit#1481, black_week#1482, y#1483, y_prediction#1484, 2022-01-31 AS training_date#1491]\n",
      "            +- FlatMapGroupsInPandas [Store_names#0, Business_Unit#68], PA_effect_per_store(Store_names#0, Reseller_City#58, Super_Division#28, Product_Division#38, Business_Unit#68, black_week#8, ds#18, y#149L), [ds#1479, Store_names#1480, Business_Unit#1481, black_week#1482, y#1483, y_prediction#1484]\n",
      "               +- *(1) Sort [Store_names#0 ASC NULLS FIRST, Business_Unit#68 ASC NULLS FIRST], false, 0\n",
      "                  +- InMemoryTableScan [Store_names#0, Business_Unit#68, Store_names#0, Reseller_City#58, Super_Division#28, Product_Division#38, Business_Unit#68, black_week#8, ds#18, y#149L]\n",
      "                        +- InMemoryRelation [Store_names#0, Reseller_City#58, Super_Division#28, Product_Division#38, Business_Unit#68, black_week#8, ds#18, y#149L], StorageLevel(disk, memory, deserialized, 1 replicas)\n",
      "                              +- Exchange hashpartitioning(Store_names#0, Business_Unit#68, 8), REPARTITION_BY_NUM, [id=#140]\n",
      "                                 +- *(3) Sort [Store_names#0 ASC NULLS FIRST, Reseller_City#58 ASC NULLS FIRST, Super_Division#28 ASC NULLS FIRST, Business_Unit#68 ASC NULLS FIRST, ds#18 ASC NULLS FIRST], true, 0\n",
      "                                    +- Exchange rangepartitioning(Store_names#0 ASC NULLS FIRST, Reseller_City#58 ASC NULLS FIRST, Super_Division#28 ASC NULLS FIRST, Business_Unit#68 ASC NULLS FIRST, ds#18 ASC NULLS FIRST, 200), ENSURE_REQUIREMENTS, [id=#136]\n",
      "                                       +- *(2) HashAggregate(keys=[Store_names#0, Reseller_City#58, Super_Division#28, Product_Division#38, Business_Unit#68, black_week#8, ds#18], functions=[sum(Rslr_Sales_Qunatity#48)])\n",
      "                                          +- Exchange hashpartitioning(Store_names#0, Reseller_City#58, Super_Division#28, Product_Division#38, Business_Unit#68, black_week#8, ds#18, 200), ENSURE_REQUIREMENTS, [id=#132]\n",
      "                                             +- *(1) HashAggregate(keys=[Store_names#0, Reseller_City#58, Super_Division#28, Product_Division#38, Business_Unit#68, black_week#8, ds#18], functions=[partial_sum(Rslr_Sales_Qunatity#48)])\n",
      "                                                +- *(1) Project [Store_names#0, Reseller City#1 AS Reseller_City#58, Super Division#2 AS Super_Division#28, Product Division#3 AS Product_Division#38, Business Unit#4 AS Business_Unit#68, Sales Date#5 AS ds#18, Rslr Sales Quantity#6 AS Rslr_Sales_Qunatity#48, black_week#8]\n",
      "                                                   +- *(1) Scan ExistingRDD arrow[Store_names#0,Reseller City#1,Super Division#2,Product Division#3,Business Unit#4,Sales Date#5,Rslr Sales Quantity#6,Rslr Sales Amount#7,black_week#8]\n",
      "\n",
      "\n"
     ]
    },
    {
     "ename": "Py4JJavaError",
     "evalue": "An error occurred while calling o270.getResult.\n: org.apache.spark.SparkException: Exception thrown in awaitResult: \r\n\tat org.apache.spark.util.ThreadUtils$.awaitResult(ThreadUtils.scala:301)\r\n\tat org.apache.spark.security.SocketAuthServer.getResult(SocketAuthServer.scala:97)\r\n\tat org.apache.spark.security.SocketAuthServer.getResult(SocketAuthServer.scala:93)\r\n\tat sun.reflect.NativeMethodAccessorImpl.invoke0(Native Method)\r\n\tat sun.reflect.NativeMethodAccessorImpl.invoke(Unknown Source)\r\n\tat sun.reflect.DelegatingMethodAccessorImpl.invoke(Unknown Source)\r\n\tat java.lang.reflect.Method.invoke(Unknown Source)\r\n\tat py4j.reflection.MethodInvoker.invoke(MethodInvoker.java:244)\r\n\tat py4j.reflection.ReflectionEngine.invoke(ReflectionEngine.java:357)\r\n\tat py4j.Gateway.invoke(Gateway.java:282)\r\n\tat py4j.commands.AbstractCommand.invokeMethod(AbstractCommand.java:132)\r\n\tat py4j.commands.CallCommand.execute(CallCommand.java:79)\r\n\tat py4j.ClientServerConnection.waitForCommands(ClientServerConnection.java:182)\r\n\tat py4j.ClientServerConnection.run(ClientServerConnection.java:106)\r\n\tat java.lang.Thread.run(Unknown Source)\r\nCaused by: org.apache.spark.SparkException: Job aborted due to stage failure: Task 0 in stage 23.0 failed 1 times, most recent failure: Lost task 0.0 in stage 23.0 (TID 630) (Grogu.profiflitzer.local executor driver): java.net.SocketException: Connection reset\r\n\tat java.net.SocketInputStream.read(Unknown Source)\r\n\tat java.net.SocketInputStream.read(Unknown Source)\r\n\tat java.io.BufferedInputStream.fill(Unknown Source)\r\n\tat java.io.BufferedInputStream.read(Unknown Source)\r\n\tat java.io.DataInputStream.readInt(Unknown Source)\r\n\tat org.apache.spark.sql.execution.python.PythonArrowOutput$$anon$1.read(PythonArrowOutput.scala:88)\r\n\tat org.apache.spark.sql.execution.python.PythonArrowOutput$$anon$1.read(PythonArrowOutput.scala:50)\r\n\tat org.apache.spark.api.python.BasePythonRunner$ReaderIterator.hasNext(PythonRunner.scala:498)\r\n\tat org.apache.spark.InterruptibleIterator.hasNext(InterruptibleIterator.scala:37)\r\n\tat scala.collection.Iterator$$anon$11.hasNext(Iterator.scala:491)\r\n\tat scala.collection.Iterator$$anon$10.hasNext(Iterator.scala:460)\r\n\tat org.apache.spark.sql.catalyst.expressions.GeneratedClass$GeneratedIteratorForCodegenStage2.processNext(Unknown Source)\r\n\tat org.apache.spark.sql.execution.BufferedRowIterator.hasNext(BufferedRowIterator.java:43)\r\n\tat org.apache.spark.sql.execution.WholeStageCodegenExec$$anon$1.hasNext(WholeStageCodegenExec.scala:759)\r\n\tat org.apache.spark.sql.execution.columnar.DefaultCachedBatchSerializer$$anon$1.hasNext(InMemoryRelation.scala:118)\r\n\tat scala.collection.Iterator$$anon$10.hasNext(Iterator.scala:460)\r\n\tat org.apache.spark.storage.memory.MemoryStore.putIterator(MemoryStore.scala:223)\r\n\tat org.apache.spark.storage.memory.MemoryStore.putIteratorAsValues(MemoryStore.scala:302)\r\n\tat org.apache.spark.storage.BlockManager.$anonfun$doPutIterator$1(BlockManager.scala:1481)\r\n\tat org.apache.spark.storage.BlockManager.org$apache$spark$storage$BlockManager$$doPut(BlockManager.scala:1408)\r\n\tat org.apache.spark.storage.BlockManager.doPutIterator(BlockManager.scala:1472)\r\n\tat org.apache.spark.storage.BlockManager.getOrElseUpdate(BlockManager.scala:1295)\r\n\tat org.apache.spark.rdd.RDD.getOrCompute(RDD.scala:384)\r\n\tat org.apache.spark.rdd.RDD.iterator(RDD.scala:335)\r\n\tat org.apache.spark.rdd.MapPartitionsRDD.compute(MapPartitionsRDD.scala:52)\r\n\tat org.apache.spark.rdd.RDD.computeOrReadCheckpoint(RDD.scala:373)\r\n\tat org.apache.spark.rdd.RDD.iterator(RDD.scala:337)\r\n\tat org.apache.spark.rdd.MapPartitionsRDD.compute(MapPartitionsRDD.scala:52)\r\n\tat org.apache.spark.rdd.RDD.computeOrReadCheckpoint(RDD.scala:373)\r\n\tat org.apache.spark.rdd.RDD.iterator(RDD.scala:337)\r\n\tat org.apache.spark.rdd.MapPartitionsRDD.compute(MapPartitionsRDD.scala:52)\r\n\tat org.apache.spark.rdd.RDD.computeOrReadCheckpoint(RDD.scala:373)\r\n\tat org.apache.spark.rdd.RDD.iterator(RDD.scala:337)\r\n\tat org.apache.spark.rdd.CoalescedRDD.$anonfun$compute$1(CoalescedRDD.scala:99)\r\n\tat scala.collection.Iterator$$anon$11.nextCur(Iterator.scala:486)\r\n\tat scala.collection.Iterator$$anon$11.hasNext(Iterator.scala:492)\r\n\tat org.apache.spark.sql.catalyst.expressions.GeneratedClass$GeneratedIteratorForCodegenStage1.processNext(Unknown Source)\r\n\tat org.apache.spark.sql.execution.BufferedRowIterator.hasNext(BufferedRowIterator.java:43)\r\n\tat org.apache.spark.sql.execution.WholeStageCodegenExec$$anon$1.hasNext(WholeStageCodegenExec.scala:759)\r\n\tat org.apache.spark.sql.execution.arrow.ArrowConverters$$anon$1.hasNext(ArrowConverters.scala:99)\r\n\tat scala.collection.Iterator.foreach(Iterator.scala:943)\r\n\tat scala.collection.Iterator.foreach$(Iterator.scala:943)\r\n\tat org.apache.spark.sql.execution.arrow.ArrowConverters$$anon$1.foreach(ArrowConverters.scala:97)\r\n\tat scala.collection.generic.Growable.$plus$plus$eq(Growable.scala:62)\r\n\tat scala.collection.generic.Growable.$plus$plus$eq$(Growable.scala:53)\r\n\tat scala.collection.mutable.ArrayBuffer.$plus$plus$eq(ArrayBuffer.scala:105)\r\n\tat scala.collection.mutable.ArrayBuffer.$plus$plus$eq(ArrayBuffer.scala:49)\r\n\tat scala.collection.TraversableOnce.to(TraversableOnce.scala:366)\r\n\tat scala.collection.TraversableOnce.to$(TraversableOnce.scala:364)\r\n\tat org.apache.spark.sql.execution.arrow.ArrowConverters$$anon$1.to(ArrowConverters.scala:97)\r\n\tat scala.collection.TraversableOnce.toBuffer(TraversableOnce.scala:358)\r\n\tat scala.collection.TraversableOnce.toBuffer$(TraversableOnce.scala:358)\r\n\tat org.apache.spark.sql.execution.arrow.ArrowConverters$$anon$1.toBuffer(ArrowConverters.scala:97)\r\n\tat scala.collection.TraversableOnce.toArray(TraversableOnce.scala:345)\r\n\tat scala.collection.TraversableOnce.toArray$(TraversableOnce.scala:339)\r\n\tat org.apache.spark.sql.execution.arrow.ArrowConverters$$anon$1.toArray(ArrowConverters.scala:97)\r\n\tat org.apache.spark.sql.Dataset.$anonfun$collectAsArrowToPython$6(Dataset.scala:3650)\r\n\tat org.apache.spark.SparkContext.$anonfun$runJob$6(SparkContext.scala:2308)\r\n\tat org.apache.spark.scheduler.ResultTask.runTask(ResultTask.scala:90)\r\n\tat org.apache.spark.scheduler.Task.run(Task.scala:131)\r\n\tat org.apache.spark.executor.Executor$TaskRunner.$anonfun$run$3(Executor.scala:506)\r\n\tat org.apache.spark.util.Utils$.tryWithSafeFinally(Utils.scala:1462)\r\n\tat org.apache.spark.executor.Executor$TaskRunner.run(Executor.scala:509)\r\n\tat java.util.concurrent.ThreadPoolExecutor.runWorker(Unknown Source)\r\n\tat java.util.concurrent.ThreadPoolExecutor$Worker.run(Unknown Source)\r\n\tat java.lang.Thread.run(Unknown Source)\r\n\nDriver stacktrace:\r\n\tat org.apache.spark.scheduler.DAGScheduler.failJobAndIndependentStages(DAGScheduler.scala:2403)\r\n\tat org.apache.spark.scheduler.DAGScheduler.$anonfun$abortStage$2(DAGScheduler.scala:2352)\r\n\tat org.apache.spark.scheduler.DAGScheduler.$anonfun$abortStage$2$adapted(DAGScheduler.scala:2351)\r\n\tat scala.collection.mutable.ResizableArray.foreach(ResizableArray.scala:62)\r\n\tat scala.collection.mutable.ResizableArray.foreach$(ResizableArray.scala:55)\r\n\tat scala.collection.mutable.ArrayBuffer.foreach(ArrayBuffer.scala:49)\r\n\tat org.apache.spark.scheduler.DAGScheduler.abortStage(DAGScheduler.scala:2351)\r\n\tat org.apache.spark.scheduler.DAGScheduler.$anonfun$handleTaskSetFailed$1(DAGScheduler.scala:1109)\r\n\tat org.apache.spark.scheduler.DAGScheduler.$anonfun$handleTaskSetFailed$1$adapted(DAGScheduler.scala:1109)\r\n\tat scala.Option.foreach(Option.scala:407)\r\n\tat org.apache.spark.scheduler.DAGScheduler.handleTaskSetFailed(DAGScheduler.scala:1109)\r\n\tat org.apache.spark.scheduler.DAGSchedulerEventProcessLoop.doOnReceive(DAGScheduler.scala:2591)\r\n\tat org.apache.spark.scheduler.DAGSchedulerEventProcessLoop.onReceive(DAGScheduler.scala:2533)\r\n\tat org.apache.spark.scheduler.DAGSchedulerEventProcessLoop.onReceive(DAGScheduler.scala:2522)\r\n\tat org.apache.spark.util.EventLoop$$anon$1.run(EventLoop.scala:49)\r\n\tat org.apache.spark.scheduler.DAGScheduler.runJob(DAGScheduler.scala:898)\r\n\tat org.apache.spark.SparkContext.runJob(SparkContext.scala:2214)\r\n\tat org.apache.spark.SparkContext.runJob(SparkContext.scala:2309)\r\n\tat org.apache.spark.sql.Dataset.$anonfun$collectAsArrowToPython$5(Dataset.scala:3648)\r\n\tat scala.runtime.java8.JFunction0$mcV$sp.apply(JFunction0$mcV$sp.java:23)\r\n\tat org.apache.spark.util.Utils$.tryWithSafeFinally(Utils.scala:1462)\r\n\tat org.apache.spark.sql.Dataset.$anonfun$collectAsArrowToPython$2(Dataset.scala:3652)\r\n\tat org.apache.spark.sql.Dataset.$anonfun$collectAsArrowToPython$2$adapted(Dataset.scala:3629)\r\n\tat org.apache.spark.sql.Dataset.$anonfun$withAction$1(Dataset.scala:3706)\r\n\tat org.apache.spark.sql.execution.SQLExecution$.$anonfun$withNewExecutionId$5(SQLExecution.scala:103)\r\n\tat org.apache.spark.sql.execution.SQLExecution$.withSQLConfPropagated(SQLExecution.scala:163)\r\n\tat org.apache.spark.sql.execution.SQLExecution$.$anonfun$withNewExecutionId$1(SQLExecution.scala:90)\r\n\tat org.apache.spark.sql.SparkSession.withActive(SparkSession.scala:775)\r\n\tat org.apache.spark.sql.execution.SQLExecution$.withNewExecutionId(SQLExecution.scala:64)\r\n\tat org.apache.spark.sql.Dataset.withAction(Dataset.scala:3704)\r\n\tat org.apache.spark.sql.Dataset.$anonfun$collectAsArrowToPython$1(Dataset.scala:3629)\r\n\tat org.apache.spark.sql.Dataset.$anonfun$collectAsArrowToPython$1$adapted(Dataset.scala:3628)\r\n\tat org.apache.spark.security.SocketAuthServer$.$anonfun$serveToStream$2(SocketAuthServer.scala:139)\r\n\tat scala.runtime.java8.JFunction0$mcV$sp.apply(JFunction0$mcV$sp.java:23)\r\n\tat org.apache.spark.util.Utils$.tryWithSafeFinally(Utils.scala:1462)\r\n\tat org.apache.spark.security.SocketAuthServer$.$anonfun$serveToStream$1(SocketAuthServer.scala:141)\r\n\tat org.apache.spark.security.SocketAuthServer$.$anonfun$serveToStream$1$adapted(SocketAuthServer.scala:136)\r\n\tat org.apache.spark.security.SocketFuncServer.handleConnection(SocketAuthServer.scala:113)\r\n\tat org.apache.spark.security.SocketFuncServer.handleConnection(SocketAuthServer.scala:107)\r\n\tat org.apache.spark.security.SocketAuthServer$$anon$1.$anonfun$run$4(SocketAuthServer.scala:68)\r\n\tat scala.util.Try$.apply(Try.scala:213)\r\n\tat org.apache.spark.security.SocketAuthServer$$anon$1.run(SocketAuthServer.scala:68)\r\nCaused by: java.net.SocketException: Connection reset\r\n\tat java.net.SocketInputStream.read(Unknown Source)\r\n\tat java.net.SocketInputStream.read(Unknown Source)\r\n\tat java.io.BufferedInputStream.fill(Unknown Source)\r\n\tat java.io.BufferedInputStream.read(Unknown Source)\r\n\tat java.io.DataInputStream.readInt(Unknown Source)\r\n\tat org.apache.spark.sql.execution.python.PythonArrowOutput$$anon$1.read(PythonArrowOutput.scala:88)\r\n\tat org.apache.spark.sql.execution.python.PythonArrowOutput$$anon$1.read(PythonArrowOutput.scala:50)\r\n\tat org.apache.spark.api.python.BasePythonRunner$ReaderIterator.hasNext(PythonRunner.scala:498)\r\n\tat org.apache.spark.InterruptibleIterator.hasNext(InterruptibleIterator.scala:37)\r\n\tat scala.collection.Iterator$$anon$11.hasNext(Iterator.scala:491)\r\n\tat scala.collection.Iterator$$anon$10.hasNext(Iterator.scala:460)\r\n\tat org.apache.spark.sql.catalyst.expressions.GeneratedClass$GeneratedIteratorForCodegenStage2.processNext(Unknown Source)\r\n\tat org.apache.spark.sql.execution.BufferedRowIterator.hasNext(BufferedRowIterator.java:43)\r\n\tat org.apache.spark.sql.execution.WholeStageCodegenExec$$anon$1.hasNext(WholeStageCodegenExec.scala:759)\r\n\tat org.apache.spark.sql.execution.columnar.DefaultCachedBatchSerializer$$anon$1.hasNext(InMemoryRelation.scala:118)\r\n\tat scala.collection.Iterator$$anon$10.hasNext(Iterator.scala:460)\r\n\tat org.apache.spark.storage.memory.MemoryStore.putIterator(MemoryStore.scala:223)\r\n\tat org.apache.spark.storage.memory.MemoryStore.putIteratorAsValues(MemoryStore.scala:302)\r\n\tat org.apache.spark.storage.BlockManager.$anonfun$doPutIterator$1(BlockManager.scala:1481)\r\n\tat org.apache.spark.storage.BlockManager.org$apache$spark$storage$BlockManager$$doPut(BlockManager.scala:1408)\r\n\tat org.apache.spark.storage.BlockManager.doPutIterator(BlockManager.scala:1472)\r\n\tat org.apache.spark.storage.BlockManager.getOrElseUpdate(BlockManager.scala:1295)\r\n\tat org.apache.spark.rdd.RDD.getOrCompute(RDD.scala:384)\r\n\tat org.apache.spark.rdd.RDD.iterator(RDD.scala:335)\r\n\tat org.apache.spark.rdd.MapPartitionsRDD.compute(MapPartitionsRDD.scala:52)\r\n\tat org.apache.spark.rdd.RDD.computeOrReadCheckpoint(RDD.scala:373)\r\n\tat org.apache.spark.rdd.RDD.iterator(RDD.scala:337)\r\n\tat org.apache.spark.rdd.MapPartitionsRDD.compute(MapPartitionsRDD.scala:52)\r\n\tat org.apache.spark.rdd.RDD.computeOrReadCheckpoint(RDD.scala:373)\r\n\tat org.apache.spark.rdd.RDD.iterator(RDD.scala:337)\r\n\tat org.apache.spark.rdd.MapPartitionsRDD.compute(MapPartitionsRDD.scala:52)\r\n\tat org.apache.spark.rdd.RDD.computeOrReadCheckpoint(RDD.scala:373)\r\n\tat org.apache.spark.rdd.RDD.iterator(RDD.scala:337)\r\n\tat org.apache.spark.rdd.CoalescedRDD.$anonfun$compute$1(CoalescedRDD.scala:99)\r\n\tat scala.collection.Iterator$$anon$11.nextCur(Iterator.scala:486)\r\n\tat scala.collection.Iterator$$anon$11.hasNext(Iterator.scala:492)\r\n\tat org.apache.spark.sql.catalyst.expressions.GeneratedClass$GeneratedIteratorForCodegenStage1.processNext(Unknown Source)\r\n\tat org.apache.spark.sql.execution.BufferedRowIterator.hasNext(BufferedRowIterator.java:43)\r\n\tat org.apache.spark.sql.execution.WholeStageCodegenExec$$anon$1.hasNext(WholeStageCodegenExec.scala:759)\r\n\tat org.apache.spark.sql.execution.arrow.ArrowConverters$$anon$1.hasNext(ArrowConverters.scala:99)\r\n\tat scala.collection.Iterator.foreach(Iterator.scala:943)\r\n\tat scala.collection.Iterator.foreach$(Iterator.scala:943)\r\n\tat org.apache.spark.sql.execution.arrow.ArrowConverters$$anon$1.foreach(ArrowConverters.scala:97)\r\n\tat scala.collection.generic.Growable.$plus$plus$eq(Growable.scala:62)\r\n\tat scala.collection.generic.Growable.$plus$plus$eq$(Growable.scala:53)\r\n\tat scala.collection.mutable.ArrayBuffer.$plus$plus$eq(ArrayBuffer.scala:105)\r\n\tat scala.collection.mutable.ArrayBuffer.$plus$plus$eq(ArrayBuffer.scala:49)\r\n\tat scala.collection.TraversableOnce.to(TraversableOnce.scala:366)\r\n\tat scala.collection.TraversableOnce.to$(TraversableOnce.scala:364)\r\n\tat org.apache.spark.sql.execution.arrow.ArrowConverters$$anon$1.to(ArrowConverters.scala:97)\r\n\tat scala.collection.TraversableOnce.toBuffer(TraversableOnce.scala:358)\r\n\tat scala.collection.TraversableOnce.toBuffer$(TraversableOnce.scala:358)\r\n\tat org.apache.spark.sql.execution.arrow.ArrowConverters$$anon$1.toBuffer(ArrowConverters.scala:97)\r\n\tat scala.collection.TraversableOnce.toArray(TraversableOnce.scala:345)\r\n\tat scala.collection.TraversableOnce.toArray$(TraversableOnce.scala:339)\r\n\tat org.apache.spark.sql.execution.arrow.ArrowConverters$$anon$1.toArray(ArrowConverters.scala:97)\r\n\tat org.apache.spark.sql.Dataset.$anonfun$collectAsArrowToPython$6(Dataset.scala:3650)\r\n\tat org.apache.spark.SparkContext.$anonfun$runJob$6(SparkContext.scala:2308)\r\n\tat org.apache.spark.scheduler.ResultTask.runTask(ResultTask.scala:90)\r\n\tat org.apache.spark.scheduler.Task.run(Task.scala:131)\r\n\tat org.apache.spark.executor.Executor$TaskRunner.$anonfun$run$3(Executor.scala:506)\r\n\tat org.apache.spark.util.Utils$.tryWithSafeFinally(Utils.scala:1462)\r\n\tat org.apache.spark.executor.Executor$TaskRunner.run(Executor.scala:509)\r\n\tat java.util.concurrent.ThreadPoolExecutor.runWorker(Unknown Source)\r\n\tat java.util.concurrent.ThreadPoolExecutor$Worker.run(Unknown Source)\r\n\tat java.lang.Thread.run(Unknown Source)\r\n",
     "output_type": "error",
     "traceback": [
      "\u001b[1;31m---------------------------------------------------------------------------\u001b[0m",
      "\u001b[1;31mPy4JJavaError\u001b[0m                             Traceback (most recent call last)",
      "\u001b[1;32mC:\\Users\\RAVITE~1.KUR\\AppData\\Local\\Temp/ipykernel_28100/367391071.py\u001b[0m in \u001b[0;36m<module>\u001b[1;34m\u001b[0m\n\u001b[0;32m     17\u001b[0m \u001b[1;31m### convert the result from sparkdataframe to panadas datafrme\u001b[0m\u001b[1;33m\u001b[0m\u001b[1;33m\u001b[0m\u001b[0m\n\u001b[0;32m     18\u001b[0m \u001b[0mstart_time\u001b[0m \u001b[1;33m=\u001b[0m \u001b[0mtime\u001b[0m\u001b[1;33m.\u001b[0m\u001b[0mtime\u001b[0m\u001b[1;33m(\u001b[0m\u001b[1;33m)\u001b[0m\u001b[1;33m\u001b[0m\u001b[1;33m\u001b[0m\u001b[0m\n\u001b[1;32m---> 19\u001b[1;33m \u001b[0mfinal_data\u001b[0m \u001b[1;33m=\u001b[0m \u001b[0mfinal_results\u001b[0m\u001b[1;33m.\u001b[0m\u001b[0mtoPandas\u001b[0m\u001b[1;33m(\u001b[0m\u001b[1;33m)\u001b[0m\u001b[1;33m\u001b[0m\u001b[1;33m\u001b[0m\u001b[0m\n\u001b[0m\u001b[0;32m     20\u001b[0m \u001b[1;33m\u001b[0m\u001b[0m\n\u001b[0;32m     21\u001b[0m \u001b[0mprint\u001b[0m\u001b[1;33m(\u001b[0m\u001b[1;34m'%0.2f min: Lags'\u001b[0m \u001b[1;33m%\u001b[0m \u001b[1;33m(\u001b[0m\u001b[1;33m(\u001b[0m\u001b[0mtime\u001b[0m\u001b[1;33m.\u001b[0m\u001b[0mtime\u001b[0m\u001b[1;33m(\u001b[0m\u001b[1;33m)\u001b[0m \u001b[1;33m-\u001b[0m \u001b[0mstart_time\u001b[0m\u001b[1;33m)\u001b[0m \u001b[1;33m/\u001b[0m \u001b[1;36m60\u001b[0m\u001b[1;33m)\u001b[0m\u001b[1;33m)\u001b[0m\u001b[1;33m\u001b[0m\u001b[1;33m\u001b[0m\u001b[0m\n",
      "\u001b[1;32m~\\Anaconda3\\envs\\spark\\lib\\site-packages\\pyspark\\sql\\pandas\\conversion.py\u001b[0m in \u001b[0;36mtoPandas\u001b[1;34m(self)\u001b[0m\n\u001b[0;32m    107\u001b[0m                     \u001b[0mtmp_column_names\u001b[0m \u001b[1;33m=\u001b[0m \u001b[1;33m[\u001b[0m\u001b[1;34m'col_{}'\u001b[0m\u001b[1;33m.\u001b[0m\u001b[0mformat\u001b[0m\u001b[1;33m(\u001b[0m\u001b[0mi\u001b[0m\u001b[1;33m)\u001b[0m \u001b[1;32mfor\u001b[0m \u001b[0mi\u001b[0m \u001b[1;32min\u001b[0m \u001b[0mrange\u001b[0m\u001b[1;33m(\u001b[0m\u001b[0mlen\u001b[0m\u001b[1;33m(\u001b[0m\u001b[0mself\u001b[0m\u001b[1;33m.\u001b[0m\u001b[0mcolumns\u001b[0m\u001b[1;33m)\u001b[0m\u001b[1;33m)\u001b[0m\u001b[1;33m]\u001b[0m\u001b[1;33m\u001b[0m\u001b[1;33m\u001b[0m\u001b[0m\n\u001b[0;32m    108\u001b[0m                     \u001b[0mself_destruct\u001b[0m \u001b[1;33m=\u001b[0m \u001b[0mself\u001b[0m\u001b[1;33m.\u001b[0m\u001b[0msql_ctx\u001b[0m\u001b[1;33m.\u001b[0m\u001b[0m_conf\u001b[0m\u001b[1;33m.\u001b[0m\u001b[0marrowPySparkSelfDestructEnabled\u001b[0m\u001b[1;33m(\u001b[0m\u001b[1;33m)\u001b[0m\u001b[1;33m\u001b[0m\u001b[1;33m\u001b[0m\u001b[0m\n\u001b[1;32m--> 109\u001b[1;33m                     batches = self.toDF(*tmp_column_names)._collect_as_arrow(\n\u001b[0m\u001b[0;32m    110\u001b[0m                         split_batches=self_destruct)\n\u001b[0;32m    111\u001b[0m                     \u001b[1;32mif\u001b[0m \u001b[0mlen\u001b[0m\u001b[1;33m(\u001b[0m\u001b[0mbatches\u001b[0m\u001b[1;33m)\u001b[0m \u001b[1;33m>\u001b[0m \u001b[1;36m0\u001b[0m\u001b[1;33m:\u001b[0m\u001b[1;33m\u001b[0m\u001b[1;33m\u001b[0m\u001b[0m\n",
      "\u001b[1;32m~\\Anaconda3\\envs\\spark\\lib\\site-packages\\pyspark\\sql\\pandas\\conversion.py\u001b[0m in \u001b[0;36m_collect_as_arrow\u001b[1;34m(self, split_batches)\u001b[0m\n\u001b[0;32m    284\u001b[0m         \u001b[1;32mfinally\u001b[0m\u001b[1;33m:\u001b[0m\u001b[1;33m\u001b[0m\u001b[1;33m\u001b[0m\u001b[0m\n\u001b[0;32m    285\u001b[0m             \u001b[1;31m# Join serving thread and raise any exceptions from collectAsArrowToPython\u001b[0m\u001b[1;33m\u001b[0m\u001b[1;33m\u001b[0m\u001b[0m\n\u001b[1;32m--> 286\u001b[1;33m             \u001b[0mjsocket_auth_server\u001b[0m\u001b[1;33m.\u001b[0m\u001b[0mgetResult\u001b[0m\u001b[1;33m(\u001b[0m\u001b[1;33m)\u001b[0m\u001b[1;33m\u001b[0m\u001b[1;33m\u001b[0m\u001b[0m\n\u001b[0m\u001b[0;32m    287\u001b[0m \u001b[1;33m\u001b[0m\u001b[0m\n\u001b[0;32m    288\u001b[0m         \u001b[1;31m# Separate RecordBatches from batch order indices in results\u001b[0m\u001b[1;33m\u001b[0m\u001b[1;33m\u001b[0m\u001b[0m\n",
      "\u001b[1;32m~\\Anaconda3\\envs\\spark\\lib\\site-packages\\py4j\\java_gateway.py\u001b[0m in \u001b[0;36m__call__\u001b[1;34m(self, *args)\u001b[0m\n\u001b[0;32m   1307\u001b[0m \u001b[1;33m\u001b[0m\u001b[0m\n\u001b[0;32m   1308\u001b[0m         \u001b[0manswer\u001b[0m \u001b[1;33m=\u001b[0m \u001b[0mself\u001b[0m\u001b[1;33m.\u001b[0m\u001b[0mgateway_client\u001b[0m\u001b[1;33m.\u001b[0m\u001b[0msend_command\u001b[0m\u001b[1;33m(\u001b[0m\u001b[0mcommand\u001b[0m\u001b[1;33m)\u001b[0m\u001b[1;33m\u001b[0m\u001b[1;33m\u001b[0m\u001b[0m\n\u001b[1;32m-> 1309\u001b[1;33m         return_value = get_return_value(\n\u001b[0m\u001b[0;32m   1310\u001b[0m             answer, self.gateway_client, self.target_id, self.name)\n\u001b[0;32m   1311\u001b[0m \u001b[1;33m\u001b[0m\u001b[0m\n",
      "\u001b[1;32m~\\Anaconda3\\envs\\spark\\lib\\site-packages\\pyspark\\sql\\utils.py\u001b[0m in \u001b[0;36mdeco\u001b[1;34m(*a, **kw)\u001b[0m\n\u001b[0;32m    109\u001b[0m     \u001b[1;32mdef\u001b[0m \u001b[0mdeco\u001b[0m\u001b[1;33m(\u001b[0m\u001b[1;33m*\u001b[0m\u001b[0ma\u001b[0m\u001b[1;33m,\u001b[0m \u001b[1;33m**\u001b[0m\u001b[0mkw\u001b[0m\u001b[1;33m)\u001b[0m\u001b[1;33m:\u001b[0m\u001b[1;33m\u001b[0m\u001b[1;33m\u001b[0m\u001b[0m\n\u001b[0;32m    110\u001b[0m         \u001b[1;32mtry\u001b[0m\u001b[1;33m:\u001b[0m\u001b[1;33m\u001b[0m\u001b[1;33m\u001b[0m\u001b[0m\n\u001b[1;32m--> 111\u001b[1;33m             \u001b[1;32mreturn\u001b[0m \u001b[0mf\u001b[0m\u001b[1;33m(\u001b[0m\u001b[1;33m*\u001b[0m\u001b[0ma\u001b[0m\u001b[1;33m,\u001b[0m \u001b[1;33m**\u001b[0m\u001b[0mkw\u001b[0m\u001b[1;33m)\u001b[0m\u001b[1;33m\u001b[0m\u001b[1;33m\u001b[0m\u001b[0m\n\u001b[0m\u001b[0;32m    112\u001b[0m         \u001b[1;32mexcept\u001b[0m \u001b[0mpy4j\u001b[0m\u001b[1;33m.\u001b[0m\u001b[0mprotocol\u001b[0m\u001b[1;33m.\u001b[0m\u001b[0mPy4JJavaError\u001b[0m \u001b[1;32mas\u001b[0m \u001b[0me\u001b[0m\u001b[1;33m:\u001b[0m\u001b[1;33m\u001b[0m\u001b[1;33m\u001b[0m\u001b[0m\n\u001b[0;32m    113\u001b[0m             \u001b[0mconverted\u001b[0m \u001b[1;33m=\u001b[0m \u001b[0mconvert_exception\u001b[0m\u001b[1;33m(\u001b[0m\u001b[0me\u001b[0m\u001b[1;33m.\u001b[0m\u001b[0mjava_exception\u001b[0m\u001b[1;33m)\u001b[0m\u001b[1;33m\u001b[0m\u001b[1;33m\u001b[0m\u001b[0m\n",
      "\u001b[1;32m~\\Anaconda3\\envs\\spark\\lib\\site-packages\\py4j\\protocol.py\u001b[0m in \u001b[0;36mget_return_value\u001b[1;34m(answer, gateway_client, target_id, name)\u001b[0m\n\u001b[0;32m    324\u001b[0m             \u001b[0mvalue\u001b[0m \u001b[1;33m=\u001b[0m \u001b[0mOUTPUT_CONVERTER\u001b[0m\u001b[1;33m[\u001b[0m\u001b[0mtype\u001b[0m\u001b[1;33m]\u001b[0m\u001b[1;33m(\u001b[0m\u001b[0manswer\u001b[0m\u001b[1;33m[\u001b[0m\u001b[1;36m2\u001b[0m\u001b[1;33m:\u001b[0m\u001b[1;33m]\u001b[0m\u001b[1;33m,\u001b[0m \u001b[0mgateway_client\u001b[0m\u001b[1;33m)\u001b[0m\u001b[1;33m\u001b[0m\u001b[1;33m\u001b[0m\u001b[0m\n\u001b[0;32m    325\u001b[0m             \u001b[1;32mif\u001b[0m \u001b[0manswer\u001b[0m\u001b[1;33m[\u001b[0m\u001b[1;36m1\u001b[0m\u001b[1;33m]\u001b[0m \u001b[1;33m==\u001b[0m \u001b[0mREFERENCE_TYPE\u001b[0m\u001b[1;33m:\u001b[0m\u001b[1;33m\u001b[0m\u001b[1;33m\u001b[0m\u001b[0m\n\u001b[1;32m--> 326\u001b[1;33m                 raise Py4JJavaError(\n\u001b[0m\u001b[0;32m    327\u001b[0m                     \u001b[1;34m\"An error occurred while calling {0}{1}{2}.\\n\"\u001b[0m\u001b[1;33m.\u001b[0m\u001b[1;33m\u001b[0m\u001b[1;33m\u001b[0m\u001b[0m\n\u001b[0;32m    328\u001b[0m                     format(target_id, \".\", name), value)\n",
      "\u001b[1;31mPy4JJavaError\u001b[0m: An error occurred while calling o270.getResult.\n: org.apache.spark.SparkException: Exception thrown in awaitResult: \r\n\tat org.apache.spark.util.ThreadUtils$.awaitResult(ThreadUtils.scala:301)\r\n\tat org.apache.spark.security.SocketAuthServer.getResult(SocketAuthServer.scala:97)\r\n\tat org.apache.spark.security.SocketAuthServer.getResult(SocketAuthServer.scala:93)\r\n\tat sun.reflect.NativeMethodAccessorImpl.invoke0(Native Method)\r\n\tat sun.reflect.NativeMethodAccessorImpl.invoke(Unknown Source)\r\n\tat sun.reflect.DelegatingMethodAccessorImpl.invoke(Unknown Source)\r\n\tat java.lang.reflect.Method.invoke(Unknown Source)\r\n\tat py4j.reflection.MethodInvoker.invoke(MethodInvoker.java:244)\r\n\tat py4j.reflection.ReflectionEngine.invoke(ReflectionEngine.java:357)\r\n\tat py4j.Gateway.invoke(Gateway.java:282)\r\n\tat py4j.commands.AbstractCommand.invokeMethod(AbstractCommand.java:132)\r\n\tat py4j.commands.CallCommand.execute(CallCommand.java:79)\r\n\tat py4j.ClientServerConnection.waitForCommands(ClientServerConnection.java:182)\r\n\tat py4j.ClientServerConnection.run(ClientServerConnection.java:106)\r\n\tat java.lang.Thread.run(Unknown Source)\r\nCaused by: org.apache.spark.SparkException: Job aborted due to stage failure: Task 0 in stage 23.0 failed 1 times, most recent failure: Lost task 0.0 in stage 23.0 (TID 630) (Grogu.profiflitzer.local executor driver): java.net.SocketException: Connection reset\r\n\tat java.net.SocketInputStream.read(Unknown Source)\r\n\tat java.net.SocketInputStream.read(Unknown Source)\r\n\tat java.io.BufferedInputStream.fill(Unknown Source)\r\n\tat java.io.BufferedInputStream.read(Unknown Source)\r\n\tat java.io.DataInputStream.readInt(Unknown Source)\r\n\tat org.apache.spark.sql.execution.python.PythonArrowOutput$$anon$1.read(PythonArrowOutput.scala:88)\r\n\tat org.apache.spark.sql.execution.python.PythonArrowOutput$$anon$1.read(PythonArrowOutput.scala:50)\r\n\tat org.apache.spark.api.python.BasePythonRunner$ReaderIterator.hasNext(PythonRunner.scala:498)\r\n\tat org.apache.spark.InterruptibleIterator.hasNext(InterruptibleIterator.scala:37)\r\n\tat scala.collection.Iterator$$anon$11.hasNext(Iterator.scala:491)\r\n\tat scala.collection.Iterator$$anon$10.hasNext(Iterator.scala:460)\r\n\tat org.apache.spark.sql.catalyst.expressions.GeneratedClass$GeneratedIteratorForCodegenStage2.processNext(Unknown Source)\r\n\tat org.apache.spark.sql.execution.BufferedRowIterator.hasNext(BufferedRowIterator.java:43)\r\n\tat org.apache.spark.sql.execution.WholeStageCodegenExec$$anon$1.hasNext(WholeStageCodegenExec.scala:759)\r\n\tat org.apache.spark.sql.execution.columnar.DefaultCachedBatchSerializer$$anon$1.hasNext(InMemoryRelation.scala:118)\r\n\tat scala.collection.Iterator$$anon$10.hasNext(Iterator.scala:460)\r\n\tat org.apache.spark.storage.memory.MemoryStore.putIterator(MemoryStore.scala:223)\r\n\tat org.apache.spark.storage.memory.MemoryStore.putIteratorAsValues(MemoryStore.scala:302)\r\n\tat org.apache.spark.storage.BlockManager.$anonfun$doPutIterator$1(BlockManager.scala:1481)\r\n\tat org.apache.spark.storage.BlockManager.org$apache$spark$storage$BlockManager$$doPut(BlockManager.scala:1408)\r\n\tat org.apache.spark.storage.BlockManager.doPutIterator(BlockManager.scala:1472)\r\n\tat org.apache.spark.storage.BlockManager.getOrElseUpdate(BlockManager.scala:1295)\r\n\tat org.apache.spark.rdd.RDD.getOrCompute(RDD.scala:384)\r\n\tat org.apache.spark.rdd.RDD.iterator(RDD.scala:335)\r\n\tat org.apache.spark.rdd.MapPartitionsRDD.compute(MapPartitionsRDD.scala:52)\r\n\tat org.apache.spark.rdd.RDD.computeOrReadCheckpoint(RDD.scala:373)\r\n\tat org.apache.spark.rdd.RDD.iterator(RDD.scala:337)\r\n\tat org.apache.spark.rdd.MapPartitionsRDD.compute(MapPartitionsRDD.scala:52)\r\n\tat org.apache.spark.rdd.RDD.computeOrReadCheckpoint(RDD.scala:373)\r\n\tat org.apache.spark.rdd.RDD.iterator(RDD.scala:337)\r\n\tat org.apache.spark.rdd.MapPartitionsRDD.compute(MapPartitionsRDD.scala:52)\r\n\tat org.apache.spark.rdd.RDD.computeOrReadCheckpoint(RDD.scala:373)\r\n\tat org.apache.spark.rdd.RDD.iterator(RDD.scala:337)\r\n\tat org.apache.spark.rdd.CoalescedRDD.$anonfun$compute$1(CoalescedRDD.scala:99)\r\n\tat scala.collection.Iterator$$anon$11.nextCur(Iterator.scala:486)\r\n\tat scala.collection.Iterator$$anon$11.hasNext(Iterator.scala:492)\r\n\tat org.apache.spark.sql.catalyst.expressions.GeneratedClass$GeneratedIteratorForCodegenStage1.processNext(Unknown Source)\r\n\tat org.apache.spark.sql.execution.BufferedRowIterator.hasNext(BufferedRowIterator.java:43)\r\n\tat org.apache.spark.sql.execution.WholeStageCodegenExec$$anon$1.hasNext(WholeStageCodegenExec.scala:759)\r\n\tat org.apache.spark.sql.execution.arrow.ArrowConverters$$anon$1.hasNext(ArrowConverters.scala:99)\r\n\tat scala.collection.Iterator.foreach(Iterator.scala:943)\r\n\tat scala.collection.Iterator.foreach$(Iterator.scala:943)\r\n\tat org.apache.spark.sql.execution.arrow.ArrowConverters$$anon$1.foreach(ArrowConverters.scala:97)\r\n\tat scala.collection.generic.Growable.$plus$plus$eq(Growable.scala:62)\r\n\tat scala.collection.generic.Growable.$plus$plus$eq$(Growable.scala:53)\r\n\tat scala.collection.mutable.ArrayBuffer.$plus$plus$eq(ArrayBuffer.scala:105)\r\n\tat scala.collection.mutable.ArrayBuffer.$plus$plus$eq(ArrayBuffer.scala:49)\r\n\tat scala.collection.TraversableOnce.to(TraversableOnce.scala:366)\r\n\tat scala.collection.TraversableOnce.to$(TraversableOnce.scala:364)\r\n\tat org.apache.spark.sql.execution.arrow.ArrowConverters$$anon$1.to(ArrowConverters.scala:97)\r\n\tat scala.collection.TraversableOnce.toBuffer(TraversableOnce.scala:358)\r\n\tat scala.collection.TraversableOnce.toBuffer$(TraversableOnce.scala:358)\r\n\tat org.apache.spark.sql.execution.arrow.ArrowConverters$$anon$1.toBuffer(ArrowConverters.scala:97)\r\n\tat scala.collection.TraversableOnce.toArray(TraversableOnce.scala:345)\r\n\tat scala.collection.TraversableOnce.toArray$(TraversableOnce.scala:339)\r\n\tat org.apache.spark.sql.execution.arrow.ArrowConverters$$anon$1.toArray(ArrowConverters.scala:97)\r\n\tat org.apache.spark.sql.Dataset.$anonfun$collectAsArrowToPython$6(Dataset.scala:3650)\r\n\tat org.apache.spark.SparkContext.$anonfun$runJob$6(SparkContext.scala:2308)\r\n\tat org.apache.spark.scheduler.ResultTask.runTask(ResultTask.scala:90)\r\n\tat org.apache.spark.scheduler.Task.run(Task.scala:131)\r\n\tat org.apache.spark.executor.Executor$TaskRunner.$anonfun$run$3(Executor.scala:506)\r\n\tat org.apache.spark.util.Utils$.tryWithSafeFinally(Utils.scala:1462)\r\n\tat org.apache.spark.executor.Executor$TaskRunner.run(Executor.scala:509)\r\n\tat java.util.concurrent.ThreadPoolExecutor.runWorker(Unknown Source)\r\n\tat java.util.concurrent.ThreadPoolExecutor$Worker.run(Unknown Source)\r\n\tat java.lang.Thread.run(Unknown Source)\r\n\nDriver stacktrace:\r\n\tat org.apache.spark.scheduler.DAGScheduler.failJobAndIndependentStages(DAGScheduler.scala:2403)\r\n\tat org.apache.spark.scheduler.DAGScheduler.$anonfun$abortStage$2(DAGScheduler.scala:2352)\r\n\tat org.apache.spark.scheduler.DAGScheduler.$anonfun$abortStage$2$adapted(DAGScheduler.scala:2351)\r\n\tat scala.collection.mutable.ResizableArray.foreach(ResizableArray.scala:62)\r\n\tat scala.collection.mutable.ResizableArray.foreach$(ResizableArray.scala:55)\r\n\tat scala.collection.mutable.ArrayBuffer.foreach(ArrayBuffer.scala:49)\r\n\tat org.apache.spark.scheduler.DAGScheduler.abortStage(DAGScheduler.scala:2351)\r\n\tat org.apache.spark.scheduler.DAGScheduler.$anonfun$handleTaskSetFailed$1(DAGScheduler.scala:1109)\r\n\tat org.apache.spark.scheduler.DAGScheduler.$anonfun$handleTaskSetFailed$1$adapted(DAGScheduler.scala:1109)\r\n\tat scala.Option.foreach(Option.scala:407)\r\n\tat org.apache.spark.scheduler.DAGScheduler.handleTaskSetFailed(DAGScheduler.scala:1109)\r\n\tat org.apache.spark.scheduler.DAGSchedulerEventProcessLoop.doOnReceive(DAGScheduler.scala:2591)\r\n\tat org.apache.spark.scheduler.DAGSchedulerEventProcessLoop.onReceive(DAGScheduler.scala:2533)\r\n\tat org.apache.spark.scheduler.DAGSchedulerEventProcessLoop.onReceive(DAGScheduler.scala:2522)\r\n\tat org.apache.spark.util.EventLoop$$anon$1.run(EventLoop.scala:49)\r\n\tat org.apache.spark.scheduler.DAGScheduler.runJob(DAGScheduler.scala:898)\r\n\tat org.apache.spark.SparkContext.runJob(SparkContext.scala:2214)\r\n\tat org.apache.spark.SparkContext.runJob(SparkContext.scala:2309)\r\n\tat org.apache.spark.sql.Dataset.$anonfun$collectAsArrowToPython$5(Dataset.scala:3648)\r\n\tat scala.runtime.java8.JFunction0$mcV$sp.apply(JFunction0$mcV$sp.java:23)\r\n\tat org.apache.spark.util.Utils$.tryWithSafeFinally(Utils.scala:1462)\r\n\tat org.apache.spark.sql.Dataset.$anonfun$collectAsArrowToPython$2(Dataset.scala:3652)\r\n\tat org.apache.spark.sql.Dataset.$anonfun$collectAsArrowToPython$2$adapted(Dataset.scala:3629)\r\n\tat org.apache.spark.sql.Dataset.$anonfun$withAction$1(Dataset.scala:3706)\r\n\tat org.apache.spark.sql.execution.SQLExecution$.$anonfun$withNewExecutionId$5(SQLExecution.scala:103)\r\n\tat org.apache.spark.sql.execution.SQLExecution$.withSQLConfPropagated(SQLExecution.scala:163)\r\n\tat org.apache.spark.sql.execution.SQLExecution$.$anonfun$withNewExecutionId$1(SQLExecution.scala:90)\r\n\tat org.apache.spark.sql.SparkSession.withActive(SparkSession.scala:775)\r\n\tat org.apache.spark.sql.execution.SQLExecution$.withNewExecutionId(SQLExecution.scala:64)\r\n\tat org.apache.spark.sql.Dataset.withAction(Dataset.scala:3704)\r\n\tat org.apache.spark.sql.Dataset.$anonfun$collectAsArrowToPython$1(Dataset.scala:3629)\r\n\tat org.apache.spark.sql.Dataset.$anonfun$collectAsArrowToPython$1$adapted(Dataset.scala:3628)\r\n\tat org.apache.spark.security.SocketAuthServer$.$anonfun$serveToStream$2(SocketAuthServer.scala:139)\r\n\tat scala.runtime.java8.JFunction0$mcV$sp.apply(JFunction0$mcV$sp.java:23)\r\n\tat org.apache.spark.util.Utils$.tryWithSafeFinally(Utils.scala:1462)\r\n\tat org.apache.spark.security.SocketAuthServer$.$anonfun$serveToStream$1(SocketAuthServer.scala:141)\r\n\tat org.apache.spark.security.SocketAuthServer$.$anonfun$serveToStream$1$adapted(SocketAuthServer.scala:136)\r\n\tat org.apache.spark.security.SocketFuncServer.handleConnection(SocketAuthServer.scala:113)\r\n\tat org.apache.spark.security.SocketFuncServer.handleConnection(SocketAuthServer.scala:107)\r\n\tat org.apache.spark.security.SocketAuthServer$$anon$1.$anonfun$run$4(SocketAuthServer.scala:68)\r\n\tat scala.util.Try$.apply(Try.scala:213)\r\n\tat org.apache.spark.security.SocketAuthServer$$anon$1.run(SocketAuthServer.scala:68)\r\nCaused by: java.net.SocketException: Connection reset\r\n\tat java.net.SocketInputStream.read(Unknown Source)\r\n\tat java.net.SocketInputStream.read(Unknown Source)\r\n\tat java.io.BufferedInputStream.fill(Unknown Source)\r\n\tat java.io.BufferedInputStream.read(Unknown Source)\r\n\tat java.io.DataInputStream.readInt(Unknown Source)\r\n\tat org.apache.spark.sql.execution.python.PythonArrowOutput$$anon$1.read(PythonArrowOutput.scala:88)\r\n\tat org.apache.spark.sql.execution.python.PythonArrowOutput$$anon$1.read(PythonArrowOutput.scala:50)\r\n\tat org.apache.spark.api.python.BasePythonRunner$ReaderIterator.hasNext(PythonRunner.scala:498)\r\n\tat org.apache.spark.InterruptibleIterator.hasNext(InterruptibleIterator.scala:37)\r\n\tat scala.collection.Iterator$$anon$11.hasNext(Iterator.scala:491)\r\n\tat scala.collection.Iterator$$anon$10.hasNext(Iterator.scala:460)\r\n\tat org.apache.spark.sql.catalyst.expressions.GeneratedClass$GeneratedIteratorForCodegenStage2.processNext(Unknown Source)\r\n\tat org.apache.spark.sql.execution.BufferedRowIterator.hasNext(BufferedRowIterator.java:43)\r\n\tat org.apache.spark.sql.execution.WholeStageCodegenExec$$anon$1.hasNext(WholeStageCodegenExec.scala:759)\r\n\tat org.apache.spark.sql.execution.columnar.DefaultCachedBatchSerializer$$anon$1.hasNext(InMemoryRelation.scala:118)\r\n\tat scala.collection.Iterator$$anon$10.hasNext(Iterator.scala:460)\r\n\tat org.apache.spark.storage.memory.MemoryStore.putIterator(MemoryStore.scala:223)\r\n\tat org.apache.spark.storage.memory.MemoryStore.putIteratorAsValues(MemoryStore.scala:302)\r\n\tat org.apache.spark.storage.BlockManager.$anonfun$doPutIterator$1(BlockManager.scala:1481)\r\n\tat org.apache.spark.storage.BlockManager.org$apache$spark$storage$BlockManager$$doPut(BlockManager.scala:1408)\r\n\tat org.apache.spark.storage.BlockManager.doPutIterator(BlockManager.scala:1472)\r\n\tat org.apache.spark.storage.BlockManager.getOrElseUpdate(BlockManager.scala:1295)\r\n\tat org.apache.spark.rdd.RDD.getOrCompute(RDD.scala:384)\r\n\tat org.apache.spark.rdd.RDD.iterator(RDD.scala:335)\r\n\tat org.apache.spark.rdd.MapPartitionsRDD.compute(MapPartitionsRDD.scala:52)\r\n\tat org.apache.spark.rdd.RDD.computeOrReadCheckpoint(RDD.scala:373)\r\n\tat org.apache.spark.rdd.RDD.iterator(RDD.scala:337)\r\n\tat org.apache.spark.rdd.MapPartitionsRDD.compute(MapPartitionsRDD.scala:52)\r\n\tat org.apache.spark.rdd.RDD.computeOrReadCheckpoint(RDD.scala:373)\r\n\tat org.apache.spark.rdd.RDD.iterator(RDD.scala:337)\r\n\tat org.apache.spark.rdd.MapPartitionsRDD.compute(MapPartitionsRDD.scala:52)\r\n\tat org.apache.spark.rdd.RDD.computeOrReadCheckpoint(RDD.scala:373)\r\n\tat org.apache.spark.rdd.RDD.iterator(RDD.scala:337)\r\n\tat org.apache.spark.rdd.CoalescedRDD.$anonfun$compute$1(CoalescedRDD.scala:99)\r\n\tat scala.collection.Iterator$$anon$11.nextCur(Iterator.scala:486)\r\n\tat scala.collection.Iterator$$anon$11.hasNext(Iterator.scala:492)\r\n\tat org.apache.spark.sql.catalyst.expressions.GeneratedClass$GeneratedIteratorForCodegenStage1.processNext(Unknown Source)\r\n\tat org.apache.spark.sql.execution.BufferedRowIterator.hasNext(BufferedRowIterator.java:43)\r\n\tat org.apache.spark.sql.execution.WholeStageCodegenExec$$anon$1.hasNext(WholeStageCodegenExec.scala:759)\r\n\tat org.apache.spark.sql.execution.arrow.ArrowConverters$$anon$1.hasNext(ArrowConverters.scala:99)\r\n\tat scala.collection.Iterator.foreach(Iterator.scala:943)\r\n\tat scala.collection.Iterator.foreach$(Iterator.scala:943)\r\n\tat org.apache.spark.sql.execution.arrow.ArrowConverters$$anon$1.foreach(ArrowConverters.scala:97)\r\n\tat scala.collection.generic.Growable.$plus$plus$eq(Growable.scala:62)\r\n\tat scala.collection.generic.Growable.$plus$plus$eq$(Growable.scala:53)\r\n\tat scala.collection.mutable.ArrayBuffer.$plus$plus$eq(ArrayBuffer.scala:105)\r\n\tat scala.collection.mutable.ArrayBuffer.$plus$plus$eq(ArrayBuffer.scala:49)\r\n\tat scala.collection.TraversableOnce.to(TraversableOnce.scala:366)\r\n\tat scala.collection.TraversableOnce.to$(TraversableOnce.scala:364)\r\n\tat org.apache.spark.sql.execution.arrow.ArrowConverters$$anon$1.to(ArrowConverters.scala:97)\r\n\tat scala.collection.TraversableOnce.toBuffer(TraversableOnce.scala:358)\r\n\tat scala.collection.TraversableOnce.toBuffer$(TraversableOnce.scala:358)\r\n\tat org.apache.spark.sql.execution.arrow.ArrowConverters$$anon$1.toBuffer(ArrowConverters.scala:97)\r\n\tat scala.collection.TraversableOnce.toArray(TraversableOnce.scala:345)\r\n\tat scala.collection.TraversableOnce.toArray$(TraversableOnce.scala:339)\r\n\tat org.apache.spark.sql.execution.arrow.ArrowConverters$$anon$1.toArray(ArrowConverters.scala:97)\r\n\tat org.apache.spark.sql.Dataset.$anonfun$collectAsArrowToPython$6(Dataset.scala:3650)\r\n\tat org.apache.spark.SparkContext.$anonfun$runJob$6(SparkContext.scala:2308)\r\n\tat org.apache.spark.scheduler.ResultTask.runTask(ResultTask.scala:90)\r\n\tat org.apache.spark.scheduler.Task.run(Task.scala:131)\r\n\tat org.apache.spark.executor.Executor$TaskRunner.$anonfun$run$3(Executor.scala:506)\r\n\tat org.apache.spark.util.Utils$.tryWithSafeFinally(Utils.scala:1462)\r\n\tat org.apache.spark.executor.Executor$TaskRunner.run(Executor.scala:509)\r\n\tat java.util.concurrent.ThreadPoolExecutor.runWorker(Unknown Source)\r\n\tat java.util.concurrent.ThreadPoolExecutor$Worker.run(Unknown Source)\r\n\tat java.lang.Thread.run(Unknown Source)\r\n"
     ]
    }
   ],
   "source": [
    "import time\n",
    "final_results = (\n",
    "    store_part\n",
    "    .groupBy(['Store_names','Business_Unit'])\n",
    "    .apply(PA_effect_per_store)\n",
    "    .withColumn('training_date', current_date() )\n",
    "    )\n",
    "\n",
    "### cache the results \n",
    "start_time = time.time()\n",
    "final_results.cache()\n",
    "print('%0.2f min: Lags' % ((time.time() - start_time) / 60))\n",
    "\n",
    "final_results.explain()\n",
    "final_results = final_results.coalesce(1)\n",
    "\n",
    "### convert the result from sparkdataframe to panadas datafrme \n",
    "start_time = time.time()\n",
    "final_data = final_results.toPandas()\n",
    "\n",
    "print('%0.2f min: Lags' % ((time.time() - start_time) / 60))"
   ]
  },
  {
   "cell_type": "code",
   "execution_count": null,
   "metadata": {},
   "outputs": [],
   "source": []
  }
 ],
 "metadata": {
  "interpreter": {
   "hash": "2c74751c2b923e2362cfe1d79031e9569c6f81d163515e88ad3756b52df25df3"
  },
  "kernelspec": {
   "display_name": "Python 3.8.12 64-bit ('spark': conda)",
   "language": "python",
   "name": "python3"
  },
  "language_info": {
   "codemirror_mode": {
    "name": "ipython",
    "version": 3
   },
   "file_extension": ".py",
   "mimetype": "text/x-python",
   "name": "python",
   "nbconvert_exporter": "python",
   "pygments_lexer": "ipython3",
   "version": "3.9.7"
  },
  "orig_nbformat": 4
 },
 "nbformat": 4,
 "nbformat_minor": 2
}
