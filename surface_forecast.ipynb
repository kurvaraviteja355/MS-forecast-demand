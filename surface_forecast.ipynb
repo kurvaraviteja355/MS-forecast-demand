{
 "cells": [
  {
   "cell_type": "code",
   "execution_count": 5,
   "metadata": {},
   "outputs": [],
   "source": [
    "import numpy as np\n",
    "import pandas as pd\n",
    "import os\n",
    "import sys\n",
    "import glob\n",
    "import time \n",
    "from pyspark.sql import SparkSession\n",
    "from pyspark import SparkContext, SparkConf\n",
    "import pyspark\n",
    "from pyspark.sql.types import *\n",
    "from pyspark.sql.functions import pandas_udf, PandasUDFType\n",
    "from pyspark.sql.functions import current_date\n",
    "from fbprophet import Prophet\n",
    "from src.reduce_mem_usage import reduce_mem_usage\n",
    "from src.continuous_data import round_target_column\n",
    "from src.surface_preprocessing import create_daily_test, surface_preprocessor, surface_process\n",
    "from src.read_data_blobstorage import get_blob_connection, update_blobcontainer_files\n",
    "from src.Surface_train import surface_train, validate_score\n",
    "from sklearn.metrics import mean_absolute_error\n",
    "import warnings\n",
    "warnings.filterwarnings(\"ignore\")"
   ]
  },
  {
   "cell_type": "code",
   "execution_count": null,
   "metadata": {},
   "outputs": [],
   "source": [
    "data = get_blob_connection('microsoft-all-files', 'surface_data.csv')\n",
    "\n",
    "data = surface_process(data)\n",
    "\n",
    "results_df = surface_train(data, '2022-02-28')\n",
    "\n",
    "print('checking the model score by RMSE......')\n",
    "\n",
    "validate_score(results_df, '2022-02-28')"
   ]
  }
 ],
 "metadata": {
  "interpreter": {
   "hash": "2c74751c2b923e2362cfe1d79031e9569c6f81d163515e88ad3756b52df25df3"
  },
  "kernelspec": {
   "display_name": "Python 3.9.7 ('spark')",
   "language": "python",
   "name": "python3"
  },
  "language_info": {
   "codemirror_mode": {
    "name": "ipython",
    "version": 3
   },
   "file_extension": ".py",
   "mimetype": "text/x-python",
   "name": "python",
   "nbconvert_exporter": "python",
   "pygments_lexer": "ipython3",
   "version": "3.9.7"
  },
  "orig_nbformat": 4
 },
 "nbformat": 4,
 "nbformat_minor": 2
}
